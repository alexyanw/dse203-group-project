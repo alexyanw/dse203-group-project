{
 "cells": [
  {
   "cell_type": "markdown",
   "metadata": {},
   "source": [
    "This notebook captures the view mappings expressed in *Global_As_View* style"
   ]
  },
  {
   "cell_type": "markdown",
   "metadata": {},
   "source": [
    "#### Cust_Prod  view \n",
    "##### Description:   This view presents a table which captures customer and his purchased product information. Each tuple has a CustomerId and a ProductId of product that he brought (as per orders and orderlines)\n",
    "##### Columns:  CustomerId ,  ProductId"
   ]
  },
  {
   "cell_type": "code",
   "execution_count": 41,
   "metadata": {
    "collapsed": true
   },
   "outputs": [],
   "source": [
    "import re\n",
    "import difflib\n",
    "import sys\n",
    "import pickle"
   ]
  },
  {
   "cell_type": "code",
   "execution_count": 42,
   "metadata": {
    "collapsed": true
   },
   "outputs": [],
   "source": [
    "#Dictionary for global schema mappings\n",
    "gsm={}\n",
    "\n",
    "class view:\n",
    "    def __init__(self,name):\n",
    "        self.name = name\n",
    "        self.mapped_to = []  # A list of children view objects\n",
    "        self.cols = []\n",
    "        self.cond ={}\n",
    "        self.col_map = []\n",
    "        self.type ='in_global_view'\n",
    "\n",
    "    def get_name(self):\n",
    "        return self.name\n",
    "\n",
    "    def unwrap(self,needed_cols=None):\n",
    "        x=list()\n",
    "        if len(self.mapped_to)>0:\n",
    "            child_index=0\n",
    "            for each_child in self.mapped_to:\n",
    "                child_needed_cols = ['_']*len(each_child.cols)\n",
    "                for e_t in self.col_map:\n",
    "                    if needed_cols[e_t[0]]!='' and e_t[1]==child_index:\n",
    "                        child_needed_cols[e_t[2]]=needed_cols[e_t[0]]\n",
    "                x = x+each_child.unwrap(child_needed_cols)\n",
    "                child_index+=1\n",
    "            return x[:]\n",
    "        else:\n",
    "            return (self.datalog_string(needed_cols))\n",
    "\n",
    "    def datalog_string(self,needed_cols=None):\n",
    "        if needed_cols!=None:\n",
    "            col_string=','.join(needed_cols)\n",
    "        elif len(self.cols)>0:\n",
    "            col_string = ','.join(self.cols)\n",
    "        ret = \"%s(%s)\"%(self.name,col_string)\n",
    "        return [ret]\n",
    "\n",
    "    def get_child_dl(self,needed_cols):\n",
    "\n",
    "        if len(self.cols) != len(needed_cols):\n",
    "            #the no.of columns given in the query are not matching with whats defined.\n",
    "            print \"Column number mismatch\"\n",
    "            sys.exit(2)\n",
    "\n",
    "        #children datalogs obtained from unwrapping\n",
    "        u_dl  = self.unwrap(needed_cols)\n",
    "#        for e_t in self.col_map:\n",
    "#            if needed_cols[e_t[0]]!='':\n",
    "#                u_dl[e_t[1]]=substitute_col_name(vw=u_dl[e_t[1]],at=e_t[2],sub=needed_cols[e_t[0]])\n",
    "        #print u_dl\n",
    "        return u_dl"
   ]
  },
  {
   "cell_type": "code",
   "execution_count": 43,
   "metadata": {
    "collapsed": true
   },
   "outputs": [],
   "source": [
    "def substitute_col_name(vw,at,sub):\n",
    "    cols=get_cols(vw)\n",
    "    cols = [sub if i==at else '_' for i in range(len(cols))]\n",
    "    ret = vw[:vw.find('(')+1]+','.join(cols)+')'\n",
    "    return ret"
   ]
  },
  {
   "cell_type": "code",
   "execution_count": 44,
   "metadata": {
    "collapsed": true
   },
   "outputs": [],
   "source": [
    "def get_cols(q):\n",
    "    q=q.replace(\" \",\"\")\n",
    "    col_text = q[q.find(\"(\")+1:q.find(\")\")]\n",
    "    return col_text.split(',')"
   ]
  },
  {
   "cell_type": "code",
   "execution_count": 45,
   "metadata": {
    "collapsed": true
   },
   "outputs": [],
   "source": [
    "def schema_searcher(name):\n",
    "    ret ={}\n",
    "    schema_defs= open('source_descriptions.txt','r').read()\n",
    "#    fp=schema_defs.find(\"CREATE TABLE \"+name)\n",
    "    #  CREATE\\s*TABLE\\s*Customers\\s*\\((.*)\\)\\s;\n",
    "    #  'CREATE\\s*TABLE\\s*Customers\\s*\\((.*)\\)\\s*?;'\n",
    "    def_string = 'CREATE\\s*TABLE\\s*%s\\s*\\((.*?)\\)\\s*?;'%name\n",
    "    match = re.search(def_string,schema_defs,re.DOTALL)\n",
    "    if match:\n",
    "        col_text=match.group(1)\n",
    "        col_list = col_text.split(',')\n",
    "        col_list = [x.strip().split(' ')[0] for x in col_list]\n",
    "        ret['cols']=col_list[:]\n",
    "\n",
    "        return ret\n",
    "   #trying to match a view\n",
    "    def_string = 'CREATE\\s*VIEW\\s*%s\\s*AS\\s*\\((.*?)\\);'%name\n",
    "    match = re.search(def_string,schema_defs,re.DOTALL)\n",
    "    if match:\n",
    "        col_text = match.group(1)\n",
    "        return col_text\n",
    "\n",
    "    return None"
   ]
  },
  {
   "cell_type": "code",
   "execution_count": 46,
   "metadata": {
    "collapsed": true
   },
   "outputs": [],
   "source": [
    "def define_view(name,cols=None):\n",
    "    view_object = view(name)\n",
    "    gsm[view_object.get_name()]=view_object\n",
    "    schema_def = schema_searcher(name)\n",
    "    if schema_def is not None:\n",
    "        gsm[view_object.get_name()].type='in_source'\n",
    "        gsm[view_object.get_name()].cols=schema_def['cols'][:]\n",
    "    elif cols != None:\n",
    "        gsm[name].cols = cols[:]\n",
    "    else:\n",
    "        print \"unknown view \"+name\n",
    "        sys.exit(1)\n"
   ]
  },
  {
   "cell_type": "code",
   "execution_count": 47,
   "metadata": {
    "collapsed": true
   },
   "outputs": [],
   "source": [
    "def schema_matcher(head_cols,body_cols):\n",
    "\n",
    "    col_map = []\n",
    "    body_table_index = 0\n",
    "    head_col_index=0\n",
    "    for col in head_cols:\n",
    "        for each_col_list in body_cols:\n",
    "            sim_ratios = [ difflib.SequenceMatcher(None,col,x).ratio() for x in each_col_list]\n",
    "            if max(sim_ratios)>0.9:\n",
    "                col_map_tuple = (head_col_index,body_table_index,sim_ratios.index(max(sim_ratios)))\n",
    "                col_map.append(col_map_tuple)\n",
    "            body_table_index+=1\n",
    "        head_col_index+=1\n",
    "        body_table_index=0\n",
    "\n",
    "    #print col_map\n",
    "    return col_map\n"
   ]
  },
  {
   "cell_type": "code",
   "execution_count": 48,
   "metadata": {
    "collapsed": true
   },
   "outputs": [],
   "source": [
    "def define_mapping(map_str):\n",
    "    #remove all white spaces\n",
    "    map_str = map_str.replace(' ','')\n",
    "    #check for head\n",
    "    [head,body]       = map_str.split('->')\n",
    "    head_view  = head.split('(')[0]\n",
    "    head_cols  = head[head.find('(')+1:head.find(')')].split(',')\n",
    "    #print head , head_view\n",
    "    #print head_cols\n",
    "    if head_view not in gsm.keys():\n",
    "        #if the cols are mentioned in head, then these cols need to be defined\n",
    "        define_view(head_view,head_cols)\n",
    "    #print gsm.keys()\n",
    "    #print body\n",
    "    #use pattern matching to obtain the body view list\n",
    "    body_view_list=re.findall('^(.*?)\\(',body)+re.findall('\\),(.*?)\\(',body)\n",
    "\n",
    "    for each_view in body_view_list:\n",
    "        if each_view not in gsm.keys():\n",
    "            define_view(each_view)\n",
    "    #print body_view_list\n",
    "    #views for the mapping are defined at this point\n",
    "\n",
    "    #Mapping body views to head view\n",
    "    gsm[head_view].mapped_to= [gsm[x] for x in body_view_list ]\n",
    "\n",
    "    #use pattern matching to obtain the column names used in body  --> this is not being used\n",
    "    #body_cols_list=re.findall('\\((.*?)\\)',body)\n",
    "    #body_cols_list = [x.split(',') for x in body_cols_list]\n",
    "    #cum_col_length = sum([len(x) for x in body_cols_list],0)\n",
    "    #body_cols_list = [col for each_list in body_cols_list for col in each_list ]\n",
    "\n",
    "    #get the column names from mapped_to objects\n",
    "    body_cols_list = [each_view.cols[:] for each_view in gsm[head_view].mapped_to ]\n",
    "\n",
    "\n",
    "    #Schema Matching\n",
    "    gsm[head_view].col_map = schema_matcher(head_cols,body_cols_list)\n",
    "\n",
    "\n",
    "    #print gsm[head_view].mapped_to\n",
    "\n",
    "    #print \"DONE.\""
   ]
  },
  {
   "cell_type": "code",
   "execution_count": 49,
   "metadata": {
    "collapsed": true
   },
   "outputs": [],
   "source": [
    "define_mapping(\"Cust_Prod(CustomerId,ProductId)->                                                        \\\n",
    "               Customers(CustomerId,HouseholdId,Gender,FirstName),                                       \\\n",
    "               Orders(OrderId,CustomerId,CampaignId,OrderDate,City,State,ZipCode,PaymentType,TotalPrice, \\\n",
    "                        NumOrderLines,NumUnits),                                                         \\\n",
    "               OrderLines(OrderLineId,OrderId,ProductId,ShipDate,BillDate,UnitPrice,NumUnits,TotalPrice),\\\n",
    "               Products(ProductId,Name,GroupCode,GroupName,IsInStock,FullPrice,Asin)\")\n"
   ]
  },
  {
   "cell_type": "code",
   "execution_count": 50,
   "metadata": {
    "collapsed": true
   },
   "outputs": [],
   "source": [
    "define_mapping(\"Global_Seasonal_View(ProductId,spring,summer,fall,winter,FullPrice,IsInStock)->          \\\n",
    "               Products(IsInStock,FullPrice),                                                            \\\n",
    "               seasonal_percentages(ProductId,spring,summer,fall,winter)\")\n",
    "\n"
   ]
  },
  {
   "cell_type": "code",
   "execution_count": 51,
   "metadata": {
    "collapsed": true
   },
   "outputs": [],
   "source": [
    "define_mapping(\"Global_Seasonal_View_cust(ProductId,spring,summer,fall,winter,FullPrice,IsInStock)->      \\\n",
    "               Global_Seasonal_View(IsInStock,FullPrice),                                                 \\\n",
    "               Customers()\")\n"
   ]
  },
  {
   "cell_type": "code",
   "execution_count": 52,
   "metadata": {
    "collapsed": true
   },
   "outputs": [],
   "source": [
    "pickle.dump( gsm, open( \"global_schema_mappings.pkl\", \"w\" ) )"
   ]
  },
  {
   "cell_type": "markdown",
   "metadata": {},
   "source": [
    "This define_mapping will write the mappings to text file. \n",
    "\n",
    "This text file will be load and read by another pynb. \n",
    "it will create a view object like this : \n",
    "{'name': Cust_Prod,cols:[] ,conditions:[]}\n",
    "Each table is defined as table object:\n",
    "{'cols':['CustomerId','HouseholdId','Gender','FirstName'],'name':'Customers'}\n"
   ]
  }
 ],
 "metadata": {
  "kernelspec": {
   "display_name": "Python [default]",
   "language": "python",
   "name": "python2"
  },
  "language_info": {
   "codemirror_mode": {
    "name": "ipython",
    "version": 2
   },
   "file_extension": ".py",
   "mimetype": "text/x-python",
   "name": "python",
   "nbconvert_exporter": "python",
   "pygments_lexer": "ipython2",
   "version": "2.7.13"
  }
 },
 "nbformat": 4,
 "nbformat_minor": 2
}
