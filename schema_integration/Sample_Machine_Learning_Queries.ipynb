{
 "cells": [
  {
   "cell_type": "code",
   "execution_count": 1,
   "metadata": {
    "collapsed": true
   },
   "outputs": [],
   "source": [
    "import IntegratedSchemaQueryExecutor as ISQE"
   ]
  },
  {
   "cell_type": "code",
   "execution_count": 2,
   "metadata": {},
   "outputs": [
    {
     "name": "stdout",
     "output_type": "stream",
     "text": [
      "['Global_Seasonal_View(ProductId,spring,summer,fall,winter,FullPrice,IsInStock)']\n",
      "['Global_Seasonal_View_cust(ProductId,spring,summer,fall,winter,FullPrice,IsInStock)']\n",
      "['Cust_Prod(CustomerId,ProductId)']\n"
     ]
    }
   ],
   "source": [
    "#query to list all the available views:\n",
    "ISQE.print_available_views()"
   ]
  },
  {
   "cell_type": "code",
   "execution_count": 3,
   "metadata": {},
   "outputs": [
    {
     "name": "stdout",
     "output_type": "stream",
     "text": [
      "table\n",
      "   ['Products(pid,_,_,_,_,_,_)', 'seasonal_percentages(_,_,_,_,_)']\n",
      "limit\n",
      "  \n",
      "result\n",
      "   ans(pid)\n",
      "condition\n",
      "   sp>50\n"
     ]
    }
   ],
   "source": [
    "# \"q1 from ML Team\"\n",
    "result=ISQE.execute('ans(pid)->Global_Seasonal_View(pid,sp,_,_,_,_,_)',cond='sp>50')\n",
    "\n",
    "for x in result:\n",
    "    print x\n",
    "    if result[x] is not None:\n",
    "        print \"  \",result[x]\n",
    "    else:\n",
    "        print \"  \""
   ]
  },
  {
   "cell_type": "code",
   "execution_count": 4,
   "metadata": {},
   "outputs": [
    {
     "data": {
      "text/plain": [
       "{'condition': 'sp>50',\n",
       " 'limit': None,\n",
       " 'result': 'ans(pid)',\n",
       " 'table': ['Products(pid,_,_,_,_,_,_)',\n",
       "  'seasonal_percentages(_,_,_,_,_)',\n",
       "  'Customers(_,_,_,_)']}"
      ]
     },
     "execution_count": 4,
     "metadata": {},
     "output_type": "execute_result"
    }
   ],
   "source": [
    "#query2 from ML Team\n",
    "ISQE.execute('ans(pid)->Global_Seasonal_View_cust(pid,sp,_,_,_,_,_)',cond='sp>50')"
   ]
  }
 ],
 "metadata": {
  "kernelspec": {
   "display_name": "Python [default]",
   "language": "python",
   "name": "python2"
  },
  "language_info": {
   "codemirror_mode": {
    "name": "ipython",
    "version": 2
   },
   "file_extension": ".py",
   "mimetype": "text/x-python",
   "name": "python",
   "nbconvert_exporter": "python",
   "pygments_lexer": "ipython2",
   "version": "2.7.13"
  }
 },
 "nbformat": 4,
 "nbformat_minor": 2
}
