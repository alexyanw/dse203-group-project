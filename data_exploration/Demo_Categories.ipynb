{
 "cells": [
  {
   "cell_type": "code",
   "execution_count": 1,
   "metadata": {
    "collapsed": false
   },
   "outputs": [],
   "source": [
    "#Import API\n",
    "from dora.api import DataExplorer\n",
    "\n",
    "import pandas as pd\n",
    "from datetime import date, timedelta\n",
    "from matplotlib import pyplot\n",
    "import matplotlib.pyplot as plt\n",
    "from mpl_toolkits.mplot3d import Axes3D\n",
    "import numpy as np\n",
    "\n",
    "explorer = DataExplorer()"
   ]
  },
  {
   "cell_type": "code",
   "execution_count": null,
   "metadata": {
    "collapsed": true
   },
   "outputs": [],
   "source": []
  },
  {
   "cell_type": "code",
   "execution_count": 2,
   "metadata": {
    "collapsed": false
   },
   "outputs": [
    {
     "data": {
      "text/html": [
       "<div>\n",
       "<style>\n",
       "    .dataframe thead tr:only-child th {\n",
       "        text-align: right;\n",
       "    }\n",
       "\n",
       "    .dataframe thead th {\n",
       "        text-align: left;\n",
       "    }\n",
       "\n",
       "    .dataframe tbody tr th {\n",
       "        vertical-align: top;\n",
       "    }\n",
       "</style>\n",
       "<table border=\"1\" class=\"dataframe\">\n",
       "  <thead>\n",
       "    <tr style=\"text-align: right;\">\n",
       "      <th></th>\n",
       "      <th>classification</th>\n",
       "      <th>node_id</th>\n",
       "      <th>level_0</th>\n",
       "      <th>level_1</th>\n",
       "      <th>level_2</th>\n",
       "      <th>level_3</th>\n",
       "      <th>level_4</th>\n",
       "      <th>level_5</th>\n",
       "    </tr>\n",
       "  </thead>\n",
       "  <tbody>\n",
       "    <tr>\n",
       "      <th>0</th>\n",
       "      <td>Children's Cat Books</td>\n",
       "      <td>2804</td>\n",
       "      <td>Books</td>\n",
       "      <td>Children's Books</td>\n",
       "      <td>Animals</td>\n",
       "      <td>Cats</td>\n",
       "      <td>N/A</td>\n",
       "      <td>N/A</td>\n",
       "    </tr>\n",
       "    <tr>\n",
       "      <th>1</th>\n",
       "      <td>Fiction</td>\n",
       "      <td>8951149011</td>\n",
       "      <td>Books</td>\n",
       "      <td>Children's Books</td>\n",
       "      <td>Animals</td>\n",
       "      <td>Cats</td>\n",
       "      <td>Fiction</td>\n",
       "      <td>N/A</td>\n",
       "    </tr>\n",
       "    <tr>\n",
       "      <th>2</th>\n",
       "      <td>Nonfiction</td>\n",
       "      <td>8951150011</td>\n",
       "      <td>Books</td>\n",
       "      <td>Children's Books</td>\n",
       "      <td>Animals</td>\n",
       "      <td>Cats</td>\n",
       "      <td>Nonfiction</td>\n",
       "      <td>N/A</td>\n",
       "    </tr>\n",
       "    <tr>\n",
       "      <th>3</th>\n",
       "      <td>Cat Care</td>\n",
       "      <td>5045</td>\n",
       "      <td>Books</td>\n",
       "      <td>Crafts, Hobbies &amp; Home</td>\n",
       "      <td>Pets &amp; Animal Care</td>\n",
       "      <td>Cats</td>\n",
       "      <td>N/A</td>\n",
       "      <td>N/A</td>\n",
       "    </tr>\n",
       "    <tr>\n",
       "      <th>4</th>\n",
       "      <td>Cat Breeds</td>\n",
       "      <td>5046</td>\n",
       "      <td>Books</td>\n",
       "      <td>Crafts, Hobbies &amp; Home</td>\n",
       "      <td>Pets &amp; Animal Care</td>\n",
       "      <td>Cats</td>\n",
       "      <td>Breeds</td>\n",
       "      <td>N/A</td>\n",
       "    </tr>\n",
       "    <tr>\n",
       "      <th>5</th>\n",
       "      <td>Cat Care &amp; Health</td>\n",
       "      <td>5047</td>\n",
       "      <td>Books</td>\n",
       "      <td>Crafts, Hobbies &amp; Home</td>\n",
       "      <td>Pets &amp; Animal Care</td>\n",
       "      <td>Cats</td>\n",
       "      <td>Care &amp; Health</td>\n",
       "      <td>N/A</td>\n",
       "    </tr>\n",
       "    <tr>\n",
       "      <th>6</th>\n",
       "      <td>General</td>\n",
       "      <td>5048</td>\n",
       "      <td>Books</td>\n",
       "      <td>Crafts, Hobbies &amp; Home</td>\n",
       "      <td>Pets &amp; Animal Care</td>\n",
       "      <td>Cats</td>\n",
       "      <td>General</td>\n",
       "      <td>N/A</td>\n",
       "    </tr>\n",
       "    <tr>\n",
       "      <th>7</th>\n",
       "      <td>Cat Training</td>\n",
       "      <td>11160419011</td>\n",
       "      <td>Books</td>\n",
       "      <td>Crafts, Hobbies &amp; Home</td>\n",
       "      <td>Pets &amp; Animal Care</td>\n",
       "      <td>Cats</td>\n",
       "      <td>Training</td>\n",
       "      <td>N/A</td>\n",
       "    </tr>\n",
       "    <tr>\n",
       "      <th>8</th>\n",
       "      <td>Cat, Dog &amp; Animal Humor</td>\n",
       "      <td>4459</td>\n",
       "      <td>Books</td>\n",
       "      <td>Humor &amp; Entertainment</td>\n",
       "      <td>Humor</td>\n",
       "      <td>Cats, Dogs &amp; Animals</td>\n",
       "      <td>N/A</td>\n",
       "      <td>N/A</td>\n",
       "    </tr>\n",
       "    <tr>\n",
       "      <th>9</th>\n",
       "      <td>Biology of Cats, Lions &amp; Tigers</td>\n",
       "      <td>13483</td>\n",
       "      <td>Books</td>\n",
       "      <td>Science &amp; Math</td>\n",
       "      <td>Biological Sciences</td>\n",
       "      <td>Animals</td>\n",
       "      <td>Cats, Lions &amp; Tigers</td>\n",
       "      <td>N/A</td>\n",
       "    </tr>\n",
       "    <tr>\n",
       "      <th>10</th>\n",
       "      <td>Biology of Cats, Lions &amp; Tigers</td>\n",
       "      <td>13483</td>\n",
       "      <td>Books</td>\n",
       "      <td>Science &amp; Math</td>\n",
       "      <td>Nature &amp; Ecology</td>\n",
       "      <td>Animals</td>\n",
       "      <td>Cats, Lions &amp; Tigers</td>\n",
       "      <td>N/A</td>\n",
       "    </tr>\n",
       "    <tr>\n",
       "      <th>11</th>\n",
       "      <td>Biology of Cats, Lions &amp; Tigers</td>\n",
       "      <td>13483</td>\n",
       "      <td>Books</td>\n",
       "      <td>Science &amp; Math</td>\n",
       "      <td>Nature &amp; Ecology</td>\n",
       "      <td>Fauna</td>\n",
       "      <td>Cats, Lions &amp; Tigers</td>\n",
       "      <td>N/A</td>\n",
       "    </tr>\n",
       "    <tr>\n",
       "      <th>12</th>\n",
       "      <td>Catskills New York Travel Books</td>\n",
       "      <td>67516</td>\n",
       "      <td>Books</td>\n",
       "      <td>Travel</td>\n",
       "      <td>United States</td>\n",
       "      <td>New York</td>\n",
       "      <td>Catskills</td>\n",
       "      <td>N/A</td>\n",
       "    </tr>\n",
       "  </tbody>\n",
       "</table>\n",
       "</div>"
      ],
      "text/plain": [
       "                     classification      node_id level_0  \\\n",
       "0              Children's Cat Books         2804   Books   \n",
       "1                           Fiction   8951149011   Books   \n",
       "2                        Nonfiction   8951150011   Books   \n",
       "3                          Cat Care         5045   Books   \n",
       "4                        Cat Breeds         5046   Books   \n",
       "5                 Cat Care & Health         5047   Books   \n",
       "6                           General         5048   Books   \n",
       "7                      Cat Training  11160419011   Books   \n",
       "8           Cat, Dog & Animal Humor         4459   Books   \n",
       "9   Biology of Cats, Lions & Tigers        13483   Books   \n",
       "10  Biology of Cats, Lions & Tigers        13483   Books   \n",
       "11  Biology of Cats, Lions & Tigers        13483   Books   \n",
       "12  Catskills New York Travel Books        67516   Books   \n",
       "\n",
       "                   level_1              level_2               level_3  \\\n",
       "0         Children's Books              Animals                  Cats   \n",
       "1         Children's Books              Animals                  Cats   \n",
       "2         Children's Books              Animals                  Cats   \n",
       "3   Crafts, Hobbies & Home   Pets & Animal Care                  Cats   \n",
       "4   Crafts, Hobbies & Home   Pets & Animal Care                  Cats   \n",
       "5   Crafts, Hobbies & Home   Pets & Animal Care                  Cats   \n",
       "6   Crafts, Hobbies & Home   Pets & Animal Care                  Cats   \n",
       "7   Crafts, Hobbies & Home   Pets & Animal Care                  Cats   \n",
       "8    Humor & Entertainment                Humor  Cats, Dogs & Animals   \n",
       "9           Science & Math  Biological Sciences               Animals   \n",
       "10          Science & Math     Nature & Ecology               Animals   \n",
       "11          Science & Math     Nature & Ecology                 Fauna   \n",
       "12                  Travel        United States              New York   \n",
       "\n",
       "                 level_4 level_5  \n",
       "0                    N/A     N/A  \n",
       "1                Fiction     N/A  \n",
       "2             Nonfiction     N/A  \n",
       "3                    N/A     N/A  \n",
       "4                 Breeds     N/A  \n",
       "5          Care & Health     N/A  \n",
       "6                General     N/A  \n",
       "7               Training     N/A  \n",
       "8                    N/A     N/A  \n",
       "9   Cats, Lions & Tigers     N/A  \n",
       "10  Cats, Lions & Tigers     N/A  \n",
       "11  Cats, Lions & Tigers     N/A  \n",
       "12             Catskills     N/A  "
      ]
     },
     "execution_count": 2,
     "metadata": {},
     "output_type": "execute_result"
    }
   ],
   "source": [
    "cat_search = explorer.categories.stringsearch(string_search=\"Cats\").to_pandas()\n",
    "cat_search"
   ]
  },
  {
   "cell_type": "code",
   "execution_count": 3,
   "metadata": {
    "collapsed": false
   },
   "outputs": [
    {
     "data": {
      "text/html": [
       "<div>\n",
       "<style>\n",
       "    .dataframe thead tr:only-child th {\n",
       "        text-align: right;\n",
       "    }\n",
       "\n",
       "    .dataframe thead th {\n",
       "        text-align: left;\n",
       "    }\n",
       "\n",
       "    .dataframe tbody tr th {\n",
       "        vertical-align: top;\n",
       "    }\n",
       "</style>\n",
       "<table border=\"1\" class=\"dataframe\">\n",
       "  <thead>\n",
       "    <tr style=\"text-align: right;\">\n",
       "      <th></th>\n",
       "      <th>nodeID</th>\n",
       "      <th>level</th>\n",
       "      <th>parent_node_id</th>\n",
       "    </tr>\n",
       "  </thead>\n",
       "  <tbody>\n",
       "    <tr>\n",
       "      <th>0</th>\n",
       "      <td>2804</td>\n",
       "      <td>3</td>\n",
       "      <td>2787</td>\n",
       "    </tr>\n",
       "  </tbody>\n",
       "</table>\n",
       "</div>"
      ],
      "text/plain": [
       "   nodeID  level  parent_node_id\n",
       "0    2804      3            2787"
      ]
     },
     "execution_count": 3,
     "metadata": {},
     "output_type": "execute_result"
    }
   ],
   "source": [
    "cat_humor_parent = explorer.categories.parentOf(node_id=cat_search['node_id'][0]).to_pandas()\n",
    "cat_humor_parent"
   ]
  },
  {
   "cell_type": "code",
   "execution_count": 4,
   "metadata": {
    "collapsed": false
   },
   "outputs": [
    {
     "data": {
      "text/html": [
       "<div>\n",
       "<style>\n",
       "    .dataframe thead tr:only-child th {\n",
       "        text-align: right;\n",
       "    }\n",
       "\n",
       "    .dataframe thead th {\n",
       "        text-align: left;\n",
       "    }\n",
       "\n",
       "    .dataframe tbody tr th {\n",
       "        vertical-align: top;\n",
       "    }\n",
       "</style>\n",
       "<table border=\"1\" class=\"dataframe\">\n",
       "  <thead>\n",
       "    <tr style=\"text-align: right;\">\n",
       "      <th></th>\n",
       "      <th>nodeID</th>\n",
       "      <th>level</th>\n",
       "      <th>child_node_id</th>\n",
       "    </tr>\n",
       "  </thead>\n",
       "  <tbody>\n",
       "    <tr>\n",
       "      <th>0</th>\n",
       "      <td>2804</td>\n",
       "      <td>3</td>\n",
       "      <td>8951149011</td>\n",
       "    </tr>\n",
       "    <tr>\n",
       "      <th>1</th>\n",
       "      <td>2804</td>\n",
       "      <td>3</td>\n",
       "      <td>8951150011</td>\n",
       "    </tr>\n",
       "  </tbody>\n",
       "</table>\n",
       "</div>"
      ],
      "text/plain": [
       "   nodeID  level  child_node_id\n",
       "0    2804      3     8951149011\n",
       "1    2804      3     8951150011"
      ]
     },
     "execution_count": 4,
     "metadata": {},
     "output_type": "execute_result"
    }
   ],
   "source": [
    "cat_humor_children = explorer.categories.childrenOf(node_id=cat_search['node_id'][0]).to_pandas()\n",
    "cat_humor_children"
   ]
  },
  {
   "cell_type": "code",
   "execution_count": 5,
   "metadata": {
    "collapsed": false
   },
   "outputs": [
    {
     "data": {
      "text/html": [
       "<div>\n",
       "<style>\n",
       "    .dataframe thead tr:only-child th {\n",
       "        text-align: right;\n",
       "    }\n",
       "\n",
       "    .dataframe thead th {\n",
       "        text-align: left;\n",
       "    }\n",
       "\n",
       "    .dataframe tbody tr th {\n",
       "        vertical-align: top;\n",
       "    }\n",
       "</style>\n",
       "<table border=\"1\" class=\"dataframe\">\n",
       "  <thead>\n",
       "    <tr style=\"text-align: right;\">\n",
       "      <th></th>\n",
       "      <th>productid</th>\n",
       "    </tr>\n",
       "  </thead>\n",
       "  <tbody>\n",
       "    <tr>\n",
       "      <th>0</th>\n",
       "      <td>10810</td>\n",
       "    </tr>\n",
       "  </tbody>\n",
       "</table>\n",
       "</div>"
      ],
      "text/plain": [
       "   productid\n",
       "0      10810"
      ]
     },
     "execution_count": 5,
     "metadata": {},
     "output_type": "execute_result"
    }
   ],
   "source": [
    "products = explorer.products.byCategory(nodeid=cat_humor_parent['parent_node_id'][0]).to_pandas()\n",
    "products"
   ]
  },
  {
   "cell_type": "code",
   "execution_count": null,
   "metadata": {
    "collapsed": true
   },
   "outputs": [],
   "source": []
  },
  {
   "cell_type": "markdown",
   "metadata": {},
   "source": [
    "## Category: Programming Languages"
   ]
  },
  {
   "cell_type": "code",
   "execution_count": 6,
   "metadata": {
    "collapsed": false,
    "scrolled": true
   },
   "outputs": [
    {
     "data": {
      "text/html": [
       "<div>\n",
       "<style>\n",
       "    .dataframe thead tr:only-child th {\n",
       "        text-align: right;\n",
       "    }\n",
       "\n",
       "    .dataframe thead th {\n",
       "        text-align: left;\n",
       "    }\n",
       "\n",
       "    .dataframe tbody tr th {\n",
       "        vertical-align: top;\n",
       "    }\n",
       "</style>\n",
       "<table border=\"1\" class=\"dataframe\">\n",
       "  <thead>\n",
       "    <tr style=\"text-align: right;\">\n",
       "      <th></th>\n",
       "      <th>classification</th>\n",
       "      <th>node_id</th>\n",
       "      <th>level_0</th>\n",
       "      <th>level_1</th>\n",
       "      <th>level_2</th>\n",
       "      <th>level_3</th>\n",
       "      <th>level_4</th>\n",
       "      <th>level_5</th>\n",
       "    </tr>\n",
       "  </thead>\n",
       "  <tbody>\n",
       "    <tr>\n",
       "      <th>0</th>\n",
       "      <td>Python Programming</td>\n",
       "      <td>285856</td>\n",
       "      <td>Books</td>\n",
       "      <td>Computers &amp; Technology</td>\n",
       "      <td>Programming</td>\n",
       "      <td>Languages &amp; Tools</td>\n",
       "      <td>Python</td>\n",
       "      <td>N/A</td>\n",
       "    </tr>\n",
       "    <tr>\n",
       "      <th>1</th>\n",
       "      <td>Python Programming</td>\n",
       "      <td>285856</td>\n",
       "      <td>Books</td>\n",
       "      <td>Computers &amp; Technology</td>\n",
       "      <td>Programming</td>\n",
       "      <td>Web Programming</td>\n",
       "      <td>Python</td>\n",
       "      <td>N/A</td>\n",
       "    </tr>\n",
       "    <tr>\n",
       "      <th>2</th>\n",
       "      <td>Python Programming</td>\n",
       "      <td>285856</td>\n",
       "      <td>Books</td>\n",
       "      <td>Computers &amp; Technology</td>\n",
       "      <td>Programming Languages</td>\n",
       "      <td>Python</td>\n",
       "      <td>N/A</td>\n",
       "      <td>N/A</td>\n",
       "    </tr>\n",
       "    <tr>\n",
       "      <th>3</th>\n",
       "      <td>Python Programming</td>\n",
       "      <td>285856</td>\n",
       "      <td>Books</td>\n",
       "      <td>Computers &amp; Technology</td>\n",
       "      <td>Web Development &amp; Design</td>\n",
       "      <td>Programming</td>\n",
       "      <td>Python</td>\n",
       "      <td>N/A</td>\n",
       "    </tr>\n",
       "  </tbody>\n",
       "</table>\n",
       "</div>"
      ],
      "text/plain": [
       "       classification  node_id level_0                 level_1  \\\n",
       "0  Python Programming   285856   Books  Computers & Technology   \n",
       "1  Python Programming   285856   Books  Computers & Technology   \n",
       "2  Python Programming   285856   Books  Computers & Technology   \n",
       "3  Python Programming   285856   Books  Computers & Technology   \n",
       "\n",
       "                    level_2            level_3 level_4 level_5  \n",
       "0               Programming  Languages & Tools  Python     N/A  \n",
       "1               Programming    Web Programming  Python     N/A  \n",
       "2     Programming Languages             Python     N/A     N/A  \n",
       "3  Web Development & Design        Programming  Python     N/A  "
      ]
     },
     "execution_count": 6,
     "metadata": {},
     "output_type": "execute_result"
    }
   ],
   "source": [
    "Python_search = explorer.categories.stringsearch(string_search=\"Python\").to_pandas()\n",
    "Python_search"
   ]
  },
  {
   "cell_type": "code",
   "execution_count": 7,
   "metadata": {
    "collapsed": false
   },
   "outputs": [
    {
     "data": {
      "text/html": [
       "<div>\n",
       "<style>\n",
       "    .dataframe thead tr:only-child th {\n",
       "        text-align: right;\n",
       "    }\n",
       "\n",
       "    .dataframe thead th {\n",
       "        text-align: left;\n",
       "    }\n",
       "\n",
       "    .dataframe tbody tr th {\n",
       "        vertical-align: top;\n",
       "    }\n",
       "</style>\n",
       "<table border=\"1\" class=\"dataframe\">\n",
       "  <thead>\n",
       "    <tr style=\"text-align: right;\">\n",
       "      <th></th>\n",
       "      <th>nodeID</th>\n",
       "      <th>level</th>\n",
       "      <th>parent_node_id</th>\n",
       "    </tr>\n",
       "  </thead>\n",
       "  <tbody>\n",
       "    <tr>\n",
       "      <th>0</th>\n",
       "      <td>285856</td>\n",
       "      <td>4</td>\n",
       "      <td>3600</td>\n",
       "    </tr>\n",
       "  </tbody>\n",
       "</table>\n",
       "</div>"
      ],
      "text/plain": [
       "   nodeID  level  parent_node_id\n",
       "0  285856      4            3600"
      ]
     },
     "execution_count": 7,
     "metadata": {},
     "output_type": "execute_result"
    }
   ],
   "source": [
    "Python_parent = explorer.categories.parentOf(node_id=Python_search['node_id'][0]).to_pandas()\n",
    "Python_parent"
   ]
  },
  {
   "cell_type": "code",
   "execution_count": 8,
   "metadata": {
    "collapsed": false
   },
   "outputs": [
    {
     "data": {
      "text/html": [
       "<div>\n",
       "<style>\n",
       "    .dataframe thead tr:only-child th {\n",
       "        text-align: right;\n",
       "    }\n",
       "\n",
       "    .dataframe thead th {\n",
       "        text-align: left;\n",
       "    }\n",
       "\n",
       "    .dataframe tbody tr th {\n",
       "        vertical-align: top;\n",
       "    }\n",
       "</style>\n",
       "<table border=\"1\" class=\"dataframe\">\n",
       "  <thead>\n",
       "    <tr style=\"text-align: right;\">\n",
       "      <th></th>\n",
       "      <th>nodeID</th>\n",
       "      <th>level</th>\n",
       "      <th>child_node_id</th>\n",
       "    </tr>\n",
       "  </thead>\n",
       "  <tbody>\n",
       "    <tr>\n",
       "      <th>0</th>\n",
       "      <td>3600</td>\n",
       "      <td>3</td>\n",
       "      <td>3602</td>\n",
       "    </tr>\n",
       "    <tr>\n",
       "      <th>1</th>\n",
       "      <td>3600</td>\n",
       "      <td>3</td>\n",
       "      <td>3605</td>\n",
       "    </tr>\n",
       "    <tr>\n",
       "      <th>2</th>\n",
       "      <td>3600</td>\n",
       "      <td>3</td>\n",
       "      <td>3617</td>\n",
       "    </tr>\n",
       "    <tr>\n",
       "      <th>3</th>\n",
       "      <td>3600</td>\n",
       "      <td>3</td>\n",
       "      <td>285856</td>\n",
       "    </tr>\n",
       "    <tr>\n",
       "      <th>4</th>\n",
       "      <td>3600</td>\n",
       "      <td>3</td>\n",
       "      <td>285858</td>\n",
       "    </tr>\n",
       "    <tr>\n",
       "      <th>5</th>\n",
       "      <td>3600</td>\n",
       "      <td>3</td>\n",
       "      <td>295223</td>\n",
       "    </tr>\n",
       "    <tr>\n",
       "      <th>6</th>\n",
       "      <td>3600</td>\n",
       "      <td>3</td>\n",
       "      <td>411314</td>\n",
       "    </tr>\n",
       "    <tr>\n",
       "      <th>7</th>\n",
       "      <td>3600</td>\n",
       "      <td>3</td>\n",
       "      <td>554538</td>\n",
       "    </tr>\n",
       "    <tr>\n",
       "      <th>8</th>\n",
       "      <td>3600</td>\n",
       "      <td>3</td>\n",
       "      <td>379357011</td>\n",
       "    </tr>\n",
       "    <tr>\n",
       "      <th>9</th>\n",
       "      <td>3600</td>\n",
       "      <td>3</td>\n",
       "      <td>379358011</td>\n",
       "    </tr>\n",
       "    <tr>\n",
       "      <th>10</th>\n",
       "      <td>3600</td>\n",
       "      <td>3</td>\n",
       "      <td>379360011</td>\n",
       "    </tr>\n",
       "    <tr>\n",
       "      <th>11</th>\n",
       "      <td>3600</td>\n",
       "      <td>3</td>\n",
       "      <td>6134006011</td>\n",
       "    </tr>\n",
       "  </tbody>\n",
       "</table>\n",
       "</div>"
      ],
      "text/plain": [
       "    nodeID  level  child_node_id\n",
       "0     3600      3           3602\n",
       "1     3600      3           3605\n",
       "2     3600      3           3617\n",
       "3     3600      3         285856\n",
       "4     3600      3         285858\n",
       "5     3600      3         295223\n",
       "6     3600      3         411314\n",
       "7     3600      3         554538\n",
       "8     3600      3      379357011\n",
       "9     3600      3      379358011\n",
       "10    3600      3      379360011\n",
       "11    3600      3     6134006011"
      ]
     },
     "execution_count": 8,
     "metadata": {},
     "output_type": "execute_result"
    }
   ],
   "source": [
    "Python_sibling = explorer.categories.childrenOf(node_id=Python_parent['parent_node_id'][0]).to_pandas()\n",
    "Python_sibling"
   ]
  },
  {
   "cell_type": "code",
   "execution_count": 9,
   "metadata": {
    "collapsed": false,
    "scrolled": true
   },
   "outputs": [
    {
     "data": {
      "text/html": [
       "<div>\n",
       "<style>\n",
       "    .dataframe thead tr:only-child th {\n",
       "        text-align: right;\n",
       "    }\n",
       "\n",
       "    .dataframe thead th {\n",
       "        text-align: left;\n",
       "    }\n",
       "\n",
       "    .dataframe tbody tr th {\n",
       "        vertical-align: top;\n",
       "    }\n",
       "</style>\n",
       "<table border=\"1\" class=\"dataframe\">\n",
       "  <thead>\n",
       "    <tr style=\"text-align: right;\">\n",
       "      <th></th>\n",
       "      <th>productid</th>\n",
       "    </tr>\n",
       "  </thead>\n",
       "  <tbody>\n",
       "    <tr>\n",
       "      <th>0</th>\n",
       "      <td>12209</td>\n",
       "    </tr>\n",
       "    <tr>\n",
       "      <th>1</th>\n",
       "      <td>12319</td>\n",
       "    </tr>\n",
       "  </tbody>\n",
       "</table>\n",
       "</div>"
      ],
      "text/plain": [
       "   productid\n",
       "0      12209\n",
       "1      12319"
      ]
     },
     "execution_count": 9,
     "metadata": {},
     "output_type": "execute_result"
    }
   ],
   "source": [
    "Python_products = explorer.products.byCategory(nodeid=Python_parent['parent_node_id'][0]).to_pandas()\n",
    "Python_products"
   ]
  },
  {
   "cell_type": "code",
   "execution_count": null,
   "metadata": {
    "collapsed": true
   },
   "outputs": [],
   "source": []
  },
  {
   "cell_type": "code",
   "execution_count": 10,
   "metadata": {
    "collapsed": false
   },
   "outputs": [
    {
     "data": {
      "text/html": [
       "<div>\n",
       "<style>\n",
       "    .dataframe thead tr:only-child th {\n",
       "        text-align: right;\n",
       "    }\n",
       "\n",
       "    .dataframe thead th {\n",
       "        text-align: left;\n",
       "    }\n",
       "\n",
       "    .dataframe tbody tr th {\n",
       "        vertical-align: top;\n",
       "    }\n",
       "</style>\n",
       "<table border=\"1\" class=\"dataframe\">\n",
       "  <thead>\n",
       "    <tr style=\"text-align: right;\">\n",
       "      <th></th>\n",
       "      <th>classification</th>\n",
       "      <th>node_id</th>\n",
       "      <th>level_0</th>\n",
       "      <th>level_1</th>\n",
       "      <th>level_2</th>\n",
       "      <th>level_3</th>\n",
       "      <th>level_4</th>\n",
       "      <th>level_5</th>\n",
       "    </tr>\n",
       "  </thead>\n",
       "  <tbody>\n",
       "    <tr>\n",
       "      <th>0</th>\n",
       "      <td>Python Programming</td>\n",
       "      <td>285856</td>\n",
       "      <td>Books</td>\n",
       "      <td>Computers &amp; Technology</td>\n",
       "      <td>Programming</td>\n",
       "      <td>Languages &amp; Tools</td>\n",
       "      <td>Python</td>\n",
       "      <td>N/A</td>\n",
       "    </tr>\n",
       "    <tr>\n",
       "      <th>1</th>\n",
       "      <td>Python Programming</td>\n",
       "      <td>285856</td>\n",
       "      <td>Books</td>\n",
       "      <td>Computers &amp; Technology</td>\n",
       "      <td>Programming</td>\n",
       "      <td>Web Programming</td>\n",
       "      <td>Python</td>\n",
       "      <td>N/A</td>\n",
       "    </tr>\n",
       "    <tr>\n",
       "      <th>2</th>\n",
       "      <td>Python Programming</td>\n",
       "      <td>285856</td>\n",
       "      <td>Books</td>\n",
       "      <td>Computers &amp; Technology</td>\n",
       "      <td>Programming Languages</td>\n",
       "      <td>Python</td>\n",
       "      <td>N/A</td>\n",
       "      <td>N/A</td>\n",
       "    </tr>\n",
       "    <tr>\n",
       "      <th>3</th>\n",
       "      <td>Python Programming</td>\n",
       "      <td>285856</td>\n",
       "      <td>Books</td>\n",
       "      <td>Computers &amp; Technology</td>\n",
       "      <td>Web Development &amp; Design</td>\n",
       "      <td>Programming</td>\n",
       "      <td>Python</td>\n",
       "      <td>N/A</td>\n",
       "    </tr>\n",
       "  </tbody>\n",
       "</table>\n",
       "</div>"
      ],
      "text/plain": [
       "       classification  node_id level_0                 level_1  \\\n",
       "0  Python Programming   285856   Books  Computers & Technology   \n",
       "1  Python Programming   285856   Books  Computers & Technology   \n",
       "2  Python Programming   285856   Books  Computers & Technology   \n",
       "3  Python Programming   285856   Books  Computers & Technology   \n",
       "\n",
       "                    level_2            level_3 level_4 level_5  \n",
       "0               Programming  Languages & Tools  Python     N/A  \n",
       "1               Programming    Web Programming  Python     N/A  \n",
       "2     Programming Languages             Python     N/A     N/A  \n",
       "3  Web Development & Design        Programming  Python     N/A  "
      ]
     },
     "execution_count": 10,
     "metadata": {},
     "output_type": "execute_result"
    }
   ],
   "source": [
    "NodeSearch=explorer.categories.nodesearch(node_id = 285856).to_pandas()\n",
    "NodeSearch"
   ]
  },
  {
   "cell_type": "markdown",
   "metadata": {},
   "source": [
    "### Child/Parent Ratings Review"
   ]
  },
  {
   "cell_type": "code",
   "execution_count": 11,
   "metadata": {
    "collapsed": true
   },
   "outputs": [],
   "source": [
    "def plotratings(asin = []):\n",
    "    row = -1\n",
    "\n",
    "    for i in range(len(dates)-1):\n",
    "        if i%3 == 0:\n",
    "            row += 1\n",
    "\n",
    "        ratings = explorer.products.ratingsDistribution(\n",
    "            min_date=dates[i],\n",
    "            max_date=dates[(i+1)], \n",
    "            asin=asin)\n",
    "    \n",
    "        if len(ratings.results) == 0:\n",
    "            continue     \n",
    "    \n",
    "        ratings_df = pd.DataFrame(\n",
    "            data=ratings.results, \n",
    "            columns=ratings.columns)\n",
    "\n",
    "    \n",
    "        ratings_df.plot.bar(\n",
    "            ax=ax[row][i%3],\n",
    "            x='asin',\n",
    "            y=[\n",
    "                'one_star_votes',\n",
    "                'two_star_votes',\n",
    "                'three_star_votes',\n",
    "                'four_star_votes',\n",
    "                'five_star_votes'\n",
    "            ])\n",
    "        ax[row][i%3].legend().remove()\n",
    "        ax[row][i%3].set_title(dates[i])\n",
    "    \n",
    "\n",
    "    plt.show()"
   ]
  },
  {
   "cell_type": "markdown",
   "metadata": {},
   "source": [
    "### Ruby Programing\n",
    "#### Books/Computers & Technology/Programming/Languages & Tools/Ruby"
   ]
  },
  {
   "cell_type": "code",
   "execution_count": 12,
   "metadata": {
    "collapsed": false
   },
   "outputs": [
    {
     "data": {
      "image/png": "[encoded data removed]",
      "text/plain": [
       "<matplotlib.figure.Figure at 0x11d2c3f98>"
      ]
     },
     "metadata": {},
     "output_type": "display_data"
    }
   ],
   "source": [
    "start = date(2013,1,1)\n",
    "delta = timedelta(weeks=4)\n",
    "dates = [start + (delta*x) for x in range(0, 36)]\n",
    "\n",
    "fig, ax = plt.subplots(7, 3, \n",
    "    sharex=True, \n",
    "    sharey=True, \n",
    "    figsize=(20,24))\n",
    "\n",
    "plotratings(asin=['0007115865'])"
   ]
  },
  {
   "cell_type": "markdown",
   "metadata": {},
   "source": [
    "### Python Programming\n",
    "#### Books/Computers & Technology/Programming/Languages & Tools/Python"
   ]
  },
  {
   "cell_type": "code",
   "execution_count": 13,
   "metadata": {
    "collapsed": false
   },
   "outputs": [
    {
     "data": {
      "image/png": "[encoded data removed]",
      "text/plain": [
       "<matplotlib.figure.Figure at 0x120b255c0>"
      ]
     },
     "metadata": {},
     "output_type": "display_data"
    }
   ],
   "source": [
    "start = date(2012,1,1)\n",
    "delta = timedelta(weeks=4)\n",
    "dates = [start + (delta*x) for x in range(0, 36)]\n",
    "\n",
    "fig, ax = plt.subplots(12, 3, \n",
    "    sharex=True, \n",
    "    sharey=True, \n",
    "    figsize=(20,24))\n",
    "\n",
    "plotratings(asin=['0007107927'])"
   ]
  },
  {
   "cell_type": "code",
   "execution_count": null,
   "metadata": {
    "collapsed": true
   },
   "outputs": [],
   "source": []
  },
  {
   "cell_type": "markdown",
   "metadata": {},
   "source": [
    "## Benchmarking"
   ]
  },
  {
   "cell_type": "code",
   "execution_count": 15,
   "metadata": {
    "collapsed": false
   },
   "outputs": [
    {
     "data": {
      "text/plain": [
       "[('Customers.idsForCustomer', False, 276.020162, 1104.080648, 4),\n",
       " ('Customers.clusterCustomers', False, 88.8559039166667, 2132.541694, 24),\n",
       " ('Categories.parentsOf', True, 63.841114, 63.841114, 1),\n",
       " ('Products.ratingsDistribution', False, 5.00597581818182, 55.065734, 11),\n",
       " ('Products.byCategory', True, 4.0820138, 20.410069, 5),\n",
       " ('Products.statsByProduct', False, 3.89878075, 77.975615, 20),\n",
       " ('Products.priceDistribution', False, 3.38223020689655, 98.084676, 29),\n",
       " ('Categories.parentOf', True, 2.33737821052632, 44.410186, 19),\n",
       " ('Products.seasonalOrderDistribution', False, 1.2705358125, 20.328573, 16),\n",
       " ('Categories.search', False, 1.023032, 1.023032, 1),\n",
       " ('Reviews.termsByAsin', False, 0.977624, 0.977624, 1),\n",
       " ('Products.clusterProducts', False, 0.962731268518519, 103.974977, 108),\n",
       " ('Categories.parentOf', False, 0.618921333333333, 1.856764, 3),\n",
       " ('Categories.childrenOf', False, 0.56445175, 2.257807, 4),\n",
       " ('Categories.parentsOf', False, 0.395447, 0.790894, 2),\n",
       " ('Customers.statsByCustomer', True, 0.360248483870968, 11.167703, 31),\n",
       " ('Orders.statsByZipcode', False, 0.294918, 0.294918, 1),\n",
       " ('Customers.idsForCustomer', True, 0.26915255, 5.383051, 20),\n",
       " ('Products.byCategory', False, 0.0890922, 0.445461, 5),\n",
       " ('Categories.childrenOf', True, 0.026223, 0.078669, 3),\n",
       " ('Products.statsByProduct', True, 0.0110398712871287, 1.115027, 101),\n",
       " ('Products.seasonalOrderDistribution',\n",
       "  True,\n",
       "  0.00768502127659575,\n",
       "  0.722392,\n",
       "  94),\n",
       " ('Products.ratingsDistribution', True, 0.00612171794871795, 0.238747, 39),\n",
       " ('Categories.search', True, 0.00519812903225806, 0.161142, 31),\n",
       " ('Products.priceDistribution', True, 0.00233230882352941, 0.158597, 68),\n",
       " ('Reviews.termsByAsin', True, 0.0018065, 0.003613, 2)]"
      ]
     },
     "execution_count": 15,
     "metadata": {},
     "output_type": "execute_result"
    }
   ],
   "source": [
    "explorer.benchmarks.statsByFunction(function_filter=[]).results"
   ]
  },
  {
   "cell_type": "code",
   "execution_count": null,
   "metadata": {
    "collapsed": true
   },
   "outputs": [],
   "source": []
  }
 ],
 "metadata": {
  "kernelspec": {
   "display_name": "Python 3",
   "language": "python",
   "name": "python3"
  },
  "language_info": {
   "codemirror_mode": {
    "name": "ipython",
    "version": 3
   },
   "file_extension": ".py",
   "mimetype": "text/x-python",
   "name": "python",
   "nbconvert_exporter": "python",
   "pygments_lexer": "ipython3",
   "version": "3.6.0"
  }
 },
 "nbformat": 4,
 "nbformat_minor": 2
}
