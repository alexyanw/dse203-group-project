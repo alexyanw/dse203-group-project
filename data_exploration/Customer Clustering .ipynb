{
 "cells": [
  {
   "cell_type": "code",
   "execution_count": 1,
   "metadata": {},
   "outputs": [],
   "source": [
    "#Import API\n",
    "from dora.api import DataExplorer\n",
    "\n",
    "import pandas as pd\n",
    "from datetime import date, timedelta\n",
    "from matplotlib import pyplot\n",
    "import matplotlib.pyplot as plt\n",
    "from mpl_toolkits.mplot3d import Axes3D\n",
    "from uszipcode import ZipcodeSearchEngine\n",
    "\n",
    "explorer = DataExplorer()"
   ]
  },
  {
   "cell_type": "code",
   "execution_count": 9,
   "metadata": {},
   "outputs": [],
   "source": [
    "def plot3d(X,y_pred, centers, x,y,z,points):\n",
    "    fig = pyplot.figure()\n",
    "    ax = Axes3D(fig)\n",
    "    colors = ['green','red','blue','black','salmon','indigo','plum','seagreen','grey','yellow']\n",
    "    centers=centers\n",
    "    center_colors=colors[:len(centers)]\n",
    "    ax.scatter(centers[:, x], centers[:, y],centers[:,x],c=center_colors)\n",
    "    for i in range(points):\n",
    "        ax.scatter(X[i][x], X[i][y],X[i][z], c=colors[y_pred[i]])\n",
    "    return fig"
   ]
  },
  {
   "cell_type": "code",
   "execution_count": 53,
   "metadata": {},
   "outputs": [],
   "source": [
    "def custPerCluster(clusters):\n",
    "    fig=plt.figure()\n",
    "    maxn=clusters['y_pred'].max()\n",
    "    plt.hist(clusters['y_pred'].values)\n",
    "    plt.xlabel('Clusters')\n",
    "    plt.ylabel('# of Customers')\n",
    "    plt.xticks(range(0,maxn+1))\n",
    "    plt.title('Number of Customers per Cluster')\n",
    "    return fig"
   ]
  },
  {
   "cell_type": "code",
   "execution_count": 217,
   "metadata": {},
   "outputs": [],
   "source": [
    "def clusterDist(clusters):\n",
    "    maxn=clusters['y_pred'].max()\n",
    "    clusterStats=pd.DataFrame()\n",
    "    for i in range(maxn+1):\n",
    "        mask=(clusters['y_pred']==i)\n",
    "        t=clusters.loc[mask]\n",
    "        clusterStats.loc[i,'avgNumOrders']=t['numorders'].mean()\n",
    "        clusterStats.loc[i,'avgTotalSpent']=t['totalspent'].mean()\n",
    "        clusterStats.loc[i,'numHouseholds']=t['householdid'].nunique()\n",
    "        clusterStats.loc[i,'numZipcoes']=t['zipcode'].nunique()\n",
    "        tr=t.groupby('gender').gender.count()\n",
    "    return clusterStats"
   ]
  },
  {
   "cell_type": "code",
   "execution_count": 268,
   "metadata": {
    "collapsed": true
   },
   "outputs": [],
   "source": [
    "def clusterZips(clusters):\n",
    "    maxn=clusters['y_pred'].max()\n",
    "    zipstates={}\n",
    "    zipcities={}\n",
    "    for i in range(maxn+1):\n",
    "        #print (\"Cluster \"+str(i))\n",
    "        states=set()\n",
    "        cities=set()\n",
    "        mask=(clusters['y_pred']==i)\n",
    "        t=clusters[['zipcode','y_pred']].loc[mask]\n",
    "        zipcodes=t['zipcode'].unique()\n",
    "        for j in range(len(zipcodes)):\n",
    "            city=search.by_zipcode(str(zipcodes[j]))\n",
    "            cities.add(city['City'])\n",
    "            states.add(city['State'])\n",
    "        zipstates.update({i:states})\n",
    "        zipcities.update({i:cities})\n",
    "    return zipstates, zipcities"
   ]
  },
  {
   "cell_type": "markdown",
   "metadata": {},
   "source": [
    "Use the API to get 10 clusters of customers. Bad zipcodes have been removed from the dataset. Customers with no gender assigned are within the dataset of customers to be clusered."
   ]
  },
  {
   "cell_type": "code",
   "execution_count": 22,
   "metadata": {},
   "outputs": [
    {
     "name": "stderr",
     "output_type": "stream",
     "text": [
      "/Users/laurawilke/anaconda3/lib/python3.6/site-packages/sklearn/utils/validation.py:429: DataConversionWarning: Data with input dtype object was converted to float64 by StandardScaler.\n",
      "  warnings.warn(msg, _DataConversionWarning)\n"
     ]
    },
    {
     "data": {
      "text/html": [
       "<div>\n",
       "<style>\n",
       "    .dataframe thead tr:only-child th {\n",
       "        text-align: right;\n",
       "    }\n",
       "\n",
       "    .dataframe thead th {\n",
       "        text-align: left;\n",
       "    }\n",
       "\n",
       "    .dataframe tbody tr th {\n",
       "        vertical-align: top;\n",
       "    }\n",
       "</style>\n",
       "<table border=\"1\" class=\"dataframe\">\n",
       "  <thead>\n",
       "    <tr style=\"text-align: right;\">\n",
       "      <th></th>\n",
       "      <th>numorders</th>\n",
       "      <th>gender</th>\n",
       "      <th>zipcode</th>\n",
       "      <th>totalspent</th>\n",
       "      <th>householdid</th>\n",
       "      <th>y_pred</th>\n",
       "    </tr>\n",
       "  </thead>\n",
       "  <tbody>\n",
       "    <tr>\n",
       "      <th>0</th>\n",
       "      <td>412</td>\n",
       "      <td>0</td>\n",
       "      <td>10036</td>\n",
       "      <td>606.25</td>\n",
       "      <td>19885296.0</td>\n",
       "      <td>5</td>\n",
       "    </tr>\n",
       "    <tr>\n",
       "      <th>1</th>\n",
       "      <td>189</td>\n",
       "      <td>1</td>\n",
       "      <td>10036</td>\n",
       "      <td>651.59</td>\n",
       "      <td>19885296.0</td>\n",
       "      <td>8</td>\n",
       "    </tr>\n",
       "    <tr>\n",
       "      <th>2</th>\n",
       "      <td>99</td>\n",
       "      <td>0</td>\n",
       "      <td>10036</td>\n",
       "      <td>0</td>\n",
       "      <td>49927024.0</td>\n",
       "      <td>8</td>\n",
       "    </tr>\n",
       "    <tr>\n",
       "      <th>3</th>\n",
       "      <td>99</td>\n",
       "      <td>2</td>\n",
       "      <td>10036</td>\n",
       "      <td>2226.32</td>\n",
       "      <td>19885296.0</td>\n",
       "      <td>8</td>\n",
       "    </tr>\n",
       "    <tr>\n",
       "      <th>4</th>\n",
       "      <td>70</td>\n",
       "      <td>0</td>\n",
       "      <td>10036</td>\n",
       "      <td>0</td>\n",
       "      <td>49927024.0</td>\n",
       "      <td>8</td>\n",
       "    </tr>\n",
       "  </tbody>\n",
       "</table>\n",
       "</div>"
      ],
      "text/plain": [
       "  numorders gender zipcode totalspent  householdid  y_pred\n",
       "0       412      0   10036     606.25   19885296.0       5\n",
       "1       189      1   10036     651.59   19885296.0       8\n",
       "2        99      0   10036          0   49927024.0       8\n",
       "3        99      2   10036    2226.32   19885296.0       8\n",
       "4        70      0   10036          0   49927024.0       8"
      ]
     },
     "execution_count": 22,
     "metadata": {},
     "output_type": "execute_result"
    }
   ],
   "source": [
    "#Get 10 clusters and print out the head of the dataframe\n",
    "cCluster=explorer.customers.clusterCustomers(n_clusters=10)\n",
    "cCluster[1].head()"
   ]
  },
  {
   "cell_type": "code",
   "execution_count": 23,
   "metadata": {},
   "outputs": [],
   "source": [
    "#clustersScaleed are the scaled values for clustering. clusters are the actual data values. \n",
    "#centers are the clustering centers\n",
    "clustersScaled=cCluster[0]\n",
    "clusters=cCluster[1]\n",
    "centers=cCluster[2]"
   ]
  },
  {
   "cell_type": "code",
   "execution_count": 16,
   "metadata": {},
   "outputs": [
    {
     "data": {
      "image/png": "[encoded data removed]",
      "text/plain": [
       "<matplotlib.figure.Figure at 0x123a40ba8>"
      ]
     },
     "execution_count": 16,
     "metadata": {},
     "output_type": "execute_result"
    }
   ],
   "source": [
    "#3-D Plot of the customer clusters (numOrders, zipcode, gender)\n",
    "plot=plot3d(clustersScaled[['gender','totalspent','zipcode','numorders']].values,clustersScaled['y_pred'].values,centers, 3,1,2,2500)\n",
    "plot"
   ]
  },
  {
   "cell_type": "code",
   "execution_count": 15,
   "metadata": {},
   "outputs": [
    {
     "data": {
      "image/png": "[encoded data removed]",
      "text/plain": [
       "<matplotlib.figure.Figure at 0x123a40208>"
      ]
     },
     "execution_count": 15,
     "metadata": {},
     "output_type": "execute_result"
    }
   ],
   "source": [
    "#Histogram of the number of customers in each cluster\n",
    "dist=custPerCluster(clusters)\n",
    "dist"
   ]
  },
  {
   "cell_type": "code",
   "execution_count": 218,
   "metadata": {
    "scrolled": false
   },
   "outputs": [
    {
     "data": {
      "text/html": [
       "<div>\n",
       "<style>\n",
       "    .dataframe thead tr:only-child th {\n",
       "        text-align: right;\n",
       "    }\n",
       "\n",
       "    .dataframe thead th {\n",
       "        text-align: left;\n",
       "    }\n",
       "\n",
       "    .dataframe tbody tr th {\n",
       "        vertical-align: top;\n",
       "    }\n",
       "</style>\n",
       "<table border=\"1\" class=\"dataframe\">\n",
       "  <thead>\n",
       "    <tr style=\"text-align: right;\">\n",
       "      <th></th>\n",
       "      <th>avgNumOrders</th>\n",
       "      <th>avgTotalSpent</th>\n",
       "      <th>numHouseholds</th>\n",
       "      <th>numZipcoes</th>\n",
       "    </tr>\n",
       "  </thead>\n",
       "  <tbody>\n",
       "    <tr>\n",
       "      <th>0</th>\n",
       "      <td>1.156602</td>\n",
       "      <td>63.472744</td>\n",
       "      <td>22233.0</td>\n",
       "      <td>4442.0</td>\n",
       "    </tr>\n",
       "    <tr>\n",
       "      <th>1</th>\n",
       "      <td>1.162069</td>\n",
       "      <td>58.387951</td>\n",
       "      <td>10451.0</td>\n",
       "      <td>3254.0</td>\n",
       "    </tr>\n",
       "    <tr>\n",
       "      <th>2</th>\n",
       "      <td>1.171302</td>\n",
       "      <td>53.893328</td>\n",
       "      <td>52787.0</td>\n",
       "      <td>6213.0</td>\n",
       "    </tr>\n",
       "    <tr>\n",
       "      <th>3</th>\n",
       "      <td>1.147301</td>\n",
       "      <td>51.281134</td>\n",
       "      <td>47436.0</td>\n",
       "      <td>5762.0</td>\n",
       "    </tr>\n",
       "    <tr>\n",
       "      <th>4</th>\n",
       "      <td>1.133732</td>\n",
       "      <td>58.264633</td>\n",
       "      <td>19192.0</td>\n",
       "      <td>3791.0</td>\n",
       "    </tr>\n",
       "    <tr>\n",
       "      <th>5</th>\n",
       "      <td>412.000000</td>\n",
       "      <td>606.250000</td>\n",
       "      <td>1.0</td>\n",
       "      <td>1.0</td>\n",
       "    </tr>\n",
       "    <tr>\n",
       "      <th>6</th>\n",
       "      <td>2.048058</td>\n",
       "      <td>628.098751</td>\n",
       "      <td>4985.0</td>\n",
       "      <td>2205.0</td>\n",
       "    </tr>\n",
       "    <tr>\n",
       "      <th>7</th>\n",
       "      <td>2.949367</td>\n",
       "      <td>5375.113544</td>\n",
       "      <td>79.0</td>\n",
       "      <td>74.0</td>\n",
       "    </tr>\n",
       "    <tr>\n",
       "      <th>8</th>\n",
       "      <td>114.250000</td>\n",
       "      <td>719.477500</td>\n",
       "      <td>2.0</td>\n",
       "      <td>1.0</td>\n",
       "    </tr>\n",
       "    <tr>\n",
       "      <th>9</th>\n",
       "      <td>1.973829</td>\n",
       "      <td>1888.280592</td>\n",
       "      <td>726.0</td>\n",
       "      <td>514.0</td>\n",
       "    </tr>\n",
       "  </tbody>\n",
       "</table>\n",
       "</div>"
      ],
      "text/plain": [
       "   avgNumOrders  avgTotalSpent  numHouseholds  numZipcoes\n",
       "0      1.156602      63.472744        22233.0      4442.0\n",
       "1      1.162069      58.387951        10451.0      3254.0\n",
       "2      1.171302      53.893328        52787.0      6213.0\n",
       "3      1.147301      51.281134        47436.0      5762.0\n",
       "4      1.133732      58.264633        19192.0      3791.0\n",
       "5    412.000000     606.250000            1.0         1.0\n",
       "6      2.048058     628.098751         4985.0      2205.0\n",
       "7      2.949367    5375.113544           79.0        74.0\n",
       "8    114.250000     719.477500            2.0         1.0\n",
       "9      1.973829    1888.280592          726.0       514.0"
      ]
     },
     "execution_count": 218,
     "metadata": {},
     "output_type": "execute_result"
    }
   ],
   "source": [
    "#Stats by cluster\n",
    "stats=clusterDist(clusters)\n",
    "stats"
   ]
  },
  {
   "cell_type": "code",
   "execution_count": 244,
   "metadata": {},
   "outputs": [],
   "source": [
    "#Get the states and cities that are clustered together\n",
    "zipdata=clusterZips(clusters)\n",
    "zipstates=zipdata[0]\n",
    "zipcities=zipdata[1]"
   ]
  }
 ],
 "metadata": {
  "kernelspec": {
   "display_name": "Python 3",
   "language": "python",
   "name": "python3"
  },
  "language_info": {
   "codemirror_mode": {
    "name": "ipython",
    "version": 3
   },
   "file_extension": ".py",
   "mimetype": "text/x-python",
   "name": "python",
   "nbconvert_exporter": "python",
   "pygments_lexer": "ipython3",
   "version": "3.6.0"
  }
 },
 "nbformat": 4,
 "nbformat_minor": 2
}
