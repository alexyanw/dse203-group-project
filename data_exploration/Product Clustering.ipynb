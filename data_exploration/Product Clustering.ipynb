{
 "cells": [
  {
   "cell_type": "code",
   "execution_count": 1,
   "metadata": {
    "collapsed": true
   },
   "outputs": [],
   "source": [
    "#Import API\n",
    "from dora.api import DataExplorer\n",
    "\n",
    "import pandas as pd\n",
    "from datetime import date, timedelta\n",
    "from matplotlib import pyplot\n",
    "import matplotlib.pyplot as plt\n",
    "from mpl_toolkits.mplot3d import Axes3D\n",
    "import numpy as np\n",
    "\n",
    "explorer = DataExplorer()"
   ]
  },
  {
   "cell_type": "code",
   "execution_count": 7,
   "metadata": {
    "collapsed": true
   },
   "outputs": [],
   "source": [
    "#NEED TO UPDATE\n",
    "def plot3d(X,x,y,z,points):\n",
    "    fig = pyplot.figure()\n",
    "    ax = Axes3D(fig)\n",
    "    colors = ['green','red','blue','black','salmon','indigo','plum','seagreen','grey','yellow']\n",
    "    for i in range(points):\n",
    "        ax.scatter(X.results[i][x], X.results[i][y],X.results[i][z], c=colors[X.results[i][6]])\n",
    "    return fig"
   ]
  },
  {
   "cell_type": "code",
   "execution_count": 10,
   "metadata": {
    "collapsed": true
   },
   "outputs": [],
   "source": [
    "def prodPerCluster(df):\n",
    "    fig=plt.figure()\n",
    "    maxn=df['cluster'].max()\n",
    "    plt.hist(df['cluster'].values)\n",
    "    plt.xlabel('Products')\n",
    "    plt.ylabel('# of Products')\n",
    "    plt.xticks(range(0,maxn+1))\n",
    "    plt.title('Number of Products per Cluster')\n",
    "    return fig"
   ]
  },
  {
   "cell_type": "code",
   "execution_count": 15,
   "metadata": {
    "collapsed": true
   },
   "outputs": [],
   "source": [
    "def clusterDist(df):\n",
    "    maxn=df['cluster'].max()\n",
    "    clusterStats=pd.DataFrame()\n",
    "    for i in range(maxn+1):\n",
    "        mask=(df['cluster']==i)\n",
    "        t=df.loc[mask]\n",
    "        clusterStats.loc[i,'avgNumOrders']=t['numorders'].mean()\n",
    "        clusterStats.loc[i,'avgRating']=t['avgrating'].mean()\n",
    "        clusterStats.loc[i,'numCategories']=t['category'].nunique()\n",
    "        clusterStats.loc[i,'avgDays_on_sale']=t['days_on_sale'].mean()\n",
    "    return clusterStats"
   ]
  },
  {
   "cell_type": "markdown",
   "metadata": {},
   "source": [
    "statsByProduct Query"
   ]
  },
  {
   "cell_type": "code",
   "execution_count": 3,
   "metadata": {},
   "outputs": [
    {
     "data": {
      "text/html": [
       "<div>\n",
       "<style scoped>\n",
       "    .dataframe tbody tr th:only-of-type {\n",
       "        vertical-align: middle;\n",
       "    }\n",
       "\n",
       "    .dataframe tbody tr th {\n",
       "        vertical-align: top;\n",
       "    }\n",
       "\n",
       "    .dataframe thead th {\n",
       "        text-align: right;\n",
       "    }\n",
       "</style>\n",
       "<table border=\"1\" class=\"dataframe\">\n",
       "  <thead>\n",
       "    <tr style=\"text-align: right;\">\n",
       "      <th></th>\n",
       "      <th>productid</th>\n",
       "      <th>asin</th>\n",
       "      <th>numorders</th>\n",
       "      <th>avgrating</th>\n",
       "      <th>category</th>\n",
       "      <th>days_on_sale</th>\n",
       "    </tr>\n",
       "  </thead>\n",
       "  <tbody>\n",
       "    <tr>\n",
       "      <th>0</th>\n",
       "      <td>10001</td>\n",
       "      <td>0000000116</td>\n",
       "      <td>512</td>\n",
       "      <td>2.5000000000000000</td>\n",
       "      <td>1</td>\n",
       "      <td>629.0</td>\n",
       "    </tr>\n",
       "    <tr>\n",
       "      <th>1</th>\n",
       "      <td>10002</td>\n",
       "      <td>0000000868</td>\n",
       "      <td>230</td>\n",
       "      <td>4.0000000000000000</td>\n",
       "      <td>173508</td>\n",
       "      <td>277.0</td>\n",
       "    </tr>\n",
       "    <tr>\n",
       "      <th>2</th>\n",
       "      <td>10003</td>\n",
       "      <td>0000013714</td>\n",
       "      <td>2408</td>\n",
       "      <td>4.2857142857142857</td>\n",
       "      <td>266162</td>\n",
       "      <td>118.0</td>\n",
       "    </tr>\n",
       "    <tr>\n",
       "      <th>3</th>\n",
       "      <td>10004</td>\n",
       "      <td>0000015393</td>\n",
       "      <td>34</td>\n",
       "      <td>4.0000000000000000</td>\n",
       "      <td>720870</td>\n",
       "      <td>445.0</td>\n",
       "    </tr>\n",
       "    <tr>\n",
       "      <th>4</th>\n",
       "      <td>10005</td>\n",
       "      <td>0000029831</td>\n",
       "      <td>8480</td>\n",
       "      <td>4.8000000000000000</td>\n",
       "      <td>3564986011</td>\n",
       "      <td>1501.0</td>\n",
       "    </tr>\n",
       "  </tbody>\n",
       "</table>\n",
       "</div>"
      ],
      "text/plain": [
       "   productid        asin  numorders           avgrating    category  \\\n",
       "0      10001  0000000116        512  2.5000000000000000           1   \n",
       "1      10002  0000000868        230  4.0000000000000000      173508   \n",
       "2      10003  0000013714       2408  4.2857142857142857      266162   \n",
       "3      10004  0000015393         34  4.0000000000000000      720870   \n",
       "4      10005  0000029831       8480  4.8000000000000000  3564986011   \n",
       "\n",
       "   days_on_sale  \n",
       "0         629.0  \n",
       "1         277.0  \n",
       "2         118.0  \n",
       "3         445.0  \n",
       "4        1501.0  "
      ]
     },
     "execution_count": 3,
     "metadata": {},
     "output_type": "execute_result"
    }
   ],
   "source": [
    "statsByProd=explorer.products.statsByProduct()\n",
    "statsByProd=pd.DataFrame(statsByProd.results, columns=statsByProd.columns)\n",
    "statsByProd.head()"
   ]
  },
  {
   "cell_type": "markdown",
   "metadata": {},
   "source": [
    "Use the API to get 10 clusters of products. A specified feature_set is not defined by the user, neither are the features that will be used for the clustering. In this case, the feature_set will be the data from statsByProduct and the features will be [numOrders, avgrating, category, days_on_sale]. "
   ]
  },
  {
   "cell_type": "code",
   "execution_count": 12,
   "metadata": {},
   "outputs": [],
   "source": [
    "#Get 10 clusters and print out the head of the dataframe\n",
    "cProducts=explorer.products.clusterProducts(n_clusters=10)"
   ]
  },
  {
   "cell_type": "code",
   "execution_count": 34,
   "metadata": {},
   "outputs": [
    {
     "data": {
      "text/plain": [
       "array(['avgrating', 'numorders', 'days_on_sale', 'productid', 'asin',\n",
       "       'category', 'cluster'], dtype=object)"
      ]
     },
     "execution_count": 34,
     "metadata": {},
     "output_type": "execute_result"
    }
   ],
   "source": [
    "#Lists the columns of the cCluster\n",
    "cProducts.columns"
   ]
  },
  {
   "cell_type": "code",
   "execution_count": 14,
   "metadata": {
    "scrolled": true
   },
   "outputs": [
    {
     "data": {
      "image/png": "[encoded data removed]",
      "text/plain": [
       "<matplotlib.figure.Figure at 0x11222b780>"
      ]
     },
     "execution_count": 14,
     "metadata": {},
     "output_type": "execute_result"
    }
   ],
   "source": [
    "#Histogram of the number of customers in each cluster\n",
    "df=pd.DataFrame(cProducts.results, columns=cProducts.columns)\n",
    "dist=prodPerCluster(df)\n",
    "dist"
   ]
  },
  {
   "cell_type": "code",
   "execution_count": 16,
   "metadata": {
    "scrolled": false
   },
   "outputs": [
    {
     "data": {
      "text/html": [
       "<div>\n",
       "<style scoped>\n",
       "    .dataframe tbody tr th:only-of-type {\n",
       "        vertical-align: middle;\n",
       "    }\n",
       "\n",
       "    .dataframe tbody tr th {\n",
       "        vertical-align: top;\n",
       "    }\n",
       "\n",
       "    .dataframe thead th {\n",
       "        text-align: right;\n",
       "    }\n",
       "</style>\n",
       "<table border=\"1\" class=\"dataframe\">\n",
       "  <thead>\n",
       "    <tr style=\"text-align: right;\">\n",
       "      <th></th>\n",
       "      <th>avgNumOrders</th>\n",
       "      <th>avgRating</th>\n",
       "      <th>numCategories</th>\n",
       "      <th>avgDays_on_sale</th>\n",
       "    </tr>\n",
       "  </thead>\n",
       "  <tbody>\n",
       "    <tr>\n",
       "      <th>0</th>\n",
       "      <td>466.386048</td>\n",
       "      <td>4.258213</td>\n",
       "      <td>2302.0</td>\n",
       "      <td>392.121622</td>\n",
       "    </tr>\n",
       "    <tr>\n",
       "      <th>1</th>\n",
       "      <td>716.256125</td>\n",
       "      <td>4.284032</td>\n",
       "      <td>358.0</td>\n",
       "      <td>557.240535</td>\n",
       "    </tr>\n",
       "    <tr>\n",
       "      <th>2</th>\n",
       "      <td>55.873684</td>\n",
       "      <td>4.284289</td>\n",
       "      <td>52.0</td>\n",
       "      <td>357.905263</td>\n",
       "    </tr>\n",
       "    <tr>\n",
       "      <th>3</th>\n",
       "      <td>1360.489362</td>\n",
       "      <td>4.168316</td>\n",
       "      <td>75.0</td>\n",
       "      <td>221.021277</td>\n",
       "    </tr>\n",
       "    <tr>\n",
       "      <th>4</th>\n",
       "      <td>72.000000</td>\n",
       "      <td>4.386071</td>\n",
       "      <td>93.0</td>\n",
       "      <td>291.798319</td>\n",
       "    </tr>\n",
       "    <tr>\n",
       "      <th>5</th>\n",
       "      <td>528.516667</td>\n",
       "      <td>4.562191</td>\n",
       "      <td>57.0</td>\n",
       "      <td>615.916667</td>\n",
       "    </tr>\n",
       "    <tr>\n",
       "      <th>6</th>\n",
       "      <td>139.000000</td>\n",
       "      <td>3.927008</td>\n",
       "      <td>38.0</td>\n",
       "      <td>456.605263</td>\n",
       "    </tr>\n",
       "    <tr>\n",
       "      <th>7</th>\n",
       "      <td>118.169935</td>\n",
       "      <td>4.277529</td>\n",
       "      <td>131.0</td>\n",
       "      <td>354.915033</td>\n",
       "    </tr>\n",
       "    <tr>\n",
       "      <th>8</th>\n",
       "      <td>196.806061</td>\n",
       "      <td>4.304355</td>\n",
       "      <td>159.0</td>\n",
       "      <td>711.030303</td>\n",
       "    </tr>\n",
       "    <tr>\n",
       "      <th>9</th>\n",
       "      <td>208.000000</td>\n",
       "      <td>4.302491</td>\n",
       "      <td>66.0</td>\n",
       "      <td>354.818182</td>\n",
       "    </tr>\n",
       "  </tbody>\n",
       "</table>\n",
       "</div>"
      ],
      "text/plain": [
       "   avgNumOrders  avgRating  numCategories  avgDays_on_sale\n",
       "0    466.386048   4.258213         2302.0       392.121622\n",
       "1    716.256125   4.284032          358.0       557.240535\n",
       "2     55.873684   4.284289           52.0       357.905263\n",
       "3   1360.489362   4.168316           75.0       221.021277\n",
       "4     72.000000   4.386071           93.0       291.798319\n",
       "5    528.516667   4.562191           57.0       615.916667\n",
       "6    139.000000   3.927008           38.0       456.605263\n",
       "7    118.169935   4.277529          131.0       354.915033\n",
       "8    196.806061   4.304355          159.0       711.030303\n",
       "9    208.000000   4.302491           66.0       354.818182"
      ]
     },
     "execution_count": 16,
     "metadata": {},
     "output_type": "execute_result"
    }
   ],
   "source": [
    "#Stats by cluster\n",
    "stats=clusterDist(df)\n",
    "stats"
   ]
  },
  {
   "cell_type": "markdown",
   "metadata": {},
   "source": [
    "Cluster the customers but cluster around certain product asins"
   ]
  },
  {
   "cell_type": "code",
   "execution_count": 18,
   "metadata": {},
   "outputs": [
    {
     "name": "stderr",
     "output_type": "stream",
     "text": [
      "/Users/laurawilke/anaconda3/lib/python3.6/site-packages/sklearn/cluster/k_means_.py:896: RuntimeWarning: Explicit initial center position passed: performing only one init in k-means instead of n_init=10\n",
      "  return_n_iter=True)\n"
     ]
    }
   ],
   "source": [
    "#Cluster the products around the specified asins\n",
    "c=explorer.products.clusterProducts(n_clusters=5, asin=['0000000116', '0000029831','0000013714','0000000868','0000015393'])"
   ]
  },
  {
   "cell_type": "code",
   "execution_count": 19,
   "metadata": {},
   "outputs": [
    {
     "data": {
      "text/html": [
       "<div>\n",
       "<style scoped>\n",
       "    .dataframe tbody tr th:only-of-type {\n",
       "        vertical-align: middle;\n",
       "    }\n",
       "\n",
       "    .dataframe tbody tr th {\n",
       "        vertical-align: top;\n",
       "    }\n",
       "\n",
       "    .dataframe thead th {\n",
       "        text-align: right;\n",
       "    }\n",
       "</style>\n",
       "<table border=\"1\" class=\"dataframe\">\n",
       "  <thead>\n",
       "    <tr style=\"text-align: right;\">\n",
       "      <th></th>\n",
       "      <th>avgNumOrders</th>\n",
       "      <th>avgRating</th>\n",
       "      <th>numCategories</th>\n",
       "      <th>avgDays_on_sale</th>\n",
       "    </tr>\n",
       "  </thead>\n",
       "  <tbody>\n",
       "    <tr>\n",
       "      <th>0</th>\n",
       "      <td>465.903804</td>\n",
       "      <td>4.259035</td>\n",
       "      <td>2298.0</td>\n",
       "      <td>392.158010</td>\n",
       "    </tr>\n",
       "    <tr>\n",
       "      <th>1</th>\n",
       "      <td>393.745763</td>\n",
       "      <td>4.558160</td>\n",
       "      <td>56.0</td>\n",
       "      <td>600.915254</td>\n",
       "    </tr>\n",
       "    <tr>\n",
       "      <th>2</th>\n",
       "      <td>579.916667</td>\n",
       "      <td>4.242473</td>\n",
       "      <td>230.0</td>\n",
       "      <td>302.945652</td>\n",
       "    </tr>\n",
       "    <tr>\n",
       "      <th>3</th>\n",
       "      <td>466.792574</td>\n",
       "      <td>4.305178</td>\n",
       "      <td>652.0</td>\n",
       "      <td>539.092190</td>\n",
       "    </tr>\n",
       "    <tr>\n",
       "      <th>4</th>\n",
       "      <td>79.624060</td>\n",
       "      <td>4.182209</td>\n",
       "      <td>90.0</td>\n",
       "      <td>386.105263</td>\n",
       "    </tr>\n",
       "  </tbody>\n",
       "</table>\n",
       "</div>"
      ],
      "text/plain": [
       "   avgNumOrders  avgRating  numCategories  avgDays_on_sale\n",
       "0    465.903804   4.259035         2298.0       392.158010\n",
       "1    393.745763   4.558160           56.0       600.915254\n",
       "2    579.916667   4.242473          230.0       302.945652\n",
       "3    466.792574   4.305178          652.0       539.092190\n",
       "4     79.624060   4.182209           90.0       386.105263"
      ]
     },
     "execution_count": 19,
     "metadata": {},
     "output_type": "execute_result"
    }
   ],
   "source": [
    "#Get cluster stats\n",
    "df=pd.DataFrame(c.results, columns=c.columns )\n",
    "stats=clusterDist(df)\n",
    "stats"
   ]
  },
  {
   "cell_type": "code",
   "execution_count": 20,
   "metadata": {},
   "outputs": [
    {
     "data": {
      "image/png": "[encoded data removed]",
      "text/plain": [
       "<matplotlib.figure.Figure at 0x1123a3c88>"
      ]
     },
     "execution_count": 20,
     "metadata": {},
     "output_type": "execute_result"
    }
   ],
   "source": [
    "#Get distribution of products per cluster\n",
    "dist=prodPerCluster(df)\n",
    "dist"
   ]
  },
  {
   "cell_type": "markdown",
   "metadata": {},
   "source": [
    "Cluster the products but specify the cluster_on parameter"
   ]
  },
  {
   "cell_type": "code",
   "execution_count": 21,
   "metadata": {
    "collapsed": true
   },
   "outputs": [],
   "source": [
    "cProducts=explorer.products.clusterProducts(n_clusters=10, cluster_on=['avgrating','numorders','days_on_sale'])"
   ]
  },
  {
   "cell_type": "code",
   "execution_count": 26,
   "metadata": {},
   "outputs": [
    {
     "data": {
      "text/html": [
       "<div>\n",
       "<style scoped>\n",
       "    .dataframe tbody tr th:only-of-type {\n",
       "        vertical-align: middle;\n",
       "    }\n",
       "\n",
       "    .dataframe tbody tr th {\n",
       "        vertical-align: top;\n",
       "    }\n",
       "\n",
       "    .dataframe thead th {\n",
       "        text-align: right;\n",
       "    }\n",
       "</style>\n",
       "<table border=\"1\" class=\"dataframe\">\n",
       "  <thead>\n",
       "    <tr style=\"text-align: right;\">\n",
       "      <th></th>\n",
       "      <th>avgNumOrders</th>\n",
       "      <th>avgRating</th>\n",
       "      <th>numCategories</th>\n",
       "      <th>avgDays_on_sale</th>\n",
       "    </tr>\n",
       "  </thead>\n",
       "  <tbody>\n",
       "    <tr>\n",
       "      <th>0</th>\n",
       "      <td>43.191628</td>\n",
       "      <td>4.262176</td>\n",
       "      <td>2392.0</td>\n",
       "      <td>142.727896</td>\n",
       "    </tr>\n",
       "    <tr>\n",
       "      <th>1</th>\n",
       "      <td>73778.250000</td>\n",
       "      <td>4.573132</td>\n",
       "      <td>4.0</td>\n",
       "      <td>709.500000</td>\n",
       "    </tr>\n",
       "    <tr>\n",
       "      <th>2</th>\n",
       "      <td>22071.000000</td>\n",
       "      <td>4.484099</td>\n",
       "      <td>7.0</td>\n",
       "      <td>729.857143</td>\n",
       "    </tr>\n",
       "    <tr>\n",
       "      <th>3</th>\n",
       "      <td>149868.000000</td>\n",
       "      <td>4.086957</td>\n",
       "      <td>1.0</td>\n",
       "      <td>748.000000</td>\n",
       "    </tr>\n",
       "    <tr>\n",
       "      <th>4</th>\n",
       "      <td>11121.000000</td>\n",
       "      <td>4.440616</td>\n",
       "      <td>18.0</td>\n",
       "      <td>796.500000</td>\n",
       "    </tr>\n",
       "    <tr>\n",
       "      <th>5</th>\n",
       "      <td>53948.500000</td>\n",
       "      <td>4.402592</td>\n",
       "      <td>2.0</td>\n",
       "      <td>717.500000</td>\n",
       "    </tr>\n",
       "    <tr>\n",
       "      <th>6</th>\n",
       "      <td>3447.193182</td>\n",
       "      <td>4.095943</td>\n",
       "      <td>88.0</td>\n",
       "      <td>827.147727</td>\n",
       "    </tr>\n",
       "    <tr>\n",
       "      <th>7</th>\n",
       "      <td>106106.000000</td>\n",
       "      <td>4.250674</td>\n",
       "      <td>1.0</td>\n",
       "      <td>363.000000</td>\n",
       "    </tr>\n",
       "    <tr>\n",
       "      <th>8</th>\n",
       "      <td>165.988991</td>\n",
       "      <td>4.291992</td>\n",
       "      <td>1043.0</td>\n",
       "      <td>1072.632110</td>\n",
       "    </tr>\n",
       "    <tr>\n",
       "      <th>9</th>\n",
       "      <td>37710.666667</td>\n",
       "      <td>4.376757</td>\n",
       "      <td>6.0</td>\n",
       "      <td>715.500000</td>\n",
       "    </tr>\n",
       "  </tbody>\n",
       "</table>\n",
       "</div>"
      ],
      "text/plain": [
       "    avgNumOrders  avgRating  numCategories  avgDays_on_sale\n",
       "0      43.191628   4.262176         2392.0       142.727896\n",
       "1   73778.250000   4.573132            4.0       709.500000\n",
       "2   22071.000000   4.484099            7.0       729.857143\n",
       "3  149868.000000   4.086957            1.0       748.000000\n",
       "4   11121.000000   4.440616           18.0       796.500000\n",
       "5   53948.500000   4.402592            2.0       717.500000\n",
       "6    3447.193182   4.095943           88.0       827.147727\n",
       "7  106106.000000   4.250674            1.0       363.000000\n",
       "8     165.988991   4.291992         1043.0      1072.632110\n",
       "9   37710.666667   4.376757            6.0       715.500000"
      ]
     },
     "execution_count": 26,
     "metadata": {},
     "output_type": "execute_result"
    }
   ],
   "source": [
    "#Stats by cluster\n",
    "df=pd.DataFrame(cProducts.results, columns=cProducts.columns )\n",
    "stats=clusterDist(df)\n",
    "stats"
   ]
  },
  {
   "cell_type": "code",
   "execution_count": 27,
   "metadata": {},
   "outputs": [
    {
     "data": {
      "image/png": "[encoded data removed]",
      "text/plain": [
       "<matplotlib.figure.Figure at 0x1133996a0>"
      ]
     },
     "execution_count": 27,
     "metadata": {},
     "output_type": "execute_result"
    }
   ],
   "source": [
    "#Get distribution of products per cluster\n",
    "dist=prodPerCluster(df)\n",
    "dist"
   ]
  },
  {
   "cell_type": "code",
   "execution_count": null,
   "metadata": {
    "collapsed": true
   },
   "outputs": [],
   "source": []
  }
 ],
 "metadata": {
  "kernelspec": {
   "display_name": "Python 3",
   "language": "python",
   "name": "python3"
  },
  "language_info": {
   "codemirror_mode": {
    "name": "ipython",
    "version": 3
   },
   "file_extension": ".py",
   "mimetype": "text/x-python",
   "name": "python",
   "nbconvert_exporter": "python",
   "pygments_lexer": "ipython3",
   "version": "3.6.0"
  }
 },
 "nbformat": 4,
 "nbformat_minor": 2
}
