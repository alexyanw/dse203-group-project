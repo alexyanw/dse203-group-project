{
 "cells": [
  {
   "cell_type": "markdown",
   "metadata": {},
   "source": [
    "### query single source postgres \n",
    "includes:\n",
    "* frontend parser example\n",
    "* single subquery with condition\n",
    "* negation\n",
    "* multi way joining\n",
    "* union\n",
    "* view"
   ]
  },
  {
   "cell_type": "code",
   "execution_count": 1,
   "metadata": {
    "collapsed": true
   },
   "outputs": [],
   "source": [
    "import sys\n",
    "import logging\n",
    "sys.path.append('../')\n",
    "from hybrid_engine import HybridEngine\n",
    "from datalog_parser_frontend import DatalogParserFE\n",
    "#qe = HybridEngine()\n",
    "qe = HybridEngine(\n",
    "                postgres= {'server': 'localhost', 'port': 5432, 'database': 'SQLBook', 'user': 'postgres', 'password': ''},\n",
    "                asterix= {'server': 'localhost', 'port': 19002, 'dataverse': 'TinySocial'},\n",
    "                solr= {'server': 'localhost', 'port': 8983, 'core': 'bookstore'})"
   ]
  },
  {
   "cell_type": "code",
   "execution_count": 2,
   "metadata": {},
   "outputs": [
    {
     "data": {
      "text/plain": [
       "[{'condition': ['orderid > 1000', ' numunits > 1'],\n",
       "  'result': 'myview(numunits,firstname,billdate,orderid,customerid)',\n",
       "  'table': ['postgres.orders(orderid, customerid, campaignId, orderDate, city, state, zipCode, paymentType, totalPrice, numOrderLines, _)',\n",
       "   'postgres.customers(customerid, householdId, gender, firstname)',\n",
       "   'postgres.orderlines(orderLineId, orderid, productid, shipDate, billdate, unitPrice, numunits, _)',\n",
       "   'postgres.products(productid, name, groupcode, groupname, isinstock, fullprice, asin, nodeid)']},\n",
       " {'condition': [],\n",
       "  'result': 'Ans(customerid,numunits,firstname)',\n",
       "  'table': ['view.myview(numunits,firstname,_,_,customerid)']}]"
      ]
     },
     "execution_count": 2,
     "metadata": {},
     "output_type": "execute_result"
    }
   ],
   "source": [
    "# front-end parser used to convert datalog string into a structure that's agreed  as I/F with schema integration\n",
    "datalog = '''\n",
    "myview(numunits, firstname, billdate, orderid, customerid) <-\n",
    "    postgres.orders(orderid, customerid, campaignId, orderDate, city, state, zipCode, paymentType, totalPrice, numOrderLines, _),\n",
    "    postgres.customers(customerid, householdId, gender, firstname),\n",
    "    postgres.orderlines(orderLineId, orderid, productid, shipDate, billdate, unitPrice, numunits, _),\n",
    "    postgres.products(productid, name, groupcode, groupname, isinstock, fullprice, asin, nodeid),\n",
    "    orderid > 1000, numunits > 1\n",
    "Ans(customerid,numunits,firstname) <-\n",
    "    view.myview(numunits,firstname,_,_,customerid)\n",
    "'''\n",
    "fe = DatalogParserFE()\n",
    "result = fe.parse(datalog)\n",
    "result"
   ]
  },
  {
   "cell_type": "code",
   "execution_count": 3,
   "metadata": {
    "scrolled": true
   },
   "outputs": [
    {
     "name": "stderr",
     "output_type": "stream",
     "text": [
      "<qe.HybridEngine> query datalog:\n",
      "[{'condition': ['fullprice > 100'],\n",
      "  'result': 'Ans(productid,fullprice)',\n",
      "  'table': ['postgres.products(productid, _, _, _, _, fullprice, _, _)']}]\n",
      "\n",
      "<qe.DatalogParser> parser structure:\n",
      "{'_result': 'Ans(productid,fullprice)',\n",
      " 'aggregation': {},\n",
      " 'column_to_table': {'_': {'postgres': 'products'},\n",
      "                     'fullprice': {'postgres': 'products'},\n",
      "                     'productid': {'postgres': 'products'}},\n",
      " 'conditions': ['fullprice > 100'],\n",
      " 'groupby': None,\n",
      " 'join_columns': {},\n",
      " 'join_path': {'MULTI_SOURCE': {}},\n",
      " 'limit': None,\n",
      " 'orderby': None,\n",
      " 'query_columns': {'MULTI_SOURCE': [{'alias': None,\n",
      "                                     'column': 'productid',\n",
      "                                     'func': None,\n",
      "                                     'table': 'products'},\n",
      "                                    {'alias': None,\n",
      "                                     'column': 'fullprice',\n",
      "                                     'func': None,\n",
      "                                     'table': 'products'}],\n",
      "                   'postgres': [{'alias': None,\n",
      "                                 'column': 'productid',\n",
      "                                 'func': None,\n",
      "                                 'table': 'products'},\n",
      "                                {'alias': None,\n",
      "                                 'column': 'fullprice',\n",
      "                                 'func': None,\n",
      "                                 'table': 'products'}]},\n",
      " 'return_columns': ['productid', 'fullprice'],\n",
      " 'return_table': 'Ans',\n",
      " 'source_tables': {'postgres': ['products']},\n",
      " 'table_column_idx': {'products': {'_': 7, 'fullprice': 5, 'productid': 0}},\n",
      " 'table_columns': {'products': ['productid',\n",
      "                                '_',\n",
      "                                '_',\n",
      "                                '_',\n",
      "                                '_',\n",
      "                                'fullprice',\n",
      "                                '_',\n",
      "                                '_']},\n",
      " 'table_conditions': {'postgres': {'products': [['fullprice', '>', '100']]}}}\n",
      "\n",
      "<qe.HybridEngine> arbiter submit query to postgres\n",
      "{'column_idx': {'products': {'_': 7, 'fullprice': 5, 'productid': 0}},\n",
      " 'columns': {'products': ['productid',\n",
      "                          '_',\n",
      "                          '_',\n",
      "                          '_',\n",
      "                          '_',\n",
      "                          'fullprice',\n",
      "                          '_',\n",
      "                          '_']},\n",
      " 'conditions': {'products': [['fullprice', '>', '100']]},\n",
      " 'groupby': None,\n",
      " 'join': None,\n",
      " 'limit': None,\n",
      " 'orderby': None,\n",
      " 'return': [{'alias': None,\n",
      "             'column': 'productid',\n",
      "             'func': None,\n",
      "             'table': 'products'},\n",
      "            {'alias': None,\n",
      "             'column': 'fullprice',\n",
      "             'func': None,\n",
      "             'table': 'products'}],\n",
      " 'tables': ['products'],\n",
      " 'view': None}\n",
      "\n",
      "<qe.PostgresEngine> query sql cmd:\n",
      "SELECT products.productid, products.fullprice\n",
      "FROM products\n",
      "WHERE products.fullprice > '100'\n",
      "\n",
      "<qe.PostgresEngine> query sample result:\n",
      "   productid fullprice\n",
      "0      10012   $195.00\n",
      "1      10013   $195.00\n",
      "2      10014   $175.00\n",
      "3      10015   $195.00\n",
      "4      10016   $195.00\n",
      "(3205, 2)\n",
      "<qe.Combiner> combining result for single subquery\n"
     ]
    },
    {
     "name": "stdout",
     "output_type": "stream",
     "text": [
      "   productid fullprice\n",
      "0      10012   $195.00\n",
      "1      10013   $195.00\n",
      "2      10014   $175.00\n",
      "3      10015   $195.00\n",
      "4      10016   $195.00\n"
     ]
    },
    {
     "data": {
      "text/plain": [
       "(3205, 2)"
      ]
     },
     "execution_count": 3,
     "metadata": {},
     "output_type": "execute_result"
    }
   ],
   "source": [
    "# single subquery with condition\n",
    "datalog = '''\n",
    "Ans(productid, fullprice) <- postgres.products(productid, _, _, _, _, fullprice, _, _)\n",
    "                             fullprice > 100\n",
    "'''\n",
    "result = qe.queryDatalogRaw(datalog, loglevel=logging.DEBUG)\n",
    "print(result[:5])\n",
    "result.shape"
   ]
  },
  {
   "cell_type": "code",
   "execution_count": 12,
   "metadata": {},
   "outputs": [
    {
     "name": "stderr",
     "output_type": "stream",
     "text": [
      "<qe.HybridEngine> query datalog:\n",
      "[{'condition': [],\n",
      "  'result': 'Ans(cid,oid,value)',\n",
      "  'table': ['postgres.orders(oid, cid, _, _, _, _, _, _, value, _, _)',\n",
      "            'postgres.customers(cid, _, gender, firstname)']}]\n",
      "\n",
      "<qe.PostgresEngine> query sql cmd:\n",
      "SELECT customers.customerid as cid, orders.orderid as oid, orders.totalprice as value\n",
      "FROM orders, customers\n",
      "WHERE orders.customerid=customers.customerid\n",
      "\n",
      "<qe.Combiner> combining result for single subquery\n"
     ]
    },
    {
     "name": "stdout",
     "output_type": "stream",
     "text": [
      "      cid      oid   value\n",
      "0  130980  1002857  $10.00\n",
      "1   21927  1003046  $17.50\n",
      "2  130971  1003075  $59.80\n",
      "3    7117  1003076  $22.50\n",
      "4  103152  1003494  $36.00\n"
     ]
    },
    {
     "data": {
      "text/plain": [
       "(189559, 3)"
      ]
     },
     "execution_count": 12,
     "metadata": {},
     "output_type": "execute_result"
    }
   ],
   "source": [
    "# negation\n",
    "# variable name doesn't need to be same with real column name\n",
    "datalog = '''\n",
    "Ans(cid, oid, value) <-\n",
    "  postgres.orders(oid, cid, _, _, _, _, _, _, value, _, _),\n",
    "  postgres.customers(cid, _, gender, firstname),\n",
    "  not postgres.customers(cid, _, _, 'DANIEL'),\n",
    "'''\n",
    "result = qe.queryDatalogRaw(datalog, loglevel=logging.INFO)\n",
    "print(result[:5])\n",
    "result.shape"
   ]
  },
  {
   "cell_type": "code",
   "execution_count": 5,
   "metadata": {},
   "outputs": [
    {
     "name": "stderr",
     "output_type": "stream",
     "text": [
      "<qe.HybridEngine> query datalog:\n",
      "[{'condition': ['oid > 1000', ' numunits > 1'],\n",
      "  'orderby': 'numunits DESC',\n",
      "  'result': 'Ans(customerid,productid,numunits,billdate)',\n",
      "  'table': ['postgres.orders(oid, customerid, campaignId, orderDate, city, '\n",
      "            'state, zipCode, paymentType, totalPrice, numOrderLines, numUnits)',\n",
      "            'postgres.customers(customerid, householdId, gender, firstname)',\n",
      "            'postgres.orderlines(orderLineId, oid, productid, shipDate, '\n",
      "            'billdate, unitPrice, numunits, totalPrice)']}]\n",
      "\n",
      "<qe.PostgresEngine> query sql cmd:\n",
      "SELECT customers.customerid, orderlines.productid, orderlines.numunits, orderlines.billdate\n",
      "FROM orders, customers, orderlines\n",
      "WHERE orders.orderid=orderlines.orderid AND orders.customerid=customers.customerid AND orders.totalprice=orderlines.totalprice AND orderlines.numunits > '1'\n",
      "ORDER BY numunits DESC \n",
      "\n",
      "<qe.Combiner> combining result for single subquery\n"
     ]
    },
    {
     "name": "stdout",
     "output_type": "stream",
     "text": [
      "   customerid  productid  numunits    billdate\n",
      "0      101779      11176      3000  2011-01-18\n",
      "1      126295      13998      2735  2016-08-10\n",
      "2       84909      10955      1500  2011-08-22\n",
      "3      126295      13201      1500  2016-08-10\n",
      "4      126329      13471      1419  2016-07-27\n"
     ]
    },
    {
     "data": {
      "text/plain": [
       "(14207, 4)"
      ]
     },
     "execution_count": 5,
     "metadata": {},
     "output_type": "execute_result"
    }
   ],
   "source": [
    "# 3 way joining, condition and order\n",
    "datalog = '''\n",
    "Ans(customerid, productid, numunits, billdate) <- \n",
    "postgres.orders(oid, customerid, campaignId, orderDate, city, state, zipCode, paymentType, totalPrice, numOrderLines, numUnits),\n",
    "postgres.customers(customerid, householdId, gender, firstname),\n",
    "postgres.orderlines(orderLineId, oid, productid, shipDate, billdate, unitPrice, numunits, totalPrice),\n",
    "oid > 1000, numunits > 1,\n",
    "orderby numunits DESC\n",
    "'''\n",
    "result = qe.queryDatalogRaw(datalog, loglevel=logging.INFO)\n",
    "print(result[:5])\n",
    "result.shape"
   ]
  },
  {
   "cell_type": "code",
   "execution_count": 6,
   "metadata": {},
   "outputs": [
    {
     "name": "stdout",
     "output_type": "stream",
     "text": [
      "     pid  spring  summer   fall  winter\n",
      "0  10501   50.00    50.0   0.00    0.00\n",
      "1  10295   52.00    24.0   8.00   16.00\n",
      "2  11523   50.00     0.0  50.00    0.00\n",
      "3  11534   60.00     0.0   0.00   40.00\n",
      "4  12831   11.38    12.2  35.77   40.65\n"
     ]
    },
    {
     "data": {
      "text/plain": [
       "(3990, 5)"
      ]
     },
     "execution_count": 6,
     "metadata": {},
     "output_type": "execute_result"
    }
   ],
   "source": [
    "# predefined view: seasonal_percentages\n",
    "datalog = '''\n",
    "ans(pid, spring, summer, fall, winter) <- postgres.seasonal_percentages(pid, spring, summer, fall, winter)\n",
    "'''\n",
    "result = qe.queryDatalogRaw(datalog, loglevel=logging.WARNING)\n",
    "print(result[:5])\n",
    "result.shape"
   ]
  },
  {
   "cell_type": "code",
   "execution_count": 7,
   "metadata": {},
   "outputs": [
    {
     "name": "stderr",
     "output_type": "stream",
     "text": [
      "<qe.HybridEngine> query datalog:\n",
      "[{'condition': [],\n",
      "  'result': 'Ans(product_a,product_b,pair_count)',\n",
      "  'table': ['postgres.cooccurrence_matrix(product_a, product_b, pair_count)']}]\n",
      "\n",
      "<qe.PostgresEngine> query sql cmd:\n",
      "WITH customer_product as (\n",
      "SELECT c.customerid, pr.productid, 1 as likes, c.gender as gender, o.orderdate, o.state as orderstate, o.zipcode as zipcode\n",
      "FROM customers c, orders o, orderlines ol, products pr\n",
      "WHERE o.customerid = c.customerid and ol.orderid = o.orderid and pr.productid = ol.productid\n",
      "),\n",
      "cooccurrence_matrix as (\n",
      "SELECT cp1.productid as product_a, cp2.productid as product_b, count(cp1.customerid) as paircount\n",
      "FROM customer_product cp1, customer_product cp2\n",
      "WHERE cp1.customerid = cp2.customerid AND cp1.productid < cp2.productid\n",
      "GROUP BY cp1.productid, cp2.productid\n",
      "ORDER BY COUNT(cp1.customerid)  DESC\n",
      ")\n",
      "SELECT cooccurrence_matrix.product_a, cooccurrence_matrix.product_b, cooccurrence_matrix.paircount as pair_count\n",
      "FROM cooccurrence_matrix\n",
      "\n",
      "<qe.Combiner> combining result for single subquery\n"
     ]
    },
    {
     "name": "stdout",
     "output_type": "stream",
     "text": [
      "   product_a  product_b  pair_count\n",
      "0      12820      13190        2582\n",
      "1      11048      11196        1852\n",
      "2      12819      12820        1846\n",
      "3      10956      12139        1484\n",
      "4      12139      12820        1323\n"
     ]
    },
    {
     "data": {
      "text/plain": [
       "(56462, 3)"
      ]
     },
     "execution_count": 7,
     "metadata": {},
     "output_type": "execute_result"
    }
   ],
   "source": [
    "# builtin view cooccurrence_matrix\n",
    "datalog = '''\n",
    "Ans(product_a, product_b, pair_count) <- postgres.cooccurrence_matrix(product_a, product_b, pair_count)\n",
    "'''\n",
    "result = qe.queryDatalogRaw(datalog, loglevel=logging.INFO)\n",
    "print(result[:5])\n",
    "result.shape"
   ]
  },
  {
   "cell_type": "code",
   "execution_count": 8,
   "metadata": {},
   "outputs": [
    {
     "name": "stderr",
     "output_type": "stream",
     "text": [
      "<qe.HybridEngine> query datalog:\n",
      "[{'condition': [],\n",
      "  'result': 'cust_prod_view(cid,pid,nunits)',\n",
      "  'table': ['postgres.orders(oid, cid, _, _, _, _, _, _, _, _, _)',\n",
      "            'postgres.orderlines(olid, oid, pid, _, date, _, nunits, price)',\n",
      "            'postgres.products(pid, _, _, _, _, _, asin, nodeid)',\n",
      "            'postgres.customers(cid, _, _, _)']},\n",
      " {'condition': ['nunits > 1'],\n",
      "  'orderby': 'nunits DESC',\n",
      "  'result': 'ans(cid,pid,nunits)',\n",
      "  'table': ['view.cust_prod_view(cid, pid, nunits)']}]\n",
      "\n",
      "<qe.PostgresEngine> query sql cmd:\n",
      "WITH cust_prod_view as (SELECT customers.customerid as cid, products.productid as pid, orderlines.numunits as nunits\n",
      "FROM orders, orderlines, products, customers\n",
      "WHERE products.productid=orderlines.productid AND orders.orderid=orderlines.orderid AND orders.customerid=customers.customerid)\n",
      "SELECT cust_prod_view.cid, cust_prod_view.pid, cust_prod_view.nunits\n",
      "FROM cust_prod_view\n",
      "WHERE cust_prod_view.nunits > '1'\n",
      "ORDER BY nunits DESC \n",
      "\n",
      "<qe.Combiner> combining result for single subquery\n"
     ]
    },
    {
     "name": "stdout",
     "output_type": "stream",
     "text": [
      "      cid    pid  nunits\n",
      "0  101779  11176    3000\n",
      "1  126295  13998    2735\n",
      "2  126295  13201    1500\n",
      "3   84909  10955    1500\n",
      "4  126329  13471    1419\n"
     ]
    },
    {
     "data": {
      "text/plain": [
       "(19558, 3)"
      ]
     },
     "execution_count": 8,
     "metadata": {},
     "output_type": "execute_result"
    }
   ],
   "source": [
    "# view by datalog\n",
    "datalog = '''\n",
    "cust_prod_view(cid, pid, nunits) <- \n",
    "  postgres.orders(oid, cid, _, _, _, _, _, _, _, _, _),\n",
    "  postgres.orderlines(olid, oid, pid, _, date, _, nunits, price),\n",
    "  postgres.products(pid, _, _, _, _, _, asin, nodeid),\n",
    "  postgres.customers(cid, _, _, _)\n",
    "ans(cid, pid, nunits) <- view.cust_prod_view(cid, pid, nunits), nunits > 1, orderby nunits DESC\n",
    "'''\n",
    "result = qe.queryDatalogRaw(datalog, loglevel=logging.INFO)\n",
    "print(result[:5])\n",
    "result.shape"
   ]
  },
  {
   "cell_type": "code",
   "execution_count": 9,
   "metadata": {
    "scrolled": false
   },
   "outputs": [
    {
     "name": "stderr",
     "output_type": "stream",
     "text": [
      "<qe.HybridEngine> query datalog:\n",
      "[{'condition': [\"date > '2015-01-01'\"],\n",
      "  'result': 'view1(olid,oid,nunits)',\n",
      "  'table': ['postgres.products(pid, _, _, _, _, _, asin, nodeid)',\n",
      "            'postgres.orderlines(olid, oid, pid, _, date, _, nunits, price)']},\n",
      " {'condition': [],\n",
      "  'result': 'view2(state,cid,nunits)',\n",
      "  'table': ['view.view1(olid, oid, nunits)',\n",
      "            'postgres.orders(oid, cid, _, _, _, state, _, _, _, _, _)']},\n",
      " {'condition': [],\n",
      "  'groupby': {'aggregation': ['sum(nunits,total_units)'],\n",
      "              'key': 'state,gender'},\n",
      "  'result': 'Ans(state,gender,total_units)',\n",
      "  'table': ['view.view2(state, cid, nunits)',\n",
      "            'postgres.customers(cid, _, gender, _)']}]\n",
      "\n",
      "<qe.PostgresEngine> query sql cmd:\n",
      "WITH view1 as (SELECT orderlines.orderlineid as olid, orderlines.orderid as oid, orderlines.numunits as nunits\n",
      "FROM products, orderlines\n",
      "WHERE products.productid=orderlines.productid AND orderlines.billdate > '2015-01-01'),\n",
      "view2 as (SELECT orders.state, orders.customerid as cid, view1.nunits\n",
      "FROM view1, orders\n",
      "WHERE view1.oid=orders.orderid)\n",
      "SELECT view2.state, customers.gender, sum(view2.nunits) as total_units\n",
      "FROM view2, customers\n",
      "WHERE view2.cid=customers.customerid\n",
      "GROUP BY state,gender \n",
      "\n",
      "<qe.Combiner> combining result for single subquery\n"
     ]
    },
    {
     "name": "stdout",
     "output_type": "stream",
     "text": [
      "  state gender  total_units\n",
      "0    ND      M            9\n",
      "1    AP                  10\n",
      "2    WA      M          756\n",
      "3    RI                  34\n",
      "4    CT      M         1748\n"
     ]
    },
    {
     "data": {
      "text/plain": [
       "(171, 3)"
      ]
     },
     "execution_count": 9,
     "metadata": {},
     "output_type": "execute_result"
    }
   ],
   "source": [
    "# view chain\n",
    "# aggregation with group by 2 columns (state, gender)\n",
    "datalog = '''\n",
    "view1(olid, oid, nunits) <- \n",
    "  postgres.products(pid, _, _, _, _, _, asin, nodeid),\n",
    "  postgres.orderlines(olid, oid, pid, _, date, _, nunits, price),\n",
    "  date > '2015-01-01'\n",
    "view2(state, cid, nunits) <- \n",
    "  view.view1(olid, oid, nunits),\n",
    "  postgres.orders(oid, cid, _, _, _, state, _, _, _, _, _),\n",
    "view3(state, gender, nunits) <-   \n",
    "  view.view2(state, cid, nunits), \n",
    "  postgres.customers(cid, _, gender, _),\n",
    "Ans(state, gender, total_units) <-\n",
    "  setof({nunits}, view3(state, gender, nunits), S), sum(nunits, total_units)\n",
    "'''\n",
    "result = qe.queryDatalogRaw(datalog, loglevel=logging.INFO)\n",
    "print(result[:5])\n",
    "result.shape"
   ]
  },
  {
   "cell_type": "code",
   "execution_count": 10,
   "metadata": {},
   "outputs": [
    {
     "name": "stderr",
     "output_type": "stream",
     "text": [
      "<qe.HybridEngine> query datalog:\n",
      "[{'condition': ['nunits > 1'],\n",
      "  'groupby': {'aggregation': ['count(oid,total_order)'], 'key': 'pid'},\n",
      "  'result': 'ans(pid)',\n",
      "  'table': ['postgres.orders(oid, cid, _, _, _, _, _, _, _, _, _)',\n",
      "            'postgres.orderlines(olid, oid, pid, _, date, _, nunits, price)',\n",
      "            'postgres.products(pid, _, _, _, _, _, asin, nodeid)',\n",
      "            'postgres.customers(cid, _, _, _)']}]\n",
      "\n",
      "<qe.PostgresEngine> query sql cmd:\n",
      "SELECT products.productid as pid\n",
      "FROM orders, orderlines, products, customers\n",
      "WHERE products.productid=orderlines.productid AND orders.orderid=orderlines.orderid AND orders.customerid=customers.customerid AND orderlines.numunits > '1'\n",
      "GROUP BY products.productid \n",
      "\n",
      "<qe.Combiner> combining result for single subquery\n"
     ]
    },
    {
     "name": "stdout",
     "output_type": "stream",
     "text": [
      "     pid\n",
      "0  12831\n",
      "1  13147\n",
      "2  13331\n",
      "3  11082\n",
      "4  11159\n"
     ]
    },
    {
     "data": {
      "text/plain": [
       "(804, 1)"
      ]
     },
     "execution_count": 10,
     "metadata": {},
     "output_type": "execute_result"
    }
   ],
   "source": [
    "# groupby without aggregation: distinct\n",
    "datalog = '''\n",
    "cust_prod_view(cid, pid, oid, price) <-\n",
    "  postgres.orders(oid, cid, _, _, _, _, _, _, _, _, _),\n",
    "  postgres.orderlines(olid, oid, pid, _, date, _, nunits, price),\n",
    "  postgres.products(pid, _, _, _, _, _, asin, nodeid),\n",
    "  postgres.customers(cid, _, _, _),\n",
    "  nunits > 1\n",
    "ans(pid) <-\n",
    "  setof({cid}, {oid}, {price}, cust_prod_view(cid, pid, oid, price), S), count(oid, total_order)\n",
    "'''\n",
    "result = qe.queryDatalogRaw(datalog, loglevel=logging.INFO)\n",
    "print(result[:5])\n",
    "result.shape"
   ]
  },
  {
   "cell_type": "code",
   "execution_count": 11,
   "metadata": {
    "scrolled": false
   },
   "outputs": [
    {
     "name": "stderr",
     "output_type": "stream",
     "text": [
      "<qe.HybridEngine> query datalog:\n",
      "[{'condition': ['nunits > 1'],\n",
      "  'groupby': {'aggregation': ['count(oid,total_order)',\n",
      "                              'sum(price,total_value)'],\n",
      "              'key': 'pid'},\n",
      "  'result': 'ans(pid,total_order,total_value)',\n",
      "  'table': ['postgres.orders(oid, cid, _, _, _, _, _, _, _, _, _)',\n",
      "            'postgres.orderlines(olid, oid, pid, _, date, _, nunits, price)',\n",
      "            'postgres.products(pid, _, _, _, _, _, asin, nodeid)',\n",
      "            'postgres.customers(cid, _, _, _)']}]\n",
      "\n",
      "<qe.PostgresEngine> query sql cmd:\n",
      "SELECT products.productid as pid, count(orderlines.orderid) as total_order, sum(orderlines.totalprice) as total_value\n",
      "FROM orders, orderlines, products, customers\n",
      "WHERE products.productid=orderlines.productid AND orders.orderid=orderlines.orderid AND orders.customerid=customers.customerid AND orderlines.numunits > '1'\n",
      "GROUP BY products.productid \n",
      "\n",
      "<qe.Combiner> combining result for single subquery\n"
     ]
    },
    {
     "name": "stdout",
     "output_type": "stream",
     "text": [
      "     pid  total_order total_value\n",
      "0  12831            5     $256.85\n",
      "1  13147            2      $29.98\n",
      "2  13331            1       $0.00\n",
      "3  11082            4     $125.43\n",
      "4  11159           19     $361.54\n"
     ]
    },
    {
     "data": {
      "text/plain": [
       "(804, 3)"
      ]
     },
     "execution_count": 11,
     "metadata": {},
     "output_type": "execute_result"
    }
   ],
   "source": [
    "# groupby and aggregation on 2 columns\n",
    "datalog = '''\n",
    "cust_prod_view(cid, pid, oid, price) <-\n",
    "  postgres.orders(oid, cid, _, _, _, _, _, _, _, _, _),\n",
    "  postgres.orderlines(olid, oid, pid, _, date, _, nunits, price),\n",
    "  postgres.products(pid, _, _, _, _, _, asin, nodeid),\n",
    "  postgres.customers(cid, _, _, _),\n",
    "  nunits > 1\n",
    "ans(pid, total_order, total_value) <-\n",
    "  setof({cid}, {oid}, {price}, cust_prod_view(cid, pid, oid, price), S), count(oid, total_order), sum(price, total_value)\n",
    "'''\n",
    "\n",
    "#DatalogParserFE().parse(datalog)\n",
    "result = qe.queryDatalogRaw(datalog, loglevel=logging.INFO)\n",
    "print(result[:5])\n",
    "result.shape"
   ]
  },
  {
   "cell_type": "code",
   "execution_count": null,
   "metadata": {
    "collapsed": true
   },
   "outputs": [],
   "source": []
  }
 ],
 "metadata": {
  "kernelspec": {
   "display_name": "Python 3",
   "language": "python",
   "name": "python3"
  },
  "language_info": {
   "codemirror_mode": {
    "name": "ipython",
    "version": 3
   },
   "file_extension": ".py",
   "mimetype": "text/x-python",
   "name": "python",
   "nbconvert_exporter": "python",
   "pygments_lexer": "ipython3",
   "version": "3.5.0"
  }
 },
 "nbformat": 4,
 "nbformat_minor": 2
}
