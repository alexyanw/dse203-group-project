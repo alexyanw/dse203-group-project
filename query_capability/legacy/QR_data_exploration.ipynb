{
 "cells": [
  {
   "cell_type": "code",
   "execution_count": 1,
   "metadata": {
    "collapsed": true
   },
   "outputs": [],
   "source": [
    "import pandas as pd\n",
    "import sys\n",
    "from sqlalchemy import create_engine\n",
    "import matplotlib.pyplot as plt\n",
    "import numpy as np\n",
    "\n",
    "ServerName = \"localhost\"\n",
    "Database = \"SQLBook\"\n",
    "\n",
    "# Create the connection\n",
    "engine = create_engine('postgresql://postgres:@' + ServerName + ':5432/' + Database)"
   ]
  },
  {
   "cell_type": "code",
   "execution_count": 2,
   "metadata": {
    "collapsed": true
   },
   "outputs": [],
   "source": [
    "# repeatable random sampling\n",
    "sql = '''\n",
    "SELECT setseed(0.5);\n",
    "SELECT *\n",
    "FROM customers c \n",
    "-- (1) For every row, a random number between 0 and 1 is generated. If this number is less than 0.1, it is selected. Otherwise, it is not.\n",
    "WHERE random() < 0.1\n",
    "'''\n",
    "\n",
    "df = pd.read_sql_query(sql, engine)\n"
   ]
  },
  {
   "cell_type": "code",
   "execution_count": 3,
   "metadata": {},
   "outputs": [
    {
     "data": {
      "text/html": [
       "<div>\n",
       "<style>\n",
       "    .dataframe thead tr:only-child th {\n",
       "        text-align: right;\n",
       "    }\n",
       "\n",
       "    .dataframe thead th {\n",
       "        text-align: left;\n",
       "    }\n",
       "\n",
       "    .dataframe tbody tr th {\n",
       "        vertical-align: top;\n",
       "    }\n",
       "</style>\n",
       "<table border=\"1\" class=\"dataframe\">\n",
       "  <thead>\n",
       "    <tr style=\"text-align: right;\">\n",
       "      <th></th>\n",
       "      <th>customerid</th>\n",
       "      <th>householdid</th>\n",
       "      <th>gender</th>\n",
       "      <th>firstname</th>\n",
       "    </tr>\n",
       "  </thead>\n",
       "  <tbody>\n",
       "    <tr>\n",
       "      <th>0</th>\n",
       "      <td>138942</td>\n",
       "      <td>36422407</td>\n",
       "      <td>M</td>\n",
       "      <td>RICHARD</td>\n",
       "    </tr>\n",
       "    <tr>\n",
       "      <th>1</th>\n",
       "      <td>16268</td>\n",
       "      <td>19767590</td>\n",
       "      <td>M</td>\n",
       "      <td>JOHN</td>\n",
       "    </tr>\n",
       "    <tr>\n",
       "      <th>2</th>\n",
       "      <td>174623</td>\n",
       "      <td>53956468</td>\n",
       "      <td>F</td>\n",
       "      <td>JEANNETTE</td>\n",
       "    </tr>\n",
       "    <tr>\n",
       "      <th>3</th>\n",
       "      <td>147596</td>\n",
       "      <td>24613744</td>\n",
       "      <td>M</td>\n",
       "      <td>JACQUES</td>\n",
       "    </tr>\n",
       "    <tr>\n",
       "      <th>4</th>\n",
       "      <td>174812</td>\n",
       "      <td>53978877</td>\n",
       "      <td>F</td>\n",
       "      <td>JEAN-PAUL</td>\n",
       "    </tr>\n",
       "  </tbody>\n",
       "</table>\n",
       "</div>"
      ],
      "text/plain": [
       "   customerid  householdid gender  firstname\n",
       "0      138942     36422407      M    RICHARD\n",
       "1       16268     19767590      M       JOHN\n",
       "2      174623     53956468      F  JEANNETTE\n",
       "3      147596     24613744      M    JACQUES\n",
       "4      174812     53978877      F  JEAN-PAUL"
      ]
     },
     "execution_count": 3,
     "metadata": {},
     "output_type": "execute_result"
    }
   ],
   "source": [
    "df[:5]"
   ]
  },
  {
   "cell_type": "code",
   "execution_count": 17,
   "metadata": {},
   "outputs": [
    {
     "data": {
      "text/html": [
       "<div>\n",
       "<style>\n",
       "    .dataframe thead tr:only-child th {\n",
       "        text-align: right;\n",
       "    }\n",
       "\n",
       "    .dataframe thead th {\n",
       "        text-align: left;\n",
       "    }\n",
       "\n",
       "    .dataframe tbody tr th {\n",
       "        vertical-align: top;\n",
       "    }\n",
       "</style>\n",
       "<table border=\"1\" class=\"dataframe\">\n",
       "  <thead>\n",
       "    <tr style=\"text-align: right;\">\n",
       "      <th></th>\n",
       "      <th>customerid</th>\n",
       "      <th>householdid</th>\n",
       "      <th>gender</th>\n",
       "      <th>firstname</th>\n",
       "    </tr>\n",
       "  </thead>\n",
       "  <tbody>\n",
       "    <tr>\n",
       "      <th>0</th>\n",
       "      <td>86099</td>\n",
       "      <td>18971646</td>\n",
       "      <td>F</td>\n",
       "      <td>KAREN</td>\n",
       "    </tr>\n",
       "    <tr>\n",
       "      <th>1</th>\n",
       "      <td>12542</td>\n",
       "      <td>19392952</td>\n",
       "      <td>M</td>\n",
       "      <td>PETER</td>\n",
       "    </tr>\n",
       "    <tr>\n",
       "      <th>2</th>\n",
       "      <td>534</td>\n",
       "      <td>19124064</td>\n",
       "      <td></td>\n",
       "      <td>T.</td>\n",
       "    </tr>\n",
       "    <tr>\n",
       "      <th>3</th>\n",
       "      <td>81287</td>\n",
       "      <td>36182513</td>\n",
       "      <td>F</td>\n",
       "      <td>EVE</td>\n",
       "    </tr>\n",
       "    <tr>\n",
       "      <th>4</th>\n",
       "      <td>23177</td>\n",
       "      <td>18836805</td>\n",
       "      <td>M</td>\n",
       "      <td>GARY</td>\n",
       "    </tr>\n",
       "  </tbody>\n",
       "</table>\n",
       "</div>"
      ],
      "text/plain": [
       "   customerid  householdid gender firstname\n",
       "0       86099     18971646      F     KAREN\n",
       "1       12542     19392952      M     PETER\n",
       "2         534     19124064               T.\n",
       "3       81287     36182513      F       EVE\n",
       "4       23177     18836805      M      GARY"
      ]
     },
     "execution_count": 17,
     "metadata": {},
     "output_type": "execute_result"
    }
   ],
   "source": [
    "# tablesample system\n",
    "sql = '''\n",
    "SELECT * \n",
    "FROM customers \n",
    "TABLESAMPLE SYSTEM_ROWS(1000)\n",
    "'''\n",
    "\n",
    "df = pd.read_sql_query(sql, engine)\n",
    "df[:5]"
   ]
  },
  {
   "cell_type": "code",
   "execution_count": 18,
   "metadata": {},
   "outputs": [
    {
     "data": {
      "text/html": [
       "<div>\n",
       "<style>\n",
       "    .dataframe thead tr:only-child th {\n",
       "        text-align: right;\n",
       "    }\n",
       "\n",
       "    .dataframe thead th {\n",
       "        text-align: left;\n",
       "    }\n",
       "\n",
       "    .dataframe tbody tr th {\n",
       "        vertical-align: top;\n",
       "    }\n",
       "</style>\n",
       "<table border=\"1\" class=\"dataframe\">\n",
       "  <thead>\n",
       "    <tr style=\"text-align: right;\">\n",
       "      <th></th>\n",
       "      <th>percent_f</th>\n",
       "      <th>percent_m</th>\n",
       "      <th>total_count</th>\n",
       "    </tr>\n",
       "  </thead>\n",
       "  <tbody>\n",
       "    <tr>\n",
       "      <th>0</th>\n",
       "      <td>50</td>\n",
       "      <td>50</td>\n",
       "      <td>1000</td>\n",
       "    </tr>\n",
       "  </tbody>\n",
       "</table>\n",
       "</div>"
      ],
      "text/plain": [
       "   percent_f  percent_m  total_count\n",
       "0         50         50         1000"
      ]
     },
     "execution_count": 18,
     "metadata": {},
     "output_type": "execute_result"
    }
   ],
   "source": [
    "# balanced sampleing\n",
    "sql = '''\n",
    "WITH cust AS (\n",
    "    SELECT c.*,\n",
    "        -- Assign the same row number for all rows with the same value of isF\n",
    "        ROW_NUMBER() OVER (PARTITION BY isF) AS seqnum\n",
    "    FROM (SELECT c.*,\n",
    "        (CASE WHEN c.gender = 'F' THEN 1 ELSE 0 END) AS isF\n",
    "         FROM customers c\n",
    "         WHERE c.gender <> ''\n",
    "         ) c\n",
    "    )\n",
    "SELECT \n",
    "    SUM(CASE WHEN cust.isF = 1 THEN 1 ELSE 0 END) * 100 / COUNT(*) AS percent_f,\n",
    "    SUM(CASE WHEN cust.isF = 0 THEN 1 ELSE 0 END) * 100 / COUNT(*) AS percent_m,\n",
    "    COUNT(*) AS total_count\n",
    "FROM cust\n",
    "WHERE seqnum <= 500\n",
    "\n",
    "'''\n",
    "df = pd.read_sql_query(sql, engine)\n",
    "df[:5]"
   ]
  },
  {
   "cell_type": "code",
   "execution_count": null,
   "metadata": {
    "collapsed": true,
    "scrolled": true
   },
   "outputs": [],
   "source": [
    "# stratified sampling - not working in notebook\n",
    "sql = '''\n",
    "WITH cust AS (\n",
    "        SELECT c.*, ROW_NUMBER() OVER (ORDER BY c.gender) AS rownum\n",
    "    FROM customers c\n",
    "    )\n",
    "SELECT \n",
    "SUM(CASE WHEN cust.gender = 'F' THEN 1 ELSE 0 END) * 100 / COUNT(*) AS percent_f,\n",
    "SUM(CASE WHEN cust.gender = 'M' THEN 1 ELSE 0 END) * 100 / COUNT(*) AS percent_m,\n",
    "COUNT(*) AS total_count\n",
    "FROM cust\n",
    "WHERE cust.rownum  % 100 = 1\n",
    "\n",
    "'''\n",
    "df = pd.read_sql_query(sql, engine)\n",
    "df[:5]"
   ]
  },
  {
   "cell_type": "markdown",
   "metadata": {},
   "source": [
    "### histogram"
   ]
  },
  {
   "cell_type": "code",
   "execution_count": 4,
   "metadata": {
    "collapsed": true
   },
   "outputs": [],
   "source": [
    "def plot_histogram(df, index_column, hist_column, title=None):\n",
    "    if not title: title = \"histgram \" + hist_column\n",
    "    df_indexed = df.set_index(index_column)\n",
    "    ax = df_indexed[hist_column].plot(kind='bar', title = title, figsize=(15, 8), legend=True, fontsize=12, secondary_y=True)\n",
    "    ax.set_xlabel(index_column, fontsize=12)\n",
    "    ax.set_ylabel(hist_column, fontsize=12)\n",
    "    plt.show()\n",
    "\n",
    "def plot_histogram_group(df, index_column, hist_columns):\n",
    "    fig, ax = plt.subplots(len(hist_columns), 1, figsize=(15,10))\n",
    "    df_indexed = df.set_index(index_column)\n",
    "    for i,col in enumerate(hist_columns):\n",
    "        df_indexed[col].plot(ax=ax[i], kind='bar', title =\"histgram \" + col, legend=True, fontsize=12)\n",
    "        ax[i].set_xlabel(index_column, fontsize=12)\n",
    "        ax[i].set_ylabel(col, fontsize=12)\n",
    "    plt.show()\n",
    "\n",
    "def plot_histogram_group_scaled(df, index_column, hist_columns, title=None):\n",
    "    plt.figure(figsize=(15, 6))\n",
    "    fig, ax = plt.subplots()\n",
    "    df_scaled = df.set_index(index_column)\n",
    "    legends = hist_columns.copy()\n",
    "    for i,col in enumerate(hist_columns):\n",
    "        legends[i] += ' - max:' + str(df_scaled[col].max())\n",
    "        df_scaled[col] /= float(df_scaled[col].max())\n",
    "        \n",
    "    df_scaled[hist_columns].plot.bar(figsize=(10,6), title=title, ax=ax)\n",
    "    ax.legend(legends);\n",
    "    plt.show()\n",
    "    \n",
    "def plot_curve(df, x_col, y_col):\n",
    "    plt.figure(figsize=(10, 6))\n",
    "    plt.plot(df[x_col], df[y_col])\n",
    "    plt.xlabel(x_col)\n",
    "    plt.ylabel(y_col)\n",
    "    plt.show()"
   ]
  },
  {
   "cell_type": "code",
   "execution_count": 5,
   "metadata": {},
   "outputs": [
    {
     "data": {
      "text/html": [
       "<div>\n",
       "<style>\n",
       "    .dataframe thead tr:only-child th {\n",
       "        text-align: right;\n",
       "    }\n",
       "\n",
       "    .dataframe thead th {\n",
       "        text-align: left;\n",
       "    }\n",
       "\n",
       "    .dataframe tbody tr th {\n",
       "        vertical-align: top;\n",
       "    }\n",
       "</style>\n",
       "<table border=\"1\" class=\"dataframe\">\n",
       "  <thead>\n",
       "    <tr style=\"text-align: right;\">\n",
       "      <th></th>\n",
       "      <th>state</th>\n",
       "      <th>numorders</th>\n",
       "      <th>pop</th>\n",
       "    </tr>\n",
       "  </thead>\n",
       "  <tbody>\n",
       "    <tr>\n",
       "      <th>0</th>\n",
       "      <td>NY</td>\n",
       "      <td>53537.0</td>\n",
       "      <td>19382371.0</td>\n",
       "    </tr>\n",
       "    <tr>\n",
       "      <th>1</th>\n",
       "      <td>NJ</td>\n",
       "      <td>21274.0</td>\n",
       "      <td>8793873.0</td>\n",
       "    </tr>\n",
       "    <tr>\n",
       "      <th>2</th>\n",
       "      <td>CA</td>\n",
       "      <td>17839.0</td>\n",
       "      <td>37315886.0</td>\n",
       "    </tr>\n",
       "    <tr>\n",
       "      <th>3</th>\n",
       "      <td>FL</td>\n",
       "      <td>10185.0</td>\n",
       "      <td>18884900.0</td>\n",
       "    </tr>\n",
       "    <tr>\n",
       "      <th>4</th>\n",
       "      <td>CT</td>\n",
       "      <td>9369.0</td>\n",
       "      <td>3572213.0</td>\n",
       "    </tr>\n",
       "  </tbody>\n",
       "</table>\n",
       "</div>"
      ],
      "text/plain": [
       "  state  numorders         pop\n",
       "0    NY    53537.0  19382371.0\n",
       "1    NJ    21274.0   8793873.0\n",
       "2    CA    17839.0  37315886.0\n",
       "3    FL    10185.0  18884900.0\n",
       "4    CT     9369.0   3572213.0"
      ]
     },
     "execution_count": 5,
     "metadata": {},
     "output_type": "execute_result"
    }
   ],
   "source": [
    "# What is the distribution of orders by state and how is this related to the state’s population?\n",
    "\n",
    "sql = '''\n",
    "-- (4) Display the state along with number of orders and population of that state.\n",
    "SELECT State, SUM(numorders) as numorders, SUM(pop) as pop\n",
    "FROM (\n",
    "    -- (1) For each state in orders table, we find the number of orders.\n",
    "    (SELECT o.State, COUNT(*) as numorders, 0 as pop\n",
    "    FROM Orders o\n",
    "    GROUP BY o.state\n",
    "    ) \n",
    "    -- (3) UNION ALL combines all rows in two tables.\n",
    "    UNION ALL\n",
    "    -- (2) For each state in zipcensus table, we find the total population.\n",
    "    (SELECT zc.stab, 0 as numorders, SUM(totpop) as pop\n",
    "     FROM ZipCensus zc\n",
    "     GROUP BY zc.stab\n",
    "    )\n",
    ") summary\n",
    "GROUP BY State\n",
    "-- (5) Arrange the rows in descending order of number of orders\n",
    "ORDER BY numorders DESC\n",
    "'''\n",
    "df = pd.read_sql_query(sql, engine)\n",
    "df[:5]"
   ]
  },
  {
   "cell_type": "code",
   "execution_count": 18,
   "metadata": {},
   "outputs": [
    {
     "data": {
      "image/png": "[encoded data removed]",
      "text/plain": [
       "<matplotlib.figure.Figure at 0x2569b4bdda0>"
      ]
     },
     "metadata": {},
     "output_type": "display_data"
    }
   ],
   "source": [
    "plot_histogram_group(df, 'state', ['numorders', 'pop'])"
   ]
  },
  {
   "cell_type": "code",
   "execution_count": 15,
   "metadata": {},
   "outputs": [],
   "source": [
    "# Histograms (Frequencies) for Numeric Values\n",
    "# Ex: How many different values does totalprice take on?\n",
    "# * TotalPrice has over 4,000 values\n",
    "# * Solution: Group them into ranges\n",
    "sql = '''\n",
    "SELECT SIGN(numol) * POWER(2, numol - 1) as lowerbound,\n",
    "    POWER(2, numol) as upperbound, \n",
    "    COUNT(*) as numorders\n",
    "FROM (\n",
    "    SELECT o.orderid, FLOOR(1 + LOG(count(1)) / LOG(2)) as numol\n",
    "    FROM orders o, orderlines ol\n",
    "    WHERE o.orderid = ol.orderid\n",
    "    GROUP BY o.orderid\n",
    ") a\n",
    "GROUP BY numol\n",
    "ORDER BY numol\n",
    "'''\n",
    "df = pd.read_sql_query(sql, engine)"
   ]
  },
  {
   "cell_type": "code",
   "execution_count": 16,
   "metadata": {},
   "outputs": [
    {
     "data": {
      "text/html": [
       "<div>\n",
       "<style>\n",
       "    .dataframe thead tr:only-child th {\n",
       "        text-align: right;\n",
       "    }\n",
       "\n",
       "    .dataframe thead th {\n",
       "        text-align: left;\n",
       "    }\n",
       "\n",
       "    .dataframe tbody tr th {\n",
       "        vertical-align: top;\n",
       "    }\n",
       "</style>\n",
       "<table border=\"1\" class=\"dataframe\">\n",
       "  <thead>\n",
       "    <tr style=\"text-align: right;\">\n",
       "      <th></th>\n",
       "      <th>lowerbound</th>\n",
       "      <th>upperbound</th>\n",
       "      <th>numorders</th>\n",
       "    </tr>\n",
       "  </thead>\n",
       "  <tbody>\n",
       "    <tr>\n",
       "      <th>0</th>\n",
       "      <td>1.0</td>\n",
       "      <td>2.0</td>\n",
       "      <td>139561</td>\n",
       "    </tr>\n",
       "    <tr>\n",
       "      <th>1</th>\n",
       "      <td>2.0</td>\n",
       "      <td>4.0</td>\n",
       "      <td>45552</td>\n",
       "    </tr>\n",
       "    <tr>\n",
       "      <th>2</th>\n",
       "      <td>4.0</td>\n",
       "      <td>8.0</td>\n",
       "      <td>7063</td>\n",
       "    </tr>\n",
       "    <tr>\n",
       "      <th>3</th>\n",
       "      <td>8.0</td>\n",
       "      <td>16.0</td>\n",
       "      <td>733</td>\n",
       "    </tr>\n",
       "    <tr>\n",
       "      <th>4</th>\n",
       "      <td>16.0</td>\n",
       "      <td>32.0</td>\n",
       "      <td>55</td>\n",
       "    </tr>\n",
       "    <tr>\n",
       "      <th>5</th>\n",
       "      <td>32.0</td>\n",
       "      <td>64.0</td>\n",
       "      <td>16</td>\n",
       "    </tr>\n",
       "    <tr>\n",
       "      <th>6</th>\n",
       "      <td>64.0</td>\n",
       "      <td>128.0</td>\n",
       "      <td>2</td>\n",
       "    </tr>\n",
       "    <tr>\n",
       "      <th>7</th>\n",
       "      <td>128.0</td>\n",
       "      <td>256.0</td>\n",
       "      <td>1</td>\n",
       "    </tr>\n",
       "  </tbody>\n",
       "</table>\n",
       "</div>"
      ],
      "text/plain": [
       "   lowerbound  upperbound  numorders\n",
       "0         1.0         2.0     139561\n",
       "1         2.0         4.0      45552\n",
       "2         4.0         8.0       7063\n",
       "3         8.0        16.0        733\n",
       "4        16.0        32.0         55\n",
       "5        32.0        64.0         16\n",
       "6        64.0       128.0          2\n",
       "7       128.0       256.0          1"
      ]
     },
     "execution_count": 16,
     "metadata": {},
     "output_type": "execute_result"
    }
   ],
   "source": [
    "df[:10]"
   ]
  },
  {
   "cell_type": "code",
   "execution_count": 19,
   "metadata": {
    "collapsed": true
   },
   "outputs": [],
   "source": [
    "# What is the number of order lines where the product occurs once (overall), twice, and so on?\n",
    "\n",
    "sql = '''\n",
    "-- (2) Group by number of order lines and find the product count\n",
    "SELECT numol, COUNT(*) as numprods, MIN(ProductId), MAX(ProductId)\n",
    "FROM (\n",
    "    -- (1) Find the number of order lines where each product appears - group by ProductId\n",
    "    SELECT ProductId, COUNT(*) as numol\n",
    "    FROM OrderLines\n",
    "    GROUP BY ProductId\n",
    ") op\n",
    "GROUP BY numol\n",
    "ORDER BY numol\n",
    "'''\n",
    "df = pd.read_sql_query(sql, engine)"
   ]
  },
  {
   "cell_type": "code",
   "execution_count": 20,
   "metadata": {},
   "outputs": [
    {
     "data": {
      "text/html": [
       "<div>\n",
       "<style>\n",
       "    .dataframe thead tr:only-child th {\n",
       "        text-align: right;\n",
       "    }\n",
       "\n",
       "    .dataframe thead th {\n",
       "        text-align: left;\n",
       "    }\n",
       "\n",
       "    .dataframe tbody tr th {\n",
       "        vertical-align: top;\n",
       "    }\n",
       "</style>\n",
       "<table border=\"1\" class=\"dataframe\">\n",
       "  <thead>\n",
       "    <tr style=\"text-align: right;\">\n",
       "      <th></th>\n",
       "      <th>numol</th>\n",
       "      <th>numprods</th>\n",
       "      <th>min</th>\n",
       "      <th>max</th>\n",
       "    </tr>\n",
       "  </thead>\n",
       "  <tbody>\n",
       "    <tr>\n",
       "      <th>0</th>\n",
       "      <td>1</td>\n",
       "      <td>933</td>\n",
       "      <td>10017</td>\n",
       "      <td>14040</td>\n",
       "    </tr>\n",
       "    <tr>\n",
       "      <th>1</th>\n",
       "      <td>2</td>\n",
       "      <td>679</td>\n",
       "      <td>10028</td>\n",
       "      <td>14036</td>\n",
       "    </tr>\n",
       "    <tr>\n",
       "      <th>2</th>\n",
       "      <td>3</td>\n",
       "      <td>401</td>\n",
       "      <td>10020</td>\n",
       "      <td>14013</td>\n",
       "    </tr>\n",
       "  </tbody>\n",
       "</table>\n",
       "</div>"
      ],
      "text/plain": [
       "   numol  numprods    min    max\n",
       "0      1       933  10017  14040\n",
       "1      2       679  10028  14036\n",
       "2      3       401  10020  14013"
      ]
     },
     "execution_count": 20,
     "metadata": {},
     "output_type": "execute_result"
    }
   ],
   "source": [
    "df[:3]"
   ]
  },
  {
   "cell_type": "code",
   "execution_count": 22,
   "metadata": {},
   "outputs": [
    {
     "data": {
      "image/png": "[encoded data removed]",
      "text/plain": [
       "<matplotlib.figure.Figure at 0x2569bb6e550>"
      ]
     },
     "metadata": {},
     "output_type": "display_data"
    }
   ],
   "source": [
    "plot_histogram(df, 'numol', 'numprods')"
   ]
  },
  {
   "cell_type": "code",
   "execution_count": 5,
   "metadata": {
    "collapsed": true
   },
   "outputs": [],
   "source": [
    "# Cumulative Histograms of Counts\n",
    "# Ex: What proportion of products account for half of all order lines?\n",
    "sql = '''\n",
    "WITH counts AS (\n",
    "    -- (2) Group by number of order lines and find the product count\n",
    "    SELECT numol, COUNT(*) as numprods, \n",
    "    -- (4) Find cumulative number of order lines. \n",
    "    SUM(COUNT(*) * numol) OVER (ORDER BY numol) AS cumulative_numol, \n",
    "    -- (3) Find cumulative number of products.\n",
    "    SUM(COUNT(*)) OVER (ORDER BY numol) AS cumulative_numprods\n",
    "    FROM (\n",
    "    -- (1) Find the number of order lines where each product appears\n",
    "        SELECT ProductId, COUNT(*) as numol\n",
    "        FROM OrderLines\n",
    "        GROUP BY ProductId\n",
    "    ) op\n",
    "    GROUP BY numol\n",
    "    ORDER BY numol\n",
    ")\n",
    "SELECT numol, numprods, cumulative_numol, cumulative_numprods, \n",
    "-- (5) Convert the cumulative sums to percentage\n",
    "    (cumulative_numol/286017 * 100)::decimal(5,1) AS percentage_cumulative_numol, \n",
    "    (cumulative_numprods/4040 * 100)::decimal(5,1) AS percentage_cumulative_numprods\n",
    "FROM counts\n",
    "'''\n",
    "df = pd.read_sql_query(sql, engine)"
   ]
  },
  {
   "cell_type": "code",
   "execution_count": 6,
   "metadata": {},
   "outputs": [
    {
     "data": {
      "text/html": [
       "<div>\n",
       "<style>\n",
       "    .dataframe thead tr:only-child th {\n",
       "        text-align: right;\n",
       "    }\n",
       "\n",
       "    .dataframe thead th {\n",
       "        text-align: left;\n",
       "    }\n",
       "\n",
       "    .dataframe tbody tr th {\n",
       "        vertical-align: top;\n",
       "    }\n",
       "</style>\n",
       "<table border=\"1\" class=\"dataframe\">\n",
       "  <thead>\n",
       "    <tr style=\"text-align: right;\">\n",
       "      <th></th>\n",
       "      <th>numol</th>\n",
       "      <th>numprods</th>\n",
       "      <th>cumulative_numol</th>\n",
       "      <th>cumulative_numprods</th>\n",
       "      <th>percentage_cumulative_numol</th>\n",
       "      <th>percentage_cumulative_numprods</th>\n",
       "    </tr>\n",
       "  </thead>\n",
       "  <tbody>\n",
       "    <tr>\n",
       "      <th>0</th>\n",
       "      <td>1</td>\n",
       "      <td>933</td>\n",
       "      <td>933.0</td>\n",
       "      <td>933.0</td>\n",
       "      <td>0.3</td>\n",
       "      <td>23.1</td>\n",
       "    </tr>\n",
       "    <tr>\n",
       "      <th>1</th>\n",
       "      <td>2</td>\n",
       "      <td>679</td>\n",
       "      <td>2291.0</td>\n",
       "      <td>1612.0</td>\n",
       "      <td>0.8</td>\n",
       "      <td>39.9</td>\n",
       "    </tr>\n",
       "    <tr>\n",
       "      <th>2</th>\n",
       "      <td>3</td>\n",
       "      <td>401</td>\n",
       "      <td>3494.0</td>\n",
       "      <td>2013.0</td>\n",
       "      <td>1.2</td>\n",
       "      <td>49.8</td>\n",
       "    </tr>\n",
       "  </tbody>\n",
       "</table>\n",
       "</div>"
      ],
      "text/plain": [
       "   numol  numprods  cumulative_numol  cumulative_numprods  \\\n",
       "0      1       933             933.0                933.0   \n",
       "1      2       679            2291.0               1612.0   \n",
       "2      3       401            3494.0               2013.0   \n",
       "\n",
       "   percentage_cumulative_numol  percentage_cumulative_numprods  \n",
       "0                          0.3                            23.1  \n",
       "1                          0.8                            39.9  \n",
       "2                          1.2                            49.8  "
      ]
     },
     "execution_count": 6,
     "metadata": {},
     "output_type": "execute_result"
    }
   ],
   "source": [
    "df[:3]"
   ]
  },
  {
   "cell_type": "code",
   "execution_count": 7,
   "metadata": {},
   "outputs": [
    {
     "data": {
      "image/png": "[encoded data removed]",
      "text/plain": [
       "<matplotlib.figure.Figure at 0x1ce615c76d8>"
      ]
     },
     "metadata": {},
     "output_type": "display_data"
    }
   ],
   "source": [
    "plot_curve(df, 'percentage_cumulative_numol', 'percentage_cumulative_numprods')"
   ]
  },
  {
   "cell_type": "code",
   "execution_count": 37,
   "metadata": {
    "collapsed": true
   },
   "outputs": [],
   "source": [
    "# Histograms (Frequencies) for Numeric Values\n",
    "# Ex: How many different values does totalprice take on?\n",
    "# * TotalPrice has over 4,000 values\n",
    "# * Solution: Group them into ranges\n",
    "sql = '''\n",
    "SELECT SIGN(numdigits) * POWER(10, numdigits - 1) as lowerbound,\n",
    "    POWER(10, numdigits) as upperbound, \n",
    "    COUNT(*) as numorders, \n",
    "    MIN(TotalPrice) as min_totalprice, \n",
    "    MAX(TotalPrice) as max_totalprice\n",
    "FROM (\n",
    "    SELECT (CASE WHEN TotalPrice::decimal(10,2) >= 1 THEN FLOOR(1 + LOG(TotalPrice::decimal(10,2)) / LOG(10))\n",
    "        WHEN -1 < TotalPrice::decimal(10,2) AND TotalPrice::decimal(10,2) < 1 THEN 0\n",
    "        ELSE - FLOOR(1 + LOG(-TotalPrice::decimal(10,2)) / LOG(10)) END\n",
    "    ) as numdigits, TotalPrice\n",
    "    FROM Orders o\n",
    ") a\n",
    "GROUP BY numdigits\n",
    "ORDER BY numdigits\n",
    "'''\n",
    "df = pd.read_sql_query(sql, engine)"
   ]
  },
  {
   "cell_type": "code",
   "execution_count": 39,
   "metadata": {},
   "outputs": [
    {
     "data": {
      "text/html": [
       "<div>\n",
       "<style>\n",
       "    .dataframe thead tr:only-child th {\n",
       "        text-align: right;\n",
       "    }\n",
       "\n",
       "    .dataframe thead th {\n",
       "        text-align: left;\n",
       "    }\n",
       "\n",
       "    .dataframe tbody tr th {\n",
       "        vertical-align: top;\n",
       "    }\n",
       "</style>\n",
       "<table border=\"1\" class=\"dataframe\">\n",
       "  <thead>\n",
       "    <tr style=\"text-align: right;\">\n",
       "      <th></th>\n",
       "      <th>lowerbound</th>\n",
       "      <th>upperbound</th>\n",
       "      <th>numorders</th>\n",
       "      <th>min_totalprice</th>\n",
       "      <th>max_totalprice</th>\n",
       "    </tr>\n",
       "  </thead>\n",
       "  <tbody>\n",
       "    <tr>\n",
       "      <th>0</th>\n",
       "      <td>0.0</td>\n",
       "      <td>1.0</td>\n",
       "      <td>9130</td>\n",
       "      <td>$0.00</td>\n",
       "      <td>$0.64</td>\n",
       "    </tr>\n",
       "    <tr>\n",
       "      <th>1</th>\n",
       "      <td>1.0</td>\n",
       "      <td>10.0</td>\n",
       "      <td>6718</td>\n",
       "      <td>$1.75</td>\n",
       "      <td>$9.99</td>\n",
       "    </tr>\n",
       "    <tr>\n",
       "      <th>2</th>\n",
       "      <td>10.0</td>\n",
       "      <td>100.0</td>\n",
       "      <td>148121</td>\n",
       "      <td>$10.00</td>\n",
       "      <td>$99.99</td>\n",
       "    </tr>\n",
       "    <tr>\n",
       "      <th>3</th>\n",
       "      <td>100.0</td>\n",
       "      <td>1000.0</td>\n",
       "      <td>28028</td>\n",
       "      <td>$100.00</td>\n",
       "      <td>$999.00</td>\n",
       "    </tr>\n",
       "    <tr>\n",
       "      <th>4</th>\n",
       "      <td>1000.0</td>\n",
       "      <td>10000.0</td>\n",
       "      <td>986</td>\n",
       "      <td>$1,000.00</td>\n",
       "      <td>$9,848.96</td>\n",
       "    </tr>\n",
       "  </tbody>\n",
       "</table>\n",
       "</div>"
      ],
      "text/plain": [
       "   lowerbound  upperbound  numorders min_totalprice max_totalprice\n",
       "0         0.0         1.0       9130          $0.00          $0.64\n",
       "1         1.0        10.0       6718          $1.75          $9.99\n",
       "2        10.0       100.0     148121         $10.00         $99.99\n",
       "3       100.0      1000.0      28028        $100.00        $999.00\n",
       "4      1000.0     10000.0        986      $1,000.00      $9,848.96"
      ]
     },
     "execution_count": 39,
     "metadata": {},
     "output_type": "execute_result"
    }
   ],
   "source": [
    "df"
   ]
  },
  {
   "cell_type": "code",
   "execution_count": 38,
   "metadata": {},
   "outputs": [
    {
     "data": {
      "image/png": "[encoded data removed]",
      "text/plain": [
       "<matplotlib.figure.Figure at 0x2569c3cd080>"
      ]
     },
     "metadata": {},
     "output_type": "display_data"
    }
   ],
   "source": [
    "plot_histogram(df, 'lowerbound', 'numorders')"
   ]
  },
  {
   "cell_type": "code",
   "execution_count": 40,
   "metadata": {
    "collapsed": true
   },
   "outputs": [],
   "source": [
    "# equal-sized groups\n",
    "# Int width_bucket(numeric op, numeric b1, numeric b2, int count) \n",
    "# Ex: Divide the product data into 10 equal price buckets and draw a histogram depicting the number of products that fall into each of these price buckets. For simplicity, consider products with price less than $1000.\n",
    "\n",
    "sql = '''\n",
    "WITH p_1000 AS (\n",
    "    -- (1) Filter out the products with price > $1000\n",
    "    SELECT p.*\n",
    "    FROM products p\n",
    "    WHERE fullprice::decimal(10,1) <= 1000\n",
    "),\n",
    "p_minmax AS ( \n",
    "    -- (2) Find the min and max price of the current distribution\n",
    "    SELECT MIN(fullprice::DECIMAL(10,1)) AS min_price,\n",
    "       MAX(fullprice::DECIMAL(10,1)) AS max_price\n",
    "    FROM p_1000\n",
    ")\n",
    "-- (3) The data in the range min_price to max_price is divided into 10 + 1 buckets. Find the bucket to which the price of each product belongs to. And group them by buckets.\n",
    "SELECT WIDTH_BUCKET(fullprice::DECIMAL(10,1), min_price, max_price, 10) AS bucket,\n",
    "      MIN(fullprice::DECIMAL(10,1)) as min_price, MAX(fullprice::DECIMAL(10,1)) as max_price,\n",
    "      COUNT(*) AS freq\n",
    "    FROM p_1000, p_minmax\n",
    "GROUP BY bucket\n",
    "ORDER BY bucket\n",
    "'''\n",
    "df = pd.read_sql_query(sql, engine)"
   ]
  },
  {
   "cell_type": "code",
   "execution_count": 41,
   "metadata": {},
   "outputs": [
    {
     "data": {
      "text/html": [
       "<div>\n",
       "<style>\n",
       "    .dataframe thead tr:only-child th {\n",
       "        text-align: right;\n",
       "    }\n",
       "\n",
       "    .dataframe thead th {\n",
       "        text-align: left;\n",
       "    }\n",
       "\n",
       "    .dataframe tbody tr th {\n",
       "        vertical-align: top;\n",
       "    }\n",
       "</style>\n",
       "<table border=\"1\" class=\"dataframe\">\n",
       "  <thead>\n",
       "    <tr style=\"text-align: right;\">\n",
       "      <th></th>\n",
       "      <th>bucket</th>\n",
       "      <th>min_price</th>\n",
       "      <th>max_price</th>\n",
       "      <th>freq</th>\n",
       "    </tr>\n",
       "  </thead>\n",
       "  <tbody>\n",
       "    <tr>\n",
       "      <th>0</th>\n",
       "      <td>1</td>\n",
       "      <td>0.0</td>\n",
       "      <td>99.0</td>\n",
       "      <td>834</td>\n",
       "    </tr>\n",
       "    <tr>\n",
       "      <th>1</th>\n",
       "      <td>2</td>\n",
       "      <td>100.0</td>\n",
       "      <td>195.0</td>\n",
       "      <td>820</td>\n",
       "    </tr>\n",
       "    <tr>\n",
       "      <th>2</th>\n",
       "      <td>3</td>\n",
       "      <td>200.0</td>\n",
       "      <td>296.0</td>\n",
       "      <td>63</td>\n",
       "    </tr>\n",
       "    <tr>\n",
       "      <th>3</th>\n",
       "      <td>4</td>\n",
       "      <td>300.0</td>\n",
       "      <td>396.0</td>\n",
       "      <td>1122</td>\n",
       "    </tr>\n",
       "    <tr>\n",
       "      <th>4</th>\n",
       "      <td>5</td>\n",
       "      <td>405.0</td>\n",
       "      <td>499.0</td>\n",
       "      <td>382</td>\n",
       "    </tr>\n",
       "    <tr>\n",
       "      <th>5</th>\n",
       "      <td>6</td>\n",
       "      <td>500.0</td>\n",
       "      <td>598.0</td>\n",
       "      <td>342</td>\n",
       "    </tr>\n",
       "    <tr>\n",
       "      <th>6</th>\n",
       "      <td>7</td>\n",
       "      <td>600.0</td>\n",
       "      <td>693.0</td>\n",
       "      <td>107</td>\n",
       "    </tr>\n",
       "    <tr>\n",
       "      <th>7</th>\n",
       "      <td>8</td>\n",
       "      <td>700.0</td>\n",
       "      <td>795.0</td>\n",
       "      <td>152</td>\n",
       "    </tr>\n",
       "    <tr>\n",
       "      <th>8</th>\n",
       "      <td>9</td>\n",
       "      <td>800.0</td>\n",
       "      <td>862.0</td>\n",
       "      <td>29</td>\n",
       "    </tr>\n",
       "    <tr>\n",
       "      <th>9</th>\n",
       "      <td>10</td>\n",
       "      <td>900.0</td>\n",
       "      <td>990.0</td>\n",
       "      <td>20</td>\n",
       "    </tr>\n",
       "    <tr>\n",
       "      <th>10</th>\n",
       "      <td>11</td>\n",
       "      <td>1000.0</td>\n",
       "      <td>1000.0</td>\n",
       "      <td>13</td>\n",
       "    </tr>\n",
       "  </tbody>\n",
       "</table>\n",
       "</div>"
      ],
      "text/plain": [
       "    bucket  min_price  max_price  freq\n",
       "0        1        0.0       99.0   834\n",
       "1        2      100.0      195.0   820\n",
       "2        3      200.0      296.0    63\n",
       "3        4      300.0      396.0  1122\n",
       "4        5      405.0      499.0   382\n",
       "5        6      500.0      598.0   342\n",
       "6        7      600.0      693.0   107\n",
       "7        8      700.0      795.0   152\n",
       "8        9      800.0      862.0    29\n",
       "9       10      900.0      990.0    20\n",
       "10      11     1000.0     1000.0    13"
      ]
     },
     "execution_count": 41,
     "metadata": {},
     "output_type": "execute_result"
    }
   ],
   "source": [
    "df"
   ]
  },
  {
   "cell_type": "code",
   "execution_count": 42,
   "metadata": {},
   "outputs": [
    {
     "data": {
      "image/png": "[encoded data removed]",
      "text/plain": [
       "<matplotlib.figure.Figure at 0x2569d6715c0>"
      ]
     },
     "metadata": {},
     "output_type": "display_data"
    }
   ],
   "source": [
    "plot_histogram(df, 'min_price', 'freq')"
   ]
  },
  {
   "cell_type": "markdown",
   "metadata": {},
   "source": [
    "## What are the questions that we can ask the data?\n",
    "Which books or book categories should be used for demand analysis?\n",
    " Let’s say we choose the category (how?)\n",
    " \n",
    " \n",
    "* Books/Education & Teaching/Higher & Continuing Education/\n",
    "  * Should we include all books under this category? \n",
    "  * Should we select a subset by price, sales, number of reviews, average rating?\n",
    "  * Should we consider all sales?\n",
    "  * Should we consider gift seasons?\n",
    "  * Should we consider all reviews? \n",
    "  * Eliminate really short reviews? \n",
    "  * Only consider reviews with some specific expressions in them?\n",
    "  * Eliminate reviews that are from reviewers who give high (or low) recommendation to too many books?\n",
    "  * Eliminate low reviews where the only negative factor is price and not content?\n"
   ]
  },
  {
   "cell_type": "markdown",
   "metadata": {
    "collapsed": true
   },
   "source": [
    "### Data Exploration with histogram\n",
    "product sale volumn: number_orders, number_products, number_total_price\n",
    "\n",
    "vs\n",
    "\n",
    "1. price ranges \n",
    "2. sales (campaign)\n",
    "3. calendar (holiday vs nonholiday, different holidaytype)\n",
    "4. (missing) categories\n",
    "  * product's category is mostly one category per one product. Need a proper level of aggregation of categories for statistics. (requirement to Integration team)\n",
    "5. (missing) reviews(incomplete)\n",
    "  * number of reviews\n",
    "  * average rating of reviews"
   ]
  },
  {
   "cell_type": "code",
   "execution_count": 4,
   "metadata": {
    "collapsed": true
   },
   "outputs": [],
   "source": [
    "sql = '''\n",
    "WITH p_1000 AS (\n",
    "    -- (1) Filter out the products with price > $1000\n",
    "    SELECT p.*\n",
    "    FROM products p\n",
    "    WHERE fullprice::decimal(10,1) <= 1000\n",
    "),\n",
    "p_minmax AS ( \n",
    "    -- (2) Find the min and max price of the current distribution\n",
    "    SELECT MIN(fullprice::DECIMAL(10,1)) AS min_price,\n",
    "       MAX(fullprice::DECIMAL(10,1)) AS max_price\n",
    "    FROM p_1000\n",
    ")\n",
    "-- (3) The data in the range min_price to max_price is divided into 10 + 1 buckets. Find the bucket to which the price of each product belongs to. And group them by buckets.\n",
    "SELECT WIDTH_BUCKET(fullprice::DECIMAL(10,1), min_price, max_price, 10) AS bucket,\n",
    "      MIN(fullprice::DECIMAL(10,1)) as min_price, MAX(fullprice::DECIMAL(10,1)) as max_price,\n",
    "      COUNT(distinct(p_1000.productid)) AS product_count,\n",
    "      COUNT(distinct(o.orderid)) AS order_count,\n",
    "      COUNT(1) AS copy_count,\n",
    "      --SUM(ol.numunits * p_1000.fullprice) AS total_value\n",
    "      CAST(SUM(ol.numunits * p_1000.fullprice) AS decimal(34,0)) AS total_value\n",
    "FROM p_1000, p_minmax, orders o, orderlines ol\n",
    "WHERE p_1000.productid = ol.productid AND o.orderid = ol.orderid\n",
    "GROUP BY bucket\n",
    "ORDER BY bucket\n",
    "'''\n",
    "df = pd.read_sql_query(sql, engine)"
   ]
  },
  {
   "cell_type": "code",
   "execution_count": 5,
   "metadata": {},
   "outputs": [
    {
     "data": {
      "text/html": [
       "<div>\n",
       "<style>\n",
       "    .dataframe thead tr:only-child th {\n",
       "        text-align: right;\n",
       "    }\n",
       "\n",
       "    .dataframe thead th {\n",
       "        text-align: left;\n",
       "    }\n",
       "\n",
       "    .dataframe tbody tr th {\n",
       "        vertical-align: top;\n",
       "    }\n",
       "</style>\n",
       "<table border=\"1\" class=\"dataframe\">\n",
       "  <thead>\n",
       "    <tr style=\"text-align: right;\">\n",
       "      <th></th>\n",
       "      <th>bucket</th>\n",
       "      <th>min_price</th>\n",
       "      <th>max_price</th>\n",
       "      <th>product_count</th>\n",
       "      <th>order_count</th>\n",
       "      <th>copy_count</th>\n",
       "      <th>total_value</th>\n",
       "    </tr>\n",
       "  </thead>\n",
       "  <tbody>\n",
       "    <tr>\n",
       "      <th>0</th>\n",
       "      <td>1</td>\n",
       "      <td>0.0</td>\n",
       "      <td>99.0</td>\n",
       "      <td>834</td>\n",
       "      <td>169684</td>\n",
       "      <td>250149</td>\n",
       "      <td>7971575.0</td>\n",
       "    </tr>\n",
       "    <tr>\n",
       "      <th>1</th>\n",
       "      <td>2</td>\n",
       "      <td>100.0</td>\n",
       "      <td>195.0</td>\n",
       "      <td>820</td>\n",
       "      <td>17583</td>\n",
       "      <td>21508</td>\n",
       "      <td>4044169.0</td>\n",
       "    </tr>\n",
       "    <tr>\n",
       "      <th>2</th>\n",
       "      <td>3</td>\n",
       "      <td>200.0</td>\n",
       "      <td>296.0</td>\n",
       "      <td>63</td>\n",
       "      <td>517</td>\n",
       "      <td>591</td>\n",
       "      <td>125940.0</td>\n",
       "    </tr>\n",
       "    <tr>\n",
       "      <th>3</th>\n",
       "      <td>4</td>\n",
       "      <td>300.0</td>\n",
       "      <td>396.0</td>\n",
       "      <td>1122</td>\n",
       "      <td>6022</td>\n",
       "      <td>8072</td>\n",
       "      <td>2600477.0</td>\n",
       "    </tr>\n",
       "    <tr>\n",
       "      <th>4</th>\n",
       "      <td>5</td>\n",
       "      <td>405.0</td>\n",
       "      <td>499.0</td>\n",
       "      <td>382</td>\n",
       "      <td>1092</td>\n",
       "      <td>1571</td>\n",
       "      <td>687919.0</td>\n",
       "    </tr>\n",
       "    <tr>\n",
       "      <th>5</th>\n",
       "      <td>6</td>\n",
       "      <td>500.0</td>\n",
       "      <td>598.0</td>\n",
       "      <td>342</td>\n",
       "      <td>1405</td>\n",
       "      <td>1983</td>\n",
       "      <td>945325.0</td>\n",
       "    </tr>\n",
       "    <tr>\n",
       "      <th>6</th>\n",
       "      <td>7</td>\n",
       "      <td>600.0</td>\n",
       "      <td>693.0</td>\n",
       "      <td>107</td>\n",
       "      <td>318</td>\n",
       "      <td>426</td>\n",
       "      <td>254844.0</td>\n",
       "    </tr>\n",
       "    <tr>\n",
       "      <th>7</th>\n",
       "      <td>8</td>\n",
       "      <td>700.0</td>\n",
       "      <td>795.0</td>\n",
       "      <td>152</td>\n",
       "      <td>398</td>\n",
       "      <td>608</td>\n",
       "      <td>358160.0</td>\n",
       "    </tr>\n",
       "    <tr>\n",
       "      <th>8</th>\n",
       "      <td>9</td>\n",
       "      <td>800.0</td>\n",
       "      <td>862.0</td>\n",
       "      <td>29</td>\n",
       "      <td>91</td>\n",
       "      <td>111</td>\n",
       "      <td>76965.0</td>\n",
       "    </tr>\n",
       "    <tr>\n",
       "      <th>9</th>\n",
       "      <td>10</td>\n",
       "      <td>900.0</td>\n",
       "      <td>990.0</td>\n",
       "      <td>20</td>\n",
       "      <td>179</td>\n",
       "      <td>183</td>\n",
       "      <td>163345.0</td>\n",
       "    </tr>\n",
       "    <tr>\n",
       "      <th>10</th>\n",
       "      <td>11</td>\n",
       "      <td>1000.0</td>\n",
       "      <td>1000.0</td>\n",
       "      <td>13</td>\n",
       "      <td>159</td>\n",
       "      <td>164</td>\n",
       "      <td>159000.0</td>\n",
       "    </tr>\n",
       "  </tbody>\n",
       "</table>\n",
       "</div>"
      ],
      "text/plain": [
       "    bucket  min_price  max_price  product_count  order_count  copy_count  \\\n",
       "0        1        0.0       99.0            834       169684      250149   \n",
       "1        2      100.0      195.0            820        17583       21508   \n",
       "2        3      200.0      296.0             63          517         591   \n",
       "3        4      300.0      396.0           1122         6022        8072   \n",
       "4        5      405.0      499.0            382         1092        1571   \n",
       "5        6      500.0      598.0            342         1405        1983   \n",
       "6        7      600.0      693.0            107          318         426   \n",
       "7        8      700.0      795.0            152          398         608   \n",
       "8        9      800.0      862.0             29           91         111   \n",
       "9       10      900.0      990.0             20          179         183   \n",
       "10      11     1000.0     1000.0             13          159         164   \n",
       "\n",
       "    total_value  \n",
       "0     7971575.0  \n",
       "1     4044169.0  \n",
       "2      125940.0  \n",
       "3     2600477.0  \n",
       "4      687919.0  \n",
       "5      945325.0  \n",
       "6      254844.0  \n",
       "7      358160.0  \n",
       "8       76965.0  \n",
       "9      163345.0  \n",
       "10     159000.0  "
      ]
     },
     "execution_count": 5,
     "metadata": {},
     "output_type": "execute_result"
    }
   ],
   "source": [
    "df"
   ]
  },
  {
   "cell_type": "code",
   "execution_count": 8,
   "metadata": {},
   "outputs": [
    {
     "data": {
      "text/plain": [
       "<matplotlib.figure.Figure at 0x275b2002198>"
      ]
     },
     "metadata": {},
     "output_type": "display_data"
    },
    {
     "data": {
      "image/png": "[encoded data removed]",
      "text/plain": [
       "<matplotlib.figure.Figure at 0x275b2368e10>"
      ]
     },
     "metadata": {},
     "output_type": "display_data"
    }
   ],
   "source": [
    "plot_histogram_group_scaled(df, 'min_price', ['product_count', 'order_count', 'copy_count', 'total_value'], title=\"order distribution on price buckets\")"
   ]
  },
  {
   "cell_type": "code",
   "execution_count": 10,
   "metadata": {},
   "outputs": [
    {
     "data": {
      "text/plain": [
       "<matplotlib.figure.Figure at 0x275b22a7390>"
      ]
     },
     "metadata": {},
     "output_type": "display_data"
    },
    {
     "data": {
      "image/png": "[encoded data removed]",
      "text/plain": [
       "<matplotlib.figure.Figure at 0x275b222ef28>"
      ]
     },
     "metadata": {},
     "output_type": "display_data"
    }
   ],
   "source": [
    "# zoom In $0 ~ 100\n",
    "sql = '''\n",
    "WITH p_100 AS (\n",
    "    -- (1) Filter out the products with price > $1000\n",
    "    SELECT p.*\n",
    "    FROM products p\n",
    "    WHERE fullprice::decimal(10,1) <= 100\n",
    "),\n",
    "p_minmax AS ( \n",
    "    -- (2) Find the min and max price of the current distribution\n",
    "    SELECT MIN(fullprice::DECIMAL(10,1)) AS min_price,\n",
    "       MAX(fullprice::DECIMAL(10,1)) AS max_price\n",
    "    FROM p_100\n",
    ")\n",
    "-- (3) The data in the range min_price to max_price is divided into 10 + 1 buckets. Find the bucket to which the price of each product belongs to. And group them by buckets.\n",
    "SELECT WIDTH_BUCKET(fullprice::DECIMAL(10,1), min_price, max_price, 10) AS bucket,\n",
    "      MIN(fullprice::DECIMAL(10,1)) as min_price, MAX(fullprice::DECIMAL(10,1)) as max_price,\n",
    "      COUNT(distinct(p_100.productid)) AS product_count,\n",
    "      COUNT(distinct(o.orderid)) AS order_count,\n",
    "      COUNT(1) AS copy_count,\n",
    "      --SUM(ol.numunits * p_100.fullprice) AS total_value\n",
    "      CAST(SUM(ol.numunits * p_100.fullprice) AS decimal(34,0)) AS total_value\n",
    "FROM p_100, p_minmax, orders o, orderlines ol\n",
    "WHERE p_100.productid = ol.productid AND o.orderid = ol.orderid\n",
    "GROUP BY bucket\n",
    "ORDER BY bucket\n",
    "'''\n",
    "df = pd.read_sql_query(sql, engine)\n",
    "plot_histogram_group_scaled(df, 'min_price', ['product_count', 'order_count', 'copy_count', 'total_value'], title=\"order distribution on price buckets\")"
   ]
  },
  {
   "cell_type": "markdown",
   "metadata": {},
   "source": [
    "### order volumn VS price\n",
    "* most volumn: < \\$100\n",
    "* most profitable: \\$100~200, 300~400\n",
    "* < \\$100 zoomIn: \\$10~40\n"
   ]
  },
  {
   "cell_type": "code",
   "execution_count": 72,
   "metadata": {
    "collapsed": true
   },
   "outputs": [],
   "source": [
    "### View of distribution of sale volumn on campaigns\n",
    "sql = '''\n",
    "SELECT cp.channel,\n",
    "      COUNT(o.orderid) AS order_count,\n",
    "      CAST(SUM(o.totalprice) AS decimal(34,0)) AS total_value\n",
    "FROM campaigns cp, orders o\n",
    "WHERE cp.campaignid = o.campaignid \n",
    "GROUP BY cp.channel\n",
    "ORDER BY order_count DESC\n",
    "'''\n",
    "df = pd.read_sql_query(sql, engine)"
   ]
  },
  {
   "cell_type": "code",
   "execution_count": 63,
   "metadata": {},
   "outputs": [
    {
     "data": {
      "text/html": [
       "<div>\n",
       "<style>\n",
       "    .dataframe thead tr:only-child th {\n",
       "        text-align: right;\n",
       "    }\n",
       "\n",
       "    .dataframe thead th {\n",
       "        text-align: left;\n",
       "    }\n",
       "\n",
       "    .dataframe tbody tr th {\n",
       "        vertical-align: top;\n",
       "    }\n",
       "</style>\n",
       "<table border=\"1\" class=\"dataframe\">\n",
       "  <thead>\n",
       "    <tr style=\"text-align: right;\">\n",
       "      <th></th>\n",
       "      <th>channel</th>\n",
       "      <th>order_count</th>\n",
       "      <th>total_value</th>\n",
       "    </tr>\n",
       "  </thead>\n",
       "  <tbody>\n",
       "    <tr>\n",
       "      <th>0</th>\n",
       "      <td>PARTNER</td>\n",
       "      <td>84518</td>\n",
       "      <td>6069828.0</td>\n",
       "    </tr>\n",
       "    <tr>\n",
       "      <th>1</th>\n",
       "      <td>WEB</td>\n",
       "      <td>53362</td>\n",
       "      <td>4764937.0</td>\n",
       "    </tr>\n",
       "    <tr>\n",
       "      <th>2</th>\n",
       "      <td>AD</td>\n",
       "      <td>40652</td>\n",
       "      <td>2245952.0</td>\n",
       "    </tr>\n",
       "    <tr>\n",
       "      <th>3</th>\n",
       "      <td>INSERT</td>\n",
       "      <td>7333</td>\n",
       "      <td>200453.0</td>\n",
       "    </tr>\n",
       "    <tr>\n",
       "      <th>4</th>\n",
       "      <td>REFERRAL</td>\n",
       "      <td>2550</td>\n",
       "      <td>152065.0</td>\n",
       "    </tr>\n",
       "    <tr>\n",
       "      <th>5</th>\n",
       "      <td>MAIL</td>\n",
       "      <td>1755</td>\n",
       "      <td>65589.0</td>\n",
       "    </tr>\n",
       "    <tr>\n",
       "      <th>6</th>\n",
       "      <td>BULK</td>\n",
       "      <td>1295</td>\n",
       "      <td>73569.0</td>\n",
       "    </tr>\n",
       "    <tr>\n",
       "      <th>7</th>\n",
       "      <td>CATALOG</td>\n",
       "      <td>710</td>\n",
       "      <td>61657.0</td>\n",
       "    </tr>\n",
       "    <tr>\n",
       "      <th>8</th>\n",
       "      <td>EMPLOYEE</td>\n",
       "      <td>642</td>\n",
       "      <td>48989.0</td>\n",
       "    </tr>\n",
       "    <tr>\n",
       "      <th>9</th>\n",
       "      <td>EMAIL</td>\n",
       "      <td>128</td>\n",
       "      <td>11061.0</td>\n",
       "    </tr>\n",
       "    <tr>\n",
       "      <th>10</th>\n",
       "      <td>INTERNAL</td>\n",
       "      <td>34</td>\n",
       "      <td>14474.0</td>\n",
       "    </tr>\n",
       "    <tr>\n",
       "      <th>11</th>\n",
       "      <td>CONFERENCE</td>\n",
       "      <td>3</td>\n",
       "      <td>300.0</td>\n",
       "    </tr>\n",
       "    <tr>\n",
       "      <th>12</th>\n",
       "      <td>SURVEY</td>\n",
       "      <td>1</td>\n",
       "      <td>24.0</td>\n",
       "    </tr>\n",
       "  </tbody>\n",
       "</table>\n",
       "</div>"
      ],
      "text/plain": [
       "       channel  order_count  total_value\n",
       "0      PARTNER        84518    6069828.0\n",
       "1          WEB        53362    4764937.0\n",
       "2           AD        40652    2245952.0\n",
       "3       INSERT         7333     200453.0\n",
       "4     REFERRAL         2550     152065.0\n",
       "5         MAIL         1755      65589.0\n",
       "6         BULK         1295      73569.0\n",
       "7      CATALOG          710      61657.0\n",
       "8     EMPLOYEE          642      48989.0\n",
       "9        EMAIL          128      11061.0\n",
       "10    INTERNAL           34      14474.0\n",
       "11  CONFERENCE            3        300.0\n",
       "12      SURVEY            1         24.0"
      ]
     },
     "execution_count": 63,
     "metadata": {},
     "output_type": "execute_result"
    }
   ],
   "source": [
    "df"
   ]
  },
  {
   "cell_type": "code",
   "execution_count": 65,
   "metadata": {},
   "outputs": [
    {
     "data": {
      "text/plain": [
       "<matplotlib.figure.Figure at 0x1857e606400>"
      ]
     },
     "metadata": {},
     "output_type": "display_data"
    },
    {
     "data": {
      "image/png": "[encoded data removed]",
      "text/plain": [
       "<matplotlib.figure.Figure at 0x1857e630470>"
      ]
     },
     "metadata": {},
     "output_type": "display_data"
    }
   ],
   "source": [
    "plot_histogram_group_scaled(df, 'channel', ['order_count', 'total_value'], title=\" order distribution on sale channel\")"
   ]
  },
  {
   "cell_type": "markdown",
   "metadata": {},
   "source": [
    "### order volumn VS sales\n",
    "Big three channels\n"
   ]
  },
  {
   "cell_type": "code",
   "execution_count": 108,
   "metadata": {
    "collapsed": true
   },
   "outputs": [],
   "source": [
    "### distribution of sale volumn on holidays\n",
    "sql = '''\n",
    "SELECT ca.holidaytype,\n",
    "      COUNT(distinct(ca.date)) AS days,\n",
    "      COUNT(o.orderid) AS order_count,\n",
    "      CAST(SUM(o.totalprice) AS decimal(34,0)) AS total_value\n",
    "FROM calendar ca, orders o\n",
    "WHERE ca.date = o.orderdate \n",
    "GROUP BY ca.holidaytype\n",
    "ORDER BY order_count DESC\n",
    "'''\n",
    "df = pd.read_sql_query(sql, engine)"
   ]
  },
  {
   "cell_type": "code",
   "execution_count": 109,
   "metadata": {},
   "outputs": [
    {
     "data": {
      "text/html": [
       "<div>\n",
       "<style>\n",
       "    .dataframe thead tr:only-child th {\n",
       "        text-align: right;\n",
       "    }\n",
       "\n",
       "    .dataframe thead th {\n",
       "        text-align: left;\n",
       "    }\n",
       "\n",
       "    .dataframe tbody tr th {\n",
       "        vertical-align: top;\n",
       "    }\n",
       "</style>\n",
       "<table border=\"1\" class=\"dataframe\">\n",
       "  <thead>\n",
       "    <tr style=\"text-align: right;\">\n",
       "      <th></th>\n",
       "      <th>holidaytype</th>\n",
       "      <th>days</th>\n",
       "      <th>order_count</th>\n",
       "      <th>total_value</th>\n",
       "      <th>value_per_day</th>\n",
       "    </tr>\n",
       "  </thead>\n",
       "  <tbody>\n",
       "    <tr>\n",
       "      <th>0</th>\n",
       "      <td></td>\n",
       "      <td>2288</td>\n",
       "      <td>173717</td>\n",
       "      <td>12440516.0</td>\n",
       "      <td>5437.288462</td>\n",
       "    </tr>\n",
       "    <tr>\n",
       "      <th>1</th>\n",
       "      <td>minor</td>\n",
       "      <td>63</td>\n",
       "      <td>5479</td>\n",
       "      <td>335733.0</td>\n",
       "      <td>5329.095238</td>\n",
       "    </tr>\n",
       "    <tr>\n",
       "      <th>2</th>\n",
       "      <td>national</td>\n",
       "      <td>63</td>\n",
       "      <td>4666</td>\n",
       "      <td>345621.0</td>\n",
       "      <td>5486.047619</td>\n",
       "    </tr>\n",
       "    <tr>\n",
       "      <th>3</th>\n",
       "      <td>jewish</td>\n",
       "      <td>51</td>\n",
       "      <td>4091</td>\n",
       "      <td>249290.0</td>\n",
       "      <td>4888.039216</td>\n",
       "    </tr>\n",
       "    <tr>\n",
       "      <th>4</th>\n",
       "      <td>other</td>\n",
       "      <td>35</td>\n",
       "      <td>2507</td>\n",
       "      <td>155262.0</td>\n",
       "      <td>4436.057143</td>\n",
       "    </tr>\n",
       "    <tr>\n",
       "      <th>5</th>\n",
       "      <td>muslim</td>\n",
       "      <td>14</td>\n",
       "      <td>1252</td>\n",
       "      <td>88042.0</td>\n",
       "      <td>6288.714286</td>\n",
       "    </tr>\n",
       "    <tr>\n",
       "      <th>6</th>\n",
       "      <td>christian</td>\n",
       "      <td>21</td>\n",
       "      <td>904</td>\n",
       "      <td>65540.0</td>\n",
       "      <td>3120.952381</td>\n",
       "    </tr>\n",
       "    <tr>\n",
       "      <th>7</th>\n",
       "      <td>chinese</td>\n",
       "      <td>6</td>\n",
       "      <td>367</td>\n",
       "      <td>28892.0</td>\n",
       "      <td>4815.333333</td>\n",
       "    </tr>\n",
       "  </tbody>\n",
       "</table>\n",
       "</div>"
      ],
      "text/plain": [
       "  holidaytype  days  order_count  total_value  value_per_day\n",
       "0              2288       173717   12440516.0    5437.288462\n",
       "1       minor    63         5479     335733.0    5329.095238\n",
       "2    national    63         4666     345621.0    5486.047619\n",
       "3      jewish    51         4091     249290.0    4888.039216\n",
       "4       other    35         2507     155262.0    4436.057143\n",
       "5      muslim    14         1252      88042.0    6288.714286\n",
       "6   christian    21          904      65540.0    3120.952381\n",
       "7     chinese     6          367      28892.0    4815.333333"
      ]
     },
     "execution_count": 109,
     "metadata": {},
     "output_type": "execute_result"
    }
   ],
   "source": [
    "df['value_per_day'] = df['total_value'] / df['days']\n",
    "df"
   ]
  },
  {
   "cell_type": "code",
   "execution_count": 110,
   "metadata": {},
   "outputs": [
    {
     "data": {
      "text/plain": [
       "<matplotlib.figure.Figure at 0x1857e7ca080>"
      ]
     },
     "metadata": {},
     "output_type": "display_data"
    },
    {
     "data": {
      "image/png": "[encoded data removed]",
      "text/plain": [
       "<matplotlib.figure.Figure at 0x1857fdd6240>"
      ]
     },
     "metadata": {},
     "output_type": "display_data"
    }
   ],
   "source": [
    "plot_histogram_group_scaled(df, 'holidaytype', ['days', 'order_count', 'total_value', 'value_per_day'], title=\" order distribution on holidays\")"
   ]
  },
  {
   "cell_type": "markdown",
   "metadata": {},
   "source": [
    "### order volumn holidays vs non-holidays\n",
    "no significance"
   ]
  },
  {
   "cell_type": "code",
   "execution_count": 86,
   "metadata": {
    "collapsed": true
   },
   "outputs": [],
   "source": [
    "### distribution of sale volumn on months\n",
    "sql = '''\n",
    "SELECT ca.month,\n",
    "      COUNT(distinct(ca.date)) AS days,\n",
    "      COUNT(o.orderid) AS order_count,\n",
    "      CAST(SUM(o.totalprice) AS decimal(34,0)) AS total_value\n",
    "FROM calendar ca, orders o\n",
    "WHERE ca.date = o.orderdate \n",
    "GROUP BY ca.month\n",
    "ORDER BY ca.month\n",
    "'''\n",
    "df = pd.read_sql_query(sql, engine)"
   ]
  },
  {
   "cell_type": "code",
   "execution_count": 87,
   "metadata": {},
   "outputs": [
    {
     "data": {
      "text/html": [
       "<div>\n",
       "<style>\n",
       "    .dataframe thead tr:only-child th {\n",
       "        text-align: right;\n",
       "    }\n",
       "\n",
       "    .dataframe thead th {\n",
       "        text-align: left;\n",
       "    }\n",
       "\n",
       "    .dataframe tbody tr th {\n",
       "        vertical-align: top;\n",
       "    }\n",
       "</style>\n",
       "<table border=\"1\" class=\"dataframe\">\n",
       "  <thead>\n",
       "    <tr style=\"text-align: right;\">\n",
       "      <th></th>\n",
       "      <th>month</th>\n",
       "      <th>days</th>\n",
       "      <th>order_count</th>\n",
       "      <th>total_value</th>\n",
       "    </tr>\n",
       "  </thead>\n",
       "  <tbody>\n",
       "    <tr>\n",
       "      <th>0</th>\n",
       "      <td>1</td>\n",
       "      <td>217</td>\n",
       "      <td>19180</td>\n",
       "      <td>1094024.0</td>\n",
       "    </tr>\n",
       "    <tr>\n",
       "      <th>1</th>\n",
       "      <td>2</td>\n",
       "      <td>195</td>\n",
       "      <td>10924</td>\n",
       "      <td>774563.0</td>\n",
       "    </tr>\n",
       "    <tr>\n",
       "      <th>2</th>\n",
       "      <td>3</td>\n",
       "      <td>217</td>\n",
       "      <td>12170</td>\n",
       "      <td>995490.0</td>\n",
       "    </tr>\n",
       "    <tr>\n",
       "      <th>3</th>\n",
       "      <td>4</td>\n",
       "      <td>210</td>\n",
       "      <td>10879</td>\n",
       "      <td>866171.0</td>\n",
       "    </tr>\n",
       "    <tr>\n",
       "      <th>4</th>\n",
       "      <td>5</td>\n",
       "      <td>217</td>\n",
       "      <td>12431</td>\n",
       "      <td>1040686.0</td>\n",
       "    </tr>\n",
       "    <tr>\n",
       "      <th>5</th>\n",
       "      <td>6</td>\n",
       "      <td>210</td>\n",
       "      <td>15075</td>\n",
       "      <td>1093346.0</td>\n",
       "    </tr>\n",
       "    <tr>\n",
       "      <th>6</th>\n",
       "      <td>7</td>\n",
       "      <td>217</td>\n",
       "      <td>11010</td>\n",
       "      <td>978743.0</td>\n",
       "    </tr>\n",
       "    <tr>\n",
       "      <th>7</th>\n",
       "      <td>8</td>\n",
       "      <td>217</td>\n",
       "      <td>13321</td>\n",
       "      <td>863012.0</td>\n",
       "    </tr>\n",
       "    <tr>\n",
       "      <th>8</th>\n",
       "      <td>9</td>\n",
       "      <td>200</td>\n",
       "      <td>12329</td>\n",
       "      <td>780109.0</td>\n",
       "    </tr>\n",
       "    <tr>\n",
       "      <th>9</th>\n",
       "      <td>10</td>\n",
       "      <td>214</td>\n",
       "      <td>14166</td>\n",
       "      <td>882276.0</td>\n",
       "    </tr>\n",
       "    <tr>\n",
       "      <th>10</th>\n",
       "      <td>11</td>\n",
       "      <td>210</td>\n",
       "      <td>27312</td>\n",
       "      <td>1876873.0</td>\n",
       "    </tr>\n",
       "    <tr>\n",
       "      <th>11</th>\n",
       "      <td>12</td>\n",
       "      <td>217</td>\n",
       "      <td>34186</td>\n",
       "      <td>2463602.0</td>\n",
       "    </tr>\n",
       "  </tbody>\n",
       "</table>\n",
       "</div>"
      ],
      "text/plain": [
       "    month  days  order_count  total_value\n",
       "0       1   217        19180    1094024.0\n",
       "1       2   195        10924     774563.0\n",
       "2       3   217        12170     995490.0\n",
       "3       4   210        10879     866171.0\n",
       "4       5   217        12431    1040686.0\n",
       "5       6   210        15075    1093346.0\n",
       "6       7   217        11010     978743.0\n",
       "7       8   217        13321     863012.0\n",
       "8       9   200        12329     780109.0\n",
       "9      10   214        14166     882276.0\n",
       "10     11   210        27312    1876873.0\n",
       "11     12   217        34186    2463602.0"
      ]
     },
     "execution_count": 87,
     "metadata": {},
     "output_type": "execute_result"
    }
   ],
   "source": [
    "df"
   ]
  },
  {
   "cell_type": "code",
   "execution_count": 88,
   "metadata": {},
   "outputs": [
    {
     "data": {
      "text/plain": [
       "<matplotlib.figure.Figure at 0x1857e1af908>"
      ]
     },
     "metadata": {},
     "output_type": "display_data"
    },
    {
     "data": {
      "image/png": "[encoded data removed]",
      "text/plain": [
       "<matplotlib.figure.Figure at 0x1857e1b85f8>"
      ]
     },
     "metadata": {},
     "output_type": "display_data"
    }
   ],
   "source": [
    "plot_histogram_group_scaled(df, 'month', ['order_count', 'total_value'], title=\" order distribution on months\")"
   ]
  },
  {
   "cell_type": "markdown",
   "metadata": {},
   "source": [
    "### order volumn VS month\n",
    "big volumn on Nov. Dec\n"
   ]
  },
  {
   "cell_type": "code",
   "execution_count": 105,
   "metadata": {
    "collapsed": true
   },
   "outputs": [],
   "source": [
    "### order volumn vs zip population\n",
    "sql = '''\n",
    "WITH zip_volumn as (SELECT zc.zcta5,\n",
    "      COUNT(o.orderid) AS order_count,\n",
    "      CAST(SUM(o.totalprice) AS decimal(34,0)) AS total_value\n",
    "FROM zipcensus zc, orders o\n",
    "WHERE zc.zcta5 = o.zipcode\n",
    "GROUP BY zc.zcta5\n",
    ")\n",
    "SELECT z.state,\n",
    "       SUM(zc.totpop) AS population,\n",
    "       SUM(order_count) AS total_order_count,\n",
    "       SUM(total_value) AS sum_total_value\n",
    "FROM zip_volumn, zipcensus zc, zipcounty z\n",
    "WHERE zc.zcta5 = zip_volumn.zcta5 AND zc.zcta5 = z.zipcode\n",
    "GROUP BY z.state\n",
    "ORDER BY total_order_count DESC\n",
    "LIMIT 20\n",
    "'''\n",
    "df = pd.read_sql_query(sql, engine)"
   ]
  },
  {
   "cell_type": "code",
   "execution_count": 106,
   "metadata": {},
   "outputs": [
    {
     "data": {
      "text/html": [
       "<div>\n",
       "<style>\n",
       "    .dataframe thead tr:only-child th {\n",
       "        text-align: right;\n",
       "    }\n",
       "\n",
       "    .dataframe thead th {\n",
       "        text-align: left;\n",
       "    }\n",
       "\n",
       "    .dataframe tbody tr th {\n",
       "        vertical-align: top;\n",
       "    }\n",
       "</style>\n",
       "<table border=\"1\" class=\"dataframe\">\n",
       "  <thead>\n",
       "    <tr style=\"text-align: right;\">\n",
       "      <th></th>\n",
       "      <th>state</th>\n",
       "      <th>population</th>\n",
       "      <th>total_order_count</th>\n",
       "      <th>sum_total_value</th>\n",
       "      <th>avg_order</th>\n",
       "    </tr>\n",
       "  </thead>\n",
       "  <tbody>\n",
       "    <tr>\n",
       "      <th>0</th>\n",
       "      <td>NY</td>\n",
       "      <td>18163208</td>\n",
       "      <td>52919.0</td>\n",
       "      <td>3671889.0</td>\n",
       "      <td>0.002914</td>\n",
       "    </tr>\n",
       "    <tr>\n",
       "      <th>1</th>\n",
       "      <td>NJ</td>\n",
       "      <td>8483752</td>\n",
       "      <td>20963.0</td>\n",
       "      <td>1415115.0</td>\n",
       "      <td>0.002471</td>\n",
       "    </tr>\n",
       "    <tr>\n",
       "      <th>2</th>\n",
       "      <td>CA</td>\n",
       "      <td>31167628</td>\n",
       "      <td>17426.0</td>\n",
       "      <td>1490345.0</td>\n",
       "      <td>0.000559</td>\n",
       "    </tr>\n",
       "    <tr>\n",
       "      <th>3</th>\n",
       "      <td>FL</td>\n",
       "      <td>15886804</td>\n",
       "      <td>9821.0</td>\n",
       "      <td>611140.0</td>\n",
       "      <td>0.000618</td>\n",
       "    </tr>\n",
       "    <tr>\n",
       "      <th>4</th>\n",
       "      <td>CT</td>\n",
       "      <td>3386694</td>\n",
       "      <td>8774.0</td>\n",
       "      <td>599581.0</td>\n",
       "      <td>0.002591</td>\n",
       "    </tr>\n",
       "  </tbody>\n",
       "</table>\n",
       "</div>"
      ],
      "text/plain": [
       "  state  population  total_order_count  sum_total_value  avg_order\n",
       "0    NY    18163208            52919.0        3671889.0   0.002914\n",
       "1    NJ     8483752            20963.0        1415115.0   0.002471\n",
       "2    CA    31167628            17426.0        1490345.0   0.000559\n",
       "3    FL    15886804             9821.0         611140.0   0.000618\n",
       "4    CT     3386694             8774.0         599581.0   0.002591"
      ]
     },
     "execution_count": 106,
     "metadata": {},
     "output_type": "execute_result"
    }
   ],
   "source": [
    "df['avg_order'] = df['total_order_count'] / df['population']\n",
    "df[:5]"
   ]
  },
  {
   "cell_type": "code",
   "execution_count": 107,
   "metadata": {},
   "outputs": [
    {
     "data": {
      "text/plain": [
       "<matplotlib.figure.Figure at 0x1857dfda5f8>"
      ]
     },
     "metadata": {},
     "output_type": "display_data"
    },
    {
     "data": {
      "image/png": "[encoded data removed]",
      "text/plain": [
       "<matplotlib.figure.Figure at 0x1857fa51b00>"
      ]
     },
     "metadata": {},
     "output_type": "display_data"
    }
   ],
   "source": [
    "plot_histogram_group_scaled(df[df['total_order_count']>1000], 'state', ['population', 'total_order_count', 'sum_total_value', 'avg_order'], title=\" order distribution on state\")"
   ]
  },
  {
   "cell_type": "markdown",
   "metadata": {},
   "source": [
    "### order volumn VS states\n",
    "* big pop, low volumn: CA\n",
    "* small pop, huge avg volumn: DC\n",
    "* big pop and volumn: NY\n"
   ]
  },
  {
   "cell_type": "markdown",
   "metadata": {},
   "source": [
    "### project goal - make recommendation\n",
    "But\n",
    "* recommend what  -- product\n",
    "* to who?         -- customer\n",
    "* at what time?   -- calendar\n",
    "* in what format? -- campaigns(sale)"
   ]
  },
  {
   "cell_type": "markdown",
   "metadata": {},
   "source": [
    "## Preliminary queries that for ML\n",
    "* Preliminary queries that're potentially useful for ML based on our view.\n",
    "* Features from raw data with qualification criteria\n",
    "* Aggregated features from raw data - todo"
   ]
  },
  {
   "cell_type": "markdown",
   "metadata": {},
   "source": [
    "## Query conditions"
   ]
  },
  {
   "cell_type": "markdown",
   "metadata": {},
   "source": [
    "### Queries w.r.t products\n",
    "1. whose category name contains the string “Education” and \n",
    "    must be at least two levels below “Books” (why?) AND \n",
    "2. the price of the book is between \\$20 and \\$60 (why?) AND\n",
    "3. the book must have an average sale of 20 copies/month AND \n",
    "4. the book has received at least 10 reviews (why?)\n",
    "  each of which must have at least three sentences (why?)\n",
    "\n",
    "`\n",
    "SELECT p.productid, p.name,  30*sum(ol.numunits) / (max(o.orderdate)-min(o.orderdate)) as monthly_volumn\n",
    "FROM products p, orders o, orderlines ol\n",
    "WHERE \n",
    "  p.fullprice between '20' AND '60' AND\n",
    "  p.productid = ol.productid and o.orderid = ol.orderid\n",
    "GROUP BY p.productid\n",
    "HAVING  max(o.orderdate)!=min(o.orderdate) AND 30*sum(ol.numunits) / (max(o.orderdate)-min(o.orderdate)) > 20\n",
    "ORDER BY monthly_volumn DESC\n",
    "`"
   ]
  },
  {
   "cell_type": "markdown",
   "metadata": {},
   "source": [
    "### queries w.r.t customers\n",
    "1. customers with gender male/female, other profile(eg age)?\n",
    "2. customers who purchased above certain volumn, eg > 5 orders, > 10 books or > $100 total value\n",
    "3. customers who purchased above certain volumn/period, eg 5 orders/month\n",
    "\n",
    "2,3 are invalid because each customer purchased only 1 book."
   ]
  },
  {
   "cell_type": "markdown",
   "metadata": {},
   "source": [
    "### queries w.r.t campaigns\n",
    "1. campaigns(239 in total) that produces high volumn, eg > 30 orders\n",
    "2. campaign channels(13 in total) that produces high volumn. (can be done offline)\n",
    "3. campaign discount(10 in total) that produces high volumn. (offline)\n",
    "4. campaign with freeshipping(2) "
   ]
  },
  {
   "cell_type": "markdown",
   "metadata": {},
   "source": [
    "### queries w.r.t calendar\n",
    "1. dates that are in and outside of holidays windows with window's size\n",
    "2. dates that are in different holidays or holiday types\n",
    "3. dates of non-holidays that have seasonal high volumn"
   ]
  },
  {
   "cell_type": "markdown",
   "metadata": {},
   "source": [
    "### queries of combined criterias\n",
    "1. combine multiple criterias, all criterias are connected through orders.  eg. get orders that \n",
    "  * are from high-volumn customers, eg > 5 orders/month\n",
    "  * include books with high price, eg > $50\n",
    "  * are sold during winter\n",
    "  * are sold on web(channel), with no discount, with no freeshipping\n",
    "      \n",
    "2. Join scheme\n",
    "  * inner join\n",
    "    eg. get orders that are either from high-volumn customers or include books with high price\n",
    "  * outer join\n",
    "    eg. get orders that are from high-volumn customers and involve books with high price"
   ]
  },
  {
   "cell_type": "markdown",
   "metadata": {},
   "source": [
    "## Feature Extraction\n",
    "Need working with ML team for more detailed requirement\n",
    "\n",
    "### Single-factor recommendation model\n",
    "1. neighborhood method \n",
    "  * similar to HW 'cats video' in dse201\n",
    "2. latent factor method\n",
    "  * customer vs product matrix setup - possible with SQL?\n"
   ]
  },
  {
   "cell_type": "markdown",
   "metadata": {},
   "source": [
    "### Comprehensive model with dynamic features \n",
    "1. recommendation depends on dynamic input eg, current date is holiday or not, current budget for campaign, etc\n",
    "\n",
    "2. We can build separate tables for customer features and product features. eg\n",
    "  * customerid, order_num, avg_order_per_month, total_price, order_percent_in_holiday, order_percent_in_discount, order_percent_in_category1, ...\n",
    "  * productid, order_num, order_percent_in_holiday, total_review_cnt, avg_review_rate, adjusted_category, ...\n",
    "\n",
    "3. cross product 2 gives\n",
    "  * customerid, productid, cust_feature1, cust_feature2, ..., book_feature1, book_feature2, ..., \n"
   ]
  },
  {
   "cell_type": "code",
   "execution_count": null,
   "metadata": {
    "collapsed": true
   },
   "outputs": [],
   "source": []
  }
 ],
 "metadata": {
  "kernelspec": {
   "display_name": "Python 3",
   "language": "python",
   "name": "python3"
  },
  "language_info": {
   "codemirror_mode": {
    "name": "ipython",
    "version": 3
   },
   "file_extension": ".py",
   "mimetype": "text/x-python",
   "name": "python",
   "nbconvert_exporter": "python",
   "pygments_lexer": "ipython3",
   "version": "3.5.0"
  }
 },
 "nbformat": 4,
 "nbformat_minor": 2
}
