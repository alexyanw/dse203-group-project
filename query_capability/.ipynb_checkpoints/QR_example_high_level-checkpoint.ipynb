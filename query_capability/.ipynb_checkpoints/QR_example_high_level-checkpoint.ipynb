{
 "cells": [
  {
   "cell_type": "code",
   "execution_count": 1,
   "metadata": {
    "collapsed": true
   },
   "outputs": [],
   "source": [
    "#import customer_view\n",
    "#import review_feature\n",
    "from product_view import ProductView\n",
    "from classification_info import ClassificationInfo"
   ]
  },
  {
   "cell_type": "code",
   "execution_count": 2,
   "metadata": {
    "collapsed": true
   },
   "outputs": [],
   "source": [
    "# API to get all features of product of given category\n",
    "def get_product_feature_in_category(category, **kwargs):\n",
    "    classinfo = ClassificationInfo()\n",
    "    pv = ProductView()\n",
    "    nodes = classinfo.get_nodes_by_category(category, id=True)\n",
    "    strnodes = ', '.join([\"'{}'\".format(n) for n in nodes])\n",
    "    condition = \"category in ({})\".format(strnodes)\n",
    "    return pv.get_product_view(limit=10, where=condition, **kwargs)\n",
    "    "
   ]
  },
  {
   "cell_type": "code",
   "execution_count": 3,
   "metadata": {},
   "outputs": [
    {
     "data": {
      "text/html": [
       "<div>\n",
       "<style>\n",
       "    .dataframe thead tr:only-child th {\n",
       "        text-align: right;\n",
       "    }\n",
       "\n",
       "    .dataframe thead th {\n",
       "        text-align: left;\n",
       "    }\n",
       "\n",
       "    .dataframe tbody tr th {\n",
       "        vertical-align: top;\n",
       "    }\n",
       "</style>\n",
       "<table border=\"1\" class=\"dataframe\">\n",
       "  <thead>\n",
       "    <tr style=\"text-align: right;\">\n",
       "      <th></th>\n",
       "      <th>productid</th>\n",
       "      <th>category</th>\n",
       "      <th>total_review_count</th>\n",
       "      <th>total_copy_count</th>\n",
       "      <th>fullprice</th>\n",
       "      <th>avg_review_rating</th>\n",
       "      <th>isinstock</th>\n",
       "      <th>total_order_count</th>\n",
       "    </tr>\n",
       "  </thead>\n",
       "  <tbody>\n",
       "    <tr>\n",
       "      <th>0</th>\n",
       "      <td>11755</td>\n",
       "      <td>12329</td>\n",
       "      <td>1</td>\n",
       "      <td>1</td>\n",
       "      <td>$495.00</td>\n",
       "      <td>4.000000</td>\n",
       "      <td>Y</td>\n",
       "      <td>1</td>\n",
       "    </tr>\n",
       "    <tr>\n",
       "      <th>1</th>\n",
       "      <td>11754</td>\n",
       "      <td>7288554011</td>\n",
       "      <td>1</td>\n",
       "      <td>5</td>\n",
       "      <td>$195.00</td>\n",
       "      <td>5.000000</td>\n",
       "      <td>Y</td>\n",
       "      <td>6</td>\n",
       "    </tr>\n",
       "    <tr>\n",
       "      <th>2</th>\n",
       "      <td>11756</td>\n",
       "      <td>7288555011</td>\n",
       "      <td>47</td>\n",
       "      <td>2</td>\n",
       "      <td>$451.00</td>\n",
       "      <td>3.702128</td>\n",
       "      <td>Y</td>\n",
       "      <td>2</td>\n",
       "    </tr>\n",
       "    <tr>\n",
       "      <th>3</th>\n",
       "      <td>11752</td>\n",
       "      <td>172800</td>\n",
       "      <td>1</td>\n",
       "      <td>3</td>\n",
       "      <td>$175.00</td>\n",
       "      <td>5.000000</td>\n",
       "      <td>Y</td>\n",
       "      <td>3</td>\n",
       "    </tr>\n",
       "    <tr>\n",
       "      <th>4</th>\n",
       "      <td>11753</td>\n",
       "      <td>7288553011</td>\n",
       "      <td>76</td>\n",
       "      <td>2</td>\n",
       "      <td>$340.00</td>\n",
       "      <td>3.907895</td>\n",
       "      <td>Y</td>\n",
       "      <td>3</td>\n",
       "    </tr>\n",
       "  </tbody>\n",
       "</table>\n",
       "</div>"
      ],
      "text/plain": [
       "   productid    category  total_review_count  total_copy_count fullprice  \\\n",
       "0      11755       12329                   1                 1   $495.00   \n",
       "1      11754  7288554011                   1                 5   $195.00   \n",
       "2      11756  7288555011                  47                 2   $451.00   \n",
       "3      11752      172800                   1                 3   $175.00   \n",
       "4      11753  7288553011                  76                 2   $340.00   \n",
       "\n",
       "   avg_review_rating isinstock  total_order_count  \n",
       "0           4.000000         Y                  1  \n",
       "1           5.000000         Y                  6  \n",
       "2           3.702128         Y                  2  \n",
       "3           5.000000         Y                  3  \n",
       "4           3.907895         Y                  3  "
      ]
     },
     "execution_count": 3,
     "metadata": {},
     "output_type": "execute_result"
    }
   ],
   "source": [
    "result = get_product_feature_in_category(['Education'])\n",
    "result"
   ]
  },
  {
   "cell_type": "code",
   "execution_count": null,
   "metadata": {
    "collapsed": true
   },
   "outputs": [],
   "source": [
    "result = get_product_feature_in_category(['Architecture', ''])\n",
    "result"
   ]
  }
 ],
 "metadata": {
  "kernelspec": {
   "display_name": "Python 3",
   "language": "python",
   "name": "python3"
  },
  "language_info": {
   "codemirror_mode": {
    "name": "ipython",
    "version": 3
   },
   "file_extension": ".py",
   "mimetype": "text/x-python",
   "name": "python",
   "nbconvert_exporter": "python",
   "pygments_lexer": "ipython3",
   "version": "3.5.0"
  }
 },
 "nbformat": 4,
 "nbformat_minor": 2
}
