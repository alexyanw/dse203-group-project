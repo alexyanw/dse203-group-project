{
 "cells": [
  {
   "cell_type": "code",
   "execution_count": 4,
   "metadata": {
    "collapsed": true
   },
   "outputs": [],
   "source": [
    "#Import API\n",
    "from dora.api import DataExplorer\n",
    "\n",
    "import pandas as pd\n",
    "from datetime import date, timedelta, datetime\n",
    "from matplotlib import pyplot\n",
    "import matplotlib.pyplot as plt\n",
    "from mpl_toolkits.mplot3d import Axes3D\n",
    "from uszipcode import ZipcodeSearchEngine\n",
    "import numpy as np\n",
    "\n",
    "import random\n",
    "import time\n",
    "from sklearn.model_selection import KFold\n",
    "import json\n",
    "import sys\n",
    "\n",
    "explorer = DataExplorer()"
   ]
  },
  {
   "cell_type": "code",
   "execution_count": 5,
   "metadata": {
    "collapsed": true
   },
   "outputs": [],
   "source": [
    "def clusterDist(df):\n",
    "    maxn=df['cluster'].max()\n",
    "    clusterStats=pd.DataFrame()\n",
    "    for i in range(maxn+1):\n",
    "        mask=(df['cluster']==i)\n",
    "        t=df.loc[mask]\n",
    "        clusterStats.loc[i,'avgNumOrders']=t['numorders'].mean()\n",
    "        clusterStats.loc[i,'avgTotalSpent']=t['totalspent'].mean()\n",
    "        clusterStats.loc[i,'numHouseholds']=t['householdid'].nunique()\n",
    "        clusterStats.loc[i,'numZipcoes']=t['zipcode'].nunique()\n",
    "        clusterStats.loc[i,'avgTotalPopMales']=t['totalmales'].mean()\n",
    "        clusterStats.loc[i,'avgTotalPopFemales']=t['totalfemales'].mean()\n",
    "        clusterStats.loc[i,'avgTotalPop']=t['totalpop'].mean()\n",
    "        clusterStats.loc[i,'medianAge']=t['medianage'].median()\n",
    "    return clusterStats"
   ]
  },
  {
   "cell_type": "code",
   "execution_count": 6,
   "metadata": {},
   "outputs": [],
   "source": [
    "cluster1CustmeridsMapping = np.load('cluster1CustmeridsMapping.npy')"
   ]
  },
  {
   "cell_type": "markdown",
   "metadata": {},
   "source": [
    "#cCluster_rmHID.columns\n",
    "\n",
    "array(['gender', 'totalmales', 'totalfemales', 'totalpop',\n",
    "       'customermatchedid', 'numorders', 'zipcode', 'medianage',\n",
    "       'totalspent', 'householdid', 'firstname', 'numcustomerid',\n",
    "       'cluster', 'customerids'], dtype=object)"
   ]
  },
  {
   "cell_type": "code",
   "execution_count": 7,
   "metadata": {
    "collapsed": true
   },
   "outputs": [],
   "source": [
    "# Create co-occurrence matrix\n",
    "\n",
    "def create_cocmatrix(subset_matrix_cust_order):\n",
    "    rows, cols = subset_matrix_cust_order.shape\n",
    "    m = np.zeros((cols,cols))\n",
    "    \n",
    "    for i in range(cols):\n",
    "        t = np.sum(subset_matrix_cust_order[subset_matrix_cust_order[:,i] > 0],axis=0)\n",
    "        t[i] = 0\n",
    "        m[i,:] = t\n",
    "                    \n",
    "    return m"
   ]
  },
  {
   "cell_type": "code",
   "execution_count": 8,
   "metadata": {
    "collapsed": true
   },
   "outputs": [],
   "source": [
    "def create_seed(rand):\n",
    "    np.random.seed(rand) # create seed for repeatable results"
   ]
  },
  {
   "cell_type": "code",
   "execution_count": 9,
   "metadata": {
    "collapsed": true
   },
   "outputs": [],
   "source": [
    "# generate recommendations\n",
    "# purchase_vec = customer purchases (vector)\n",
    "# cocm = co occurrence matrix [items x items]\n",
    "# num_rec = number of recommendations\n",
    "def gen_recom(purchase_list,cocm,num_rec):\n",
    "    rowsum = np.zeros(cocm.shape[0])\n",
    "    \n",
    "    for p in purchase_list:\n",
    "        rowsum += cocm[p,:]\n",
    "        \n",
    "    rowsum[purchase_list] = 0\n",
    "    indices = np.nonzero(rowsum)[0]\n",
    "    toprec = indices[np.argsort(rowsum[indices])][-1 * num_rec:][::-1]\n",
    "    return toprec"
   ]
  },
  {
   "cell_type": "code",
   "execution_count": 10,
   "metadata": {
    "collapsed": true
   },
   "outputs": [],
   "source": [
    "def get_indices(dataset, col, var=None):\n",
    "    if var is None:\n",
    "        return [y for y, x in enumerate(dataset[:,col])] # all\n",
    "    \n",
    "    return [y for y, x in enumerate(dataset[:,col]) if x == var]"
   ]
  },
  {
   "cell_type": "code",
   "execution_count": 11,
   "metadata": {
    "collapsed": true
   },
   "outputs": [],
   "source": [
    "def check_idx_size(idxlist,maximum_rows):\n",
    "    if len(idxlist) > maximum_rows:\n",
    "        return np.random.choice(idxlist, maximum_rows, replace=False)\n",
    "    \n",
    "    return idxlist"
   ]
  },
  {
   "cell_type": "code",
   "execution_count": 12,
   "metadata": {},
   "outputs": [
    {
     "name": "stdout",
     "output_type": "stream",
     "text": [
      "created customer to order lookup\n"
     ]
    },
    {
     "data": {
      "text/plain": [
       "(189559, 3990)"
      ]
     },
     "execution_count": 12,
     "metadata": {},
     "output_type": "execute_result"
    }
   ],
   "source": [
    "# customer to order lookup\n",
    "matrix_co = np.load('cust_item_matrix.npy')\n",
    "print (\"created customer to order lookup\")\n",
    "\n",
    "matrix_co.shape"
   ]
  },
  {
   "cell_type": "code",
   "execution_count": 13,
   "metadata": {},
   "outputs": [
    {
     "name": "stdout",
     "output_type": "stream",
     "text": [
      "created customer id lookup\n"
     ]
    },
    {
     "data": {
      "text/plain": [
       "(189559,)"
      ]
     },
     "execution_count": 13,
     "metadata": {},
     "output_type": "execute_result"
    }
   ],
   "source": [
    "custlist = np.load('custids.npy')\n",
    "print (\"created customer id lookup\")\n",
    "\n",
    "custlist.shape"
   ]
  },
  {
   "cell_type": "code",
   "execution_count": 38,
   "metadata": {},
   "outputs": [
    {
     "data": {
      "text/plain": [
       "array([[ 5.],\n",
       "       [ 6.],\n",
       "       [ 7.],\n",
       "       [ 0.],\n",
       "       [ 4.]])"
      ]
     },
     "execution_count": 38,
     "metadata": {},
     "output_type": "execute_result"
    }
   ],
   "source": [
    "cluster1CustmeridsMapping[:5]"
   ]
  },
  {
   "cell_type": "code",
   "execution_count": 39,
   "metadata": {},
   "outputs": [
    {
     "data": {
      "text/plain": [
       "array([1, 2, 3, 4, 5])"
      ]
     },
     "execution_count": 39,
     "metadata": {},
     "output_type": "execute_result"
    }
   ],
   "source": [
    "custlist[:5]"
   ]
  },
  {
   "cell_type": "code",
   "execution_count": 75,
   "metadata": {},
   "outputs": [
    {
     "name": "stdout",
     "output_type": "stream",
     "text": [
      "[0.0, 1.0, 2.0, 3.0, 4.0, 5.0, 6.0, 7.0]\n"
     ]
    }
   ],
   "source": [
    "unique_clusters = sorted(list(set(cluster1CustmeridsMapping[:,0])))\n",
    "print (unique_clusters)"
   ]
  },
  {
   "cell_type": "code",
   "execution_count": 49,
   "metadata": {
    "collapsed": true
   },
   "outputs": [],
   "source": [
    "# bring in customerids to map with cluster ids\n",
    "arr_cxd = np.zeros((custlist.shape[0],1))"
   ]
  },
  {
   "cell_type": "code",
   "execution_count": 50,
   "metadata": {},
   "outputs": [
    {
     "data": {
      "text/plain": [
       "(189559, 1)"
      ]
     },
     "execution_count": 50,
     "metadata": {},
     "output_type": "execute_result"
    }
   ],
   "source": [
    "arr_cxd.shape"
   ]
  },
  {
   "cell_type": "code",
   "execution_count": 44,
   "metadata": {
    "collapsed": true
   },
   "outputs": [],
   "source": [
    "#x = [[1,2,3],[4,5,6],[7,8,9]]\n",
    "#x = np.delete(x, [0,1], axis=0)\n",
    "#x"
   ]
  },
  {
   "cell_type": "code",
   "execution_count": 18,
   "metadata": {},
   "outputs": [
    {
     "data": {
      "text/plain": [
       "(189559, 1)"
      ]
     },
     "execution_count": 18,
     "metadata": {},
     "output_type": "execute_result"
    }
   ],
   "source": [
    "cluster1CustmeridsMapping.shape"
   ]
  },
  {
   "cell_type": "code",
   "execution_count": 60,
   "metadata": {
    "collapsed": true
   },
   "outputs": [],
   "source": [
    "# mapping cluster ids\n",
    "for i in range(cluster1CustmeridsMapping.shape[0]):\n",
    "    cid = cluster1CustmeridsMapping[i]\n",
    "    arr_cxd[i] = cid    "
   ]
  },
  {
   "cell_type": "code",
   "execution_count": 32,
   "metadata": {
    "collapsed": true
   },
   "outputs": [],
   "source": [
    "#np.save('cluster1CustmeridsMapping.npy',arr_cxd)"
   ]
  },
  {
   "cell_type": "code",
   "execution_count": 85,
   "metadata": {},
   "outputs": [],
   "source": [
    "# mapping cluster ids\n",
    "def create_cluster_coo_matrix(mco,clusterid):\n",
    "    global cluster1CustmeridsMapping\n",
    "    indx = []\n",
    "    \n",
    "    for i in range(cluster1CustmeridsMapping.shape[0]):\n",
    "        if (cluster1CustmeridsMapping[i]) == clusterid:\n",
    "            indx.append(i)\n",
    "\n",
    "    cluster_coo_matrix = create_cocmatrix(mco[indx])\n",
    "    np.save(\"cluster{0}_coo_matrix.npy\".format(clusterid),cluster_coo_matrix)"
   ]
  },
  {
   "cell_type": "code",
   "execution_count": 91,
   "metadata": {},
   "outputs": [],
   "source": [
    "create_cluster_coo_matrix(matrix_co,7)"
   ]
  },
  {
   "cell_type": "code",
   "execution_count": 88,
   "metadata": {
    "collapsed": true
   },
   "outputs": [],
   "source": [
    "testm = np.load('cluster3_coo_matrix.npy')"
   ]
  },
  {
   "cell_type": "code",
   "execution_count": 89,
   "metadata": {},
   "outputs": [
    {
     "data": {
      "text/plain": [
       "(3990, 3990)"
      ]
     },
     "execution_count": 89,
     "metadata": {},
     "output_type": "execute_result"
    }
   ],
   "source": [
    "testm.shape"
   ]
  },
  {
   "cell_type": "code",
   "execution_count": 34,
   "metadata": {},
   "outputs": [
    {
     "data": {
      "text/plain": [
       "(3990, 3990)"
      ]
     },
     "execution_count": 34,
     "metadata": {},
     "output_type": "execute_result"
    }
   ],
   "source": [
    "testm5 = np.load('cluster5_coo_matrix.npy')\n",
    "testm5.shape"
   ]
  },
  {
   "cell_type": "code",
   "execution_count": 36,
   "metadata": {},
   "outputs": [
    {
     "data": {
      "text/plain": [
       "(3990, 3990)"
      ]
     },
     "execution_count": 36,
     "metadata": {},
     "output_type": "execute_result"
    }
   ],
   "source": [
    "testm6 = np.load('cluster6_coo_matrix.npy')\n",
    "testm6.shape"
   ]
  },
  {
   "cell_type": "code",
   "execution_count": 41,
   "metadata": {},
   "outputs": [
    {
     "data": {
      "text/plain": [
       "array([[ 0.,  0.,  0., ...,  0.,  0.,  0.],\n",
       "       [ 0.,  0.,  0., ...,  0.,  0.,  0.],\n",
       "       [ 0.,  0.,  0., ...,  0.,  0.,  0.],\n",
       "       [ 0.,  0.,  0., ...,  0.,  0.,  0.],\n",
       "       [ 0.,  0.,  0., ...,  0.,  0.,  0.]])"
      ]
     },
     "execution_count": 41,
     "metadata": {},
     "output_type": "execute_result"
    }
   ],
   "source": [
    "testm6[:5]"
   ]
  },
  {
   "cell_type": "code",
   "execution_count": 61,
   "metadata": {},
   "outputs": [
    {
     "data": {
      "text/plain": [
       "(189559, 1)"
      ]
     },
     "execution_count": 61,
     "metadata": {},
     "output_type": "execute_result"
    }
   ],
   "source": [
    "cluster1CustmeridsMapping.shape"
   ]
  },
  {
   "cell_type": "code",
   "execution_count": 62,
   "metadata": {},
   "outputs": [
    {
     "data": {
      "text/plain": [
       "(189559, 3990)"
      ]
     },
     "execution_count": 62,
     "metadata": {},
     "output_type": "execute_result"
    }
   ],
   "source": [
    "matrix_co.shape"
   ]
  },
  {
   "cell_type": "code",
   "execution_count": 64,
   "metadata": {},
   "outputs": [
    {
     "data": {
      "text/plain": [
       "array([ 7.])"
      ]
     },
     "execution_count": 64,
     "metadata": {},
     "output_type": "execute_result"
    }
   ],
   "source": [
    "arr_cxd[2]"
   ]
  },
  {
   "cell_type": "code",
   "execution_count": 65,
   "metadata": {
    "collapsed": true
   },
   "outputs": [],
   "source": [
    "#80/20, 80 for 10-fold cross validation, 20 for test set holdout\n",
    "create_seed(0)\n",
    "indices = np.random.permutation(matrix_co.shape[0])\n",
    "tsize = int(matrix_co.shape[0]*.8)"
   ]
  },
  {
   "cell_type": "code",
   "execution_count": 66,
   "metadata": {
    "collapsed": true
   },
   "outputs": [],
   "source": [
    "# customer to order matrix\n",
    "matrix_co_training_idx, matrix_co_testing_idx  = indices[:tsize], indices[tsize:]\n",
    "matrix_co_training, matrix_co_testing = matrix_co[matrix_co_training_idx,:], matrix_co[matrix_co_testing_idx,:]"
   ]
  },
  {
   "cell_type": "code",
   "execution_count": 67,
   "metadata": {},
   "outputs": [],
   "source": [
    "# demo matrix\n",
    "arr_cxd_training_idx, arr_cxd_testing_idx = indices[:tsize], indices[tsize:]\n",
    "arr_cxd_training, arr_cxd_testing = arr_cxd[arr_cxd_training_idx,:], arr_cxd[arr_cxd_testing_idx,:]"
   ]
  },
  {
   "cell_type": "code",
   "execution_count": 68,
   "metadata": {},
   "outputs": [
    {
     "data": {
      "text/plain": [
       "((151647, 3990), (151647, 1), (189559, 3990), (189559, 1))"
      ]
     },
     "execution_count": 68,
     "metadata": {},
     "output_type": "execute_result"
    }
   ],
   "source": [
    "matrix_co_training.shape, arr_cxd_training.shape, matrix_co.shape, arr_cxd.shape"
   ]
  },
  {
   "cell_type": "code",
   "execution_count": 69,
   "metadata": {},
   "outputs": [],
   "source": [
    "# put matrixes in to get cross validation recall\n",
    "# generate recommendations\n",
    "# mco = matrix of customer to order [customer x items]\n",
    "# num_rec = number of recommendations\n",
    "# num_folds = k number of folds for cross validation\n",
    "# recall_remove = removed number from purchase history\n",
    "def collab_recall_validation_tester(mco,num_rec,num_folds,recall_remove):\n",
    "    # cross validation n-folds\n",
    "    start_time = time.time()\n",
    "    kf = KFold(n_splits=num_folds)\n",
    "    list_total_acc=[]\n",
    "    k_index = 0\n",
    "    \n",
    "    list_gen_acc = []\n",
    "    \n",
    "    for train, test in kf.split(mco):\n",
    "        print(\"start new k={0},train set={1},validation set={2}\".format(k_index,mco[train].shape[0],mco[test].shape[0]))\n",
    "        \n",
    "        list_sub_acc = []\n",
    "        # build co-occurrence matrix\n",
    "        coo_matrix = create_cocmatrix(mco[train])\n",
    "\n",
    "        # loop through test set\n",
    "        # for each customer in test pool\n",
    "        for i in range(mco[test].shape[0]):      \n",
    "            p_vec = mco[test][i,:]\n",
    "            list_original_purchases = np.where(p_vec > 0)[0]\n",
    "            # only run tests on customers with > recall_remove purchases for prediction\n",
    "            if len(list_original_purchases) > recall_remove:\n",
    "                # randomly select indexes to leave out\n",
    "                list_removed_purchases = random.sample(list(list_original_purchases),recall_remove)\n",
    "                # remove\n",
    "                list_modified_purchases = list(set(list_original_purchases) - set(list_removed_purchases))\n",
    "                # get sum all purchases except ones left out\n",
    "                list_summed_coo_vec = gen_recom(list_modified_purchases,coo_matrix,num_rec)\n",
    "                # check if return recommendations are in list\n",
    "                list_recommended_match = set(list_removed_purchases) & set(list_summed_coo_vec)\n",
    "                acc = len(list_recommended_match)/float(len(list_removed_purchases))\n",
    "                list_sub_acc.append(acc)\n",
    "                \n",
    "        mean_sub_acc = np.mean(list_sub_acc)\n",
    "        print (\"** number of elements in calculation {0}\".format(len(list_sub_acc)))\n",
    "        #print list_sub_acc\n",
    "        print (\"** average fold accuracy {0}\".format(mean_sub_acc))\n",
    "        list_total_acc.append(mean_sub_acc)\n",
    "        k_index += 1\n",
    "        print (\"**time elapsed {0}\".format((time.time() - start_time)))\n",
    "        print (\"------------------------------------end\")\n",
    "        \n",
    "    print (\"list of total accuracy for each fold {0}\".format(list_total_acc))\n",
    "    average = np.mean(list_total_acc)\n",
    "    print (\"{0}-fold total average {1}\".format(num_folds,average))\n",
    "    print (\"time elapsed {0}\".format((time.time() - start_time)))\n",
    "    return average"
   ]
  },
  {
   "cell_type": "code",
   "execution_count": 70,
   "metadata": {
    "collapsed": true
   },
   "outputs": [],
   "source": [
    "# put matrixes in to get cross validation coverage\n",
    "# generate recommendations\n",
    "# mco = matrix of customer to order [customer x items]\n",
    "# num_rec = number of recommendations\n",
    "# num_folds = k number of folds for cross validation\n",
    "# recall_remove = removed number from purchase history\n",
    "# list_catid = category customer is interested in\n",
    "def collab_catalog_validation_tester(mco,num_rec,num_folds,recall_remove):\n",
    "    # cross validation n-folds\n",
    "    start_time = time.time()\n",
    "    kf = KFold(n_splits=num_folds)\n",
    "    list_total_coverage=[]\n",
    "    k_index = 0\n",
    "    \n",
    "    for train, test in kf.split(mco):\n",
    "        set_products = set()\n",
    "        # build co-occurrence matrix\n",
    "        print(\"start new k={0},train set={1},validation set={2}\".format(k_index,mco[train].shape[0],mco[test].shape[0]))\n",
    "        coo_matrix = create_cocmatrix(mco[train])\n",
    "\n",
    "        # loop through test set\n",
    "        # for each customer in test pool\n",
    "        for i in range(mco[test].shape[0]):\n",
    "            # purchase vector\n",
    "            p_vec = mco[test][i,:]\n",
    "            list_original_purchases = np.where(p_vec > 0)[0]\n",
    "            # get sum all purchases\n",
    "            list_summed_coo_vec = gen_recom(list_original_purchases,coo_matrix,num_rec)    \n",
    "            set_products = set_products | set(list_summed_coo_vec)\n",
    "                        \n",
    "        mean_sub_cov = float(len(set_products))/p_vec.shape[0]\n",
    "        print (\"**length fold set {0}\".format(float(len(set_products))))\n",
    "        print (\"**average fold coverage {0}\".format(mean_sub_cov))\n",
    "        list_total_coverage.append(mean_sub_cov)\n",
    "        k_index += 1\n",
    "        print (\"**time elapsed {0}\".format((time.time() - start_time)))\n",
    "        print (\"------------------------------------end\")\n",
    "    \n",
    "    print (\"list of total coverage for each fold {0}\".format(list_total_coverage))\n",
    "    average = np.mean(list_total_coverage)\n",
    "    print (\"{0}-fold total average {1}\".format(num_folds,average))\n",
    "    print (\"time elapsed {0}\".format((time.time() - start_time)))\n",
    "    return average"
   ]
  },
  {
   "cell_type": "code",
   "execution_count": 79,
   "metadata": {},
   "outputs": [],
   "source": [
    "def demo_filter(mco,mdo,clusters,maximum_rows,minimum_rows,num_rec,num_folds,recall_remove):\n",
    "    accuracy = []\n",
    "    coverage = []\n",
    "    \n",
    "    for c in clusters:\n",
    "        cidx = get_indices(mdo, 0, c) # look for cluster in col 0\n",
    "        print (len(cidx))\n",
    "        if len(cidx) == 0:\n",
    "            print (\"cluster: {0} not found\".format(c))\n",
    "            continue\n",
    "\n",
    "        if len(cidx) < minimum_rows:\n",
    "            print (\"too little data with cluster {0} found\".format(c))\n",
    "            continue\n",
    "\n",
    "        cidx = check_idx_size(cidx,maximum_rows) # limit size\n",
    "        print (\"\\ncluster: {0}, size: {1}, {2}\".format(c, len(cidx), len(mco)))\n",
    "                             \n",
    "        total_accuracy = collab_recall_validation_tester(mco[cidx],num_rec,num_folds,recall_remove)\n",
    "        accuracy.append((c,mco[cidx].shape[0],total_accuracy))\n",
    "        total_coverage = collab_catalog_validation_tester(mco[cidx],num_rec,num_folds,recall_remove)\n",
    "        coverage.append((c,mco[cidx].shape[0],total_coverage))\n",
    "        \n",
    "    return accuracy, coverage"
   ]
  },
  {
   "cell_type": "code",
   "execution_count": 80,
   "metadata": {
    "scrolled": false
   },
   "outputs": [
    {
     "name": "stdout",
     "output_type": "stream",
     "text": [
      "3942\n",
      "\n",
      "cluster: 0.0, size: 3942, 151647\n",
      "start new k=0,train set=3547,validation set=395\n",
      "** number of elements in calculation 120\n",
      "** average fold accuracy 0.525\n",
      "**time elapsed 2.25282621383667\n",
      "------------------------------------end\n",
      "start new k=1,train set=3547,validation set=395\n",
      "** number of elements in calculation 118\n",
      "** average fold accuracy 0.4322033898305085\n",
      "**time elapsed 4.435358285903931\n",
      "------------------------------------end\n",
      "start new k=2,train set=3548,validation set=394\n",
      "** number of elements in calculation 112\n",
      "** average fold accuracy 0.5178571428571429\n",
      "**time elapsed 6.64156699180603\n",
      "------------------------------------end\n",
      "start new k=3,train set=3548,validation set=394\n",
      "** number of elements in calculation 124\n",
      "** average fold accuracy 0.532258064516129\n",
      "**time elapsed 9.027894020080566\n",
      "------------------------------------end\n",
      "start new k=4,train set=3548,validation set=394\n",
      "** number of elements in calculation 113\n",
      "** average fold accuracy 0.4424778761061947\n",
      "**time elapsed 11.45082426071167\n",
      "------------------------------------end\n",
      "start new k=5,train set=3548,validation set=394\n",
      "** number of elements in calculation 114\n",
      "** average fold accuracy 0.43859649122807015\n",
      "**time elapsed 13.623621225357056\n",
      "------------------------------------end\n",
      "start new k=6,train set=3548,validation set=394\n",
      "** number of elements in calculation 121\n",
      "** average fold accuracy 0.5041322314049587\n",
      "**time elapsed 15.866336107254028\n",
      "------------------------------------end\n",
      "start new k=7,train set=3548,validation set=394\n",
      "** number of elements in calculation 124\n",
      "** average fold accuracy 0.6048387096774194\n",
      "**time elapsed 18.47528314590454\n",
      "------------------------------------end\n",
      "start new k=8,train set=3548,validation set=394\n",
      "** number of elements in calculation 134\n",
      "** average fold accuracy 0.5223880597014925\n",
      "**time elapsed 20.970055103302002\n",
      "------------------------------------end\n",
      "start new k=9,train set=3548,validation set=394\n",
      "** number of elements in calculation 133\n",
      "** average fold accuracy 0.48120300751879697\n",
      "**time elapsed 23.48705506324768\n",
      "------------------------------------end\n",
      "list of total accuracy for each fold [0.52500000000000002, 0.43220338983050849, 0.5178571428571429, 0.532258064516129, 0.44247787610619471, 0.43859649122807015, 0.50413223140495866, 0.60483870967741937, 0.52238805970149249, 0.48120300751879697]\n",
      "10-fold total average 0.5000954972840713\n",
      "time elapsed 23.48799204826355\n",
      "start new k=0,train set=3547,validation set=395\n",
      "**length fold set 393.0\n",
      "**average fold coverage 0.09849624060150376\n",
      "**time elapsed 2.577712059020996\n",
      "------------------------------------end\n",
      "start new k=1,train set=3547,validation set=395\n",
      "**length fold set 388.0\n",
      "**average fold coverage 0.09724310776942356\n",
      "**time elapsed 4.881285905838013\n",
      "------------------------------------end\n",
      "start new k=2,train set=3548,validation set=394\n",
      "**length fold set 366.0\n",
      "**average fold coverage 0.09172932330827067\n",
      "**time elapsed 7.3371360301971436\n",
      "------------------------------------end\n",
      "start new k=3,train set=3548,validation set=394\n",
      "**length fold set 372.0\n",
      "**average fold coverage 0.09323308270676692\n",
      "**time elapsed 9.541157007217407\n",
      "------------------------------------end\n",
      "start new k=4,train set=3548,validation set=394\n",
      "**length fold set 387.0\n",
      "**average fold coverage 0.09699248120300752\n",
      "**time elapsed 11.94293212890625\n",
      "------------------------------------end\n",
      "start new k=5,train set=3548,validation set=394\n",
      "**length fold set 355.0\n",
      "**average fold coverage 0.08897243107769423\n",
      "**time elapsed 14.267455101013184\n",
      "------------------------------------end\n",
      "start new k=6,train set=3548,validation set=394\n",
      "**length fold set 402.0\n",
      "**average fold coverage 0.10075187969924812\n",
      "**time elapsed 16.754914045333862\n",
      "------------------------------------end\n",
      "start new k=7,train set=3548,validation set=394\n",
      "**length fold set 354.0\n",
      "**average fold coverage 0.0887218045112782\n",
      "**time elapsed 18.937031030654907\n",
      "------------------------------------end\n",
      "start new k=8,train set=3548,validation set=394\n",
      "**length fold set 377.0\n",
      "**average fold coverage 0.09448621553884712\n",
      "**time elapsed 21.06626319885254\n",
      "------------------------------------end\n",
      "start new k=9,train set=3548,validation set=394\n",
      "**length fold set 352.0\n",
      "**average fold coverage 0.08822055137844612\n",
      "**time elapsed 23.222275018692017\n",
      "------------------------------------end\n",
      "list of total coverage for each fold [0.09849624060150376, 0.09724310776942356, 0.09172932330827067, 0.09323308270676692, 0.09699248120300752, 0.08897243107769423, 0.10075187969924812, 0.0887218045112782, 0.09448621553884712, 0.08822055137844612]\n",
      "10-fold total average 0.09388471177944863\n",
      "time elapsed 23.223665952682495\n",
      "35743\n",
      "\n",
      "cluster: 1.0, size: 25000, 151647\n",
      "start new k=0,train set=22500,validation set=2500\n",
      "** number of elements in calculation 710\n",
      "** average fold accuracy 0.5873239436619718\n",
      "**time elapsed 71.48730492591858\n",
      "------------------------------------end\n",
      "start new k=1,train set=22500,validation set=2500\n",
      "** number of elements in calculation 736\n",
      "** average fold accuracy 0.6290760869565217\n",
      "**time elapsed 151.91124200820923\n",
      "------------------------------------end\n",
      "start new k=2,train set=22500,validation set=2500\n",
      "** number of elements in calculation 711\n",
      "** average fold accuracy 0.5921237693389592\n",
      "**time elapsed 236.85085010528564\n",
      "------------------------------------end\n",
      "start new k=3,train set=22500,validation set=2500\n",
      "** number of elements in calculation 662\n",
      "** average fold accuracy 0.6238670694864048\n",
      "**time elapsed 318.08361196517944\n",
      "------------------------------------end\n",
      "start new k=4,train set=22500,validation set=2500\n",
      "** number of elements in calculation 672\n",
      "** average fold accuracy 0.6086309523809523\n",
      "**time elapsed 395.79022693634033\n",
      "------------------------------------end\n",
      "start new k=5,train set=22500,validation set=2500\n",
      "** number of elements in calculation 697\n",
      "** average fold accuracy 0.648493543758967\n",
      "**time elapsed 471.74944591522217\n",
      "------------------------------------end\n",
      "start new k=6,train set=22500,validation set=2500\n",
      "** number of elements in calculation 673\n",
      "** average fold accuracy 0.6285289747399703\n",
      "**time elapsed 554.8560440540314\n",
      "------------------------------------end\n",
      "start new k=7,train set=22500,validation set=2500\n",
      "** number of elements in calculation 656\n",
      "** average fold accuracy 0.6067073170731707\n",
      "**time elapsed 633.3666849136353\n",
      "------------------------------------end\n",
      "start new k=8,train set=22500,validation set=2500\n",
      "** number of elements in calculation 687\n",
      "** average fold accuracy 0.6273653566229985\n",
      "**time elapsed 714.0015490055084\n",
      "------------------------------------end\n",
      "start new k=9,train set=22500,validation set=2500\n",
      "** number of elements in calculation 667\n",
      "** average fold accuracy 0.6086956521739131\n",
      "**time elapsed 792.9410078525543\n",
      "------------------------------------end\n",
      "list of total accuracy for each fold [0.58732394366197183, 0.62907608695652173, 0.59212376933895916, 0.6238670694864048, 0.60863095238095233, 0.64849354375896695, 0.62852897473997027, 0.60670731707317072, 0.62736535662299853, 0.60869565217391308]\n",
      "10-fold total average 0.616081266619383\n",
      "time elapsed 792.9471881389618\n",
      "start new k=0,train set=22500,validation set=2500\n",
      "**length fold set 705.0\n",
      "**average fold coverage 0.17669172932330826\n",
      "**time elapsed 77.47513890266418\n",
      "------------------------------------end\n",
      "start new k=1,train set=22500,validation set=2500\n",
      "**length fold set 709.0\n",
      "**average fold coverage 0.17769423558897243\n",
      "**time elapsed 151.9039762020111\n",
      "------------------------------------end\n",
      "start new k=2,train set=22500,validation set=2500\n",
      "**length fold set 702.0\n",
      "**average fold coverage 0.17593984962406015\n",
      "**time elapsed 226.20914101600647\n",
      "------------------------------------end\n",
      "start new k=3,train set=22500,validation set=2500\n",
      "**length fold set 724.0\n",
      "**average fold coverage 0.18145363408521303\n",
      "**time elapsed 302.64247608184814\n",
      "------------------------------------end\n",
      "start new k=4,train set=22500,validation set=2500\n",
      "**length fold set 730.0\n",
      "**average fold coverage 0.18295739348370926\n",
      "**time elapsed 382.91798281669617\n",
      "------------------------------------end\n",
      "start new k=5,train set=22500,validation set=2500\n",
      "**length fold set 722.0\n",
      "**average fold coverage 0.18095238095238095\n",
      "**time elapsed 463.809091091156\n",
      "------------------------------------end\n"
     ]
    },
    {
     "name": "stdout",
     "output_type": "stream",
     "text": [
      "start new k=6,train set=22500,validation set=2500\n",
      "**length fold set 742.0\n",
      "**average fold coverage 0.18596491228070175\n",
      "**time elapsed 545.2503578662872\n",
      "------------------------------------end\n",
      "start new k=7,train set=22500,validation set=2500\n",
      "**length fold set 722.0\n",
      "**average fold coverage 0.18095238095238095\n",
      "**time elapsed 629.0567820072174\n",
      "------------------------------------end\n",
      "start new k=8,train set=22500,validation set=2500\n",
      "**length fold set 740.0\n",
      "**average fold coverage 0.18546365914786966\n",
      "**time elapsed 708.9832320213318\n",
      "------------------------------------end\n",
      "start new k=9,train set=22500,validation set=2500\n",
      "**length fold set 754.0\n",
      "**average fold coverage 0.18897243107769424\n",
      "**time elapsed 791.0139000415802\n",
      "------------------------------------end\n",
      "list of total coverage for each fold [0.17669172932330826, 0.17769423558897243, 0.17593984962406015, 0.18145363408521303, 0.18295739348370926, 0.18095238095238095, 0.18596491228070175, 0.18095238095238095, 0.18546365914786966, 0.18897243107769424]\n",
      "10-fold total average 0.18170426065162903\n",
      "time elapsed 791.0199730396271\n",
      "5353\n",
      "\n",
      "cluster: 2.0, size: 5353, 151647\n",
      "start new k=0,train set=4817,validation set=536\n",
      "** number of elements in calculation 162\n",
      "** average fold accuracy 0.5061728395061729\n",
      "**time elapsed 4.643326997756958\n",
      "------------------------------------end\n",
      "start new k=1,train set=4817,validation set=536\n",
      "** number of elements in calculation 138\n",
      "** average fold accuracy 0.5652173913043478\n",
      "**time elapsed 8.384517908096313\n",
      "------------------------------------end\n",
      "start new k=2,train set=4817,validation set=536\n",
      "** number of elements in calculation 137\n",
      "** average fold accuracy 0.5255474452554745\n",
      "**time elapsed 12.337415933609009\n",
      "------------------------------------end\n",
      "start new k=3,train set=4818,validation set=535\n",
      "** number of elements in calculation 142\n",
      "** average fold accuracy 0.5422535211267606\n",
      "**time elapsed 16.23806381225586\n",
      "------------------------------------end\n",
      "start new k=4,train set=4818,validation set=535\n",
      "** number of elements in calculation 119\n",
      "** average fold accuracy 0.5462184873949579\n",
      "**time elapsed 20.306649923324585\n",
      "------------------------------------end\n",
      "start new k=5,train set=4818,validation set=535\n",
      "** number of elements in calculation 125\n",
      "** average fold accuracy 0.584\n",
      "**time elapsed 23.782033920288086\n",
      "------------------------------------end\n",
      "start new k=6,train set=4818,validation set=535\n",
      "** number of elements in calculation 131\n",
      "** average fold accuracy 0.5343511450381679\n",
      "**time elapsed 27.29768705368042\n",
      "------------------------------------end\n",
      "start new k=7,train set=4818,validation set=535\n",
      "** number of elements in calculation 155\n",
      "** average fold accuracy 0.5806451612903226\n",
      "**time elapsed 30.88317084312439\n",
      "------------------------------------end\n",
      "start new k=8,train set=4818,validation set=535\n",
      "** number of elements in calculation 119\n",
      "** average fold accuracy 0.5126050420168067\n",
      "**time elapsed 34.347095012664795\n",
      "------------------------------------end\n",
      "start new k=9,train set=4818,validation set=535\n",
      "** number of elements in calculation 140\n",
      "** average fold accuracy 0.6142857142857143\n",
      "**time elapsed 37.8332040309906\n",
      "------------------------------------end\n",
      "list of total accuracy for each fold [0.50617283950617287, 0.56521739130434778, 0.52554744525547448, 0.54225352112676062, 0.54621848739495793, 0.58399999999999996, 0.53435114503816794, 0.58064516129032262, 0.51260504201680668, 0.61428571428571432]\n",
      "10-fold total average 0.5511296747218726\n",
      "time elapsed 37.83412790298462\n",
      "start new k=0,train set=4817,validation set=536\n",
      "**length fold set 349.0\n",
      "**average fold coverage 0.087468671679198\n",
      "**time elapsed 3.6163241863250732\n",
      "------------------------------------end\n",
      "start new k=1,train set=4817,validation set=536\n",
      "**length fold set 361.0\n",
      "**average fold coverage 0.09047619047619047\n",
      "**time elapsed 7.255894184112549\n",
      "------------------------------------end\n",
      "start new k=2,train set=4817,validation set=536\n",
      "**length fold set 344.0\n",
      "**average fold coverage 0.0862155388471178\n",
      "**time elapsed 10.767955303192139\n",
      "------------------------------------end\n",
      "start new k=3,train set=4818,validation set=535\n",
      "**length fold set 337.0\n",
      "**average fold coverage 0.08446115288220551\n",
      "**time elapsed 14.333089113235474\n",
      "------------------------------------end\n",
      "start new k=4,train set=4818,validation set=535\n",
      "**length fold set 382.0\n",
      "**average fold coverage 0.09573934837092732\n",
      "**time elapsed 17.90605330467224\n",
      "------------------------------------end\n",
      "start new k=5,train set=4818,validation set=535\n",
      "**length fold set 348.0\n",
      "**average fold coverage 0.08721804511278196\n",
      "**time elapsed 21.553913116455078\n",
      "------------------------------------end\n",
      "start new k=6,train set=4818,validation set=535\n",
      "**length fold set 338.0\n",
      "**average fold coverage 0.08471177944862156\n",
      "**time elapsed 25.089401245117188\n",
      "------------------------------------end\n",
      "start new k=7,train set=4818,validation set=535\n",
      "**length fold set 349.0\n",
      "**average fold coverage 0.087468671679198\n",
      "**time elapsed 28.699141263961792\n",
      "------------------------------------end\n",
      "start new k=8,train set=4818,validation set=535\n",
      "**length fold set 373.0\n",
      "**average fold coverage 0.09348370927318296\n",
      "**time elapsed 32.39193916320801\n",
      "------------------------------------end\n",
      "start new k=9,train set=4818,validation set=535\n",
      "**length fold set 344.0\n",
      "**average fold coverage 0.0862155388471178\n",
      "**time elapsed 36.00484824180603\n",
      "------------------------------------end\n",
      "list of total coverage for each fold [0.087468671679198, 0.09047619047619047, 0.0862155388471178, 0.08446115288220551, 0.09573934837092732, 0.08721804511278196, 0.08471177944862156, 0.087468671679198, 0.09348370927318296, 0.0862155388471178]\n",
      "10-fold total average 0.08834586466165413\n",
      "time elapsed 36.00593829154968\n",
      "26300\n",
      "\n",
      "cluster: 3.0, size: 25000, 151647\n",
      "start new k=0,train set=22500,validation set=2500\n",
      "** number of elements in calculation 662\n",
      "** average fold accuracy 0.6193353474320241\n",
      "**time elapsed 69.14486598968506\n",
      "------------------------------------end\n",
      "start new k=1,train set=22500,validation set=2500\n",
      "** number of elements in calculation 620\n",
      "** average fold accuracy 0.6403225806451613\n",
      "**time elapsed 135.94455194473267\n",
      "------------------------------------end\n",
      "start new k=2,train set=22500,validation set=2500\n",
      "** number of elements in calculation 638\n",
      "** average fold accuracy 0.6504702194357367\n",
      "**time elapsed 214.16769003868103\n",
      "------------------------------------end\n",
      "start new k=3,train set=22500,validation set=2500\n",
      "** number of elements in calculation 640\n",
      "** average fold accuracy 0.6328125\n",
      "**time elapsed 292.3518350124359\n",
      "------------------------------------end\n",
      "start new k=4,train set=22500,validation set=2500\n",
      "** number of elements in calculation 637\n",
      "** average fold accuracy 0.5996860282574569\n",
      "**time elapsed 360.53283405303955\n",
      "------------------------------------end\n",
      "start new k=5,train set=22500,validation set=2500\n",
      "** number of elements in calculation 715\n",
      "** average fold accuracy 0.6167832167832168\n",
      "**time elapsed 431.98902702331543\n",
      "------------------------------------end\n",
      "start new k=6,train set=22500,validation set=2500\n",
      "** number of elements in calculation 643\n",
      "** average fold accuracy 0.6065318818040435\n",
      "**time elapsed 506.10335206985474\n",
      "------------------------------------end\n",
      "start new k=7,train set=22500,validation set=2500\n",
      "** number of elements in calculation 680\n",
      "** average fold accuracy 0.611764705882353\n",
      "**time elapsed 589.4765949249268\n",
      "------------------------------------end\n",
      "start new k=8,train set=22500,validation set=2500\n",
      "** number of elements in calculation 684\n",
      "** average fold accuracy 0.6096491228070176\n",
      "**time elapsed 671.7069129943848\n",
      "------------------------------------end\n",
      "start new k=9,train set=22500,validation set=2500\n",
      "** number of elements in calculation 668\n",
      "** average fold accuracy 0.5853293413173652\n",
      "**time elapsed 752.9008510112762\n",
      "------------------------------------end\n",
      "list of total accuracy for each fold [0.61933534743202412, 0.64032258064516134, 0.65047021943573669, 0.6328125, 0.59968602825745687, 0.61678321678321679, 0.60653188180404349, 0.61176470588235299, 0.60964912280701755, 0.58532934131736525]\n",
      "10-fold total average 0.6172684944364375\n",
      "time elapsed 752.9029262065887\n",
      "start new k=0,train set=22500,validation set=2500\n",
      "**length fold set 698.0\n",
      "**average fold coverage 0.174937343358396\n",
      "**time elapsed 76.22129917144775\n",
      "------------------------------------end\n"
     ]
    },
    {
     "name": "stdout",
     "output_type": "stream",
     "text": [
      "start new k=1,train set=22500,validation set=2500\n",
      "**length fold set 739.0\n",
      "**average fold coverage 0.18521303258145363\n",
      "**time elapsed 155.73076391220093\n",
      "------------------------------------end\n",
      "start new k=2,train set=22500,validation set=2500\n",
      "**length fold set 757.0\n",
      "**average fold coverage 0.18972431077694235\n",
      "**time elapsed 229.96906685829163\n",
      "------------------------------------end\n",
      "start new k=3,train set=22500,validation set=2500\n",
      "**length fold set 718.0\n",
      "**average fold coverage 0.1799498746867168\n",
      "**time elapsed 303.35137701034546\n",
      "------------------------------------end\n",
      "start new k=4,train set=22500,validation set=2500\n",
      "**length fold set 728.0\n",
      "**average fold coverage 0.1824561403508772\n",
      "**time elapsed 379.6438949108124\n",
      "------------------------------------end\n",
      "start new k=5,train set=22500,validation set=2500\n",
      "**length fold set 729.0\n",
      "**average fold coverage 0.18270676691729323\n",
      "**time elapsed 452.26781010627747\n",
      "------------------------------------end\n",
      "start new k=6,train set=22500,validation set=2500\n",
      "**length fold set 732.0\n",
      "**average fold coverage 0.18345864661654135\n",
      "**time elapsed 524.8721241950989\n",
      "------------------------------------end\n",
      "start new k=7,train set=22500,validation set=2500\n",
      "**length fold set 720.0\n",
      "**average fold coverage 0.18045112781954886\n",
      "**time elapsed 597.1833939552307\n",
      "------------------------------------end\n",
      "start new k=8,train set=22500,validation set=2500\n",
      "**length fold set 719.0\n",
      "**average fold coverage 0.18020050125313283\n",
      "**time elapsed 670.1277422904968\n",
      "------------------------------------end\n",
      "start new k=9,train set=22500,validation set=2500\n",
      "**length fold set 698.0\n",
      "**average fold coverage 0.174937343358396\n",
      "**time elapsed 751.1694560050964\n",
      "------------------------------------end\n",
      "list of total coverage for each fold [0.174937343358396, 0.18521303258145363, 0.18972431077694235, 0.1799498746867168, 0.1824561403508772, 0.18270676691729323, 0.18345864661654135, 0.18045112781954886, 0.18020050125313283, 0.174937343358396]\n",
      "10-fold total average 0.18140350877192984\n",
      "time elapsed 751.170695066452\n",
      "29376\n",
      "\n",
      "cluster: 4.0, size: 25000, 151647\n",
      "start new k=0,train set=22500,validation set=2500\n",
      "** number of elements in calculation 637\n",
      "** average fold accuracy 0.5839874411302983\n",
      "**time elapsed 80.44309091567993\n",
      "------------------------------------end\n",
      "start new k=1,train set=22500,validation set=2500\n",
      "** number of elements in calculation 692\n",
      "** average fold accuracy 0.611271676300578\n",
      "**time elapsed 160.29519176483154\n",
      "------------------------------------end\n",
      "start new k=2,train set=22500,validation set=2500\n",
      "** number of elements in calculation 694\n",
      "** average fold accuracy 0.6095100864553314\n",
      "**time elapsed 239.42463374137878\n",
      "------------------------------------end\n",
      "start new k=3,train set=22500,validation set=2500\n",
      "** number of elements in calculation 647\n",
      "** average fold accuracy 0.5734157650695518\n",
      "**time elapsed 316.94925594329834\n",
      "------------------------------------end\n",
      "start new k=4,train set=22500,validation set=2500\n",
      "** number of elements in calculation 663\n",
      "** average fold accuracy 0.6018099547511312\n",
      "**time elapsed 392.3213949203491\n",
      "------------------------------------end\n",
      "start new k=5,train set=22500,validation set=2500\n",
      "** number of elements in calculation 724\n",
      "** average fold accuracy 0.6270718232044199\n",
      "**time elapsed 462.41505575180054\n",
      "------------------------------------end\n",
      "start new k=6,train set=22500,validation set=2500\n",
      "** number of elements in calculation 689\n",
      "** average fold accuracy 0.6589259796806967\n",
      "**time elapsed 539.6712758541107\n",
      "------------------------------------end\n",
      "start new k=7,train set=22500,validation set=2500\n",
      "** number of elements in calculation 698\n",
      "** average fold accuracy 0.6232091690544412\n",
      "**time elapsed 612.1745688915253\n",
      "------------------------------------end\n",
      "start new k=8,train set=22500,validation set=2500\n",
      "** number of elements in calculation 698\n",
      "** average fold accuracy 0.6361031518624641\n",
      "**time elapsed 680.179988861084\n",
      "------------------------------------end\n",
      "start new k=9,train set=22500,validation set=2500\n",
      "** number of elements in calculation 689\n",
      "** average fold accuracy 0.6298984034833092\n",
      "**time elapsed 748.630806684494\n",
      "------------------------------------end\n",
      "list of total accuracy for each fold [0.58398744113029832, 0.61127167630057799, 0.60951008645533145, 0.57341576506955183, 0.60180995475113119, 0.6270718232044199, 0.65892597968069666, 0.62320916905444124, 0.63610315186246413, 0.62989840348330917]\n",
      "10-fold total average 0.615520345099222\n",
      "time elapsed 748.6362688541412\n",
      "start new k=0,train set=22500,validation set=2500\n",
      "**length fold set 757.0\n",
      "**average fold coverage 0.18972431077694235\n",
      "**time elapsed 76.8548698425293\n",
      "------------------------------------end\n",
      "start new k=1,train set=22500,validation set=2500\n",
      "**length fold set 745.0\n",
      "**average fold coverage 0.18671679197994986\n",
      "**time elapsed 156.33627200126648\n",
      "------------------------------------end\n",
      "start new k=2,train set=22500,validation set=2500\n",
      "**length fold set 707.0\n",
      "**average fold coverage 0.17719298245614035\n",
      "**time elapsed 236.8615379333496\n",
      "------------------------------------end\n",
      "start new k=3,train set=22500,validation set=2500\n",
      "**length fold set 743.0\n",
      "**average fold coverage 0.1862155388471178\n",
      "**time elapsed 312.63451385498047\n",
      "------------------------------------end\n",
      "start new k=4,train set=22500,validation set=2500\n",
      "**length fold set 743.0\n",
      "**average fold coverage 0.1862155388471178\n",
      "**time elapsed 389.51405096054077\n",
      "------------------------------------end\n",
      "start new k=5,train set=22500,validation set=2500\n",
      "**length fold set 744.0\n",
      "**average fold coverage 0.18646616541353384\n",
      "**time elapsed 470.0778501033783\n",
      "------------------------------------end\n",
      "start new k=6,train set=22500,validation set=2500\n",
      "**length fold set 754.0\n",
      "**average fold coverage 0.18897243107769424\n",
      "**time elapsed 543.1034731864929\n",
      "------------------------------------end\n",
      "start new k=7,train set=22500,validation set=2500\n",
      "**length fold set 767.0\n",
      "**average fold coverage 0.19223057644110275\n",
      "**time elapsed 612.6416850090027\n",
      "------------------------------------end\n",
      "start new k=8,train set=22500,validation set=2500\n",
      "**length fold set 756.0\n",
      "**average fold coverage 0.18947368421052632\n",
      "**time elapsed 683.5069079399109\n",
      "------------------------------------end\n",
      "start new k=9,train set=22500,validation set=2500\n",
      "**length fold set 766.0\n",
      "**average fold coverage 0.19197994987468672\n",
      "**time elapsed 756.096971988678\n",
      "------------------------------------end\n",
      "list of total coverage for each fold [0.18972431077694235, 0.18671679197994986, 0.17719298245614035, 0.1862155388471178, 0.1862155388471178, 0.18646616541353384, 0.18897243107769424, 0.19223057644110275, 0.18947368421052632, 0.19197994987468672]\n",
      "10-fold total average 0.18751879699248122\n",
      "time elapsed 756.101970911026\n",
      "14188\n",
      "\n",
      "cluster: 5.0, size: 14188, 151647\n",
      "start new k=0,train set=12769,validation set=1419\n",
      "** number of elements in calculation 380\n",
      "** average fold accuracy 0.6289473684210526\n",
      "**time elapsed 26.25353193283081\n",
      "------------------------------------end\n",
      "start new k=1,train set=12769,validation set=1419\n",
      "** number of elements in calculation 372\n",
      "** average fold accuracy 0.5295698924731183\n",
      "**time elapsed 52.11321806907654\n",
      "------------------------------------end\n",
      "start new k=2,train set=12769,validation set=1419\n",
      "** number of elements in calculation 360\n",
      "** average fold accuracy 0.5611111111111111\n",
      "**time elapsed 77.75007319450378\n",
      "------------------------------------end\n",
      "start new k=3,train set=12769,validation set=1419\n",
      "** number of elements in calculation 372\n",
      "** average fold accuracy 0.5483870967741935\n",
      "**time elapsed 103.24729800224304\n",
      "------------------------------------end\n",
      "start new k=4,train set=12769,validation set=1419\n",
      "** number of elements in calculation 363\n",
      "** average fold accuracy 0.5537190082644629\n",
      "**time elapsed 129.49178409576416\n",
      "------------------------------------end\n",
      "start new k=5,train set=12769,validation set=1419\n",
      "** number of elements in calculation 384\n",
      "** average fold accuracy 0.5911458333333334\n",
      "**time elapsed 155.38869619369507\n",
      "------------------------------------end\n",
      "start new k=6,train set=12769,validation set=1419\n",
      "** number of elements in calculation 379\n",
      "** average fold accuracy 0.554089709762533\n",
      "**time elapsed 184.0251669883728\n",
      "------------------------------------end\n"
     ]
    },
    {
     "name": "stdout",
     "output_type": "stream",
     "text": [
      "start new k=7,train set=12769,validation set=1419\n",
      "** number of elements in calculation 358\n",
      "** average fold accuracy 0.5810055865921788\n",
      "**time elapsed 216.6797571182251\n",
      "------------------------------------end\n",
      "start new k=8,train set=12770,validation set=1418\n",
      "** number of elements in calculation 349\n",
      "** average fold accuracy 0.6303724928366762\n",
      "**time elapsed 247.19447898864746\n",
      "------------------------------------end\n",
      "start new k=9,train set=12770,validation set=1418\n",
      "** number of elements in calculation 372\n",
      "** average fold accuracy 0.5564516129032258\n",
      "**time elapsed 275.31871700286865\n",
      "------------------------------------end\n",
      "list of total accuracy for each fold [0.62894736842105259, 0.52956989247311825, 0.56111111111111112, 0.54838709677419351, 0.55371900826446285, 0.59114583333333337, 0.55408970976253302, 0.58100558659217882, 0.63037249283667618, 0.55645161290322576]\n",
      "10-fold total average 0.5734799712471885\n",
      "time elapsed 275.3197009563446\n",
      "start new k=0,train set=12769,validation set=1419\n",
      "**length fold set 574.0\n",
      "**average fold coverage 0.14385964912280702\n",
      "**time elapsed 29.21639609336853\n",
      "------------------------------------end\n",
      "start new k=1,train set=12769,validation set=1419\n",
      "**length fold set 572.0\n",
      "**average fold coverage 0.14335839598997493\n",
      "**time elapsed 58.11193299293518\n",
      "------------------------------------end\n",
      "start new k=2,train set=12769,validation set=1419\n",
      "**length fold set 560.0\n",
      "**average fold coverage 0.14035087719298245\n",
      "**time elapsed 89.19416785240173\n",
      "------------------------------------end\n",
      "start new k=3,train set=12769,validation set=1419\n",
      "**length fold set 545.0\n",
      "**average fold coverage 0.13659147869674185\n",
      "**time elapsed 118.79285621643066\n",
      "------------------------------------end\n",
      "start new k=4,train set=12769,validation set=1419\n",
      "**length fold set 543.0\n",
      "**average fold coverage 0.13609022556390976\n",
      "**time elapsed 151.01653504371643\n",
      "------------------------------------end\n",
      "start new k=5,train set=12769,validation set=1419\n",
      "**length fold set 568.0\n",
      "**average fold coverage 0.14235588972431076\n",
      "**time elapsed 182.39786410331726\n",
      "------------------------------------end\n",
      "start new k=6,train set=12769,validation set=1419\n",
      "**length fold set 564.0\n",
      "**average fold coverage 0.14135338345864662\n",
      "**time elapsed 213.0362150669098\n",
      "------------------------------------end\n",
      "start new k=7,train set=12769,validation set=1419\n",
      "**length fold set 564.0\n",
      "**average fold coverage 0.14135338345864662\n",
      "**time elapsed 241.84730291366577\n",
      "------------------------------------end\n",
      "start new k=8,train set=12770,validation set=1418\n",
      "**length fold set 558.0\n",
      "**average fold coverage 0.13984962406015036\n",
      "**time elapsed 272.6475510597229\n",
      "------------------------------------end\n",
      "start new k=9,train set=12770,validation set=1418\n",
      "**length fold set 561.0\n",
      "**average fold coverage 0.1406015037593985\n",
      "**time elapsed 302.5752820968628\n",
      "------------------------------------end\n",
      "list of total coverage for each fold [0.14385964912280702, 0.14335839598997493, 0.14035087719298245, 0.13659147869674185, 0.13609022556390976, 0.14235588972431076, 0.14135338345864662, 0.14135338345864662, 0.13984962406015036, 0.1406015037593985]\n",
      "10-fold total average 0.14057644110275688\n",
      "time elapsed 302.5756628513336\n",
      "2273\n",
      "\n",
      "cluster: 6.0, size: 2273, 151647\n",
      "start new k=0,train set=2045,validation set=228\n",
      "** number of elements in calculation 50\n",
      "** average fold accuracy 0.52\n",
      "**time elapsed 0.960878849029541\n",
      "------------------------------------end\n",
      "start new k=1,train set=2045,validation set=228\n",
      "** number of elements in calculation 70\n",
      "** average fold accuracy 0.5714285714285714\n",
      "**time elapsed 2.1118948459625244\n",
      "------------------------------------end\n",
      "start new k=2,train set=2045,validation set=228\n",
      "** number of elements in calculation 57\n",
      "** average fold accuracy 0.5614035087719298\n",
      "**time elapsed 3.263535976409912\n",
      "------------------------------------end\n",
      "start new k=3,train set=2046,validation set=227\n",
      "** number of elements in calculation 58\n",
      "** average fold accuracy 0.4482758620689655\n",
      "**time elapsed 4.179795980453491\n",
      "------------------------------------end\n",
      "start new k=4,train set=2046,validation set=227\n",
      "** number of elements in calculation 44\n",
      "** average fold accuracy 0.4318181818181818\n",
      "**time elapsed 5.120459079742432\n",
      "------------------------------------end\n",
      "start new k=5,train set=2046,validation set=227\n",
      "** number of elements in calculation 60\n",
      "** average fold accuracy 0.38333333333333336\n",
      "**time elapsed 6.064260959625244\n",
      "------------------------------------end\n",
      "start new k=6,train set=2046,validation set=227\n",
      "** number of elements in calculation 58\n",
      "** average fold accuracy 0.4482758620689655\n",
      "**time elapsed 7.028141975402832\n",
      "------------------------------------end\n",
      "start new k=7,train set=2046,validation set=227\n",
      "** number of elements in calculation 53\n",
      "** average fold accuracy 0.5660377358490566\n",
      "**time elapsed 7.936259984970093\n",
      "------------------------------------end\n",
      "start new k=8,train set=2046,validation set=227\n",
      "** number of elements in calculation 49\n",
      "** average fold accuracy 0.4489795918367347\n",
      "**time elapsed 9.050814151763916\n",
      "------------------------------------end\n",
      "start new k=9,train set=2046,validation set=227\n",
      "** number of elements in calculation 48\n",
      "** average fold accuracy 0.4583333333333333\n",
      "**time elapsed 10.115786075592041\n",
      "------------------------------------end\n",
      "list of total accuracy for each fold [0.52000000000000002, 0.5714285714285714, 0.56140350877192979, 0.44827586206896552, 0.43181818181818182, 0.38333333333333336, 0.44827586206896552, 0.56603773584905659, 0.44897959183673469, 0.45833333333333331]\n",
      "10-fold total average 0.48378859805090724\n",
      "time elapsed 10.116132020950317\n",
      "start new k=0,train set=2045,validation set=228\n",
      "**length fold set 198.0\n",
      "**average fold coverage 0.04962406015037594\n",
      "**time elapsed 0.9981050491333008\n",
      "------------------------------------end\n",
      "start new k=1,train set=2045,validation set=228\n",
      "**length fold set 189.0\n",
      "**average fold coverage 0.04736842105263158\n",
      "**time elapsed 2.0545878410339355\n",
      "------------------------------------end\n",
      "start new k=2,train set=2045,validation set=228\n",
      "**length fold set 187.0\n",
      "**average fold coverage 0.0468671679197995\n",
      "**time elapsed 3.133255958557129\n",
      "------------------------------------end\n",
      "start new k=3,train set=2046,validation set=227\n",
      "**length fold set 190.0\n",
      "**average fold coverage 0.047619047619047616\n",
      "**time elapsed 4.240183115005493\n",
      "------------------------------------end\n",
      "start new k=4,train set=2046,validation set=227\n",
      "**length fold set 197.0\n",
      "**average fold coverage 0.0493734335839599\n",
      "**time elapsed 5.394787073135376\n",
      "------------------------------------end\n",
      "start new k=5,train set=2046,validation set=227\n",
      "**length fold set 201.0\n",
      "**average fold coverage 0.05037593984962406\n",
      "**time elapsed 6.422891139984131\n",
      "------------------------------------end\n",
      "start new k=6,train set=2046,validation set=227\n",
      "**length fold set 209.0\n",
      "**average fold coverage 0.05238095238095238\n",
      "**time elapsed 7.409933090209961\n",
      "------------------------------------end\n",
      "start new k=7,train set=2046,validation set=227\n",
      "**length fold set 204.0\n",
      "**average fold coverage 0.05112781954887218\n",
      "**time elapsed 8.520965099334717\n",
      "------------------------------------end\n",
      "start new k=8,train set=2046,validation set=227\n",
      "**length fold set 199.0\n",
      "**average fold coverage 0.04987468671679198\n",
      "**time elapsed 9.44004201889038\n",
      "------------------------------------end\n",
      "start new k=9,train set=2046,validation set=227\n",
      "**length fold set 173.0\n",
      "**average fold coverage 0.043358395989974936\n",
      "**time elapsed 10.357630014419556\n",
      "------------------------------------end\n",
      "list of total coverage for each fold [0.04962406015037594, 0.04736842105263158, 0.0468671679197995, 0.047619047619047616, 0.0493734335839599, 0.05037593984962406, 0.05238095238095238, 0.05112781954887218, 0.04987468671679198, 0.043358395989974936]\n",
      "10-fold total average 0.048796992481203005\n",
      "time elapsed 10.357850074768066\n",
      "34472\n",
      "\n",
      "cluster: 7.0, size: 25000, 151647\n",
      "start new k=0,train set=22500,validation set=2500\n",
      "** number of elements in calculation 701\n",
      "** average fold accuracy 0.5905848787446505\n",
      "**time elapsed 78.12700271606445\n",
      "------------------------------------end\n",
      "start new k=1,train set=22500,validation set=2500\n",
      "** number of elements in calculation 711\n",
      "** average fold accuracy 0.6104078762306611\n",
      "**time elapsed 153.73973298072815\n",
      "------------------------------------end\n"
     ]
    },
    {
     "name": "stdout",
     "output_type": "stream",
     "text": [
      "start new k=2,train set=22500,validation set=2500\n",
      "** number of elements in calculation 700\n",
      "** average fold accuracy 0.6271428571428571\n",
      "**time elapsed 234.98635697364807\n",
      "------------------------------------end\n",
      "start new k=3,train set=22500,validation set=2500\n",
      "** number of elements in calculation 673\n",
      "** average fold accuracy 0.6017830609212481\n",
      "**time elapsed 313.1446897983551\n",
      "------------------------------------end\n",
      "start new k=4,train set=22500,validation set=2500\n",
      "** number of elements in calculation 667\n",
      "** average fold accuracy 0.6221889055472264\n",
      "**time elapsed 387.7703297138214\n",
      "------------------------------------end\n",
      "start new k=5,train set=22500,validation set=2500\n",
      "** number of elements in calculation 655\n",
      "** average fold accuracy 0.601526717557252\n",
      "**time elapsed 467.0572168827057\n",
      "------------------------------------end\n",
      "start new k=6,train set=22500,validation set=2500\n",
      "** number of elements in calculation 694\n",
      "** average fold accuracy 0.600864553314121\n",
      "**time elapsed 545.595764875412\n",
      "------------------------------------end\n",
      "start new k=7,train set=22500,validation set=2500\n",
      "** number of elements in calculation 664\n",
      "** average fold accuracy 0.588855421686747\n",
      "**time elapsed 621.209300994873\n",
      "------------------------------------end\n",
      "start new k=8,train set=22500,validation set=2500\n",
      "** number of elements in calculation 705\n",
      "** average fold accuracy 0.6212765957446809\n",
      "**time elapsed 701.8084778785706\n",
      "------------------------------------end\n",
      "start new k=9,train set=22500,validation set=2500\n",
      "** number of elements in calculation 706\n",
      "** average fold accuracy 0.6161473087818697\n",
      "**time elapsed 775.3841757774353\n",
      "------------------------------------end\n",
      "list of total accuracy for each fold [0.59058487874465049, 0.61040787623066106, 0.62714285714285711, 0.60178306092124811, 0.62218890554722639, 0.60152671755725196, 0.60086455331412103, 0.58885542168674698, 0.62127659574468086, 0.61614730878186974]\n",
      "10-fold total average 0.6080778175671314\n",
      "time elapsed 775.3882110118866\n",
      "start new k=0,train set=22500,validation set=2500\n",
      "**length fold set 662.0\n",
      "**average fold coverage 0.16591478696741854\n",
      "**time elapsed 75.96699500083923\n",
      "------------------------------------end\n",
      "start new k=1,train set=22500,validation set=2500\n",
      "**length fold set 694.0\n",
      "**average fold coverage 0.17393483709273183\n",
      "**time elapsed 152.02985501289368\n",
      "------------------------------------end\n",
      "start new k=2,train set=22500,validation set=2500\n",
      "**length fold set 676.0\n",
      "**average fold coverage 0.16942355889724312\n",
      "**time elapsed 226.75956678390503\n",
      "------------------------------------end\n",
      "start new k=3,train set=22500,validation set=2500\n",
      "**length fold set 684.0\n",
      "**average fold coverage 0.17142857142857143\n",
      "**time elapsed 298.38261580467224\n",
      "------------------------------------end\n",
      "start new k=4,train set=22500,validation set=2500\n",
      "**length fold set 717.0\n",
      "**average fold coverage 0.17969924812030075\n",
      "**time elapsed 376.038774728775\n",
      "------------------------------------end\n",
      "start new k=5,train set=22500,validation set=2500\n",
      "**length fold set 674.0\n",
      "**average fold coverage 0.16892230576441103\n",
      "**time elapsed 452.7029011249542\n",
      "------------------------------------end\n",
      "start new k=6,train set=22500,validation set=2500\n",
      "**length fold set 674.0\n",
      "**average fold coverage 0.16892230576441103\n",
      "**time elapsed 532.7590179443359\n",
      "------------------------------------end\n",
      "start new k=7,train set=22500,validation set=2500\n",
      "**length fold set 699.0\n",
      "**average fold coverage 0.17518796992481203\n",
      "**time elapsed 605.0474979877472\n",
      "------------------------------------end\n",
      "start new k=8,train set=22500,validation set=2500\n",
      "**length fold set 718.0\n",
      "**average fold coverage 0.1799498746867168\n",
      "**time elapsed 673.6833848953247\n",
      "------------------------------------end\n",
      "start new k=9,train set=22500,validation set=2500\n",
      "**length fold set 701.0\n",
      "**average fold coverage 0.17568922305764412\n",
      "**time elapsed 745.3394258022308\n",
      "------------------------------------end\n",
      "list of total coverage for each fold [0.16591478696741854, 0.17393483709273183, 0.16942355889724312, 0.17142857142857143, 0.17969924812030075, 0.16892230576441103, 0.16892230576441103, 0.17518796992481203, 0.1799498746867168, 0.17568922305764412]\n",
      "10-fold total average 0.17290726817042607\n",
      "time elapsed 745.3410677909851\n"
     ]
    }
   ],
   "source": [
    "seed = 0\n",
    "create_seed(seed)\n",
    "maximum_rows = 25000\n",
    "minimum_rows = 1000\n",
    "\n",
    "demo_accuracy, demo_coverage = demo_filter(matrix_co_training,arr_cxd_training,\\\n",
    "                                   unique_clusters,maximum_rows,minimum_rows,10,10,1)"
   ]
  },
  {
   "cell_type": "code",
   "execution_count": 81,
   "metadata": {},
   "outputs": [
    {
     "data": {
      "text/plain": [
       "[(0.0, 3942, 0.50009549728407132),\n",
       " (1.0, 25000, 0.61608126661938301),\n",
       " (2.0, 5353, 0.55112967472187258),\n",
       " (3.0, 25000, 0.6172684944364375),\n",
       " (4.0, 25000, 0.61552034509922204),\n",
       " (5.0, 14188, 0.57347997124718852),\n",
       " (6.0, 2273, 0.48378859805090724),\n",
       " (7.0, 25000, 0.60807781756713142)]"
      ]
     },
     "execution_count": 81,
     "metadata": {},
     "output_type": "execute_result"
    }
   ],
   "source": [
    "demo_accuracy"
   ]
  },
  {
   "cell_type": "code",
   "execution_count": 82,
   "metadata": {
    "collapsed": true
   },
   "outputs": [],
   "source": [
    "np.save('demo_clustering_cluster_accuracy1.npy',\\\n",
    "        [(maximum_rows,minimum_rows,seed,datetime.now().strftime(\"%Y-%m-%d_%H:%M:%S\"))]+demo_accuracy)"
   ]
  },
  {
   "cell_type": "code",
   "execution_count": 83,
   "metadata": {},
   "outputs": [
    {
     "data": {
      "text/plain": [
       "[(0.0, 3942, 0.093884711779448626),\n",
       " (1.0, 25000, 0.18170426065162903),\n",
       " (2.0, 5353, 0.08834586466165413),\n",
       " (3.0, 25000, 0.18140350877192984),\n",
       " (4.0, 25000, 0.18751879699248122),\n",
       " (5.0, 14188, 0.14057644110275688),\n",
       " (6.0, 2273, 0.048796992481203005),\n",
       " (7.0, 25000, 0.17290726817042607)]"
      ]
     },
     "execution_count": 83,
     "metadata": {},
     "output_type": "execute_result"
    }
   ],
   "source": [
    "demo_coverage"
   ]
  },
  {
   "cell_type": "code",
   "execution_count": 84,
   "metadata": {
    "collapsed": true
   },
   "outputs": [],
   "source": [
    "np.save('demo_clustering_cluster_coverage1.npy',\\\n",
    "        [(maximum_rows,minimum_rows,seed,datetime.now().strftime(\"%Y-%m-%d_%H:%M:%S\"))]+demo_coverage)"
   ]
  },
  {
   "cell_type": "code",
   "execution_count": 92,
   "metadata": {},
   "outputs": [
    {
     "name": "stdout",
     "output_type": "stream",
     "text": [
      "/Users/jc/Documents/DSE/joh112/dse203-group-project_newer2/machine_learning/ValidationTests\r\n"
     ]
    }
   ],
   "source": [
    "!pwd"
   ]
  },
  {
   "cell_type": "code",
   "execution_count": null,
   "metadata": {
    "collapsed": true
   },
   "outputs": [],
   "source": []
  }
 ],
 "metadata": {
  "kernelspec": {
   "display_name": "Python [conda env:py36]",
   "language": "python",
   "name": "conda-env-py36-py"
  },
  "language_info": {
   "codemirror_mode": {
    "name": "ipython",
    "version": 3
   },
   "file_extension": ".py",
   "mimetype": "text/x-python",
   "name": "python",
   "nbconvert_exporter": "python",
   "pygments_lexer": "ipython3",
   "version": "3.6.1"
  }
 },
 "nbformat": 4,
 "nbformat_minor": 2
}
