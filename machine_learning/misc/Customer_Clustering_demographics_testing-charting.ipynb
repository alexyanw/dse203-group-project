{
 "cells": [
  {
   "cell_type": "code",
   "execution_count": 1,
   "metadata": {
    "collapsed": true
   },
   "outputs": [],
   "source": [
    "#Import API\n",
    "from dora.api import DataExplorer\n",
    "\n",
    "import pandas as pd\n",
    "from datetime import date, timedelta, datetime\n",
    "from matplotlib import pyplot\n",
    "import matplotlib.pyplot as plt\n",
    "from mpl_toolkits.mplot3d import Axes3D\n",
    "from uszipcode import ZipcodeSearchEngine\n",
    "import numpy as np\n",
    "\n",
    "import random\n",
    "import time\n",
    "from sklearn.model_selection import KFold\n",
    "import json\n",
    "import sys\n",
    "\n",
    "explorer = DataExplorer()"
   ]
  },
  {
   "cell_type": "code",
   "execution_count": 2,
   "metadata": {},
   "outputs": [
    {
     "name": "stdout",
     "output_type": "stream",
     "text": [
      "demo_clustering_cluster_accuracy.npy\r\n"
     ]
    }
   ],
   "source": [
    "!ls demo_clustering_cluster_accuracy.npy"
   ]
  },
  {
   "cell_type": "code",
   "execution_count": 3,
   "metadata": {},
   "outputs": [
    {
     "name": "stdout",
     "output_type": "stream",
     "text": [
      "demo_clustering_cluster_coverage.npy\r\n"
     ]
    }
   ],
   "source": [
    "!ls demo_clustering_cluster_coverage.npy"
   ]
  },
  {
   "cell_type": "code",
   "execution_count": 6,
   "metadata": {
    "collapsed": true
   },
   "outputs": [],
   "source": [
    "%matplotlib inline"
   ]
  },
  {
   "cell_type": "code",
   "execution_count": 7,
   "metadata": {},
   "outputs": [],
   "source": [
    "import pandas as pd"
   ]
  },
  {
   "cell_type": "code",
   "execution_count": 8,
   "metadata": {},
   "outputs": [
    {
     "data": {
      "text/plain": [
       "array([(25000, 1000, 0, '2017-12-02_08:13:37'),\n",
       "       (0, 3942, 0.50174419194252873), (1, 25000, 0.60334380782771202),\n",
       "       (2, 2951, 0.50081336521433839), (3, 25000, 0.6135879715791106),\n",
       "       (4, 13826, 0.58983711017545182), (5, 24292, 0.61268067323706699),\n",
       "       (6, 25000, 0.6175698397549525), (7, 9708, 0.56996479279581325)], dtype=object)"
      ]
     },
     "execution_count": 8,
     "metadata": {},
     "output_type": "execute_result"
    }
   ],
   "source": [
    "demo_accuracy = np.load('demo_clustering_cluster_accuracy.npy')\n",
    "demo_accuracy"
   ]
  },
  {
   "cell_type": "code",
   "execution_count": 18,
   "metadata": {},
   "outputs": [],
   "source": [
    "rows = []\n",
    "for d in demo_accuracy[1:]:\n",
    "    cluster,size,accuracy = d\n",
    "    rows.append({'cluster':cluster,'size':size,'accuracy':accuracy})\n",
    "    \n",
    "accuracy_df = pd.DataFrame(rows, columns=['cluster','size','accuracy'])"
   ]
  },
  {
   "cell_type": "code",
   "execution_count": 47,
   "metadata": {},
   "outputs": [],
   "source": [
    "acc_df = accuracy_df[['cluster','accuracy']].groupby('cluster').aggregate(np.sum)\n",
    "acc_df.reset_index(inplace=True)"
   ]
  },
  {
   "cell_type": "code",
   "execution_count": 64,
   "metadata": {},
   "outputs": [
    {
     "data": {
      "image/png": "[encoded data removed]",
      "text/plain": [
       "<matplotlib.figure.Figure at 0x11c1727b8>"
      ]
     },
     "metadata": {},
     "output_type": "display_data"
    }
   ],
   "source": [
    "acc_plot = acc_df['accuracy'].plot(kind='bar',title='Accuracy per Demographic Cluster')\n",
    "acc_plot.set_xlabel(\"Cluster\")\n",
    "acc_plot.set_ylabel(\"Accuracy\");"
   ]
  },
  {
   "cell_type": "code",
   "execution_count": 28,
   "metadata": {
    "collapsed": true
   },
   "outputs": [
    {
     "data": {
      "text/plain": [
       "array([(25000, 1000, 0, '2017-12-02_08:13:46'),\n",
       "       (0, 3942, 0.093884711779448626), (1, 25000, 0.17501253132832081),\n",
       "       (2, 2951, 0.0612781954887218), (3, 25000, 0.18837092731829572),\n",
       "       (4, 13826, 0.12977443609022554), (5, 24292, 0.18080200501253135),\n",
       "       (6, 25000, 0.18228070175438596), (7, 9708, 0.12228070175438596)], dtype=object)"
      ]
     },
     "execution_count": 28,
     "metadata": {},
     "output_type": "execute_result"
    }
   ],
   "source": [
    "demo_coverage = np.load('demo_clustering_cluster_coverage.npy')\n",
    "demo_coverage"
   ]
  },
  {
   "cell_type": "code",
   "execution_count": 29,
   "metadata": {},
   "outputs": [],
   "source": [
    "rows = []\n",
    "for d in demo_coverage[1:]:\n",
    "    cluster,size,coverage = d\n",
    "    rows.append({'cluster':cluster,'size':size,'coverage':coverage})\n",
    "    \n",
    "coverage_df = pd.DataFrame(rows, columns=['cluster','size','coverage'])"
   ]
  },
  {
   "cell_type": "code",
   "execution_count": 65,
   "metadata": {},
   "outputs": [],
   "source": [
    "cov_df = coverage_df[['cluster','coverage']].groupby('cluster').aggregate(np.sum)\n",
    "cov_df.reset_index(inplace=True)"
   ]
  },
  {
   "cell_type": "code",
   "execution_count": 118,
   "metadata": {
    "collapsed": true
   },
   "outputs": [
    {
     "data": {
      "text/html": [
       "<div>\n",
       "<style scoped>\n",
       "    .dataframe tbody tr th:only-of-type {\n",
       "        vertical-align: middle;\n",
       "    }\n",
       "\n",
       "    .dataframe tbody tr th {\n",
       "        vertical-align: top;\n",
       "    }\n",
       "\n",
       "    .dataframe thead th {\n",
       "        text-align: right;\n",
       "    }\n",
       "</style>\n",
       "<table border=\"1\" class=\"dataframe\">\n",
       "  <thead>\n",
       "    <tr style=\"text-align: right;\">\n",
       "      <th></th>\n",
       "      <th>cluster</th>\n",
       "      <th>coverage</th>\n",
       "    </tr>\n",
       "  </thead>\n",
       "  <tbody>\n",
       "    <tr>\n",
       "      <th>0</th>\n",
       "      <td>0</td>\n",
       "      <td>0.093885</td>\n",
       "    </tr>\n",
       "    <tr>\n",
       "      <th>1</th>\n",
       "      <td>1</td>\n",
       "      <td>0.175013</td>\n",
       "    </tr>\n",
       "    <tr>\n",
       "      <th>2</th>\n",
       "      <td>2</td>\n",
       "      <td>0.061278</td>\n",
       "    </tr>\n",
       "    <tr>\n",
       "      <th>3</th>\n",
       "      <td>3</td>\n",
       "      <td>0.188371</td>\n",
       "    </tr>\n",
       "    <tr>\n",
       "      <th>4</th>\n",
       "      <td>4</td>\n",
       "      <td>0.129774</td>\n",
       "    </tr>\n",
       "    <tr>\n",
       "      <th>5</th>\n",
       "      <td>5</td>\n",
       "      <td>0.180802</td>\n",
       "    </tr>\n",
       "    <tr>\n",
       "      <th>6</th>\n",
       "      <td>6</td>\n",
       "      <td>0.182281</td>\n",
       "    </tr>\n",
       "    <tr>\n",
       "      <th>7</th>\n",
       "      <td>7</td>\n",
       "      <td>0.122281</td>\n",
       "    </tr>\n",
       "  </tbody>\n",
       "</table>\n",
       "</div>"
      ],
      "text/plain": [
       "   cluster  coverage\n",
       "0        0  0.093885\n",
       "1        1  0.175013\n",
       "2        2  0.061278\n",
       "3        3  0.188371\n",
       "4        4  0.129774\n",
       "5        5  0.180802\n",
       "6        6  0.182281\n",
       "7        7  0.122281"
      ]
     },
     "execution_count": 118,
     "metadata": {},
     "output_type": "execute_result"
    }
   ],
   "source": [
    "cov_df"
   ]
  },
  {
   "cell_type": "code",
   "execution_count": 67,
   "metadata": {},
   "outputs": [
    {
     "data": {
      "image/png": "[encoded data removed]",
      "text/plain": [
       "<matplotlib.figure.Figure at 0x11c22b2b0>"
      ]
     },
     "metadata": {},
     "output_type": "display_data"
    }
   ],
   "source": [
    "cov_plot = cov_df['coverage'].plot(kind='bar',title='Coverage per Demographic Cluster')\n",
    "cov_plot.set_xlabel('Cluster')\n",
    "cov_plot.set_ylabel('Coverage');"
   ]
  },
  {
   "cell_type": "code",
   "execution_count": 79,
   "metadata": {},
   "outputs": [
    {
     "name": "stdout",
     "output_type": "stream",
     "text": [
      "demo_results_big.npy\r\n"
     ]
    }
   ],
   "source": [
    "!ls demo_results_big.npy"
   ]
  },
  {
   "cell_type": "code",
   "execution_count": 94,
   "metadata": {},
   "outputs": [],
   "source": [
    "demo_rg_acc = np.load('demo_results_big.npy')"
   ]
  },
  {
   "cell_type": "code",
   "execution_count": 114,
   "metadata": {},
   "outputs": [],
   "source": [
    "rows = []\n",
    "for x in demo_rg_acc[1:]:\n",
    "    z = [float(y.decode('utf-8')) for y in x]\n",
    "    rows.append(z)"
   ]
  },
  {
   "cell_type": "code",
   "execution_count": 115,
   "metadata": {},
   "outputs": [
    {
     "data": {
      "text/html": [
       "<div>\n",
       "<style scoped>\n",
       "    .dataframe tbody tr th:only-of-type {\n",
       "        vertical-align: middle;\n",
       "    }\n",
       "\n",
       "    .dataframe tbody tr th {\n",
       "        vertical-align: top;\n",
       "    }\n",
       "\n",
       "    .dataframe thead th {\n",
       "        text-align: right;\n",
       "    }\n",
       "</style>\n",
       "<table border=\"1\" class=\"dataframe\">\n",
       "  <thead>\n",
       "    <tr style=\"text-align: right;\">\n",
       "      <th></th>\n",
       "      <th>regions</th>\n",
       "      <th>gender</th>\n",
       "      <th>size</th>\n",
       "      <th>accuracy</th>\n",
       "    </tr>\n",
       "  </thead>\n",
       "  <tbody>\n",
       "    <tr>\n",
       "      <th>0</th>\n",
       "      <td>0.0</td>\n",
       "      <td>1.0</td>\n",
       "      <td>25000.0</td>\n",
       "      <td>0.616750</td>\n",
       "    </tr>\n",
       "    <tr>\n",
       "      <th>1</th>\n",
       "      <td>0.0</td>\n",
       "      <td>2.0</td>\n",
       "      <td>25000.0</td>\n",
       "      <td>0.588872</td>\n",
       "    </tr>\n",
       "    <tr>\n",
       "      <th>2</th>\n",
       "      <td>0.0</td>\n",
       "      <td>0.0</td>\n",
       "      <td>25000.0</td>\n",
       "      <td>0.602922</td>\n",
       "    </tr>\n",
       "    <tr>\n",
       "      <th>3</th>\n",
       "      <td>1.0</td>\n",
       "      <td>1.0</td>\n",
       "      <td>7924.0</td>\n",
       "      <td>0.585676</td>\n",
       "    </tr>\n",
       "    <tr>\n",
       "      <th>4</th>\n",
       "      <td>1.0</td>\n",
       "      <td>2.0</td>\n",
       "      <td>6579.0</td>\n",
       "      <td>0.533123</td>\n",
       "    </tr>\n",
       "    <tr>\n",
       "      <th>5</th>\n",
       "      <td>1.0</td>\n",
       "      <td>0.0</td>\n",
       "      <td>15758.0</td>\n",
       "      <td>0.598592</td>\n",
       "    </tr>\n",
       "    <tr>\n",
       "      <th>6</th>\n",
       "      <td>2.0</td>\n",
       "      <td>1.0</td>\n",
       "      <td>25000.0</td>\n",
       "      <td>0.652283</td>\n",
       "    </tr>\n",
       "    <tr>\n",
       "      <th>7</th>\n",
       "      <td>2.0</td>\n",
       "      <td>2.0</td>\n",
       "      <td>25000.0</td>\n",
       "      <td>0.618038</td>\n",
       "    </tr>\n",
       "    <tr>\n",
       "      <th>8</th>\n",
       "      <td>2.0</td>\n",
       "      <td>0.0</td>\n",
       "      <td>25000.0</td>\n",
       "      <td>0.635447</td>\n",
       "    </tr>\n",
       "    <tr>\n",
       "      <th>9</th>\n",
       "      <td>3.0</td>\n",
       "      <td>1.0</td>\n",
       "      <td>6837.0</td>\n",
       "      <td>0.544120</td>\n",
       "    </tr>\n",
       "    <tr>\n",
       "      <th>10</th>\n",
       "      <td>3.0</td>\n",
       "      <td>2.0</td>\n",
       "      <td>5121.0</td>\n",
       "      <td>0.515626</td>\n",
       "    </tr>\n",
       "    <tr>\n",
       "      <th>11</th>\n",
       "      <td>3.0</td>\n",
       "      <td>0.0</td>\n",
       "      <td>13182.0</td>\n",
       "      <td>0.578041</td>\n",
       "    </tr>\n",
       "    <tr>\n",
       "      <th>12</th>\n",
       "      <td>5.0</td>\n",
       "      <td>1.0</td>\n",
       "      <td>11463.0</td>\n",
       "      <td>0.571504</td>\n",
       "    </tr>\n",
       "    <tr>\n",
       "      <th>13</th>\n",
       "      <td>5.0</td>\n",
       "      <td>2.0</td>\n",
       "      <td>8390.0</td>\n",
       "      <td>0.531399</td>\n",
       "    </tr>\n",
       "    <tr>\n",
       "      <th>14</th>\n",
       "      <td>5.0</td>\n",
       "      <td>0.0</td>\n",
       "      <td>21856.0</td>\n",
       "      <td>0.588096</td>\n",
       "    </tr>\n",
       "    <tr>\n",
       "      <th>15</th>\n",
       "      <td>7.0</td>\n",
       "      <td>0.0</td>\n",
       "      <td>6115.0</td>\n",
       "      <td>0.531403</td>\n",
       "    </tr>\n",
       "    <tr>\n",
       "      <th>16</th>\n",
       "      <td>8.0</td>\n",
       "      <td>0.0</td>\n",
       "      <td>5181.0</td>\n",
       "      <td>0.538229</td>\n",
       "    </tr>\n",
       "    <tr>\n",
       "      <th>17</th>\n",
       "      <td>9.0</td>\n",
       "      <td>1.0</td>\n",
       "      <td>9336.0</td>\n",
       "      <td>0.539326</td>\n",
       "    </tr>\n",
       "    <tr>\n",
       "      <th>18</th>\n",
       "      <td>9.0</td>\n",
       "      <td>2.0</td>\n",
       "      <td>7111.0</td>\n",
       "      <td>0.514753</td>\n",
       "    </tr>\n",
       "    <tr>\n",
       "      <th>19</th>\n",
       "      <td>9.0</td>\n",
       "      <td>0.0</td>\n",
       "      <td>18033.0</td>\n",
       "      <td>0.557169</td>\n",
       "    </tr>\n",
       "  </tbody>\n",
       "</table>\n",
       "</div>"
      ],
      "text/plain": [
       "    regions  gender     size  accuracy\n",
       "0       0.0     1.0  25000.0  0.616750\n",
       "1       0.0     2.0  25000.0  0.588872\n",
       "2       0.0     0.0  25000.0  0.602922\n",
       "3       1.0     1.0   7924.0  0.585676\n",
       "4       1.0     2.0   6579.0  0.533123\n",
       "5       1.0     0.0  15758.0  0.598592\n",
       "6       2.0     1.0  25000.0  0.652283\n",
       "7       2.0     2.0  25000.0  0.618038\n",
       "8       2.0     0.0  25000.0  0.635447\n",
       "9       3.0     1.0   6837.0  0.544120\n",
       "10      3.0     2.0   5121.0  0.515626\n",
       "11      3.0     0.0  13182.0  0.578041\n",
       "12      5.0     1.0  11463.0  0.571504\n",
       "13      5.0     2.0   8390.0  0.531399\n",
       "14      5.0     0.0  21856.0  0.588096\n",
       "15      7.0     0.0   6115.0  0.531403\n",
       "16      8.0     0.0   5181.0  0.538229\n",
       "17      9.0     1.0   9336.0  0.539326\n",
       "18      9.0     2.0   7111.0  0.514753\n",
       "19      9.0     0.0  18033.0  0.557169"
      ]
     },
     "execution_count": 115,
     "metadata": {},
     "output_type": "execute_result"
    }
   ],
   "source": [
    "demo_rg_df = pd.DataFrame(rows,columns=['regions','gender','size','accuracy'])\n",
    "demo_rg_df"
   ]
  },
  {
   "cell_type": "code",
   "execution_count": 123,
   "metadata": {},
   "outputs": [],
   "source": [
    "def chart_region(gender,label):\n",
    "    df_demo_rg = demo_rg_df[demo_rg_df['gender']==gender][['regions','accuracy']].groupby('regions').aggregate(np.sum)\n",
    "    df_demo_rg.reset_index(inplace=True)\n",
    "    df_demo_plot = df_demo_rg['accuracy'].plot(kind='bar',title=\"Accuracy per Demographic by Regions ({0})\".format(label))\n",
    "    df_demo_plot.set_xlabel('Region')\n",
    "    df_demo_plot.set_ylabel('Accuracy');"
   ]
  },
  {
   "cell_type": "code",
   "execution_count": 124,
   "metadata": {},
   "outputs": [
    {
     "data": {
      "image/png": "[encoded data removed]",
      "text/plain": [
       "<matplotlib.figure.Figure at 0x11c5c4160>"
      ]
     },
     "metadata": {},
     "output_type": "display_data"
    }
   ],
   "source": [
    "chart_region(1.0,'Male')"
   ]
  },
  {
   "cell_type": "code",
   "execution_count": 125,
   "metadata": {},
   "outputs": [
    {
     "data": {
      "image/png": "[encoded data removed]",
      "text/plain": [
       "<matplotlib.figure.Figure at 0x11cb764a8>"
      ]
     },
     "metadata": {},
     "output_type": "display_data"
    }
   ],
   "source": [
    "chart_region(2.0,'Female')"
   ]
  },
  {
   "cell_type": "code",
   "execution_count": 127,
   "metadata": {},
   "outputs": [
    {
     "data": {
      "image/png": "[encoded data removed]",
      "text/plain": [
       "<matplotlib.figure.Figure at 0x11c6a87f0>"
      ]
     },
     "metadata": {},
     "output_type": "display_data"
    }
   ],
   "source": [
    "chart_region(0.0,'General')"
   ]
  },
  {
   "cell_type": "code",
   "execution_count": null,
   "metadata": {
    "collapsed": true
   },
   "outputs": [],
   "source": []
  }
 ],
 "metadata": {
  "kernelspec": {
   "display_name": "Python [conda env:py36]",
   "language": "python",
   "name": "conda-env-py36-py"
  },
  "language_info": {
   "codemirror_mode": {
    "name": "ipython",
    "version": 3
   },
   "file_extension": ".py",
   "mimetype": "text/x-python",
   "name": "python",
   "nbconvert_exporter": "python",
   "pygments_lexer": "ipython3",
   "version": "3.6.1"
  }
 },
 "nbformat": 4,
 "nbformat_minor": 2
}
