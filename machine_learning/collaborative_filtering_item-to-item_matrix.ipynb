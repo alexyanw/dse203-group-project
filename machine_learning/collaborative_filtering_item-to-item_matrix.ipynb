{
 "cells": [
  {
   "cell_type": "code",
   "execution_count": 1,
   "metadata": {
    "collapsed": true
   },
   "outputs": [],
   "source": [
    "# connect\n",
    "import psycopg2\n",
    "import json\n",
    "import numpy as np\n",
    "import time\n",
    "# more connectstr\n",
    "# \"dbname='sqlbook' user='postgres' host='localhost' password='xxxx'\""
   ]
  },
  {
   "cell_type": "code",
   "execution_count": 2,
   "metadata": {
    "collapsed": true
   },
   "outputs": [],
   "source": [
    "def get_connect_str(filename):\n",
    "    inputfile = open(filename, 'r')\n",
    "\n",
    "    for i in inputfile:\n",
    "        connstr = json.loads(i.strip())\n",
    "    \n",
    "    inputfile.close()\n",
    "    return connstr"
   ]
  },
  {
   "cell_type": "code",
   "execution_count": 3,
   "metadata": {
    "collapsed": true
   },
   "outputs": [],
   "source": [
    "def db_connect(connstr):\n",
    "    conn = psycopg2.connect(connstr)    \n",
    "    conn.set_session(autocommit = True)\n",
    "    return conn.cursor()"
   ]
  },
  {
   "cell_type": "code",
   "execution_count": 4,
   "metadata": {},
   "outputs": [],
   "source": [
    "localconn = db_connect(get_connect_str('connectstr'))\n",
    "ucsdconn = db_connect(get_connect_str('connectstr'))\n",
    "#ucsdconn = db_connect(get_connect_str('connucsd'))"
   ]
  },
  {
   "cell_type": "code",
   "execution_count": 5,
   "metadata": {
    "collapsed": true
   },
   "outputs": [],
   "source": [
    "def get_cust_item_list(cursor):\n",
    "    freq = dict()\n",
    "    items = []\n",
    "    \n",
    "    sql = \"\"\"SELECT c.customerid, pr.asin\n",
    "          FROM customers c, orders o, orderlines ol, products pr\n",
    "          WHERE c.customerid = o.customerid\n",
    "          and ol.orderid = o.orderid\n",
    "          and pr.productid = ol.productid\n",
    "          order by c.customerid \"\"\"\n",
    "\n",
    "    cursor.execute(sql)\n",
    "    \n",
    "    for i in cursor.fetchall():        \n",
    "        if i[0] in freq:\n",
    "            freq[i[0]].append(i[1])\n",
    "        else:\n",
    "            freq.update({i[0]:[i[1]]}) # item list per customer\n",
    "        \n",
    "        freq[i[0]] = list(set(freq[i[0]]))\n",
    "        items.append(i[1]) # item list for all customers\n",
    "    \n",
    "    return freq, list(set(items))"
   ]
  },
  {
   "cell_type": "code",
   "execution_count": 6,
   "metadata": {},
   "outputs": [],
   "source": [
    "customers, items = get_cust_item_list(ucsdconn)"
   ]
  },
  {
   "cell_type": "code",
   "execution_count": 7,
   "metadata": {
    "collapsed": true
   },
   "outputs": [],
   "source": [
    "def create_customer_matrix(freq, items):\n",
    "    cols = len(items)\n",
    "    lfreq = freq.keys()\n",
    "    rows = len(lfreq)\n",
    "    \n",
    "    m = np.zeros((rows,cols))\n",
    "    \n",
    "    for r in range(rows):\n",
    "        lst = freq[lfreq[r]] # get items per customer\n",
    "        \n",
    "        for i in lst: # go through each item\n",
    "            m[r][items.index(i)] = 1 # update matrix\n",
    "            \n",
    "    return m, lfreq"
   ]
  },
  {
   "cell_type": "code",
   "execution_count": 8,
   "metadata": {
    "collapsed": true,
    "scrolled": true
   },
   "outputs": [],
   "source": [
    "cust_item_matrix, custlist = create_customer_matrix(customers, items)"
   ]
  },
  {
   "cell_type": "code",
   "execution_count": 9,
   "metadata": {
    "collapsed": true
   },
   "outputs": [],
   "source": [
    "np.save('cust_item_matrix.npy', cust_item_matrix)"
   ]
  },
  {
   "cell_type": "code",
   "execution_count": 10,
   "metadata": {
    "collapsed": true
   },
   "outputs": [],
   "source": [
    "np.save('asin.npy',items)"
   ]
  },
  {
   "cell_type": "code",
   "execution_count": 11,
   "metadata": {},
   "outputs": [
    {
     "data": {
      "text/plain": [
       "(189559, 3990)"
      ]
     },
     "execution_count": 11,
     "metadata": {},
     "output_type": "execute_result"
    }
   ],
   "source": [
    "cust_item_matrix.shape"
   ]
  },
  {
   "cell_type": "code",
   "execution_count": 12,
   "metadata": {
    "collapsed": true
   },
   "outputs": [],
   "source": [
    "def symmetric_matrix(matrix, items):\n",
    "    rows, cols = matrix.shape\n",
    "    m = np.zeros((cols,cols)) # init matrix\n",
    "    \n",
    "    for i in range(cols):\n",
    "        t = np.sum(matrix[matrix[:,i] > 0],axis=0)\n",
    "        t[i] = 0\n",
    "        m[i] = t\n",
    "        \n",
    "    return m"
   ]
  },
  {
   "cell_type": "code",
   "execution_count": 13,
   "metadata": {},
   "outputs": [],
   "source": [
    "gen_matrix = symmetric_matrix(cust_item_matrix, items)"
   ]
  },
  {
   "cell_type": "code",
   "execution_count": 14,
   "metadata": {},
   "outputs": [
    {
     "data": {
      "text/plain": [
       "(3990, 3990)"
      ]
     },
     "execution_count": 14,
     "metadata": {},
     "output_type": "execute_result"
    }
   ],
   "source": [
    "gen_matrix.shape"
   ]
  },
  {
   "cell_type": "code",
   "execution_count": 15,
   "metadata": {
    "collapsed": true
   },
   "outputs": [],
   "source": [
    "np.save('gen_matrix.npy', gen_matrix)"
   ]
  },
  {
   "cell_type": "code",
   "execution_count": 16,
   "metadata": {
    "collapsed": true
   },
   "outputs": [],
   "source": [
    "def get_cust_item_demo(cursor, custlist):    \n",
    "    sql = \"\"\"SELECT c.customerid, r.region, \n",
    "          case when c.gender='M' then 1 \n",
    "          when c.gender='F' then 2 \n",
    "          else 0 end as gender\n",
    "          FROM customers c, orders o, regions r\n",
    "          WHERE c.customerid = o.customerid\n",
    "          and o.state = r.state\n",
    "          order by c.customerid\"\"\"\n",
    "\n",
    "    cursor.execute(sql)\n",
    "    results = cursor.fetchall()\n",
    "    lresults = len(results)\n",
    "    m = np.zeros((lresults,2))\n",
    "    \n",
    "    for i in range(lresults):\n",
    "        if results[i][0] != custlist[i]:\n",
    "            print 'error: cust not matching'\n",
    "            \n",
    "        m[i] = np.array(results[i][1:])\n",
    "        \n",
    "    return m"
   ]
  },
  {
   "cell_type": "code",
   "execution_count": 17,
   "metadata": {},
   "outputs": [],
   "source": [
    "demo_matrix = get_cust_item_demo(localconn, custlist)"
   ]
  },
  {
   "cell_type": "code",
   "execution_count": 18,
   "metadata": {},
   "outputs": [
    {
     "data": {
      "text/plain": [
       "(189559, 2)"
      ]
     },
     "execution_count": 18,
     "metadata": {},
     "output_type": "execute_result"
    }
   ],
   "source": [
    "demo_matrix.shape"
   ]
  },
  {
   "cell_type": "code",
   "execution_count": 19,
   "metadata": {
    "collapsed": true
   },
   "outputs": [],
   "source": [
    "np.save('demo_matrix.npy', demo_matrix)"
   ]
  },
  {
   "cell_type": "code",
   "execution_count": 20,
   "metadata": {
    "collapsed": true
   },
   "outputs": [],
   "source": [
    "def get_matrix(filename):\n",
    "    inputs = open(filename)\n",
    "    return np.load(inputs) "
   ]
  },
  {
   "cell_type": "code",
   "execution_count": 21,
   "metadata": {
    "collapsed": true
   },
   "outputs": [],
   "source": [
    "asincopy = get_matrix('asin.npy')"
   ]
  },
  {
   "cell_type": "code",
   "execution_count": 22,
   "metadata": {},
   "outputs": [
    {
     "data": {
      "text/plain": [
       "3990"
      ]
     },
     "execution_count": 22,
     "metadata": {},
     "output_type": "execute_result"
    }
   ],
   "source": [
    "len(asincopy)"
   ]
  },
  {
   "cell_type": "code",
   "execution_count": 23,
   "metadata": {},
   "outputs": [
    {
     "data": {
      "text/plain": [
       "array(['0007176953', '0002160587', '0006380905', ..., '0007244215',\n",
       "       '0007106912', '0002005387'],\n",
       "      dtype='|S10')"
      ]
     },
     "execution_count": 23,
     "metadata": {},
     "output_type": "execute_result"
    }
   ],
   "source": [
    "asincopy"
   ]
  },
  {
   "cell_type": "code",
   "execution_count": 24,
   "metadata": {},
   "outputs": [
    {
     "data": {
      "text/plain": [
       "(3990, 3990)"
      ]
     },
     "execution_count": 24,
     "metadata": {},
     "output_type": "execute_result"
    }
   ],
   "source": [
    "gen_matrix_copy = get_matrix('gen_matrix.npy')\n",
    "gen_matrix_copy.shape"
   ]
  },
  {
   "cell_type": "code",
   "execution_count": 25,
   "metadata": {},
   "outputs": [
    {
     "data": {
      "text/plain": [
       "(189559, 2)"
      ]
     },
     "execution_count": 25,
     "metadata": {},
     "output_type": "execute_result"
    }
   ],
   "source": [
    "demo_matrix_copy = get_matrix('demo_matrix.npy')\n",
    "demo_matrix_copy.shape"
   ]
  },
  {
   "cell_type": "code",
   "execution_count": 26,
   "metadata": {
    "collapsed": true
   },
   "outputs": [],
   "source": [
    "def get_cust_cat(cursor,items):\n",
    "    sql = \"\"\"select max(versions) from (\n",
    "          select nodeid,count(*) as versions\n",
    "          from categories group by nodeid\n",
    "          ) as temp\"\"\"\n",
    "    \n",
    "    cursor.execute(sql)\n",
    "    vrs = cursor.fetchall()\n",
    "    maxval = vrs[0][0]\n",
    "    \n",
    "    sql = \"\"\"select distinct pr.asin, g.nodeid,level_1,level_2,level_3,level_4,level_5\n",
    "          FROM customers c, orders o, orderlines ol, products pr, categories g\n",
    "          WHERE c.customerid = o.customerid\n",
    "          and o.orderid = ol.orderid\n",
    "          and ol.productid = pr.productid\n",
    "          and pr.nodeid = g.nodeid\n",
    "          order by pr.asin,g.nodeid,level_2,level_3,level_4,level_5\"\"\"\n",
    "\n",
    "    cursor.execute(sql)\n",
    "    results = cursor.fetchall()\n",
    "    lresults = len(results)\n",
    "    m = np.zeros((maxval,len(items),5))    \n",
    "    count = 0\n",
    "        \n",
    "    for i in range(len(results)):\n",
    "        asin = results[i][0]\n",
    "\n",
    "        m[count][items.index(asin)] = results[i][2:]\n",
    "        count += 1\n",
    "        \n",
    "        if count == maxval:\n",
    "            count = 0\n",
    "                        \n",
    "    return m"
   ]
  },
  {
   "cell_type": "code",
   "execution_count": 27,
   "metadata": {
    "scrolled": true
   },
   "outputs": [],
   "source": [
    "cat_matrix = get_cust_cat(localconn, items)"
   ]
  },
  {
   "cell_type": "code",
   "execution_count": 28,
   "metadata": {},
   "outputs": [
    {
     "data": {
      "text/plain": [
       "(7, 3990, 5)"
      ]
     },
     "execution_count": 28,
     "metadata": {},
     "output_type": "execute_result"
    }
   ],
   "source": [
    "cat_matrix.shape"
   ]
  },
  {
   "cell_type": "code",
   "execution_count": 29,
   "metadata": {
    "collapsed": true
   },
   "outputs": [],
   "source": [
    "np.save('cat_matrix.npy', cat_matrix)"
   ]
  },
  {
   "cell_type": "code",
   "execution_count": 30,
   "metadata": {},
   "outputs": [
    {
     "data": {
      "text/plain": [
       "(7, 3990, 5)"
      ]
     },
     "execution_count": 30,
     "metadata": {},
     "output_type": "execute_result"
    }
   ],
   "source": [
    "cat_matrix_copy = get_matrix('cat_matrix.npy')\n",
    "cat_matrix_copy.shape"
   ]
  },
  {
   "cell_type": "code",
   "execution_count": null,
   "metadata": {
    "collapsed": true
   },
   "outputs": [],
   "source": []
  }
 ],
 "metadata": {
  "kernelspec": {
   "display_name": "Python [conda root]",
   "language": "python",
   "name": "conda-root-py"
  },
  "language_info": {
   "codemirror_mode": {
    "name": "ipython",
    "version": 2
   },
   "file_extension": ".py",
   "mimetype": "text/x-python",
   "name": "python",
   "nbconvert_exporter": "python",
   "pygments_lexer": "ipython2",
   "version": "2.7.13"
  },
  "toc": {
   "colors": {
    "hover_highlight": "#DAA520",
    "running_highlight": "#FF0000",
    "selected_highlight": "#FFD700"
   },
   "moveMenuLeft": true,
   "nav_menu": {
    "height": "12px",
    "width": "252px"
   },
   "navigate_menu": true,
   "number_sections": true,
   "sideBar": true,
   "threshold": 4,
   "toc_cell": false,
   "toc_section_display": "block",
   "toc_window_display": false,
   "widenNotebook": false
  }
 },
 "nbformat": 4,
 "nbformat_minor": 2
}
