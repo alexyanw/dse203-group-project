{
 "cells": [
  {
   "cell_type": "code",
   "execution_count": 1,
   "metadata": {},
   "outputs": [],
   "source": [
    "# connect\n",
    "import psycopg2\n",
    "import json\n",
    "import numpy as np\n",
    "\n",
    "# more connectstr\n",
    "# \"dbname='sqlbook' user='postgres' host='localhost' password='xxxx'\"\n",
    "\n",
    "#inputfile = open('connectstr', 'r')\n",
    "inputfile = open('connucsd', 'r')\n",
    "connstr = None\n",
    "\n",
    "for i in inputfile:\n",
    "    connstr = json.loads(i.strip())\n",
    "    \n",
    "inputfile.close()\n",
    "\n",
    "conn = psycopg2.connect(connstr)    \n",
    "conn.set_session(autocommit = True)\n",
    "cur = conn.cursor();"
   ]
  },
  {
   "cell_type": "code",
   "execution_count": 2,
   "metadata": {
    "collapsed": true
   },
   "outputs": [],
   "source": [
    "def get_cust_item_list(cursor):\n",
    "    freq = dict()\n",
    "    items = []\n",
    "    \n",
    "    sql = \"\"\"SELECT c.customerid, pr.productid\n",
    "          FROM customers c, orders o, orderlines ol, products pr\n",
    "          WHERE o.customerid = c.customerid\n",
    "          and ol.orderid = o.orderid\n",
    "          and pr.productid = ol.productid\n",
    "          order by c.customerid limit 10\"\"\"\n",
    "\n",
    "    cursor.execute(sql)\n",
    "    \n",
    "    for i in cursor.fetchall():        \n",
    "        if i[0] in freq:\n",
    "            freq[i[0]].append(i[1])\n",
    "        else:\n",
    "            freq.update({i[0]:[i[1]]}) # item list per customer\n",
    "        \n",
    "        freq[i[0]] = list(set(freq[i[0]]))\n",
    "        items.append(i[1]) # item list for all customers\n",
    "    \n",
    "    return freq, list(set(items))"
   ]
  },
  {
   "cell_type": "code",
   "execution_count": 3,
   "metadata": {
    "collapsed": true
   },
   "outputs": [],
   "source": [
    "freq, items = get_cust_item_list(cur)"
   ]
  },
  {
   "cell_type": "code",
   "execution_count": 4,
   "metadata": {
    "collapsed": true
   },
   "outputs": [],
   "source": [
    "def create_customer_matrix(freq, items):\n",
    "    cols = len(items)\n",
    "    lfreq = freq.keys()\n",
    "    rows = len(lfreq)\n",
    "    \n",
    "    m = np.zeros((rows,cols))\n",
    "    \n",
    "    for r in range(rows):\n",
    "        lst = freq[lfreq[r]] # get items per customer\n",
    "        \n",
    "        for i in lst: # go through each item\n",
    "            m[r][items.index(i)] = 1 # update matrix\n",
    "        \n",
    "    return m"
   ]
  },
  {
   "cell_type": "code",
   "execution_count": 5,
   "metadata": {
    "scrolled": true
   },
   "outputs": [
    {
     "data": {
      "text/plain": [
       "array([[ 0.,  0.,  0.,  1.,  0.,  0.,  0.,  0.,  0.],\n",
       "       [ 0.,  0.,  0.,  0.,  1.,  0.,  0.,  0.,  0.],\n",
       "       [ 0.,  0.,  1.,  0.,  0.,  0.,  0.,  0.,  0.],\n",
       "       [ 0.,  0.,  0.,  0.,  0.,  0.,  1.,  0.,  0.],\n",
       "       [ 1.,  0.,  0.,  0.,  0.,  0.,  0.,  0.,  0.],\n",
       "       [ 0.,  0.,  0.,  0.,  0.,  0.,  0.,  1.,  0.],\n",
       "       [ 0.,  0.,  0.,  0.,  1.,  1.,  0.,  0.,  1.],\n",
       "       [ 0.,  1.,  0.,  0.,  0.,  0.,  0.,  0.,  0.]])"
      ]
     },
     "execution_count": 5,
     "metadata": {},
     "output_type": "execute_result"
    }
   ],
   "source": [
    "cust_item_matrix = create_customer_matrix(freq, items)\n",
    "cust_item_matrix"
   ]
  },
  {
   "cell_type": "code",
   "execution_count": 6,
   "metadata": {},
   "outputs": [
    {
     "data": {
      "text/plain": [
       "(8, 9)"
      ]
     },
     "execution_count": 6,
     "metadata": {},
     "output_type": "execute_result"
    }
   ],
   "source": [
    "rows, cols = cust_item_matrix.shape\n",
    "rows, cols"
   ]
  },
  {
   "cell_type": "code",
   "execution_count": 7,
   "metadata": {
    "collapsed": true
   },
   "outputs": [],
   "source": [
    "def symmetric_matrix(matrix, items):\n",
    "    rows, cols = matrix.shape\n",
    "    m = np.zeros((cols,cols)) # init matrix\n",
    "        \n",
    "    for i in range(cols):\n",
    "        vectors = []\n",
    "        \n",
    "        for r in range(rows): # go through each row\n",
    "            if matrix[r][i] == 0:\n",
    "                continue\n",
    "                \n",
    "            # get all customers with the item        \n",
    "            vectors.append(matrix[r])\n",
    "        print vectors\n",
    "        vsum = np.sum(vectors,axis=0) # sum up all vectors\n",
    "        vsum[i] = 0 # zero out the item\n",
    "        print vsum\n",
    "        \n",
    "    return m"
   ]
  },
  {
   "cell_type": "code",
   "execution_count": 8,
   "metadata": {},
   "outputs": [
    {
     "name": "stdout",
     "output_type": "stream",
     "text": [
      "[array([ 1.,  0.,  0.,  0.,  0.,  0.,  0.,  0.,  0.])]\n",
      "[ 0.  0.  0.  0.  0.  0.  0.  0.  0.]\n",
      "[array([ 0.,  1.,  0.,  0.,  0.,  0.,  0.,  0.,  0.])]\n",
      "[ 0.  0.  0.  0.  0.  0.  0.  0.  0.]\n",
      "[array([ 0.,  0.,  1.,  0.,  0.,  0.,  0.,  0.,  0.])]\n",
      "[ 0.  0.  0.  0.  0.  0.  0.  0.  0.]\n",
      "[array([ 0.,  0.,  0.,  1.,  0.,  0.,  0.,  0.,  0.])]\n",
      "[ 0.  0.  0.  0.  0.  0.  0.  0.  0.]\n",
      "[array([ 0.,  0.,  0.,  0.,  1.,  0.,  0.,  0.,  0.]), array([ 0.,  0.,  0.,  0.,  1.,  1.,  0.,  0.,  1.])]\n",
      "[ 0.  0.  0.  0.  0.  1.  0.  0.  1.]\n",
      "[array([ 0.,  0.,  0.,  0.,  1.,  1.,  0.,  0.,  1.])]\n",
      "[ 0.  0.  0.  0.  1.  0.  0.  0.  1.]\n",
      "[array([ 0.,  0.,  0.,  0.,  0.,  0.,  1.,  0.,  0.])]\n",
      "[ 0.  0.  0.  0.  0.  0.  0.  0.  0.]\n",
      "[array([ 0.,  0.,  0.,  0.,  0.,  0.,  0.,  1.,  0.])]\n",
      "[ 0.  0.  0.  0.  0.  0.  0.  0.  0.]\n",
      "[array([ 0.,  0.,  0.,  0.,  1.,  1.,  0.,  0.,  1.])]\n",
      "[ 0.  0.  0.  0.  1.  1.  0.  0.  0.]\n"
     ]
    }
   ],
   "source": [
    "gen_matrix = symmetric_matrix(cust_item_matrix, items)"
   ]
  },
  {
   "cell_type": "code",
   "execution_count": null,
   "metadata": {
    "collapsed": true
   },
   "outputs": [],
   "source": []
  }
 ],
 "metadata": {
  "kernelspec": {
   "display_name": "Python [conda root]",
   "language": "python",
   "name": "conda-root-py"
  },
  "language_info": {
   "codemirror_mode": {
    "name": "ipython",
    "version": 2
   },
   "file_extension": ".py",
   "mimetype": "text/x-python",
   "name": "python",
   "nbconvert_exporter": "python",
   "pygments_lexer": "ipython2",
   "version": "2.7.13"
  },
  "toc": {
   "colors": {
    "hover_highlight": "#DAA520",
    "running_highlight": "#FF0000",
    "selected_highlight": "#FFD700"
   },
   "moveMenuLeft": true,
   "nav_menu": {
    "height": "12px",
    "width": "252px"
   },
   "navigate_menu": true,
   "number_sections": true,
   "sideBar": true,
   "threshold": 4,
   "toc_cell": false,
   "toc_section_display": "block",
   "toc_window_display": false,
   "widenNotebook": false
  }
 },
 "nbformat": 4,
 "nbformat_minor": 2
}
