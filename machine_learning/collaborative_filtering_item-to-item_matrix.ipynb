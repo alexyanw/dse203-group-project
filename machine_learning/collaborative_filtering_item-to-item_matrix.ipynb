{
 "cells": [
  {
   "cell_type": "code",
   "execution_count": 1,
   "metadata": {
    "collapsed": true
   },
   "outputs": [],
   "source": [
    "# connect\n",
    "import psycopg2\n",
    "import json\n",
    "import numpy as np\n",
    "\n",
    "# more connectstr\n",
    "# \"dbname='sqlbook' user='postgres' host='localhost' password='xxxx'\"\n",
    "\n",
    "inputfile = open('connectstr', 'r')\n",
    "\n",
    "connstr = None\n",
    "\n",
    "for i in inputfile:\n",
    "    connstr = json.loads(i.strip())\n",
    "    \n",
    "inputfile.close()\n",
    "\n",
    "conn = psycopg2.connect(connstr)    \n",
    "conn.set_session(autocommit = True)\n",
    "cur = conn.cursor();"
   ]
  },
  {
   "cell_type": "code",
   "execution_count": 2,
   "metadata": {
    "collapsed": true
   },
   "outputs": [],
   "source": [
    "def get_cust_item_list(cursor):\n",
    "    freq = dict()\n",
    "    items = []\n",
    "    \n",
    "    sql = \"\"\"SELECT c.customerid, pr.productid\n",
    "          FROM customers c, orders o, orderlines ol, products pr\n",
    "          WHERE o.customerid = c.customerid\n",
    "          and ol.orderid = o.orderid\n",
    "          and pr.productid = ol.productid\n",
    "          order by c.customerid\"\"\"\n",
    "\n",
    "    cursor.execute(sql)\n",
    "    \n",
    "    for i in cursor.fetchall():        \n",
    "        if i[0] in freq:\n",
    "            freq[i[0]].append(i[1])\n",
    "        else:\n",
    "            freq.update({i[0]:[i[1]]}) # item list per customer\n",
    "        \n",
    "        freq[i[0]] = list(set(freq[i[0]]))\n",
    "        items.append(i[1]) # item list for all customers\n",
    "    \n",
    "    return freq, list(set(items))"
   ]
  },
  {
   "cell_type": "code",
   "execution_count": 3,
   "metadata": {
    "collapsed": true
   },
   "outputs": [],
   "source": [
    "def symmetric_matrix(freq, items):\n",
    "    n = len(items)\n",
    "    m = np.zeros((n,n)) # init matrix\n",
    "    \n",
    "    for c in freq: # go through each customer\n",
    "        item = freq[c] # get the items for each customer\n",
    "        if len(item) < 2: # skip single item list\n",
    "            continue\n",
    "            \n",
    "        # make permutation of item list pairs\n",
    "        pairs = [(item[i],item[j]) for i in range(len(item)) for j in range(i+1, len(item))]\n",
    "        #print 'pairs', pairs\n",
    "        for p in pairs: # get each pair\n",
    "            if p[0] == p[1]: # pair cannot be equal\n",
    "                continue\n",
    "            \n",
    "            i = items.index(p[0]) # get index\n",
    "            j = items.index(p[1])\n",
    "            \n",
    "            m[i][j] += 1 # update matrix\n",
    "            m[j][i] += 1\n",
    "            \n",
    "    return m"
   ]
  },
  {
   "cell_type": "code",
   "execution_count": 4,
   "metadata": {},
   "outputs": [
    {
     "name": "stdout",
     "output_type": "stream",
     "text": [
      "(3990, 3990)\n"
     ]
    }
   ],
   "source": [
    "freq, items = get_cust_item_list(cur)\n",
    "# freq = dictionary, items bought per customer, key = customerid, value = list of items purchased\n",
    "# items = list, unique items bought by all customers\n",
    "\n",
    "# create matrix\n",
    "matrix = symmetric_matrix(freq, items)\n",
    "#print items\n",
    "#print matrix\n",
    "print matrix.shape"
   ]
  },
  {
   "cell_type": "code",
   "execution_count": 5,
   "metadata": {},
   "outputs": [
    {
     "name": "stdout",
     "output_type": "stream",
     "text": [
      "[10834, 12820, 12479]\n",
      "196.0\n",
      "391.0\n"
     ]
    }
   ],
   "source": [
    "# get sample for double checking\n",
    "for c in freq:\n",
    "    item = freq[c]\n",
    "    if len(item) < 2:\n",
    "        continue\n",
    "        \n",
    "    print item\n",
    "    i = items.index(item[0])\n",
    "    j = items.index(item[1])\n",
    "    print matrix[i][j]\n",
    "    k = items.index(item[2])\n",
    "    print matrix[j][k]\n",
    "    break"
   ]
  },
  {
   "cell_type": "code",
   "execution_count": 6,
   "metadata": {},
   "outputs": [],
   "source": [
    "# double checking\n",
    "def check_items(cursor,items):\n",
    "    print items\n",
    "    sql = \"\"\"SELECT c.customerid, pr.productid\n",
    "          FROM customers c, orders o, orderlines ol, products pr\n",
    "          WHERE o.customerid = c.customerid\n",
    "          and ol.orderid = o.orderid\n",
    "          and pr.productid = ol.productid\n",
    "          and (pr.productid = {0}\n",
    "          or pr.productid = {1})\n",
    "          \"\"\".format(items[0],items[1])\n",
    "    print sql\n",
    "    cursor.execute(sql)\n",
    "    users = dict()\n",
    "    \n",
    "    for i in cursor.fetchall():\n",
    "        if i[1] not in items:\n",
    "            continue\n",
    "            \n",
    "        if i[0] not in users:\n",
    "            users.update({i[0]:[i[1]]})\n",
    "        else:\n",
    "            users[i[0]].append(i[1])\n",
    "        \n",
    "    count = 0\n",
    "    for i in users:\n",
    "        if len(list(set(users[i]))) < 2:\n",
    "            continue\n",
    "        \n",
    "        u = list(set(users[i]))\n",
    "        print 'u',u\n",
    "        count += 1\n",
    "        \n",
    "    print count"
   ]
  },
  {
   "cell_type": "code",
   "execution_count": 8,
   "metadata": {
    "scrolled": false
   },
   "outputs": [],
   "source": [
    "#check_items(cur,[10834,12820])\n",
    "#check_items(cur,[12820,12479])"
   ]
  },
  {
   "cell_type": "code",
   "execution_count": null,
   "metadata": {
    "collapsed": true
   },
   "outputs": [],
   "source": []
  }
 ],
 "metadata": {
  "kernelspec": {
   "display_name": "Python [conda root]",
   "language": "python",
   "name": "conda-root-py"
  },
  "language_info": {
   "codemirror_mode": {
    "name": "ipython",
    "version": 2
   },
   "file_extension": ".py",
   "mimetype": "text/x-python",
   "name": "python",
   "nbconvert_exporter": "python",
   "pygments_lexer": "ipython2",
   "version": "2.7.13"
  },
  "toc": {
   "colors": {
    "hover_highlight": "#DAA520",
    "running_highlight": "#FF0000",
    "selected_highlight": "#FFD700"
   },
   "moveMenuLeft": true,
   "nav_menu": {
    "height": "12px",
    "width": "252px"
   },
   "navigate_menu": true,
   "number_sections": true,
   "sideBar": true,
   "threshold": 4,
   "toc_cell": false,
   "toc_section_display": "block",
   "toc_window_display": false,
   "widenNotebook": false
  }
 },
 "nbformat": 4,
 "nbformat_minor": 2
}
