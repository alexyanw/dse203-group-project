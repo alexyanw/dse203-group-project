{
 "cells": [
  {
   "cell_type": "code",
   "execution_count": 2,
   "metadata": {
    "collapsed": true
   },
   "outputs": [],
   "source": [
    "import pandas as pd\n",
    "import numpy as np\n",
    "from json import loads\n",
    "import pandas as pd\n",
    "import psycopg2 \n",
    "from sklearn.linear_model import LinearRegression\n",
    "from sklearn.model_selection import train_test_split\n",
    "from sklearn.preprocessing import StandardScaler\n",
    "from sklearn.metrics import mean_squared_error"
   ]
  },
  {
   "cell_type": "code",
   "execution_count": 3,
   "metadata": {},
   "outputs": [],
   "source": [
    "#Extract the features from DB\n",
    "conn = psycopg2.connect(\"dbname='SQLBook' user='postgres' host='localhost' password='postgres'\")\n",
    "cur = conn.cursor()\n",
    "cur.execute(\"SELECT r.reviewID,r.asin, cast(r.overall as int) as rating, cast(trim(leading '[' from substring(helpful from 0 for position(',' in helpful))) as int) as votesForReview,cast(trim(trailing ']' from substring(helpful from position(',' in helpful)+2)) as int) as outOf,reviewCount.cnt as reviewerCount,bookCount.cnt as bookreviewCount,EXTRACT(day from current_date - r.reviewTime) age,pr.nodeID,reviewtext,summary FROM reviews r LEFT OUTER JOIN (SELECT reviewID, count(*) cnt FROM reviews GROUP BY reviewID) reviewCount ON r.reviewID = reviewCount.reviewID LEFT OUTER JOIN (SELECT asin, count(*) cnt FROM reviews GROUP BY asin) bookCount ON r.asin = bookCount.asin LEFT OUTER JOIN Products pr ON r.asin = pr.asin\")\n",
    "rows = cur.fetchall()\n",
    "\n",
    "df = pd.DataFrame(rows,columns=['reviewID','asin','rating','helpfulness','outOf','reviewerCount','bokReviewCount','reviewAge','nodeID','reviewtext','summary'])\n",
    "\n",
    "#categories: dataframe that contains categories information from Asterixdb (nodeId and 5 levels of categories)\n",
    "#categories.to_csv('categories.csv')\n",
    "\n",
    "#reviewFeatures: dataframe that contains review features from Postgres\n",
    "#reviewFeatures.to_csv('reviewFeatures.csv')"
   ]
  },
  {
   "cell_type": "code",
   "execution_count": 4,
   "metadata": {},
   "outputs": [],
   "source": [
    "#Combining summary and review text\n",
    "df['txt']=df['reviewtext']+df['summary']\n",
    "df.drop(['reviewtext','summary'],axis=1,inplace=True)"
   ]
  },
  {
   "cell_type": "code",
   "execution_count": 5,
   "metadata": {
    "collapsed": true
   },
   "outputs": [],
   "source": [
    "#Get review length\n",
    "df['reviewlen']=0\n",
    "\n",
    "#Function to get review length\n",
    "def rev_len(x):\n",
    "    #print (x)\n",
    "    x['reviewlen']=len(str(x['txt']))\n",
    "    return x\n",
    "\n",
    "df=df.apply(lambda x: rev_len(x),axis=1)"
   ]
  },
  {
   "cell_type": "code",
   "execution_count": 6,
   "metadata": {
    "collapsed": true
   },
   "outputs": [],
   "source": [
    "#Get number of sentences\n",
    "def count_sentences(x):\n",
    "    cnt=0\n",
    "    num_exc=0\n",
    "    for i in str(x):\n",
    "        if i in ['.','?','!']:\n",
    "            cnt=cnt+1\n",
    "    for i in str(x):\n",
    "        if i in ['?','!']:\n",
    "            num_exc=num_exc+1\n",
    "    return cnt,num_exc            "
   ]
  },
  {
   "cell_type": "code",
   "execution_count": 7,
   "metadata": {
    "collapsed": true
   },
   "outputs": [],
   "source": [
    "#Get average word length\n",
    "def avg_word_len(x):\n",
    "    word_list = str(x).split(' ')\n",
    "    nwords = len(word_list)\n",
    "    tot_len=0\n",
    "    for w in word_list:\n",
    "        tot_len=tot_len+len(w)\n",
    "    return tot_len/nwords"
   ]
  },
  {
   "cell_type": "code",
   "execution_count": 8,
   "metadata": {
    "collapsed": true
   },
   "outputs": [],
   "source": [
    "#Get # of words, word length, # of sentences, ARI index\n",
    "df['numwords']=0\n",
    "df['avgwordlen']=0\n",
    "df['num_sen']=0\n",
    "df['num_exc']=0\n",
    "df['ARI']=0\n",
    "def numwords(x):\n",
    "    x['numwords']=len(str(x['txt']).split(' '))\n",
    "    x['avgwordlen'] = avg_word_len(x['txt'])\n",
    "    x['num_sen'],x['num_exc'] = count_sentences(x['txt'])\n",
    "    x['ARI'] = 4.71*(len(str(x['txt']))/float(x['numwords']+1)) + 0.5*(x['numwords']/float(x['num_sen']+1)) - 21.43\n",
    "    return x\n",
    "\n",
    "df=df.apply(lambda x: numwords(x),axis=1)"
   ]
  },
  {
   "cell_type": "code",
   "execution_count": 9,
   "metadata": {
    "collapsed": true
   },
   "outputs": [],
   "source": [
    "#Extract just the feature set from original df\n",
    "new_df = df[['rating','helpfulness','outOf','reviewerCount','bokReviewCount','reviewAge','reviewlen','numwords','avgwordlen','num_sen','num_exc','ARI']]"
   ]
  },
  {
   "cell_type": "code",
   "execution_count": 10,
   "metadata": {},
   "outputs": [],
   "source": [
    "#Training data is the reviews with more than 1 outof\n",
    "train_df=new_df[new_df['outOf']!=0]"
   ]
  },
  {
   "cell_type": "code",
   "execution_count": 11,
   "metadata": {
    "collapsed": true
   },
   "outputs": [],
   "source": [
    "#Prediction data is the reviews which dont have any outof\n",
    "test_df=new_df[new_df['outOf']==0]"
   ]
  },
  {
   "cell_type": "code",
   "execution_count": 12,
   "metadata": {},
   "outputs": [
    {
     "name": "stderr",
     "output_type": "stream",
     "text": [
      "/usr/local/lib/python2.7/site-packages/ipykernel_launcher.py:4: SettingWithCopyWarning: \n",
      "A value is trying to be set on a copy of a slice from a DataFrame\n",
      "\n",
      "See the caveats in the documentation: http://pandas.pydata.org/pandas-docs/stable/indexing.html#indexing-view-versus-copy\n",
      "  after removing the cwd from sys.path.\n"
     ]
    }
   ],
   "source": [
    "#Get the training labels\n",
    "y_train = train_df['helpfulness']/train_df['outOf']\n",
    "#Drop the label data from train\n",
    "train_df.drop(['helpfulness','outOf'],axis=1,inplace=True)"
   ]
  },
  {
   "cell_type": "code",
   "execution_count": 13,
   "metadata": {
    "collapsed": true
   },
   "outputs": [],
   "source": [
    "#Split the data into train, validate, test\n",
    "X_train, X_test, y_train, y_test = train_test_split(train_df, y_train, test_size=0.2, random_state=42)\n",
    "X_train, X_val, y_train, y_val = train_test_split(X_train, y_train, test_size=0.2, random_state=23)"
   ]
  },
  {
   "cell_type": "code",
   "execution_count": 14,
   "metadata": {
    "collapsed": true
   },
   "outputs": [],
   "source": [
    "#Normalize the features\n",
    "scaler = StandardScaler()\n",
    "scaler.fit(X_train)\n",
    "StandardScaler(copy=True, with_mean=True, with_std=True)\n",
    "X_train_n = scaler.transform(X_train)\n",
    "X_test_n = scaler.transform(X_test)\n",
    "X_val_n = scaler.transform(X_val)"
   ]
  },
  {
   "cell_type": "code",
   "execution_count": 15,
   "metadata": {},
   "outputs": [
    {
     "name": "stderr",
     "output_type": "stream",
     "text": [
      "/usr/local/lib/python2.7/site-packages/scipy/linalg/basic.py:884: RuntimeWarning: internal gelsd driver lwork query error, required iwork dimension not returned. This is likely the result of LAPACK bug 0038, fixed in LAPACK 3.2.2 (released July 21, 2010). Falling back to 'gelss' driver.\n",
      "  warnings.warn(mesg, RuntimeWarning)\n"
     ]
    },
    {
     "data": {
      "text/plain": [
       "LinearRegression(copy_X=True, fit_intercept=True, n_jobs=1, normalize=False)"
      ]
     },
     "execution_count": 15,
     "metadata": {},
     "output_type": "execute_result"
    }
   ],
   "source": [
    "# Fit linear regression\n",
    "reg = LinearRegression()\n",
    "reg.fit(X_train_n,y_train.values)"
   ]
  },
  {
   "cell_type": "code",
   "execution_count": 16,
   "metadata": {
    "collapsed": true
   },
   "outputs": [],
   "source": [
    "# Predict the output for train and validate\n",
    "y_train_pred = reg.predict(X_train_n)\n",
    "y_val_pred=reg.predict(X_val_n)"
   ]
  },
  {
   "cell_type": "code",
   "execution_count": 17,
   "metadata": {},
   "outputs": [
    {
     "data": {
      "text/plain": [
       "0.13914123018670685"
      ]
     },
     "execution_count": 17,
     "metadata": {},
     "output_type": "execute_result"
    }
   ],
   "source": [
    "#Check the error for train and validate\n",
    "mean_squared_error(y_train.values,y_train_pred)\n",
    "mean_squared_error(y_val.values,y_val_pred)"
   ]
  },
  {
   "cell_type": "code",
   "execution_count": 18,
   "metadata": {},
   "outputs": [],
   "source": [
    "#Predict for test data\n",
    "y_test_pred=reg.predict(X_test_n)"
   ]
  },
  {
   "cell_type": "code",
   "execution_count": 19,
   "metadata": {},
   "outputs": [
    {
     "data": {
      "text/plain": [
       "0.13832383542274773"
      ]
     },
     "execution_count": 19,
     "metadata": {},
     "output_type": "execute_result"
    }
   ],
   "source": [
    "#Check the error\n",
    "mean_squared_error(y_test.values,y_test_pred)"
   ]
  },
  {
   "cell_type": "code",
   "execution_count": 20,
   "metadata": {
    "collapsed": true
   },
   "outputs": [
    {
     "name": "stderr",
     "output_type": "stream",
     "text": [
      "/usr/local/lib/python2.7/site-packages/ipykernel_launcher.py:2: SettingWithCopyWarning: \n",
      "A value is trying to be set on a copy of a slice from a DataFrame\n",
      "\n",
      "See the caveats in the documentation: http://pandas.pydata.org/pandas-docs/stable/indexing.html#indexing-view-versus-copy\n",
      "  \n",
      "/usr/local/lib/python2.7/site-packages/ipykernel_launcher.py:9: SettingWithCopyWarning: \n",
      "A value is trying to be set on a copy of a slice from a DataFrame.\n",
      "Try using .loc[row_indexer,col_indexer] = value instead\n",
      "\n",
      "See the caveats in the documentation: http://pandas.pydata.org/pandas-docs/stable/indexing.html#indexing-view-versus-copy\n",
      "  if __name__ == '__main__':\n"
     ]
    }
   ],
   "source": [
    "#Actual prediction on unknown labels\n",
    "test_df.drop(['helpfulness','outOf'],axis=1,inplace=True)\n",
    "\n",
    "test_df_n = scaler.transform(test_df) \n",
    "\n",
    "y_test_df=reg.predict(test_df_n)\n",
    "\n",
    "#Store the redicted help ratio\n",
    "test_df['help_ratio']=y_test_df"
   ]
  },
  {
   "cell_type": "code",
   "execution_count": 21,
   "metadata": {
    "collapsed": true
   },
   "outputs": [
    {
     "name": "stderr",
     "output_type": "stream",
     "text": [
      "/usr/local/lib/python2.7/site-packages/ipykernel_launcher.py:2: SettingWithCopyWarning: \n",
      "A value is trying to be set on a copy of a slice from a DataFrame.\n",
      "Try using .loc[row_indexer,col_indexer] = value instead\n",
      "\n",
      "See the caveats in the documentation: http://pandas.pydata.org/pandas-docs/stable/indexing.html#indexing-view-versus-copy\n",
      "  \n"
     ]
    }
   ],
   "source": [
    "#Create help ratio in original df\n",
    "new_df['help_ratio']=new_df['helpfulness']/new_df['outOf']"
   ]
  },
  {
   "cell_type": "code",
   "execution_count": 22,
   "metadata": {
    "scrolled": true
   },
   "outputs": [],
   "source": [
    "# Join \n",
    "new_df=new_df.join(test_df['help_ratio'],how='left',rsuffix='1')"
   ]
  },
  {
   "cell_type": "code",
   "execution_count": 23,
   "metadata": {
    "collapsed": true
   },
   "outputs": [],
   "source": [
    "def final_ratio(x):\n",
    "    if np.isnan(x['help_ratio']):\n",
    "        x['help_ratio']=x['help_ratio1']\n",
    "    return x"
   ]
  },
  {
   "cell_type": "code",
   "execution_count": 24,
   "metadata": {},
   "outputs": [],
   "source": [
    "#Get the final ratio\n",
    "new_df=new_df.apply(lambda x: final_ratio(x),axis=1)"
   ]
  },
  {
   "cell_type": "code",
   "execution_count": 25,
   "metadata": {},
   "outputs": [],
   "source": [
    "new_df.drop('help_ratio1',inplace=True,axis=1)"
   ]
  },
  {
   "cell_type": "code",
   "execution_count": 26,
   "metadata": {},
   "outputs": [],
   "source": [
    "df=df.join(new_df['help_ratio'],how='left')"
   ]
  },
  {
   "cell_type": "code",
   "execution_count": 27,
   "metadata": {},
   "outputs": [],
   "source": [
    "df['rating*help_ratio']=df['rating']*df['help_ratio']"
   ]
  },
  {
   "cell_type": "code",
   "execution_count": 28,
   "metadata": {},
   "outputs": [],
   "source": [
    "df_grouped = df.groupby('asin').sum()"
   ]
  },
  {
   "cell_type": "code",
   "execution_count": 29,
   "metadata": {},
   "outputs": [],
   "source": [
    "def find_nodeid(x):\n",
    "    try:\n",
    "        x['nodeID']=df[df['asin']==x['asin']]['nodeID'].values[0]\n",
    "    except:\n",
    "        pass\n",
    "    return x"
   ]
  },
  {
   "cell_type": "code",
   "execution_count": 30,
   "metadata": {
    "scrolled": true
   },
   "outputs": [],
   "source": [
    "df_grouped['nodeid']='s'\n",
    "df_grouped=df_grouped.reset_index()\n",
    "df_grouped=df_grouped.apply(lambda x: find_nodeid(x),axis=1)"
   ]
  },
  {
   "cell_type": "code",
   "execution_count": 31,
   "metadata": {
    "collapsed": true
   },
   "outputs": [],
   "source": [
    "def get_count(x):\n",
    "    x['count']=len(df[df['asin']==x['asin']])\n",
    "    return x"
   ]
  },
  {
   "cell_type": "code",
   "execution_count": 32,
   "metadata": {
    "collapsed": true
   },
   "outputs": [],
   "source": [
    "df_grouped['count']=0"
   ]
  },
  {
   "cell_type": "code",
   "execution_count": 33,
   "metadata": {
    "scrolled": true
   },
   "outputs": [],
   "source": [
    "df_grouped=df_grouped.reset_index().apply(lambda x: get_count(x),axis=1)"
   ]
  },
  {
   "cell_type": "code",
   "execution_count": 34,
   "metadata": {},
   "outputs": [],
   "source": [
    "df_grouped['overall_rating1'] = (df_grouped['rating*help_ratio']/df_grouped['count']) + np.log(df_grouped['count'])"
   ]
  },
  {
   "cell_type": "code",
   "execution_count": 35,
   "metadata": {},
   "outputs": [],
   "source": [
    "df_grouped=df_grouped.sort_values(by='overall_rating1',ascending=False)"
   ]
  },
  {
   "cell_type": "code",
   "execution_count": 36,
   "metadata": {},
   "outputs": [],
   "source": [
    "categories = pd.read_csv('categories.csv')"
   ]
  },
  {
   "cell_type": "code",
   "execution_count": 37,
   "metadata": {},
   "outputs": [],
   "source": [
    "df_grouped['level1']='S'\n",
    "df_grouped['level2']='S'\n",
    "df_grouped['level3']='S'\n",
    "df_grouped['level4']='S'\n",
    "df_grouped['level5']='S'"
   ]
  },
  {
   "cell_type": "code",
   "execution_count": 38,
   "metadata": {},
   "outputs": [],
   "source": [
    "def find_categories(x):\n",
    "    try:\n",
    "        x['level1']=categories[categories['nodeID']==int(x['nodeID'])]['level_1'].values[0]\n",
    "        x['level2']=categories[categories['nodeID']==int(x['nodeID'])]['level_2'].values[0]\n",
    "        x['level3']=categories[categories['nodeID']==int(x['nodeID'])]['level_3'].values[0]\n",
    "        x['level4']=categories[categories['nodeID']==int(x['nodeID'])]['level_4'].values[0]\n",
    "        x['level5']=categories[categories['nodeID']==int(x['nodeID'])]['level_5'].values[0]\n",
    "    except:\n",
    "        try:\n",
    "            x['level1']=categories[categories['nodeID']==int(x['nodeID'])].iloc[0]['level_1']\n",
    "            x['level2']=categories[categories['nodeID']==int(x['nodeID'])].iloc[0]['level_2']\n",
    "            x['level3']=categories[categories['nodeID']==int(x['nodeID'])].iloc[0]['level_3']\n",
    "            x['level4']=categories[categories['nodeID']==int(x['nodeID'])].iloc[0]['level_4']\n",
    "            x['level5']=categories[categories['nodeID']==int(x['nodeID'])].iloc[0]['level_5']\n",
    "        except:\n",
    "            pass\n",
    "    return x"
   ]
  },
  {
   "cell_type": "code",
   "execution_count": 39,
   "metadata": {},
   "outputs": [],
   "source": [
    "df_grouped=df_grouped.apply(lambda x: find_categories(x),axis=1)"
   ]
  },
  {
   "cell_type": "code",
   "execution_count": 40,
   "metadata": {
    "scrolled": true
   },
   "outputs": [],
   "source": [
    "df_grouped.drop(['nodeid','index'],inplace=True,axis=1)"
   ]
  },
  {
   "cell_type": "code",
   "execution_count": 41,
   "metadata": {},
   "outputs": [
    {
     "data": {
      "text/plain": [
       "Index([u'asin', u'rating', u'helpfulness', u'outOf', u'reviewerCount',\n",
       "       u'bokReviewCount', u'reviewAge', u'reviewlen', u'numwords',\n",
       "       u'avgwordlen', u'num_sen', u'num_exc', u'ARI', u'help_ratio',\n",
       "       u'rating*help_ratio', u'nodeID', u'count', u'overall_rating1',\n",
       "       u'level1', u'level2', u'level3', u'level4', u'level5'],\n",
       "      dtype='object')"
      ]
     },
     "execution_count": 41,
     "metadata": {},
     "output_type": "execute_result"
    }
   ],
   "source": [
    "df_grouped.columns"
   ]
  },
  {
   "cell_type": "code",
   "execution_count": 42,
   "metadata": {},
   "outputs": [
    {
     "data": {
      "text/html": [
       "<div>\n",
       "<style>\n",
       "    .dataframe thead tr:only-child th {\n",
       "        text-align: right;\n",
       "    }\n",
       "\n",
       "    .dataframe thead th {\n",
       "        text-align: left;\n",
       "    }\n",
       "\n",
       "    .dataframe tbody tr th {\n",
       "        vertical-align: top;\n",
       "    }\n",
       "</style>\n",
       "<table border=\"1\" class=\"dataframe\">\n",
       "  <thead>\n",
       "    <tr style=\"text-align: right;\">\n",
       "      <th></th>\n",
       "      <th>asin</th>\n",
       "      <th>rating</th>\n",
       "      <th>helpfulness</th>\n",
       "      <th>outOf</th>\n",
       "      <th>reviewerCount</th>\n",
       "      <th>bokReviewCount</th>\n",
       "      <th>reviewAge</th>\n",
       "      <th>reviewlen</th>\n",
       "      <th>numwords</th>\n",
       "      <th>avgwordlen</th>\n",
       "      <th>...</th>\n",
       "      <th>help_ratio</th>\n",
       "      <th>rating*help_ratio</th>\n",
       "      <th>nodeID</th>\n",
       "      <th>count</th>\n",
       "      <th>overall_rating1</th>\n",
       "      <th>level1</th>\n",
       "      <th>level2</th>\n",
       "      <th>level3</th>\n",
       "      <th>level4</th>\n",
       "      <th>level5</th>\n",
       "    </tr>\n",
       "  </thead>\n",
       "  <tbody>\n",
       "    <tr>\n",
       "      <th>3969</th>\n",
       "      <td>0007386648</td>\n",
       "      <td>43247</td>\n",
       "      <td>12541</td>\n",
       "      <td>17622</td>\n",
       "      <td>9983</td>\n",
       "      <td>82119844</td>\n",
       "      <td>15662677.0</td>\n",
       "      <td>3688653</td>\n",
       "      <td>663472</td>\n",
       "      <td>37459</td>\n",
       "      <td>...</td>\n",
       "      <td>6874.121396</td>\n",
       "      <td>33211.278223</td>\n",
       "      <td>6343230011</td>\n",
       "      <td>9062</td>\n",
       "      <td>12.776740</td>\n",
       "      <td>History</td>\n",
       "      <td>Modern (16th-21st Centuries)</td>\n",
       "      <td>19th Century</td>\n",
       "      <td>NaN</td>\n",
       "      <td>NaN</td>\n",
       "    </tr>\n",
       "    <tr>\n",
       "      <th>203</th>\n",
       "      <td>0002007770</td>\n",
       "      <td>26398</td>\n",
       "      <td>13200</td>\n",
       "      <td>17695</td>\n",
       "      <td>7084</td>\n",
       "      <td>36012001</td>\n",
       "      <td>14773897.0</td>\n",
       "      <td>2777528</td>\n",
       "      <td>508814</td>\n",
       "      <td>24000</td>\n",
       "      <td>...</td>\n",
       "      <td>4489.910652</td>\n",
       "      <td>20421.643939</td>\n",
       "      <td>8622798011</td>\n",
       "      <td>6001</td>\n",
       "      <td>12.102722</td>\n",
       "      <td>Arts &amp; Photography</td>\n",
       "      <td>Music</td>\n",
       "      <td>Songbooks</td>\n",
       "      <td>Brass</td>\n",
       "      <td>NaN</td>\n",
       "    </tr>\n",
       "    <tr>\n",
       "      <th>2332</th>\n",
       "      <td>0007124015</td>\n",
       "      <td>20021</td>\n",
       "      <td>14380</td>\n",
       "      <td>22809</td>\n",
       "      <td>5109</td>\n",
       "      <td>18671041</td>\n",
       "      <td>15334443.0</td>\n",
       "      <td>3085468</td>\n",
       "      <td>561706</td>\n",
       "      <td>17275</td>\n",
       "      <td>...</td>\n",
       "      <td>2700.610980</td>\n",
       "      <td>12787.523401</td>\n",
       "      <td>377888011</td>\n",
       "      <td>4321</td>\n",
       "      <td>11.330632</td>\n",
       "      <td>Computers &amp; Technology</td>\n",
       "      <td>Web Development &amp; Design</td>\n",
       "      <td>User Generated Content</td>\n",
       "      <td>NaN</td>\n",
       "      <td>NaN</td>\n",
       "    </tr>\n",
       "    <tr>\n",
       "      <th>2728</th>\n",
       "      <td>0007167040</td>\n",
       "      <td>3753</td>\n",
       "      <td>1605</td>\n",
       "      <td>2260</td>\n",
       "      <td>1277</td>\n",
       "      <td>619369</td>\n",
       "      <td>3017413.0</td>\n",
       "      <td>568306</td>\n",
       "      <td>100467</td>\n",
       "      <td>3257</td>\n",
       "      <td>...</td>\n",
       "      <td>579.403561</td>\n",
       "      <td>2821.912479</td>\n",
       "      <td>3221491</td>\n",
       "      <td>787</td>\n",
       "      <td>10.253886</td>\n",
       "      <td>Crafts, Hobbies &amp; Home</td>\n",
       "      <td>Crafts &amp; Hobbies</td>\n",
       "      <td>Scrapbooking</td>\n",
       "      <td>NaN</td>\n",
       "      <td>NaN</td>\n",
       "    </tr>\n",
       "    <tr>\n",
       "      <th>3564</th>\n",
       "      <td>0007281447</td>\n",
       "      <td>5030</td>\n",
       "      <td>1394</td>\n",
       "      <td>2359</td>\n",
       "      <td>1340</td>\n",
       "      <td>1149184</td>\n",
       "      <td>2358335.0</td>\n",
       "      <td>731161</td>\n",
       "      <td>133316</td>\n",
       "      <td>4367</td>\n",
       "      <td>...</td>\n",
       "      <td>720.711784</td>\n",
       "      <td>3430.378910</td>\n",
       "      <td>282869</td>\n",
       "      <td>1072</td>\n",
       "      <td>10.177262</td>\n",
       "      <td>Health, Fitness &amp; Dieting</td>\n",
       "      <td>Nutrition</td>\n",
       "      <td>Antioxidants &amp; Phytochemicals</td>\n",
       "      <td>NaN</td>\n",
       "      <td>NaN</td>\n",
       "    </tr>\n",
       "  </tbody>\n",
       "</table>\n",
       "<p>5 rows × 23 columns</p>\n",
       "</div>"
      ],
      "text/plain": [
       "            asin  rating  helpfulness  outOf  reviewerCount  bokReviewCount  \\\n",
       "3969  0007386648   43247        12541  17622           9983        82119844   \n",
       "203   0002007770   26398        13200  17695           7084        36012001   \n",
       "2332  0007124015   20021        14380  22809           5109        18671041   \n",
       "2728  0007167040    3753         1605   2260           1277          619369   \n",
       "3564  0007281447    5030         1394   2359           1340         1149184   \n",
       "\n",
       "       reviewAge  reviewlen  numwords  avgwordlen  ...     help_ratio  \\\n",
       "3969  15662677.0    3688653    663472       37459  ...    6874.121396   \n",
       "203   14773897.0    2777528    508814       24000  ...    4489.910652   \n",
       "2332  15334443.0    3085468    561706       17275  ...    2700.610980   \n",
       "2728   3017413.0     568306    100467        3257  ...     579.403561   \n",
       "3564   2358335.0     731161    133316        4367  ...     720.711784   \n",
       "\n",
       "      rating*help_ratio      nodeID  count  overall_rating1  \\\n",
       "3969       33211.278223  6343230011   9062        12.776740   \n",
       "203        20421.643939  8622798011   6001        12.102722   \n",
       "2332       12787.523401   377888011   4321        11.330632   \n",
       "2728        2821.912479     3221491    787        10.253886   \n",
       "3564        3430.378910      282869   1072        10.177262   \n",
       "\n",
       "                         level1                        level2  \\\n",
       "3969                    History  Modern (16th-21st Centuries)   \n",
       "203          Arts & Photography                         Music   \n",
       "2332     Computers & Technology      Web Development & Design   \n",
       "2728     Crafts, Hobbies & Home              Crafts & Hobbies   \n",
       "3564  Health, Fitness & Dieting                     Nutrition   \n",
       "\n",
       "                             level3 level4 level5  \n",
       "3969                   19th Century    NaN    NaN  \n",
       "203                       Songbooks  Brass    NaN  \n",
       "2332         User Generated Content    NaN    NaN  \n",
       "2728                   Scrapbooking    NaN    NaN  \n",
       "3564  Antioxidants & Phytochemicals    NaN    NaN  \n",
       "\n",
       "[5 rows x 23 columns]"
      ]
     },
     "execution_count": 42,
     "metadata": {},
     "output_type": "execute_result"
    }
   ],
   "source": [
    "df_grouped.head()"
   ]
  },
  {
   "cell_type": "code",
   "execution_count": 43,
   "metadata": {
    "collapsed": true
   },
   "outputs": [],
   "source": [
    "conn = psycopg2.connect(\"dbname='SQLBook' user='postgres' host='localhost' password='postgres'\")\n",
    "cur = conn.cursor()\n",
    "sql = \"\"\"select asin,\n",
    "          round(100*sum(case when month >= 3 and month < 6 then numunits else 0 end)/sum(numunits),2) as spring,\n",
    "          round(100*sum(case when month >= 6 and month < 9 then numunits else 0 end)/sum(numunits),2) as summer,\n",
    "          round(100*sum(case when month >= 9 and month < 12 then numunits else 0 end)/sum(numunits),2) as fall,\n",
    "          round(100*sum(case when (month = 12 or month < 3) then numunits else 0 end)/sum(numunits),2) as winter \n",
    "          from \n",
    "          (select asin, EXTRACT(MONTH FROM orderdate) as month, case when l.numunits = 0 then 0.00001 else l.numunits end as numunits\n",
    "          from customers c, orders o, orderlines l, products p\n",
    "          where c.customerid = o.customerid\n",
    "          and o.orderid = l.orderid\n",
    "          and l.productid = p.productid\n",
    "          ) as temp\n",
    "          group by asin\"\"\"\n",
    "cur.execute(sql)\n",
    "rows = cur.fetchall()"
   ]
  },
  {
   "cell_type": "code",
   "execution_count": 44,
   "metadata": {
    "collapsed": true
   },
   "outputs": [],
   "source": [
    "seasons = pd.DataFrame(rows,columns=['asin','spring','summer','fall','winter'])"
   ]
  },
  {
   "cell_type": "code",
   "execution_count": 51,
   "metadata": {
    "scrolled": true
   },
   "outputs": [
    {
     "data": {
      "text/html": [
       "<div>\n",
       "<style>\n",
       "    .dataframe thead tr:only-child th {\n",
       "        text-align: right;\n",
       "    }\n",
       "\n",
       "    .dataframe thead th {\n",
       "        text-align: left;\n",
       "    }\n",
       "\n",
       "    .dataframe tbody tr th {\n",
       "        vertical-align: top;\n",
       "    }\n",
       "</style>\n",
       "<table border=\"1\" class=\"dataframe\">\n",
       "  <thead>\n",
       "    <tr style=\"text-align: right;\">\n",
       "      <th></th>\n",
       "      <th>asin</th>\n",
       "      <th>spring</th>\n",
       "      <th>summer</th>\n",
       "      <th>fall</th>\n",
       "      <th>winter</th>\n",
       "    </tr>\n",
       "  </thead>\n",
       "  <tbody>\n",
       "    <tr>\n",
       "      <th>0</th>\n",
       "      <td>0000000116</td>\n",
       "      <td>41.66</td>\n",
       "      <td>48.83</td>\n",
       "      <td>5.66</td>\n",
       "      <td>3.86</td>\n",
       "    </tr>\n",
       "    <tr>\n",
       "      <th>1</th>\n",
       "      <td>0000000868</td>\n",
       "      <td>1.92</td>\n",
       "      <td>0.00</td>\n",
       "      <td>21.98</td>\n",
       "      <td>76.10</td>\n",
       "    </tr>\n",
       "    <tr>\n",
       "      <th>2</th>\n",
       "      <td>0000013714</td>\n",
       "      <td>0.00</td>\n",
       "      <td>0.00</td>\n",
       "      <td>44.69</td>\n",
       "      <td>55.31</td>\n",
       "    </tr>\n",
       "    <tr>\n",
       "      <th>3</th>\n",
       "      <td>0000015393</td>\n",
       "      <td>23.53</td>\n",
       "      <td>47.06</td>\n",
       "      <td>29.41</td>\n",
       "      <td>0.00</td>\n",
       "    </tr>\n",
       "    <tr>\n",
       "      <th>4</th>\n",
       "      <td>0000029831</td>\n",
       "      <td>21.03</td>\n",
       "      <td>19.41</td>\n",
       "      <td>21.72</td>\n",
       "      <td>37.85</td>\n",
       "    </tr>\n",
       "  </tbody>\n",
       "</table>\n",
       "</div>"
      ],
      "text/plain": [
       "         asin spring summer   fall winter\n",
       "0  0000000116  41.66  48.83   5.66   3.86\n",
       "1  0000000868   1.92   0.00  21.98  76.10\n",
       "2  0000013714   0.00   0.00  44.69  55.31\n",
       "3  0000015393  23.53  47.06  29.41   0.00\n",
       "4  0000029831  21.03  19.41  21.72  37.85"
      ]
     },
     "execution_count": 51,
     "metadata": {},
     "output_type": "execute_result"
    }
   ],
   "source": [
    "seasons.head()"
   ]
  },
  {
   "cell_type": "code",
   "execution_count": 50,
   "metadata": {},
   "outputs": [
    {
     "data": {
      "text/html": [
       "<div>\n",
       "<style>\n",
       "    .dataframe thead tr:only-child th {\n",
       "        text-align: right;\n",
       "    }\n",
       "\n",
       "    .dataframe thead th {\n",
       "        text-align: left;\n",
       "    }\n",
       "\n",
       "    .dataframe tbody tr th {\n",
       "        vertical-align: top;\n",
       "    }\n",
       "</style>\n",
       "<table border=\"1\" class=\"dataframe\">\n",
       "  <thead>\n",
       "    <tr style=\"text-align: right;\">\n",
       "      <th></th>\n",
       "      <th>asin</th>\n",
       "      <th>rating</th>\n",
       "      <th>helpfulness</th>\n",
       "      <th>outOf</th>\n",
       "      <th>reviewerCount</th>\n",
       "      <th>bokReviewCount</th>\n",
       "      <th>reviewAge</th>\n",
       "      <th>reviewlen</th>\n",
       "      <th>numwords</th>\n",
       "      <th>avgwordlen</th>\n",
       "      <th>...</th>\n",
       "      <th>help_ratio</th>\n",
       "      <th>rating*help_ratio</th>\n",
       "      <th>nodeID</th>\n",
       "      <th>count</th>\n",
       "      <th>overall_rating1</th>\n",
       "      <th>level1</th>\n",
       "      <th>level2</th>\n",
       "      <th>level3</th>\n",
       "      <th>level4</th>\n",
       "      <th>level5</th>\n",
       "    </tr>\n",
       "  </thead>\n",
       "  <tbody>\n",
       "    <tr>\n",
       "      <th>3969</th>\n",
       "      <td>0007386648</td>\n",
       "      <td>43247</td>\n",
       "      <td>12541</td>\n",
       "      <td>17622</td>\n",
       "      <td>9983</td>\n",
       "      <td>82119844</td>\n",
       "      <td>15662677.0</td>\n",
       "      <td>3688653</td>\n",
       "      <td>663472</td>\n",
       "      <td>37459</td>\n",
       "      <td>...</td>\n",
       "      <td>6874.121396</td>\n",
       "      <td>33211.278223</td>\n",
       "      <td>6343230011</td>\n",
       "      <td>9062</td>\n",
       "      <td>12.776740</td>\n",
       "      <td>History</td>\n",
       "      <td>Modern (16th-21st Centuries)</td>\n",
       "      <td>19th Century</td>\n",
       "      <td>NaN</td>\n",
       "      <td>NaN</td>\n",
       "    </tr>\n",
       "    <tr>\n",
       "      <th>203</th>\n",
       "      <td>0002007770</td>\n",
       "      <td>26398</td>\n",
       "      <td>13200</td>\n",
       "      <td>17695</td>\n",
       "      <td>7084</td>\n",
       "      <td>36012001</td>\n",
       "      <td>14773897.0</td>\n",
       "      <td>2777528</td>\n",
       "      <td>508814</td>\n",
       "      <td>24000</td>\n",
       "      <td>...</td>\n",
       "      <td>4489.910652</td>\n",
       "      <td>20421.643939</td>\n",
       "      <td>8622798011</td>\n",
       "      <td>6001</td>\n",
       "      <td>12.102722</td>\n",
       "      <td>Arts &amp; Photography</td>\n",
       "      <td>Music</td>\n",
       "      <td>Songbooks</td>\n",
       "      <td>Brass</td>\n",
       "      <td>NaN</td>\n",
       "    </tr>\n",
       "    <tr>\n",
       "      <th>2332</th>\n",
       "      <td>0007124015</td>\n",
       "      <td>20021</td>\n",
       "      <td>14380</td>\n",
       "      <td>22809</td>\n",
       "      <td>5109</td>\n",
       "      <td>18671041</td>\n",
       "      <td>15334443.0</td>\n",
       "      <td>3085468</td>\n",
       "      <td>561706</td>\n",
       "      <td>17275</td>\n",
       "      <td>...</td>\n",
       "      <td>2700.610980</td>\n",
       "      <td>12787.523401</td>\n",
       "      <td>377888011</td>\n",
       "      <td>4321</td>\n",
       "      <td>11.330632</td>\n",
       "      <td>Computers &amp; Technology</td>\n",
       "      <td>Web Development &amp; Design</td>\n",
       "      <td>User Generated Content</td>\n",
       "      <td>NaN</td>\n",
       "      <td>NaN</td>\n",
       "    </tr>\n",
       "    <tr>\n",
       "      <th>2728</th>\n",
       "      <td>0007167040</td>\n",
       "      <td>3753</td>\n",
       "      <td>1605</td>\n",
       "      <td>2260</td>\n",
       "      <td>1277</td>\n",
       "      <td>619369</td>\n",
       "      <td>3017413.0</td>\n",
       "      <td>568306</td>\n",
       "      <td>100467</td>\n",
       "      <td>3257</td>\n",
       "      <td>...</td>\n",
       "      <td>579.403561</td>\n",
       "      <td>2821.912479</td>\n",
       "      <td>3221491</td>\n",
       "      <td>787</td>\n",
       "      <td>10.253886</td>\n",
       "      <td>Crafts, Hobbies &amp; Home</td>\n",
       "      <td>Crafts &amp; Hobbies</td>\n",
       "      <td>Scrapbooking</td>\n",
       "      <td>NaN</td>\n",
       "      <td>NaN</td>\n",
       "    </tr>\n",
       "    <tr>\n",
       "      <th>3564</th>\n",
       "      <td>0007281447</td>\n",
       "      <td>5030</td>\n",
       "      <td>1394</td>\n",
       "      <td>2359</td>\n",
       "      <td>1340</td>\n",
       "      <td>1149184</td>\n",
       "      <td>2358335.0</td>\n",
       "      <td>731161</td>\n",
       "      <td>133316</td>\n",
       "      <td>4367</td>\n",
       "      <td>...</td>\n",
       "      <td>720.711784</td>\n",
       "      <td>3430.378910</td>\n",
       "      <td>282869</td>\n",
       "      <td>1072</td>\n",
       "      <td>10.177262</td>\n",
       "      <td>Health, Fitness &amp; Dieting</td>\n",
       "      <td>Nutrition</td>\n",
       "      <td>Antioxidants &amp; Phytochemicals</td>\n",
       "      <td>NaN</td>\n",
       "      <td>NaN</td>\n",
       "    </tr>\n",
       "  </tbody>\n",
       "</table>\n",
       "<p>5 rows × 23 columns</p>\n",
       "</div>"
      ],
      "text/plain": [
       "            asin  rating  helpfulness  outOf  reviewerCount  bokReviewCount  \\\n",
       "3969  0007386648   43247        12541  17622           9983        82119844   \n",
       "203   0002007770   26398        13200  17695           7084        36012001   \n",
       "2332  0007124015   20021        14380  22809           5109        18671041   \n",
       "2728  0007167040    3753         1605   2260           1277          619369   \n",
       "3564  0007281447    5030         1394   2359           1340         1149184   \n",
       "\n",
       "       reviewAge  reviewlen  numwords  avgwordlen  ...     help_ratio  \\\n",
       "3969  15662677.0    3688653    663472       37459  ...    6874.121396   \n",
       "203   14773897.0    2777528    508814       24000  ...    4489.910652   \n",
       "2332  15334443.0    3085468    561706       17275  ...    2700.610980   \n",
       "2728   3017413.0     568306    100467        3257  ...     579.403561   \n",
       "3564   2358335.0     731161    133316        4367  ...     720.711784   \n",
       "\n",
       "      rating*help_ratio      nodeID  count  overall_rating1  \\\n",
       "3969       33211.278223  6343230011   9062        12.776740   \n",
       "203        20421.643939  8622798011   6001        12.102722   \n",
       "2332       12787.523401   377888011   4321        11.330632   \n",
       "2728        2821.912479     3221491    787        10.253886   \n",
       "3564        3430.378910      282869   1072        10.177262   \n",
       "\n",
       "                         level1                        level2  \\\n",
       "3969                    History  Modern (16th-21st Centuries)   \n",
       "203          Arts & Photography                         Music   \n",
       "2332     Computers & Technology      Web Development & Design   \n",
       "2728     Crafts, Hobbies & Home              Crafts & Hobbies   \n",
       "3564  Health, Fitness & Dieting                     Nutrition   \n",
       "\n",
       "                             level3 level4 level5  \n",
       "3969                   19th Century    NaN    NaN  \n",
       "203                       Songbooks  Brass    NaN  \n",
       "2332         User Generated Content    NaN    NaN  \n",
       "2728                   Scrapbooking    NaN    NaN  \n",
       "3564  Antioxidants & Phytochemicals    NaN    NaN  \n",
       "\n",
       "[5 rows x 23 columns]"
      ]
     },
     "execution_count": 50,
     "metadata": {},
     "output_type": "execute_result"
    }
   ],
   "source": [
    "df_grouped.head()"
   ]
  },
  {
   "cell_type": "code",
   "execution_count": 53,
   "metadata": {},
   "outputs": [],
   "source": [
    "df_grouped=pd.merge(df_grouped,seasons,on='asin',how='left')"
   ]
  },
  {
   "cell_type": "code",
   "execution_count": 54,
   "metadata": {},
   "outputs": [
    {
     "data": {
      "text/plain": [
       "Index([u'asin', u'rating', u'helpfulness', u'outOf', u'reviewerCount',\n",
       "       u'bokReviewCount', u'reviewAge', u'reviewlen', u'numwords',\n",
       "       u'avgwordlen', u'num_sen', u'num_exc', u'ARI', u'help_ratio',\n",
       "       u'rating*help_ratio', u'nodeID', u'count', u'overall_rating1',\n",
       "       u'level1', u'level2', u'level3', u'level4', u'level5', u'spring',\n",
       "       u'summer', u'fall', u'winter'],\n",
       "      dtype='object')"
      ]
     },
     "execution_count": 54,
     "metadata": {},
     "output_type": "execute_result"
    }
   ],
   "source": [
    "df_grouped.columns"
   ]
  }
 ],
 "metadata": {
  "kernelspec": {
   "display_name": "Python 2",
   "language": "python",
   "name": "python2"
  }
 },
 "nbformat": 4,
 "nbformat_minor": 2
}
