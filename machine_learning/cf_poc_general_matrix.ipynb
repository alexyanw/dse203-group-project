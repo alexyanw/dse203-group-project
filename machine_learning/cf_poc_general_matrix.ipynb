{
 "cells": [
  {
   "cell_type": "code",
   "execution_count": 1,
   "metadata": {},
   "outputs": [],
   "source": [
    "import psycopg2\n",
    "import json\n",
    "import itertools\n",
    "import numpy as np\n",
    "\n",
    "# more connectstr\n",
    "# \"dbname='sqlbook' user='postgres' host='localhost' password='xxxx'\"\n",
    "\n",
    "inputfile = open('connectstr', 'r')\n",
    "\n",
    "connstr = None\n",
    "\n",
    "for i in inputfile:\n",
    "    connstr = json.loads(i.strip())\n",
    "    \n",
    "inputfile.close()\n",
    "\n",
    "conn = psycopg2.connect(connstr)    \n",
    "conn.set_session(autocommit = True)\n",
    "cur = conn.cursor();"
   ]
  },
  {
   "cell_type": "markdown",
   "metadata": {},
   "source": [
    "### 1 Create view for the customers and their associated products"
   ]
  },
  {
   "cell_type": "code",
   "execution_count": 2,
   "metadata": {},
   "outputs": [],
   "source": [
    "sql = \"\"\"CREATE OR REPLACE VIEW cust_prod as\n",
    "(SELECT c.customerid, pr.productid\n",
    "FROM customers c, orders o, orderlines ol, products pr\n",
    "WHERE o.customerid = c.customerid\n",
    "and ol.orderid = o.orderid\n",
    "and pr.productid = ol.productid)\"\"\"\n",
    "cur.execute(sql)"
   ]
  },
  {
   "cell_type": "markdown",
   "metadata": {},
   "source": [
    "### 2 Create view for the co-occurrence matrix"
   ]
  },
  {
   "cell_type": "code",
   "execution_count": 3,
   "metadata": {},
   "outputs": [],
   "source": [
    "sql2 = \"\"\"CREATE OR REPLACE VIEW product_pair_count as \n",
    "(SELECT cp1.productid as firstproduct, \n",
    "cp2.productid as secondproduct, count(cp1.customerid) as paircount\n",
    "FROM cust_prod cp1, cust_prod cp2\n",
    "WHERE cp1.customerid = cp2.customerid\n",
    "GROUP BY cp1.productid, cp2.productid\n",
    "ORDER BY COUNT(cp1.customerid) DESC)\"\"\"\n",
    "cur.execute(sql2)"
   ]
  },
  {
   "cell_type": "markdown",
   "metadata": {},
   "source": [
    "### 3 Get non-duplicate pairs not on the diagonal"
   ]
  },
  {
   "cell_type": "code",
   "execution_count": 4,
   "metadata": {
    "collapsed": true
   },
   "outputs": [],
   "source": [
    "sql3 = \"\"\"SELECT ppc.firstproduct, ppc.secondproduct, ppc.paircount\n",
    "FROM product_pair_count ppc\n",
    "WHERE ppc.firstproduct <  ppc.secondproduct\n",
    "ORDER BY ppc.paircount DESC\"\"\"\n",
    "cur.execute(sql3)"
   ]
  },
  {
   "cell_type": "code",
   "execution_count": 5,
   "metadata": {
    "collapsed": true
   },
   "outputs": [],
   "source": [
    "results = cur.fetchall()\n",
    "ps1 = [r[0] for r in results]\n",
    "ps2 = [r[1] for r in results]"
   ]
  },
  {
   "cell_type": "code",
   "execution_count": 6,
   "metadata": {},
   "outputs": [
    {
     "name": "stdout",
     "output_type": "stream",
     "text": [
      "(12820, 13190, 2582L)\n"
     ]
    }
   ],
   "source": [
    "for r in results:\n",
    "    print r\n",
    "    break"
   ]
  },
  {
   "cell_type": "markdown",
   "metadata": {},
   "source": [
    "### 4 Create co-occurrence matrix"
   ]
  },
  {
   "cell_type": "code",
   "execution_count": 7,
   "metadata": {},
   "outputs": [
    {
     "name": "stdout",
     "output_type": "stream",
     "text": [
      "(56462, 56462)\n"
     ]
    }
   ],
   "source": [
    "gen_matrix = np.zeros((len(ps1),len(ps2)))\n",
    "\n",
    "print gen_matrix.shape\n",
    "\n",
    "for r in results:\n",
    "    index1 = ps1.index(r[0])\n",
    "    index2 = ps2.index(r[1])\n",
    "    gen_matrix[index1][index2]=r[2]"
   ]
  },
  {
   "cell_type": "code",
   "execution_count": 8,
   "metadata": {},
   "outputs": [
    {
     "data": {
      "text/plain": [
       "2582.0"
      ]
     },
     "execution_count": 8,
     "metadata": {},
     "output_type": "execute_result"
    }
   ],
   "source": [
    "# validate\n",
    "gen_matrix[ps1.index(12820)][ps2.index(13190)]"
   ]
  },
  {
   "cell_type": "code",
   "execution_count": null,
   "metadata": {
    "collapsed": true
   },
   "outputs": [],
   "source": []
  }
 ],
 "metadata": {
  "anaconda-cloud": {},
  "kernelspec": {
   "display_name": "Python [conda root]",
   "language": "python",
   "name": "conda-root-py"
  },
  "language_info": {
   "codemirror_mode": {
    "name": "ipython",
    "version": 2
   },
   "file_extension": ".py",
   "mimetype": "text/x-python",
   "name": "python",
   "nbconvert_exporter": "python",
   "pygments_lexer": "ipython2",
   "version": "2.7.13"
  }
 },
 "nbformat": 4,
 "nbformat_minor": 2
}
