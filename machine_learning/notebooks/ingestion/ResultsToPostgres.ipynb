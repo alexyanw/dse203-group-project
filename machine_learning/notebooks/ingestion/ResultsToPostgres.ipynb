{
 "cells": [
  {
   "cell_type": "code",
   "execution_count": 1,
   "metadata": {
    "collapsed": true
   },
   "outputs": [],
   "source": [
    "import pandas as pd\n",
    "import numpy as np\n",
    "import psycopg2 \n",
    "import psycopg2.extras"
   ]
  },
  {
   "cell_type": "code",
   "execution_count": 2,
   "metadata": {
    "collapsed": true
   },
   "outputs": [],
   "source": [
    "conn = psycopg2.connect(\"dbname='bookstore_pr' user='student' host='132.249.238.27' password='123456'\")\n",
    "cur = conn.cursor()"
   ]
  },
  {
   "cell_type": "markdown",
   "metadata": {},
   "source": [
    "# Load Data Files"
   ]
  },
  {
   "cell_type": "code",
   "execution_count": 3,
   "metadata": {},
   "outputs": [],
   "source": [
    "asin = np.load('../../data/extracts/asin.npy')\n",
    "ccm = np.load('../../data/derived/ccm_general.npy')\n",
    "season_price_instock = np.load('../../data/extracts/season_price_instock_indexed.npy')\n",
    "asin_rating = np.load('../../data/derived/rating_indexed.npy')\n",
    "categories_indexed = np.load('../../data/extracts/categories_indexed.npy')\n",
    "ccm1 = np.load('../../data/derived/cluster1_coo_matrix.npy')\n",
    "ccm3 = np.load('../../data/derived/cluster3_coo_matrix.npy')\n",
    "ccm4 = np.load('../../data/derived/cluster4_coo_matrix.npy')\n",
    "ccm7 = np.load('../../data/derived/cluster7_coo_matrix.npy')"
   ]
  },
  {
   "cell_type": "markdown",
   "metadata": {},
   "source": [
    "# Prepare Asin and Categories And Seasonal Information"
   ]
  },
  {
   "cell_type": "code",
   "execution_count": 4,
   "metadata": {
    "collapsed": true
   },
   "outputs": [],
   "source": [
    "asin_df = pd.DataFrame([i.decode() for i in asin],columns=['asin'])\n",
    "\n",
    "cat_dfs = []\n",
    "for i in range(len(categories_indexed)):\n",
    "    cat_dfs.append(asin_df.join(pd.DataFrame(categories_indexed[i],columns=['lvl1','lvl2','lvl3','lvl4','lvl5'])))\n",
    "    cat_dfs[i].set_index('asin', inplace=True)\n",
    "    cat_dfs[i] = cat_dfs[i][cat_dfs[i].values.sum(axis=1) != 0]\n",
    "    cat_dfs[i].reset_index(inplace=True)\n",
    "    \n",
    "season_df = pd.DataFrame(season_price_instock,columns=['spring','summer','fall','winter','fullprice','isinstock'])"
   ]
  },
  {
   "cell_type": "markdown",
   "metadata": {},
   "source": [
    "# Content Based"
   ]
  },
  {
   "cell_type": "code",
   "execution_count": 5,
   "metadata": {
    "collapsed": true
   },
   "outputs": [],
   "source": [
    "content_based_df = asin_df \\\n",
    "                    .join(pd.DataFrame(asin_rating,columns=['metric'])) \\\n",
    "                    .join(season_df)\n",
    "        \n",
    "content_based_cat_df = content_based_df.set_index('asin').join(cat_dfs[0].set_index('asin'),how='inner').reset_index()\n",
    "\n",
    "for i in range(1,len(cat_dfs)):\n",
    "    content_based_cat_df = content_based_cat_df \\\n",
    "        .append( \\\n",
    "                content_based_df.set_index('asin') \\\n",
    "                .join(cat_dfs[i].set_index('asin') \\\n",
    "                      ,how='inner') \\\n",
    "                .reset_index())"
   ]
  },
  {
   "cell_type": "code",
   "execution_count": 6,
   "metadata": {
    "collapsed": true
   },
   "outputs": [],
   "source": [
    "cur.execute(\"truncate content_based;\")\n",
    "psycopg2.extras.execute_batch(cur,'INSERT INTO content_based VALUES (%s,%s,%s,%s,%s,%s,%s,%s,%s,%s,%s,%s,%s)',content_based_cat_df.values.tolist())\n",
    "conn.commit()"
   ]
  },
  {
   "cell_type": "markdown",
   "metadata": {},
   "source": [
    "# Collaborative"
   ]
  },
  {
   "cell_type": "code",
   "execution_count": 7,
   "metadata": {},
   "outputs": [],
   "source": [
    "def ccm_to_df (ccm, cluster, asin_df, season_df, cat_dfs):\n",
    "    ccm_list = []\n",
    "\n",
    "    for i in range(len(ccm)):\n",
    "        if np.where(ccm[i]>0)[0].size > 0:\n",
    "            for x in np.where(ccm[i]>0)[0]:\n",
    "                ccm_list.append([asin[i].decode(),asin[x].decode(),ccm[i][x]])\n",
    "    \n",
    "    info_df = asin_df.join(season_df)\n",
    "    ccm_df = pd.DataFrame(ccm_list,columns=['asin','asin_other','metric'])\n",
    "    \n",
    "    ccm_cat_df = ccm_df.set_index('asin_other') \\\n",
    "                .join(cat_dfs[0].set_index('asin'),how='inner')\n",
    "\n",
    "    for i in range(1,len(cat_dfs)):\n",
    "        ccm_cat_df = ccm_cat_df \\\n",
    "            .append( \\\n",
    "                    ccm_df.set_index('asin_other') \\\n",
    "                    .join(cat_dfs[i].set_index('asin') \\\n",
    "                          ,how='inner'))\n",
    "            \n",
    "    ccm_cat_df = ccm_cat_df.join(info_df.set_index('asin'))\n",
    "    ccm_cat_df.index.names = ['asin_other']\n",
    "    ccm_cat_df = ccm_cat_df.reset_index()[['asin','asin_other','metric','spring','summer','fall','winter','fullprice','isinstock','lvl1','lvl2','lvl3','lvl4','lvl5']]\n",
    "    ccm_cat_df['demo_region'] = cluster\n",
    "    ccm_cat_df['demo_gender'] = 0\n",
    "    \n",
    "    return ccm_cat_df"
   ]
  },
  {
   "cell_type": "code",
   "execution_count": 8,
   "metadata": {
    "collapsed": true
   },
   "outputs": [],
   "source": [
    "cooccurrence = ccm_to_df(ccm, 0, asin_df, season_df, cat_dfs) \\\n",
    "                .append(ccm_to_df(ccm1, 1, asin_df, season_df, cat_dfs)) \\\n",
    "                .append(ccm_to_df(ccm3, 3, asin_df, season_df, cat_dfs)) \\\n",
    "                .append(ccm_to_df(ccm4, 4, asin_df, season_df, cat_dfs)) \\\n",
    "                .append(ccm_to_df(ccm7, 7, asin_df, season_df, cat_dfs))"
   ]
  },
  {
   "cell_type": "code",
   "execution_count": 9,
   "metadata": {
    "collapsed": true
   },
   "outputs": [],
   "source": [
    "cur.execute(\"truncate cooccurrence;\")\n",
    "psycopg2.extras.execute_batch(cur,'INSERT INTO cooccurrence VALUES (%s,%s,%s,%s,%s,%s,%s,%s,%s,%s,%s,%s,%s,%s,%s,%s)',cooccurrence.values.tolist())\n",
    "conn.commit()"
   ]
  },
  {
   "cell_type": "code",
   "execution_count": 26,
   "metadata": {
    "collapsed": true
   },
   "outputs": [],
   "source": [
    "conn.close()"
   ]
  },
  {
   "cell_type": "code",
   "execution_count": null,
   "metadata": {
    "collapsed": true
   },
   "outputs": [],
   "source": []
  },
  {
   "cell_type": "markdown",
   "metadata": {},
   "source": [
    "# Testing"
   ]
  },
  {
   "cell_type": "raw",
   "metadata": {},
   "source": [
    "conn = psycopg2.connect(\"dbname='bookstore_pr' user='student' host='132.249.238.27' password='123456'\")\n",
    "cur = conn.cursor()"
   ]
  },
  {
   "cell_type": "raw",
   "metadata": {},
   "source": [
    "cur.execute(\"\"\"select a.asin, sum(metric) metric from \n",
    "(select asin, asin_other, max(metric) metric from cooccurrence where demo_region = 0\n",
    "group by asin, asin_other) a\n",
    "group by a.asin\"\"\")\n",
    "# \"\"\"\n",
    "rows = cur.fetchall()"
   ]
  },
  {
   "cell_type": "raw",
   "metadata": {},
   "source": [
    "a = [i[0] for i in rows]\n",
    "m = [i[1] for i in rows]"
   ]
  },
  {
   "cell_type": "raw",
   "metadata": {},
   "source": [
    "for i in range(len(ccm)):\n",
    "    if ccm[i].sum() > 0:\n",
    "        if ccm[i].sum()!=m[a.index(asin[i].decode())]:\n",
    "            print (asin[i], ccm[i].sum(), m[a.index(asin[i].decode())])"
   ]
  },
  {
   "cell_type": "raw",
   "metadata": {},
   "source": [
    "np.count_nonzero(ccm)+np.count_nonzero(ccm1)+np.count_nonzero(ccm3)+np.count_nonzero(ccm4)+np.count_nonzero(ccm7)"
   ]
  },
  {
   "cell_type": "raw",
   "metadata": {},
   "source": [
    "ccm[np.where(asin==b'0000000116')[0]].sum()"
   ]
  },
  {
   "cell_type": "raw",
   "metadata": {},
   "source": [
    "print (ccm[0].sum(), asin[0]"
   ]
  },
  {
   "cell_type": "raw",
   "metadata": {},
   "source": [
    "pd.DataFrame(cooccurrence[(cooccurrence.asin=='0003801055') & (cooccurrence.demo_region==0)].groupby(by=['asin','asin_other','metric'])['metric'].count()).rename(columns={'metric':'count'}).reset_index().sum()"
   ]
  },
  {
   "cell_type": "raw",
   "metadata": {},
   "source": [
    "np.count_nonzero(ccm - ccm.T)"
   ]
  }
 ],
 "metadata": {
  "kernelspec": {
   "display_name": "Python [conda env:py36]",
   "language": "python",
   "name": "conda-env-py36-py"
  },
  "language_info": {
   "codemirror_mode": {
    "name": "ipython",
    "version": 3
   },
   "file_extension": ".py",
   "mimetype": "text/x-python",
   "name": "python",
   "nbconvert_exporter": "python",
   "pygments_lexer": "ipython3",
   "version": "3.6.1"
  }
 },
 "nbformat": 4,
 "nbformat_minor": 2
}
