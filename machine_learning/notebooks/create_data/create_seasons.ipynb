{
 "cells": [
  {
   "cell_type": "code",
   "execution_count": 1,
   "metadata": {
    "collapsed": true
   },
   "outputs": [],
   "source": [
    "# connect\n",
    "import psycopg2\n",
    "import json\n",
    "import numpy as np\n",
    "import time\n",
    "# more connectstr\n",
    "# \"dbname='sqlbook' user='postgres' host='localhost' password='xxxx'\"\n",
    "\n",
    "inputfile = open('connectstr', 'r')\n",
    "connstr = None\n",
    "\n",
    "for i in inputfile:\n",
    "    connstr = json.loads(i.strip())\n",
    "    \n",
    "inputfile.close()\n",
    "\n",
    "conn = psycopg2.connect(connstr)    \n",
    "conn.set_session(autocommit = True)\n",
    "cur = conn.cursor();"
   ]
  },
  {
   "cell_type": "code",
   "execution_count": 2,
   "metadata": {
    "collapsed": true
   },
   "outputs": [],
   "source": [
    "def extract_seasons(cursor):\n",
    "    sql = \"\"\"select asin,\n",
    "          round(100*sum(case when month >= 3 and month < 6 then numunits else 0 end)/sum(numunits),2) as spring,\n",
    "          round(100*sum(case when month >= 6 and month < 9 then numunits else 0 end)/sum(numunits),2) as summer,\n",
    "          round(100*sum(case when month >= 9 and month < 12 then numunits else 0 end)/sum(numunits),2) as fall,\n",
    "          round(100*sum(case when (month = 12 or month < 3) then numunits else 0 end)/sum(numunits),2) as winter \n",
    "          from \n",
    "          (select asin, EXTRACT(MONTH FROM orderdate) as month, case when l.numunits = 0 then 0.00001 else l.numunits end as numunits\n",
    "          from customers c, orders o, orderlines l, products p\n",
    "          where c.customerid = o.customerid\n",
    "          and o.orderid = l.orderid\n",
    "          and l.productid = p.productid\n",
    "          ) as temp\n",
    "          group by asin\"\"\"\n",
    "\n",
    "    cursor.execute(sql)\n",
    "    \n",
    "    with open ('asin_seasons.txt', 'w') as seasons:\n",
    "        for r in cursor.fetchall():\n",
    "            seasons.write(\"{0}\\n\".format(\"\\t\".join(str(x) for x in r)))"
   ]
  },
  {
   "cell_type": "code",
   "execution_count": 3,
   "metadata": {},
   "outputs": [],
   "source": [
    "extract_seasons(cur)"
   ]
  },
  {
   "cell_type": "code",
   "execution_count": null,
   "metadata": {
    "collapsed": true
   },
   "outputs": [],
   "source": []
  }
 ],
 "metadata": {
  "kernelspec": {
   "display_name": "Python [conda root]",
   "language": "python",
   "name": "conda-root-py"
  },
  "language_info": {
   "codemirror_mode": {
    "name": "ipython",
    "version": 2
   },
   "file_extension": ".py",
   "mimetype": "text/x-python",
   "name": "python",
   "nbconvert_exporter": "python",
   "pygments_lexer": "ipython2",
   "version": "2.7.13"
  },
  "toc": {
   "colors": {
    "hover_highlight": "#DAA520",
    "running_highlight": "#FF0000",
    "selected_highlight": "#FFD700"
   },
   "moveMenuLeft": true,
   "nav_menu": {
    "height": "12px",
    "width": "252px"
   },
   "navigate_menu": true,
   "number_sections": true,
   "sideBar": true,
   "threshold": 4,
   "toc_cell": false,
   "toc_section_display": "block",
   "toc_window_display": false,
   "widenNotebook": false
  }
 },
 "nbformat": 4,
 "nbformat_minor": 2
}
