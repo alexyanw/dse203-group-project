{
 "cells": [
  {
   "cell_type": "code",
   "execution_count": null,
   "metadata": {
    "collapsed": true
   },
   "outputs": [],
   "source": [
    "# Performance test of recommendation algorithm\n",
    "# Random customers on general recommendation\n",
    "# Single thread"
   ]
  },
  {
   "cell_type": "code",
   "execution_count": 18,
   "metadata": {
    "collapsed": true
   },
   "outputs": [],
   "source": [
    "import numpy as np\n",
    "import random\n",
    "import time\n",
    "from datetime import datetime"
   ]
  },
  {
   "cell_type": "code",
   "execution_count": 3,
   "metadata": {},
   "outputs": [
    {
     "name": "stdout",
     "output_type": "stream",
     "text": [
      "created customer to demographic lookup\n",
      "created customer to order lookup\n",
      "created content lookup\n"
     ]
    }
   ],
   "source": [
    "# initialize all data for collaborative\n",
    "\n",
    "# customer to demographic lookup\n",
    "#arr_cxd = create_mock_cust_demo(NUM_OF_CUSTOMERS,NUM_OF_DEMOREGION,NUM_OF_DEMOGENDER)\n",
    "#arr_cxd = np.load('demo_matrix.npy')\n",
    "arr_cxd = np.load('../../data/extracts/cluster1CustmeridsMapping.npy')\n",
    "print \"created customer to demographic lookup\"\n",
    "\n",
    "# customer to order lookup\n",
    "#matrix_co = create_mock_cust_orders(NUM_OF_CUSTOMERS,NUM_OF_PRODUCTS,0.01)\n",
    "matrix_co = np.load('../../data/extracts/cust_item_matrix.npy')\n",
    "\n",
    "print \"created customer to order lookup\"\n",
    "\n",
    "# content rating lookup\n",
    "arr_conrate = np.load('../../data/derived/rating_indexed.npy')\n",
    "\n",
    "print \"created content lookup\"\n",
    "\n"
   ]
  },
  {
   "cell_type": "code",
   "execution_count": 4,
   "metadata": {
    "collapsed": true
   },
   "outputs": [],
   "source": [
    "# Create co-occurrence matrix\n",
    "\n",
    "def create_cocmatrix(subset_matrix_cust_order):\n",
    "    rows, cols = subset_matrix_cust_order.shape\n",
    "    m = np.zeros((cols,cols))\n",
    "    for i in range(cols):\n",
    "        t = np.sum(subset_matrix_cust_order[subset_matrix_cust_order[:,i] > 0],axis=0)\n",
    "        t[i] = 0\n",
    "        m[i,:] = t\n",
    "        if i % (cols/5) == 0:\n",
    "            print \"created rows in cooccurrence matrix at row\",i\n",
    "    return m"
   ]
  },
  {
   "cell_type": "code",
   "execution_count": 5,
   "metadata": {
    "collapsed": true
   },
   "outputs": [],
   "source": [
    "# generate recommendations\n",
    "# purchase_vec = customer purchases (vector)\n",
    "# cocm = co occurrence matrix [items x items]\n",
    "# num_rec = number of recommendations\n",
    "def gen_recom_collab(purchase_list,cocm,num_rec):\n",
    "    rowsum = np.zeros(cocm.shape[0])\n",
    "    \n",
    "    for p in purchase_list:\n",
    "        rowsum += cocm[p,:]\n",
    "        \n",
    "    rowsum[purchase_list] = 0\n",
    "    indices = np.nonzero(rowsum)[0]\n",
    "    toprec = indices[np.argsort(rowsum[indices])][-1 * num_rec:][::-1]\n",
    "    return list(toprec)"
   ]
  },
  {
   "cell_type": "code",
   "execution_count": 6,
   "metadata": {
    "collapsed": true
   },
   "outputs": [],
   "source": [
    "# generate recommendations\n",
    "# purchase_vec = customer purchases (vector)\n",
    "# list_rating = content rating\n",
    "# num_rec = number of recommendations\n",
    "def gen_recom_content(purchase_list,list_rating,num_rec):\n",
    "    NUM_RECOMMENDATIONS_C = 40\n",
    "    rowsum = np.copy(list_rating)\n",
    "        \n",
    "    rowsum[purchase_list] = 0\n",
    "    \n",
    "    indices = np.nonzero(rowsum)[0]\n",
    "    randrec = indices[np.argsort(rowsum[indices])][-1 * NUM_RECOMMENDATIONS_C:][::-1]\n",
    "    randindices = np.random.permutation(randrec)[:num_rec]\n",
    "    toprec = randindices[np.argsort(rowsum[randindices])][::-1]\n",
    "    return list(toprec)"
   ]
  },
  {
   "cell_type": "code",
   "execution_count": 9,
   "metadata": {},
   "outputs": [
    {
     "name": "stdout",
     "output_type": "stream",
     "text": [
      "created rows in cooccurrence matrix at row 0\n",
      "created rows in cooccurrence matrix at row 798\n",
      "created rows in cooccurrence matrix at row 1596\n",
      "created rows in cooccurrence matrix at row 2394\n",
      "created rows in cooccurrence matrix at row 3192\n",
      "created rows in cooccurrence matrix at row 0\n",
      "created rows in cooccurrence matrix at row 798\n",
      "created rows in cooccurrence matrix at row 1596\n",
      "created rows in cooccurrence matrix at row 2394\n",
      "created rows in cooccurrence matrix at row 3192\n",
      "created rows in cooccurrence matrix at row 0\n",
      "created rows in cooccurrence matrix at row 798\n",
      "created rows in cooccurrence matrix at row 1596\n",
      "created rows in cooccurrence matrix at row 2394\n",
      "created rows in cooccurrence matrix at row 3192\n",
      "created rows in cooccurrence matrix at row 0\n",
      "created rows in cooccurrence matrix at row 798\n",
      "created rows in cooccurrence matrix at row 1596\n",
      "created rows in cooccurrence matrix at row 2394\n",
      "created rows in cooccurrence matrix at row 3192\n",
      "created rows in cooccurrence matrix at row 0\n",
      "created rows in cooccurrence matrix at row 798\n",
      "created rows in cooccurrence matrix at row 1596\n",
      "created rows in cooccurrence matrix at row 2394\n",
      "created rows in cooccurrence matrix at row 3192\n"
     ]
    }
   ],
   "source": [
    "list_useful_clusters = [1,3,4,7]\n",
    "\n",
    "list_coo_matrix = {}\n",
    "list_coo_matrix[0] = create_cocmatrix(matrix_co)\n",
    "for c in list_useful_clusters:\n",
    "    list_sub = list(np.where(arr_cxd == c)[0])\n",
    "    list_coo_matrix[c] = create_cocmatrix(matrix_co[list_sub])"
   ]
  },
  {
   "cell_type": "code",
   "execution_count": 19,
   "metadata": {},
   "outputs": [],
   "source": [
    "def random_tester(i,mco,coc,c_rating,important_c,num_rec_collab,num_rec_content):\n",
    "    time_current = datetime.now()\n",
    "    p_vec = mco[i,:]\n",
    "    list_original_purchases = np.where(p_vec > 0)[0]\n",
    "    \n",
    "    list_summed_coo_vec = []\n",
    "    list_content_vec = []\n",
    "    list_hybrid_vec = []\n",
    "    \n",
    "    cust_cluster = coc[i][0]\n",
    "    \n",
    "    list_content_vec = gen_recom_content(list_original_purchases,c_rating,num_rec_collab+num_rec_content)\n",
    "    \n",
    "    if cust_cluster in important_c:\n",
    "        list_summed_coo_vec = gen_recom_collab(list_original_purchases,list_coo_matrix[cust_cluster],num_rec_collab+num_rec_content)\n",
    "    else:\n",
    "        list_summed_coo_vec = gen_recom_collab(list_original_purchases,list_coo_matrix[0],num_rec_collab+num_rec_content)\n",
    "    \n",
    "    list_hybrid_vec = list_summed_coo_vec[:num_rec_collab]\n",
    "    \n",
    "    for r in list_content_vec:\n",
    "        if len(list_hybrid_vec) >= num_rec_collab+num_rec_content:\n",
    "            break\n",
    "        if r not in list_hybrid_vec:\n",
    "            list_hybrid_vec.append(r)\n",
    "    return ((datetime.now() - time_current).total_seconds() * 1000)"
   ]
  },
  {
   "cell_type": "code",
   "execution_count": 40,
   "metadata": {},
   "outputs": [],
   "source": [
    "list_times = []\n",
    "num_requests = 100000\n",
    "\n",
    "for i in list(np.random.choice(matrix_co.shape[0], num_requests, replace=True)):\n",
    "    list_times.append(random_tester(i,matrix_co,arr_cxd,arr_conrate,list_coo_matrix,9,1))\n"
   ]
  },
  {
   "cell_type": "code",
   "execution_count": 45,
   "metadata": {},
   "outputs": [
    {
     "name": "stdout",
     "output_type": "stream",
     "text": [
      "average recommendation return time 1.91313547 ms\n"
     ]
    }
   ],
   "source": [
    "# Average recommendation time\n",
    "print \"average recommendation return time \" + str(np.mean(list_times)) + \" ms\""
   ]
  },
  {
   "cell_type": "code",
   "execution_count": 46,
   "metadata": {},
   "outputs": [
    {
     "name": "stdout",
     "output_type": "stream",
     "text": [
      "requests per second: 522.702137763\n"
     ]
    }
   ],
   "source": [
    "# Recommendations per second (# requests / (total time in seconds))\n",
    "print \"requests per second: \" + str(num_requests/(np.sum(list_times)/1000))"
   ]
  },
  {
   "cell_type": "code",
   "execution_count": null,
   "metadata": {},
   "outputs": [],
   "source": []
  },
  {
   "cell_type": "code",
   "execution_count": 47,
   "metadata": {},
   "outputs": [
    {
     "data": {
      "text/plain": [
       "0.0"
      ]
     },
     "execution_count": 47,
     "metadata": {},
     "output_type": "execute_result"
    }
   ],
   "source": []
  },
  {
   "cell_type": "code",
   "execution_count": null,
   "metadata": {
    "collapsed": true
   },
   "outputs": [],
   "source": []
  }
 ],
 "metadata": {
  "kernelspec": {
   "display_name": "Python [default]",
   "language": "python",
   "name": "python2"
  },
  "language_info": {
   "codemirror_mode": {
    "name": "ipython",
    "version": 2
   },
   "file_extension": ".py",
   "mimetype": "text/x-python",
   "name": "python",
   "nbconvert_exporter": "python",
   "pygments_lexer": "ipython2",
   "version": "2.7.13"
  },
  "toc": {
   "colors": {
    "hover_highlight": "#DAA520",
    "running_highlight": "#FF0000",
    "selected_highlight": "#FFD700"
   },
   "moveMenuLeft": true,
   "nav_menu": {
    "height": "12px",
    "width": "252px"
   },
   "navigate_menu": true,
   "number_sections": true,
   "sideBar": true,
   "threshold": 4,
   "toc_cell": false,
   "toc_section_display": "block",
   "toc_window_display": false,
   "widenNotebook": false
  }
 },
 "nbformat": 4,
 "nbformat_minor": 2
}
