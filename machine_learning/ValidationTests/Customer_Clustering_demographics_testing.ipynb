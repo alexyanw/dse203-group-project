{
 "cells": [
  {
   "cell_type": "code",
   "execution_count": 1,
   "metadata": {
    "collapsed": true
   },
   "outputs": [],
   "source": [
    "#Import API\n",
    "from dora.api import DataExplorer\n",
    "\n",
    "import pandas as pd\n",
    "from datetime import date, timedelta, datetime\n",
    "from matplotlib import pyplot\n",
    "import matplotlib.pyplot as plt\n",
    "from mpl_toolkits.mplot3d import Axes3D\n",
    "from uszipcode import ZipcodeSearchEngine\n",
    "import numpy as np\n",
    "\n",
    "import random\n",
    "import time\n",
    "from sklearn.model_selection import KFold\n",
    "import json\n",
    "import sys\n",
    "\n",
    "explorer = DataExplorer()"
   ]
  },
  {
   "cell_type": "code",
   "execution_count": 2,
   "metadata": {
    "collapsed": true
   },
   "outputs": [],
   "source": [
    "def plot3d(X,x,y,z,points):\n",
    "    fig = pyplot.figure()\n",
    "    ax = Axes3D(fig)\n",
    "    colors = ['green','red','blue','black','salmon','indigo','plum','seagreen','grey','yellow']\n",
    "    for i in range(points):\n",
    "        ax.scatter(X.results[i][x], X.results[i][y],X.results[i][z], c=colors[X.results[i][12]])\n",
    "    return fig"
   ]
  },
  {
   "cell_type": "code",
   "execution_count": 3,
   "metadata": {
    "collapsed": true
   },
   "outputs": [],
   "source": [
    "def custPerCluster(df):\n",
    "    fig=plt.figure()\n",
    "    maxn=df['cluster'].max()\n",
    "    plt.hist(df['cluster'].values)\n",
    "    plt.xlabel('Clusters')\n",
    "    plt.ylabel('# of Customers')\n",
    "    plt.xticks(range(0,maxn+1))\n",
    "    plt.title('Number of Customers per Cluster')\n",
    "    return fig"
   ]
  },
  {
   "cell_type": "code",
   "execution_count": 4,
   "metadata": {
    "collapsed": true
   },
   "outputs": [],
   "source": [
    "def clusterDist(df):\n",
    "    maxn=df['cluster'].max()\n",
    "    clusterStats=pd.DataFrame()\n",
    "    for i in range(maxn+1):\n",
    "        mask=(df['cluster']==i)\n",
    "        t=df.loc[mask]\n",
    "        clusterStats.loc[i,'avgNumOrders']=t['numorders'].mean()\n",
    "        clusterStats.loc[i,'avgTotalSpent']=t['totalspent'].mean()\n",
    "        clusterStats.loc[i,'numHouseholds']=t['householdid'].nunique()\n",
    "        clusterStats.loc[i,'numZipcoes']=t['zipcode'].nunique()\n",
    "        clusterStats.loc[i,'avgTotalPopMales']=t['totalmales'].mean()\n",
    "        clusterStats.loc[i,'avgTotalPopFemales']=t['totalfemales'].mean()\n",
    "        clusterStats.loc[i,'avgTotalPop']=t['totalpop'].mean()\n",
    "        clusterStats.loc[i,'medianAge']=t['medianage'].median()\n",
    "    return clusterStats"
   ]
  },
  {
   "cell_type": "code",
   "execution_count": 5,
   "metadata": {
    "collapsed": true
   },
   "outputs": [],
   "source": [
    "def clusterZips(df):\n",
    "    maxn=df['cluster'].max()\n",
    "    search = ZipcodeSearchEngine()\n",
    "    zipstates={}\n",
    "    zipcities={}\n",
    "    for i in range(maxn+1):\n",
    "        #print (\"Cluster \"+str(i))\n",
    "        states=set()\n",
    "        cities=set()\n",
    "        mask=(df['cluster']==i)\n",
    "        t=df[['zipcode','cluster']].loc[mask]\n",
    "        zipcodes=t['zipcode'].unique()\n",
    "        for j in range(len(zipcodes)):\n",
    "            city=search.by_zipcode(str(zipcodes[j]))\n",
    "            cities.add(city['City'])\n",
    "            states.add(city['State'])\n",
    "        zipstates.update({i:states})\n",
    "        zipcities.update({i:cities})\n",
    "    return zipstates, zipcities"
   ]
  },
  {
   "cell_type": "markdown",
   "metadata": {},
   "source": [
    "statsByCustomer Query"
   ]
  },
  {
   "cell_type": "code",
   "execution_count": 6,
   "metadata": {},
   "outputs": [
    {
     "data": {
      "text/html": [
       "<div>\n",
       "<style scoped>\n",
       "    .dataframe tbody tr th:only-of-type {\n",
       "        vertical-align: middle;\n",
       "    }\n",
       "\n",
       "    .dataframe tbody tr th {\n",
       "        vertical-align: top;\n",
       "    }\n",
       "\n",
       "    .dataframe thead th {\n",
       "        text-align: right;\n",
       "    }\n",
       "</style>\n",
       "<table border=\"1\" class=\"dataframe\">\n",
       "  <thead>\n",
       "    <tr style=\"text-align: right;\">\n",
       "      <th></th>\n",
       "      <th>customermatchedid</th>\n",
       "      <th>numorders</th>\n",
       "      <th>gender</th>\n",
       "      <th>zipcode</th>\n",
       "      <th>totalpop</th>\n",
       "      <th>medianage</th>\n",
       "      <th>totalmales</th>\n",
       "      <th>totalfemales</th>\n",
       "      <th>totalspent</th>\n",
       "      <th>householdid</th>\n",
       "      <th>firstname</th>\n",
       "      <th>numcustomerid</th>\n",
       "    </tr>\n",
       "  </thead>\n",
       "  <tbody>\n",
       "    <tr>\n",
       "      <th>0</th>\n",
       "      <td>37917</td>\n",
       "      <td>412</td>\n",
       "      <td>0</td>\n",
       "      <td>10036</td>\n",
       "      <td>22413</td>\n",
       "      <td>38.8</td>\n",
       "      <td>12687</td>\n",
       "      <td>9726</td>\n",
       "      <td>606.25</td>\n",
       "      <td>19885296</td>\n",
       "      <td>MIKE</td>\n",
       "      <td>412</td>\n",
       "    </tr>\n",
       "    <tr>\n",
       "      <th>1</th>\n",
       "      <td>37907</td>\n",
       "      <td>189</td>\n",
       "      <td>1</td>\n",
       "      <td>10036</td>\n",
       "      <td>22413</td>\n",
       "      <td>38.8</td>\n",
       "      <td>12687</td>\n",
       "      <td>9726</td>\n",
       "      <td>651.59</td>\n",
       "      <td>19885296</td>\n",
       "      <td>HILDA</td>\n",
       "      <td>189</td>\n",
       "    </tr>\n",
       "    <tr>\n",
       "      <th>2</th>\n",
       "      <td>140299</td>\n",
       "      <td>99</td>\n",
       "      <td>0</td>\n",
       "      <td>10036</td>\n",
       "      <td>22413</td>\n",
       "      <td>38.8</td>\n",
       "      <td>12687</td>\n",
       "      <td>9726</td>\n",
       "      <td>0.00</td>\n",
       "      <td>49927024</td>\n",
       "      <td>MIKE</td>\n",
       "      <td>99</td>\n",
       "    </tr>\n",
       "    <tr>\n",
       "      <th>3</th>\n",
       "      <td>37901</td>\n",
       "      <td>99</td>\n",
       "      <td>2</td>\n",
       "      <td>10036</td>\n",
       "      <td>22413</td>\n",
       "      <td>38.8</td>\n",
       "      <td>12687</td>\n",
       "      <td>9726</td>\n",
       "      <td>2226.32</td>\n",
       "      <td>19885296</td>\n",
       "      <td></td>\n",
       "      <td>99</td>\n",
       "    </tr>\n",
       "    <tr>\n",
       "      <th>4</th>\n",
       "      <td>140298</td>\n",
       "      <td>70</td>\n",
       "      <td>0</td>\n",
       "      <td>10036</td>\n",
       "      <td>22413</td>\n",
       "      <td>38.8</td>\n",
       "      <td>12687</td>\n",
       "      <td>9726</td>\n",
       "      <td>0.00</td>\n",
       "      <td>49927024</td>\n",
       "      <td>JIM</td>\n",
       "      <td>70</td>\n",
       "    </tr>\n",
       "  </tbody>\n",
       "</table>\n",
       "</div>"
      ],
      "text/plain": [
       "   customermatchedid  numorders  gender zipcode  totalpop  medianage  \\\n",
       "0              37917        412       0   10036     22413       38.8   \n",
       "1              37907        189       1   10036     22413       38.8   \n",
       "2             140299         99       0   10036     22413       38.8   \n",
       "3              37901         99       2   10036     22413       38.8   \n",
       "4             140298         70       0   10036     22413       38.8   \n",
       "\n",
       "   totalmales  totalfemales totalspent  householdid firstname  numcustomerid  \n",
       "0       12687          9726     606.25     19885296      MIKE            412  \n",
       "1       12687          9726     651.59     19885296     HILDA            189  \n",
       "2       12687          9726       0.00     49927024      MIKE             99  \n",
       "3       12687          9726    2226.32     19885296                       99  \n",
       "4       12687          9726       0.00     49927024       JIM             70  "
      ]
     },
     "execution_count": 6,
     "metadata": {},
     "output_type": "execute_result"
    }
   ],
   "source": [
    "statsByCust=explorer.customers.statsByCustomer()\n",
    "statsByCustomer=pd.DataFrame(statsByCust.results, columns=statsByCust.columns)\n",
    "statsByCustomer.head()"
   ]
  },
  {
   "cell_type": "markdown",
   "metadata": {},
   "source": [
    "Use the API to get 10 clusters of customers. Bad zipcodes have been removed from the dataset. Customers with no gender assigned are within the dataset of customers to be clustered. A specified feature_set is not defined by the user, neither are the features that will be used for the clustering. In this case, the feature_set will be the data from statsByCustomer and the features will be [numOrders, gender, totalpop, totalspent]. "
   ]
  },
  {
   "cell_type": "code",
   "execution_count": 7,
   "metadata": {
    "collapsed": true
   },
   "outputs": [],
   "source": [
    "#Get 10 clusters and print out the head of the dataframe\n",
    "cCluster=explorer.customers.clusterCustomers(n_clusters=10)"
   ]
  },
  {
   "cell_type": "code",
   "execution_count": 8,
   "metadata": {},
   "outputs": [
    {
     "data": {
      "text/plain": [
       "array(['numorders', 'gender', 'totalspent', 'zipcode', 'customermatchedid',\n",
       "       'totalpop', 'medianage', 'totalmales', 'totalfemales',\n",
       "       'householdid', 'firstname', 'numcustomerid', 'cluster',\n",
       "       'customerids'], dtype=object)"
      ]
     },
     "execution_count": 8,
     "metadata": {},
     "output_type": "execute_result"
    }
   ],
   "source": [
    "#Lists the columns of the cCluster\n",
    "cCluster.columns"
   ]
  },
  {
   "cell_type": "code",
   "execution_count": 9,
   "metadata": {
    "collapsed": true
   },
   "outputs": [],
   "source": [
    "#3-D Plot of the customer clusters (gender, medianage, totalpop)\n",
    "#plot=plot3d(cCluster, 1,5, 2, 1000)\n",
    "#plot"
   ]
  },
  {
   "cell_type": "code",
   "execution_count": null,
   "metadata": {
    "collapsed": true
   },
   "outputs": [],
   "source": []
  },
  {
   "cell_type": "code",
   "execution_count": 10,
   "metadata": {
    "collapsed": true,
    "scrolled": true
   },
   "outputs": [],
   "source": [
    "#Histogram of the number of customers in each cluster\n",
    "#df=pd.DataFrame(cCluster.results, columns=cCluster.columns)\n",
    "#dist=custPerCluster(df)\n",
    "#dist"
   ]
  },
  {
   "cell_type": "code",
   "execution_count": 11,
   "metadata": {
    "collapsed": true,
    "scrolled": false
   },
   "outputs": [],
   "source": [
    "#Stats by cluster\n",
    "#stats=clusterDist(df)\n",
    "#stats"
   ]
  },
  {
   "cell_type": "code",
   "execution_count": 12,
   "metadata": {
    "collapsed": true
   },
   "outputs": [],
   "source": [
    "#Get the states and cities that are clustered together\n",
    "#zipdata=clusterZips(df)\n",
    "#zipstates=zipdata[0]\n",
    "#zipcities=zipdata[1]"
   ]
  },
  {
   "cell_type": "markdown",
   "metadata": {},
   "source": [
    "Cluster the customers but remove certain householdids. Specifiy the features that will be used in the clustering. "
   ]
  },
  {
   "cell_type": "code",
   "execution_count": 13,
   "metadata": {
    "collapsed": true
   },
   "outputs": [],
   "source": [
    "#Elimate householdids from the data that will be clustered\n",
    "response=explorer.customers.statsByCustomer(householdid=['19885296','49927024'])"
   ]
  },
  {
   "cell_type": "code",
   "execution_count": 14,
   "metadata": {
    "collapsed": true,
    "scrolled": true
   },
   "outputs": [],
   "source": [
    "#Show results from the query\n",
    "#response.results"
   ]
  },
  {
   "cell_type": "code",
   "execution_count": 15,
   "metadata": {
    "collapsed": true
   },
   "outputs": [],
   "source": [
    "#Cluster the results by customer\n",
    "cCluster_rmHID=explorer.customers.clusterCustomers(feature_set=response, n_clusters=7, \n",
    "                                                   cluster_on=['gender','totalmales','totalfemales','totalpop'])"
   ]
  },
  {
   "cell_type": "code",
   "execution_count": 16,
   "metadata": {},
   "outputs": [
    {
     "data": {
      "text/html": [
       "<div>\n",
       "<style scoped>\n",
       "    .dataframe tbody tr th:only-of-type {\n",
       "        vertical-align: middle;\n",
       "    }\n",
       "\n",
       "    .dataframe tbody tr th {\n",
       "        vertical-align: top;\n",
       "    }\n",
       "\n",
       "    .dataframe thead th {\n",
       "        text-align: right;\n",
       "    }\n",
       "</style>\n",
       "<table border=\"1\" class=\"dataframe\">\n",
       "  <thead>\n",
       "    <tr style=\"text-align: right;\">\n",
       "      <th></th>\n",
       "      <th>avgNumOrders</th>\n",
       "      <th>avgTotalSpent</th>\n",
       "      <th>numHouseholds</th>\n",
       "      <th>numZipcoes</th>\n",
       "      <th>avgTotalPopMales</th>\n",
       "      <th>avgTotalPopFemales</th>\n",
       "      <th>avgTotalPop</th>\n",
       "      <th>medianAge</th>\n",
       "    </tr>\n",
       "  </thead>\n",
       "  <tbody>\n",
       "    <tr>\n",
       "      <th>0</th>\n",
       "      <td>1.190962</td>\n",
       "      <td>82.721845</td>\n",
       "      <td>35682.0</td>\n",
       "      <td>2079.0</td>\n",
       "      <td>13651.024379</td>\n",
       "      <td>14547.523659</td>\n",
       "      <td>28198.548038</td>\n",
       "      <td>40.15</td>\n",
       "    </tr>\n",
       "    <tr>\n",
       "      <th>1</th>\n",
       "      <td>1.212001</td>\n",
       "      <td>65.252829</td>\n",
       "      <td>3010.0</td>\n",
       "      <td>66.0</td>\n",
       "      <td>42834.013848</td>\n",
       "      <td>48141.761292</td>\n",
       "      <td>90975.775140</td>\n",
       "      <td>37.70</td>\n",
       "    </tr>\n",
       "    <tr>\n",
       "      <th>2</th>\n",
       "      <td>1.180092</td>\n",
       "      <td>91.478685</td>\n",
       "      <td>28322.0</td>\n",
       "      <td>4899.0</td>\n",
       "      <td>3540.935510</td>\n",
       "      <td>3658.767020</td>\n",
       "      <td>7199.702529</td>\n",
       "      <td>43.20</td>\n",
       "    </tr>\n",
       "    <tr>\n",
       "      <th>3</th>\n",
       "      <td>1.194058</td>\n",
       "      <td>79.746778</td>\n",
       "      <td>14369.0</td>\n",
       "      <td>628.0</td>\n",
       "      <td>24411.302771</td>\n",
       "      <td>26117.666896</td>\n",
       "      <td>50528.969668</td>\n",
       "      <td>36.30</td>\n",
       "    </tr>\n",
       "    <tr>\n",
       "      <th>4</th>\n",
       "      <td>1.190426</td>\n",
       "      <td>81.021330</td>\n",
       "      <td>25212.0</td>\n",
       "      <td>1287.0</td>\n",
       "      <td>18880.354152</td>\n",
       "      <td>20286.820160</td>\n",
       "      <td>39167.174312</td>\n",
       "      <td>39.00</td>\n",
       "    </tr>\n",
       "    <tr>\n",
       "      <th>5</th>\n",
       "      <td>1.188336</td>\n",
       "      <td>84.460504</td>\n",
       "      <td>36553.0</td>\n",
       "      <td>2548.0</td>\n",
       "      <td>8807.290947</td>\n",
       "      <td>9304.880179</td>\n",
       "      <td>18112.171126</td>\n",
       "      <td>41.30</td>\n",
       "    </tr>\n",
       "    <tr>\n",
       "      <th>6</th>\n",
       "      <td>1.200572</td>\n",
       "      <td>83.466540</td>\n",
       "      <td>10049.0</td>\n",
       "      <td>285.0</td>\n",
       "      <td>30493.876381</td>\n",
       "      <td>33517.923244</td>\n",
       "      <td>64011.799625</td>\n",
       "      <td>38.30</td>\n",
       "    </tr>\n",
       "  </tbody>\n",
       "</table>\n",
       "</div>"
      ],
      "text/plain": [
       "   avgNumOrders  avgTotalSpent  numHouseholds  numZipcoes  avgTotalPopMales  \\\n",
       "0      1.190962      82.721845        35682.0      2079.0      13651.024379   \n",
       "1      1.212001      65.252829         3010.0        66.0      42834.013848   \n",
       "2      1.180092      91.478685        28322.0      4899.0       3540.935510   \n",
       "3      1.194058      79.746778        14369.0       628.0      24411.302771   \n",
       "4      1.190426      81.021330        25212.0      1287.0      18880.354152   \n",
       "5      1.188336      84.460504        36553.0      2548.0       8807.290947   \n",
       "6      1.200572      83.466540        10049.0       285.0      30493.876381   \n",
       "\n",
       "   avgTotalPopFemales   avgTotalPop  medianAge  \n",
       "0        14547.523659  28198.548038      40.15  \n",
       "1        48141.761292  90975.775140      37.70  \n",
       "2         3658.767020   7199.702529      43.20  \n",
       "3        26117.666896  50528.969668      36.30  \n",
       "4        20286.820160  39167.174312      39.00  \n",
       "5         9304.880179  18112.171126      41.30  \n",
       "6        33517.923244  64011.799625      38.30  "
      ]
     },
     "execution_count": 16,
     "metadata": {},
     "output_type": "execute_result"
    }
   ],
   "source": [
    "#Get cluster stats\n",
    "df=pd.DataFrame(cCluster_rmHID.results, columns=cCluster_rmHID.columns )\n",
    "stats=clusterDist(df)\n",
    "stats"
   ]
  },
  {
   "cell_type": "code",
   "execution_count": 17,
   "metadata": {},
   "outputs": [
    {
     "data": {
      "text/plain": [
       "array(['gender', 'totalmales', 'totalfemales', 'totalpop',\n",
       "       'customermatchedid', 'numorders', 'zipcode', 'medianage',\n",
       "       'totalspent', 'householdid', 'firstname', 'numcustomerid',\n",
       "       'cluster', 'customerids'], dtype=object)"
      ]
     },
     "execution_count": 17,
     "metadata": {},
     "output_type": "execute_result"
    }
   ],
   "source": [
    "cCluster_rmHID.columns"
   ]
  },
  {
   "cell_type": "code",
   "execution_count": 18,
   "metadata": {
    "collapsed": true
   },
   "outputs": [],
   "source": [
    "#3-D Plot of the customer clusters (gender, totalmales , totalfemales)\n",
    "#plot=plot3d(cCluster_rmHID, 0,1, 2, 1000)\n",
    "#plot"
   ]
  },
  {
   "cell_type": "code",
   "execution_count": 19,
   "metadata": {},
   "outputs": [
    {
     "data": {
      "text/html": [
       "<div>\n",
       "<style scoped>\n",
       "    .dataframe tbody tr th:only-of-type {\n",
       "        vertical-align: middle;\n",
       "    }\n",
       "\n",
       "    .dataframe tbody tr th {\n",
       "        vertical-align: top;\n",
       "    }\n",
       "\n",
       "    .dataframe thead th {\n",
       "        text-align: right;\n",
       "    }\n",
       "</style>\n",
       "<table border=\"1\" class=\"dataframe\">\n",
       "  <thead>\n",
       "    <tr style=\"text-align: right;\">\n",
       "      <th></th>\n",
       "      <th>gender</th>\n",
       "      <th>totalmales</th>\n",
       "      <th>totalfemales</th>\n",
       "      <th>totalpop</th>\n",
       "      <th>customermatchedid</th>\n",
       "      <th>numorders</th>\n",
       "      <th>zipcode</th>\n",
       "      <th>medianage</th>\n",
       "      <th>totalspent</th>\n",
       "      <th>householdid</th>\n",
       "      <th>firstname</th>\n",
       "      <th>numcustomerid</th>\n",
       "      <th>cluster</th>\n",
       "      <th>customerids</th>\n",
       "    </tr>\n",
       "  </thead>\n",
       "  <tbody>\n",
       "    <tr>\n",
       "      <th>0</th>\n",
       "      <td>2</td>\n",
       "      <td>26770</td>\n",
       "      <td>28773</td>\n",
       "      <td>55543</td>\n",
       "      <td>72872</td>\n",
       "      <td>28</td>\n",
       "      <td>11354</td>\n",
       "      <td>42.1</td>\n",
       "      <td>1218.96</td>\n",
       "      <td>22269801</td>\n",
       "      <td>PO-WEN</td>\n",
       "      <td>28</td>\n",
       "      <td>3</td>\n",
       "      <td>(164055, 164066, 164065, 164080, 164076, 16406...</td>\n",
       "    </tr>\n",
       "    <tr>\n",
       "      <th>1</th>\n",
       "      <td>1</td>\n",
       "      <td>0</td>\n",
       "      <td>0</td>\n",
       "      <td>0</td>\n",
       "      <td>108804</td>\n",
       "      <td>26</td>\n",
       "      <td>10168</td>\n",
       "      <td>NaN</td>\n",
       "      <td>0.00</td>\n",
       "      <td>36201520</td>\n",
       "      <td>NANCY</td>\n",
       "      <td>26</td>\n",
       "      <td>2</td>\n",
       "      <td>(113229, 113228, 113247, 113246, 113253, 11325...</td>\n",
       "    </tr>\n",
       "    <tr>\n",
       "      <th>2</th>\n",
       "      <td>0</td>\n",
       "      <td>12687</td>\n",
       "      <td>9726</td>\n",
       "      <td>22413</td>\n",
       "      <td>28252</td>\n",
       "      <td>24</td>\n",
       "      <td>10036</td>\n",
       "      <td>38.8</td>\n",
       "      <td>814.56</td>\n",
       "      <td>19440306</td>\n",
       "      <td>PETER</td>\n",
       "      <td>24</td>\n",
       "      <td>5</td>\n",
       "      <td>(4118, 4131, 4130, 4129, 4117, 4138, 4137, 413...</td>\n",
       "    </tr>\n",
       "    <tr>\n",
       "      <th>3</th>\n",
       "      <td>2</td>\n",
       "      <td>21660</td>\n",
       "      <td>23317</td>\n",
       "      <td>44977</td>\n",
       "      <td>116601</td>\n",
       "      <td>21</td>\n",
       "      <td>11590</td>\n",
       "      <td>36.7</td>\n",
       "      <td>3312.75</td>\n",
       "      <td>36209331</td>\n",
       "      <td></td>\n",
       "      <td>21</td>\n",
       "      <td>3</td>\n",
       "      <td>(119154, 119155, 119157, 119160, 119156, 11916...</td>\n",
       "    </tr>\n",
       "    <tr>\n",
       "      <th>4</th>\n",
       "      <td>0</td>\n",
       "      <td>15295</td>\n",
       "      <td>18367</td>\n",
       "      <td>33662</td>\n",
       "      <td>32345</td>\n",
       "      <td>17</td>\n",
       "      <td>44122</td>\n",
       "      <td>46.4</td>\n",
       "      <td>3757.26</td>\n",
       "      <td>19626230</td>\n",
       "      <td>JEROME</td>\n",
       "      <td>17</td>\n",
       "      <td>4</td>\n",
       "      <td>(78833, 78839, 78837, 78838, 78836, 78844, 788...</td>\n",
       "    </tr>\n",
       "  </tbody>\n",
       "</table>\n",
       "</div>"
      ],
      "text/plain": [
       "   gender  totalmales  totalfemales  totalpop  customermatchedid  numorders  \\\n",
       "0       2       26770         28773     55543              72872         28   \n",
       "1       1           0             0         0             108804         26   \n",
       "2       0       12687          9726     22413              28252         24   \n",
       "3       2       21660         23317     44977             116601         21   \n",
       "4       0       15295         18367     33662              32345         17   \n",
       "\n",
       "  zipcode  medianage totalspent  householdid firstname  numcustomerid  \\\n",
       "0   11354       42.1    1218.96     22269801    PO-WEN             28   \n",
       "1   10168        NaN       0.00     36201520     NANCY             26   \n",
       "2   10036       38.8     814.56     19440306     PETER             24   \n",
       "3   11590       36.7    3312.75     36209331                       21   \n",
       "4   44122       46.4    3757.26     19626230    JEROME             17   \n",
       "\n",
       "   cluster                                        customerids  \n",
       "0        3  (164055, 164066, 164065, 164080, 164076, 16406...  \n",
       "1        2  (113229, 113228, 113247, 113246, 113253, 11325...  \n",
       "2        5  (4118, 4131, 4130, 4129, 4117, 4138, 4137, 413...  \n",
       "3        3  (119154, 119155, 119157, 119160, 119156, 11916...  \n",
       "4        4  (78833, 78839, 78837, 78838, 78836, 78844, 788...  "
      ]
     },
     "execution_count": 19,
     "metadata": {},
     "output_type": "execute_result"
    }
   ],
   "source": [
    "df.head()"
   ]
  },
  {
   "cell_type": "code",
   "execution_count": 20,
   "metadata": {
    "collapsed": true
   },
   "outputs": [],
   "source": [
    "# Create co-occurrence matrix\n",
    "\n",
    "def create_cocmatrix(subset_matrix_cust_order):\n",
    "    rows, cols = subset_matrix_cust_order.shape\n",
    "    m = np.zeros((cols,cols))\n",
    "    \n",
    "    for i in range(cols):\n",
    "        t = np.sum(subset_matrix_cust_order[subset_matrix_cust_order[:,i] > 0],axis=0)\n",
    "        t[i] = 0\n",
    "        m[i,:] = t\n",
    "                    \n",
    "    return m"
   ]
  },
  {
   "cell_type": "code",
   "execution_count": 21,
   "metadata": {
    "collapsed": true
   },
   "outputs": [],
   "source": [
    "def create_seed(rand):\n",
    "    np.random.seed(rand) # create seed for repeatable results"
   ]
  },
  {
   "cell_type": "code",
   "execution_count": 22,
   "metadata": {
    "collapsed": true
   },
   "outputs": [],
   "source": [
    "# generate recommendations\n",
    "# purchase_vec = customer purchases (vector)\n",
    "# cocm = co occurrence matrix [items x items]\n",
    "# num_rec = number of recommendations\n",
    "def gen_recom(purchase_list,cocm,num_rec):\n",
    "    rowsum = np.zeros(cocm.shape[0])\n",
    "    \n",
    "    for p in purchase_list:\n",
    "        rowsum += cocm[p,:]\n",
    "        \n",
    "    rowsum[purchase_list] = 0\n",
    "    indices = np.nonzero(rowsum)[0]\n",
    "    toprec = indices[np.argsort(rowsum[indices])][-1 * num_rec:][::-1]\n",
    "    return toprec"
   ]
  },
  {
   "cell_type": "code",
   "execution_count": 23,
   "metadata": {
    "collapsed": true
   },
   "outputs": [],
   "source": [
    "def get_indices(dataset, col, var=None):\n",
    "    if var is None:\n",
    "        return [y for y, x in enumerate(dataset[:,col])] # all\n",
    "    \n",
    "    return [y for y, x in enumerate(dataset[:,col]) if x == var]"
   ]
  },
  {
   "cell_type": "code",
   "execution_count": 24,
   "metadata": {
    "collapsed": true
   },
   "outputs": [],
   "source": [
    "def check_idx_size(idxlist,maximum_rows):\n",
    "    if len(idxlist) > maximum_rows:\n",
    "        return np.random.choice(idxlist, maximum_rows, replace=False)\n",
    "    \n",
    "    return idxlist"
   ]
  },
  {
   "cell_type": "code",
   "execution_count": 25,
   "metadata": {},
   "outputs": [
    {
     "name": "stdout",
     "output_type": "stream",
     "text": [
      "created customer to order lookup\n"
     ]
    },
    {
     "data": {
      "text/plain": [
       "(189559, 3990)"
      ]
     },
     "execution_count": 25,
     "metadata": {},
     "output_type": "execute_result"
    }
   ],
   "source": [
    "# customer to order lookup\n",
    "matrix_co = np.load('cust_item_matrix.npy')\n",
    "print (\"created customer to order lookup\")\n",
    "\n",
    "matrix_co.shape"
   ]
  },
  {
   "cell_type": "code",
   "execution_count": 26,
   "metadata": {},
   "outputs": [
    {
     "name": "stdout",
     "output_type": "stream",
     "text": [
      "created customer id lookup\n"
     ]
    },
    {
     "data": {
      "text/plain": [
       "(189559,)"
      ]
     },
     "execution_count": 26,
     "metadata": {},
     "output_type": "execute_result"
    }
   ],
   "source": [
    "custlist = np.load('custids.npy')\n",
    "print (\"created customer id lookup\")\n",
    "\n",
    "custlist.shape"
   ]
  },
  {
   "cell_type": "code",
   "execution_count": 27,
   "metadata": {},
   "outputs": [
    {
     "data": {
      "text/plain": [
       "(array([164054]),)"
      ]
     },
     "execution_count": 27,
     "metadata": {},
     "output_type": "execute_result"
    }
   ],
   "source": [
    "np.where(custlist==164055)"
   ]
  },
  {
   "cell_type": "code",
   "execution_count": 28,
   "metadata": {},
   "outputs": [
    {
     "data": {
      "text/plain": [
       "(array([113228]),)"
      ]
     },
     "execution_count": 28,
     "metadata": {},
     "output_type": "execute_result"
    }
   ],
   "source": [
    "np.where(custlist==113229)"
   ]
  },
  {
   "cell_type": "code",
   "execution_count": 29,
   "metadata": {},
   "outputs": [
    {
     "name": "stdout",
     "output_type": "stream",
     "text": [
      "[0, 1, 2, 3, 4, 5, 6]\n"
     ]
    }
   ],
   "source": [
    "unique_clusters = sorted(df['cluster'].unique())\n",
    "print (unique_clusters)"
   ]
  },
  {
   "cell_type": "code",
   "execution_count": 30,
   "metadata": {
    "collapsed": true
   },
   "outputs": [],
   "source": [
    "# bring in customerids to map with cluster ids\n",
    "arr_cxd = np.zeros((custlist.shape[0],1))"
   ]
  },
  {
   "cell_type": "code",
   "execution_count": 31,
   "metadata": {},
   "outputs": [
    {
     "data": {
      "text/plain": [
       "(189559, 1)"
      ]
     },
     "execution_count": 31,
     "metadata": {},
     "output_type": "execute_result"
    }
   ],
   "source": [
    "arr_cxd.shape"
   ]
  },
  {
   "cell_type": "code",
   "execution_count": 32,
   "metadata": {
    "collapsed": true
   },
   "outputs": [],
   "source": [
    "# mapping cluster ids\n",
    "for i in range(df.shape[0]):\n",
    "    for c in df.loc[i,'customerids']:\n",
    "        idx = np.where(custlist==c)\n",
    "        cid = df.loc[i,'cluster']\n",
    "        arr_cxd[idx] = cid+1 # increment by 1 so we can reserve 0 for customers with no cluster id\n",
    "    "
   ]
  },
  {
   "cell_type": "code",
   "execution_count": 33,
   "metadata": {},
   "outputs": [
    {
     "name": "stdout",
     "output_type": "stream",
     "text": [
      "6\n"
     ]
    }
   ],
   "source": [
    "maxn=df['cluster'].max()\n",
    "print (maxn)"
   ]
  },
  {
   "cell_type": "code",
   "execution_count": 34,
   "metadata": {},
   "outputs": [
    {
     "name": "stdout",
     "output_type": "stream",
     "text": [
      "[0, 1, 2, 3, 4, 5, 6, 7]\n"
     ]
    }
   ],
   "source": [
    "unique_clusters = unique_clusters + [maxn+1]\n",
    "print (unique_clusters)"
   ]
  },
  {
   "cell_type": "code",
   "execution_count": 35,
   "metadata": {},
   "outputs": [
    {
     "data": {
      "text/plain": [
       "array([ 3.])"
      ]
     },
     "execution_count": 35,
     "metadata": {},
     "output_type": "execute_result"
    }
   ],
   "source": [
    "arr_cxd[113228]"
   ]
  },
  {
   "cell_type": "code",
   "execution_count": 36,
   "metadata": {
    "collapsed": true
   },
   "outputs": [],
   "source": [
    "#80/20, 80 for 10-fold cross validation, 20 for test set holdout\n",
    "create_seed(0)\n",
    "indices = np.random.permutation(matrix_co.shape[0])\n",
    "tsize = int(matrix_co.shape[0]*.8)"
   ]
  },
  {
   "cell_type": "code",
   "execution_count": 37,
   "metadata": {
    "collapsed": true
   },
   "outputs": [],
   "source": [
    "# customer to order matrix\n",
    "matrix_co_training_idx, matrix_co_testing_idx  = indices[:tsize], indices[tsize:]\n",
    "matrix_co_training, matrix_co_testing = matrix_co[matrix_co_training_idx,:], matrix_co[matrix_co_testing_idx,:]"
   ]
  },
  {
   "cell_type": "code",
   "execution_count": 38,
   "metadata": {
    "collapsed": true
   },
   "outputs": [],
   "source": [
    "# demo matrix\n",
    "arr_cxd_training_idx, arr_cxd_testing_idx = indices[:tsize], indices[tsize:]\n",
    "arr_cxd_training, arr_cxd_testing = arr_cxd[arr_cxd_training_idx,:], arr_cxd[arr_cxd_testing_idx,:]"
   ]
  },
  {
   "cell_type": "code",
   "execution_count": 39,
   "metadata": {},
   "outputs": [
    {
     "data": {
      "text/plain": [
       "((151647, 3990), (151647, 1), (189559, 3990), (189559, 1))"
      ]
     },
     "execution_count": 39,
     "metadata": {},
     "output_type": "execute_result"
    }
   ],
   "source": [
    "matrix_co_training.shape, arr_cxd_training.shape, matrix_co.shape, arr_cxd.shape"
   ]
  },
  {
   "cell_type": "code",
   "execution_count": 52,
   "metadata": {
    "collapsed": true
   },
   "outputs": [],
   "source": [
    "# put matrixes in to get cross validation recall\n",
    "# generate recommendations\n",
    "# mco = matrix of customer to order [customer x items]\n",
    "# num_rec = number of recommendations\n",
    "# num_folds = k number of folds for cross validation\n",
    "# recall_remove = removed number from purchase history\n",
    "def collab_recall_validation_tester(mco,num_rec,num_folds,recall_remove):\n",
    "    # cross validation n-folds\n",
    "    start_time = time.time()\n",
    "    kf = KFold(n_splits=num_folds)\n",
    "    list_total_acc=[]\n",
    "    k_index = 0\n",
    "    \n",
    "    for train, test in kf.split(mco):\n",
    "        print(\"start new k={0},train set={1},validation set={2}\".format(k_index,mco[train].shape[0],mco[test].shape[0]))\n",
    "        \n",
    "        list_sub_acc = []\n",
    "        # build co-occurrence matrix\n",
    "        coo_matrix = create_cocmatrix(mco[train])\n",
    "\n",
    "        # loop through test set\n",
    "        # for each customer in test pool\n",
    "        for i in range(mco[test].shape[0]):\n",
    "            \n",
    "            p_vec = mco[test][i,:]\n",
    "            list_original_purchases = np.where(p_vec > 0)[0]\n",
    "            # only run tests on customers with > recall_remove purchases for prediction\n",
    "            if len(list_original_purchases) > recall_remove:\n",
    "                # randomly select indexes to leave out\n",
    "                list_removed_purchases = random.sample(list(list_original_purchases),recall_remove)\n",
    "                # remove\n",
    "                list_modified_purchases = list(set(list_original_purchases) - set(list_removed_purchases))\n",
    "                # get sum all purchases except ones left out\n",
    "                list_summed_coo_vec = gen_recom(list_modified_purchases,coo_matrix,num_rec)\n",
    "                # check if return recommendations are in list\n",
    "                list_recommended_match = set(list_removed_purchases) & set(list_summed_coo_vec)\n",
    "                acc = len(list_recommended_match)/float(len(list_removed_purchases))\n",
    "                list_sub_acc.append(acc)\n",
    "                \n",
    "        mean_sub_acc = np.mean(list_sub_acc)\n",
    "        print (\"** number of elements in calculation {0}\".format(len(list_sub_acc)))\n",
    "        #print list_sub_acc\n",
    "        print (\"** average fold accuracy {0}\".format(mean_sub_acc))\n",
    "        list_total_acc.append(mean_sub_acc)\n",
    "        k_index += 1\n",
    "        print (\"**time elapsed {0}\".format((time.time() - start_time)))\n",
    "        print (\"------------------------------------end\")\n",
    "        \n",
    "    print (\"list of total accuracy for each fold {0}\".format(list_total_acc))\n",
    "    average = np.mean(list_total_acc)\n",
    "    print (\"{0}-fold total average {1}\".format(num_folds,average))\n",
    "    print (\"time elapsed {0}\".format((time.time() - start_time)))\n",
    "    return average"
   ]
  },
  {
   "cell_type": "code",
   "execution_count": 56,
   "metadata": {},
   "outputs": [],
   "source": [
    "# put matrixes in to get cross validation coverage\n",
    "# generate recommendations\n",
    "# mco = matrix of customer to order [customer x items]\n",
    "# num_rec = number of recommendations\n",
    "# num_folds = k number of folds for cross validation\n",
    "# recall_remove = removed number from purchase history\n",
    "# list_catid = category customer is interested in\n",
    "def collab_catalog_validation_tester(mco,num_rec,num_folds,recall_remove):\n",
    "    # cross validation n-folds\n",
    "    start_time = time.time()\n",
    "    kf = KFold(n_splits=num_folds)\n",
    "    list_total_coverage=[]\n",
    "    k_index = 0\n",
    "    \n",
    "    for train, test in kf.split(mco):\n",
    "        set_products = set()\n",
    "        # build co-occurrence matrix\n",
    "        print(\"start new k={0},train set={1},validation set={2}\".format(k_index,mco[train].shape[0],mco[test].shape[0]))\n",
    "        coo_matrix = create_cocmatrix(mco[train])\n",
    "\n",
    "        # loop through test set\n",
    "        # for each customer in test pool\n",
    "        for i in range(mco[test].shape[0]):\n",
    "            # purchase vector\n",
    "            p_vec = mco[test][i,:]\n",
    "            list_original_purchases = np.where(p_vec > 0)[0]\n",
    "            # get sum all purchases\n",
    "            list_summed_coo_vec = gen_recom(list_original_purchases,coo_matrix,num_rec)    \n",
    "            set_products = set_products | set(list_summed_coo_vec)\n",
    "                        \n",
    "        mean_sub_cov = float(len(set_products))/p_vec.shape[0]\n",
    "        print (\"**length fold set {0}\".format(float(len(set_products))))\n",
    "        print (\"**average fold coverage {0}\".format(mean_sub_cov))\n",
    "        list_total_coverage.append(mean_sub_cov)\n",
    "        k_index += 1\n",
    "        print (\"**time elapsed {0}\".format((time.time() - start_time)))\n",
    "        print (\"------------------------------------end\")\n",
    "    \n",
    "    print (\"list of total coverage for each fold {0}\".format(list_total_coverage))\n",
    "    average = np.mean(list_total_coverage)\n",
    "    print (\"{0}-fold total average {1}\".format(num_folds,average))\n",
    "    print (\"time elapsed {0}\".format((time.time() - start_time)))\n",
    "    return average"
   ]
  },
  {
   "cell_type": "code",
   "execution_count": 57,
   "metadata": {
    "collapsed": true
   },
   "outputs": [],
   "source": [
    "def demo_filter(mco,mdo,clusters,maximum_rows,minimum_rows,num_rec,num_folds,recall_remove):\n",
    "    accuracy = []\n",
    "    coverage = []\n",
    "    \n",
    "    for c in clusters:\n",
    "        #if r == 0: # 0 means not found in the cluster\n",
    "        #    ridx = get_indices(mdo, 0) # use all regions\n",
    "        #else:   \n",
    "        cidx = get_indices(mdo, 0, c) # look for cluster in col 0\n",
    "\n",
    "        if len(cidx) == 0:\n",
    "            print (\"cluster: {0} not found\".format(c))\n",
    "            continue\n",
    "\n",
    "        if len(cidx) < minimum_rows:\n",
    "            print (\"too little data with cluster {0} found\".format(c))\n",
    "            continue\n",
    "\n",
    "        cidx = check_idx_size(cidx,maximum_rows) # limit size\n",
    "        print (\"\\ncluster: {0}, size: {1}, {2}\".format(c, len(cidx), len(mco)))\n",
    "                             \n",
    "        total_accuracy = collab_recall_validation_tester(mco[cidx],num_rec,num_folds,recall_remove)\n",
    "        accuracy.append((c,mco[cidx].shape[0],total_accuracy))\n",
    "        total_coverage = collab_catalog_validation_tester(mco[cidx],num_rec,num_folds,recall_remove)\n",
    "        coverage.append((c,mco[cidx].shape[0],total_coverage))\n",
    "        \n",
    "    return accuracy, coverage"
   ]
  },
  {
   "cell_type": "code",
   "execution_count": null,
   "metadata": {
    "scrolled": false
   },
   "outputs": [
    {
     "name": "stdout",
     "output_type": "stream",
     "text": [
      "\n",
      "cluster: 0, size: 3942, 151647\n",
      "start new k=0,train set=3547,validation set=395\n",
      "** number of elements in calculation 120\n",
      "** average fold accuracy 0.5416666666666666\n",
      "**time elapsed 2.3083529472351074\n",
      "------------------------------------end\n",
      "start new k=1,train set=3547,validation set=395\n",
      "** number of elements in calculation 118\n",
      "** average fold accuracy 0.4491525423728814\n",
      "**time elapsed 4.687896966934204\n",
      "------------------------------------end\n",
      "start new k=2,train set=3548,validation set=394\n",
      "** number of elements in calculation 112\n",
      "** average fold accuracy 0.48214285714285715\n",
      "**time elapsed 7.1698689460754395\n",
      "------------------------------------end\n",
      "start new k=3,train set=3548,validation set=394\n",
      "** number of elements in calculation 124\n",
      "** average fold accuracy 0.47580645161290325\n",
      "**time elapsed 9.436200141906738\n",
      "------------------------------------end\n",
      "start new k=4,train set=3548,validation set=394\n",
      "** number of elements in calculation 113\n",
      "** average fold accuracy 0.48672566371681414\n",
      "**time elapsed 11.660024881362915\n",
      "------------------------------------end\n",
      "start new k=5,train set=3548,validation set=394\n",
      "** number of elements in calculation 114\n",
      "** average fold accuracy 0.43859649122807015\n",
      "**time elapsed 14.06681513786316\n",
      "------------------------------------end\n",
      "start new k=6,train set=3548,validation set=394\n",
      "** number of elements in calculation 121\n",
      "** average fold accuracy 0.5041322314049587\n",
      "**time elapsed 16.395664930343628\n",
      "------------------------------------end\n",
      "start new k=7,train set=3548,validation set=394\n",
      "** number of elements in calculation 124\n",
      "** average fold accuracy 0.6129032258064516\n",
      "**time elapsed 18.801802158355713\n",
      "------------------------------------end\n",
      "start new k=8,train set=3548,validation set=394\n",
      "** number of elements in calculation 134\n",
      "** average fold accuracy 0.5\n",
      "**time elapsed 21.11308002471924\n",
      "------------------------------------end\n",
      "start new k=9,train set=3548,validation set=394\n",
      "** number of elements in calculation 133\n",
      "** average fold accuracy 0.5263157894736842\n",
      "**time elapsed 23.45372700691223\n",
      "------------------------------------end\n",
      "list of total accuracy for each fold [0.54166666666666663, 0.44915254237288138, 0.48214285714285715, 0.47580645161290325, 0.48672566371681414, 0.43859649122807015, 0.50413223140495866, 0.61290322580645162, 0.5, 0.52631578947368418]\n",
      "10-fold total average 0.5017441919425287\n",
      "time elapsed 23.45418882369995\n",
      "start new k=0,train set=3547,validation set=395\n",
      "**length fold set 393.0\n",
      "**average fold coverage 0.09849624060150376\n",
      "**time elapsed 2.4457218647003174\n",
      "------------------------------------end\n",
      "start new k=1,train set=3547,validation set=395\n",
      "**length fold set 388.0\n",
      "**average fold coverage 0.09724310776942356\n",
      "**time elapsed 4.880175828933716\n",
      "------------------------------------end\n",
      "start new k=2,train set=3548,validation set=394\n",
      "**length fold set 366.0\n",
      "**average fold coverage 0.09172932330827067\n",
      "**time elapsed 7.231640815734863\n",
      "------------------------------------end\n",
      "start new k=3,train set=3548,validation set=394\n",
      "**length fold set 372.0\n",
      "**average fold coverage 0.09323308270676692\n",
      "**time elapsed 9.62365984916687\n",
      "------------------------------------end\n",
      "start new k=4,train set=3548,validation set=394\n",
      "**length fold set 387.0\n",
      "**average fold coverage 0.09699248120300752\n",
      "**time elapsed 12.038631916046143\n",
      "------------------------------------end\n",
      "start new k=5,train set=3548,validation set=394\n",
      "**length fold set 355.0\n",
      "**average fold coverage 0.08897243107769423\n",
      "**time elapsed 14.444854974746704\n",
      "------------------------------------end\n",
      "start new k=6,train set=3548,validation set=394\n",
      "**length fold set 402.0\n",
      "**average fold coverage 0.10075187969924812\n",
      "**time elapsed 16.803668975830078\n",
      "------------------------------------end\n",
      "start new k=7,train set=3548,validation set=394\n",
      "**length fold set 354.0\n",
      "**average fold coverage 0.0887218045112782\n",
      "**time elapsed 19.00991177558899\n",
      "------------------------------------end\n",
      "start new k=8,train set=3548,validation set=394\n",
      "**length fold set 377.0\n",
      "**average fold coverage 0.09448621553884712\n",
      "**time elapsed 21.384594917297363\n",
      "------------------------------------end\n",
      "start new k=9,train set=3548,validation set=394\n",
      "**length fold set 352.0\n",
      "**average fold coverage 0.08822055137844612\n",
      "**time elapsed 23.71103000640869\n",
      "------------------------------------end\n",
      "list of total coverage for each fold [0.09849624060150376, 0.09724310776942356, 0.09172932330827067, 0.09323308270676692, 0.09699248120300752, 0.08897243107769423, 0.10075187969924812, 0.0887218045112782, 0.09448621553884712, 0.08822055137844612]\n",
      "10-fold total average 0.09388471177944863\n",
      "time elapsed 23.711755990982056\n",
      "\n",
      "cluster: 1, size: 25000, 151647\n",
      "start new k=0,train set=22500,validation set=2500\n",
      "** number of elements in calculation 687\n",
      "** average fold accuracy 0.6419213973799127\n",
      "**time elapsed 73.97882175445557\n",
      "------------------------------------end\n",
      "start new k=1,train set=22500,validation set=2500\n",
      "** number of elements in calculation 658\n",
      "** average fold accuracy 0.6048632218844985\n",
      "**time elapsed 149.47918105125427\n",
      "------------------------------------end\n",
      "start new k=2,train set=22500,validation set=2500\n"
     ]
    }
   ],
   "source": [
    "# General test\n",
    "seed = 0\n",
    "create_seed(seed)\n",
    "maximum_rows = 25000\n",
    "minimum_rows = 1000\n",
    "\n",
    "# test set\n",
    "#randidx = np.random.choice(matrix_co_training.shape[0], 10000, replace=False)\n",
    "#demo_results = demo_filter(matrix_co_training[randidx],arr_cxd_training[randidx],\\\n",
    "#                           regions,maximum_rows,minimum_rows,10,10,1)\n",
    "\n",
    "# big set\n",
    "demo_accuracy, demo_coverage = demo_filter(matrix_co_training,arr_cxd_training,\\\n",
    "                                   unique_clusters,maximum_rows,minimum_rows,10,10,1)"
   ]
  },
  {
   "cell_type": "code",
   "execution_count": null,
   "metadata": {
    "collapsed": true
   },
   "outputs": [],
   "source": [
    "demo_accuracy"
   ]
  },
  {
   "cell_type": "code",
   "execution_count": null,
   "metadata": {
    "collapsed": true
   },
   "outputs": [],
   "source": [
    "np.save('demo_clustering_cluster_demo_accuracy.npy',\\\n",
    "        [(maximum_rows,minimum_rows,seed,datetime.now().strftime(\"%Y-%m-%d_%H:%M:%S\"))]+demo_accuracy)"
   ]
  },
  {
   "cell_type": "code",
   "execution_count": null,
   "metadata": {
    "collapsed": true
   },
   "outputs": [],
   "source": [
    "demo_coverage"
   ]
  },
  {
   "cell_type": "code",
   "execution_count": null,
   "metadata": {
    "collapsed": true
   },
   "outputs": [],
   "source": [
    "np.save('demo_clustering_cluster_demo_accuracy.npy',\\\n",
    "        [(maximum_rows,minimum_rows,seed,datetime.now().strftime(\"%Y-%m-%d_%H:%M:%S\"))]+demo_coverage)"
   ]
  },
  {
   "cell_type": "code",
   "execution_count": null,
   "metadata": {
    "collapsed": true
   },
   "outputs": [],
   "source": []
  }
 ],
 "metadata": {
  "kernelspec": {
   "display_name": "Python [conda env:py36]",
   "language": "python",
   "name": "conda-env-py36-py"
  },
  "language_info": {
   "codemirror_mode": {
    "name": "ipython",
    "version": 3
   },
   "file_extension": ".py",
   "mimetype": "text/x-python",
   "name": "python",
   "nbconvert_exporter": "python",
   "pygments_lexer": "ipython3",
   "version": "3.6.1"
  }
 },
 "nbformat": 4,
 "nbformat_minor": 2
}
