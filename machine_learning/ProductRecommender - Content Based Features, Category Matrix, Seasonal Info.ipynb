{
 "cells": [
  {
   "cell_type": "code",
   "execution_count": 1,
   "metadata": {
    "collapsed": true
   },
   "outputs": [],
   "source": [
    "from urllib import parse, request\n",
    "from json import loads\n",
    "import pandas as pd\n",
    "import psycopg2 \n",
    "import numpy as np"
   ]
  },
  {
   "cell_type": "code",
   "execution_count": 2,
   "metadata": {
    "collapsed": true
   },
   "outputs": [],
   "source": [
    "import csv\n",
    "\n",
    "#Get categories mapping, index to category name\n",
    "cats_map=[]\n",
    "with open('numcats.txt','r') as f:\n",
    "    reader=csv.reader(f,delimiter='\\t')\n",
    "    for num,cat in reader:\n",
    "        cats_map.append(cat)"
   ]
  },
  {
   "cell_type": "code",
   "execution_count": 3,
   "metadata": {},
   "outputs": [],
   "source": [
    "#Get books mapping, index to asin\n",
    "asin = np.load('asin.npy')"
   ]
  },
  {
   "cell_type": "markdown",
   "metadata": {},
   "source": [
    "# Solr"
   ]
  },
  {
   "cell_type": "code",
   "execution_count": null,
   "metadata": {
    "collapsed": true
   },
   "outputs": [],
   "source": [
    "#from urllib2 import *"
   ]
  },
  {
   "cell_type": "code",
   "execution_count": null,
   "metadata": {
    "collapsed": true
   },
   "outputs": [],
   "source": [
    "#connection = urlopen('http://localhost:8983/solr/bookstore/select?q=reviewText:good&wt=json')\n",
    "#response = eval(connection.read())"
   ]
  },
  {
   "cell_type": "code",
   "execution_count": null,
   "metadata": {
    "collapsed": true
   },
   "outputs": [],
   "source": [
    "#response"
   ]
  },
  {
   "cell_type": "markdown",
   "metadata": {},
   "source": [
    "# Asterixdb"
   ]
  },
  {
   "cell_type": "code",
   "execution_count": 6,
   "metadata": {
    "collapsed": true
   },
   "outputs": [],
   "source": [
    "class QueryResponse:\n",
    "    def __init__(self, raw_response):\n",
    "        self._json = loads(raw_response)\n",
    "\n",
    "        self.requestID = self._json['requestID'] if 'requestID' in self._json else None\n",
    "        self.clientContextID = self._json['clientContextID'] if 'clientContextID' in self._json else None\n",
    "        self.signature = self._json['signature'] if 'signature' in self._json else None\n",
    "        self.results = self._json['results'] if 'results' in self. _json else None\n",
    "        self.metrics = self._json['metrics'] if 'metrics' in self._json else None\n",
    "\n",
    "class AsterixConnection:\n",
    "    def __init__(self, server = 'http://localhost', port = 19002):\n",
    "        self._server = server\n",
    "        self._port = port\n",
    "        self._url_base = self._server +':'+ str(port)\n",
    "\n",
    "    def query(self, statement, pretty=False, client_context_id=None):\n",
    "        endpoint = '/query/service'\n",
    "\n",
    "        url = self._url_base + endpoint\n",
    "\n",
    "        payload = {\n",
    "            'statement': statement,\n",
    "            'pretty': pretty\n",
    "        }\n",
    "\n",
    "        if client_context_id:\n",
    "            payload['client_context_id'] = client_context_id\n",
    "\n",
    "        data = parse.urlencode(payload).encode(\"utf-8\")\n",
    "        req = request.Request(url, data)\n",
    "        response = request.urlopen(req).read()\n",
    "\n",
    "        return QueryResponse(response)"
   ]
  },
  {
   "cell_type": "code",
   "execution_count": null,
   "metadata": {
    "collapsed": true
   },
   "outputs": [],
   "source": [
    "#Get category information, grouped by nodeID\n",
    "asterix_conn = AsterixConnection()\n",
    "response = asterix_conn.query('''USE TinySocial;\n",
    "    SELECT \n",
    "        nodeID, \n",
    "        (SELECT gp.cat.category.nested.level_1, gp.cat.category.nested.nested.level_2, gp.cat.category.nested.nested.nested.level_3, gp.cat.category.nested.nested.nested.nested.level_4, gp.cat.category.nested.nested.nested.nested.nested.level_5 FROM gp) AS categories\n",
    "    FROM ClassificationInfo c\n",
    "    GROUP BY c.nodeID AS nodeID\n",
    "    GROUP AS gp(c as cat);''')\n",
    "\n",
    "#print(response.results)"
   ]
  },
  {
   "cell_type": "code",
   "execution_count": null,
   "metadata": {},
   "outputs": [],
   "source": [
    "#Parse result from asterixdb and create a dictionary {nodeID: [[lvl1,lvl2,lvl3,lvl4,lvl5],[lvl1,lvl2,..],..]}\n",
    "max_cat = 0\n",
    "categories = []\n",
    "\n",
    "for i in range(len(response.results)):\n",
    "    if len(response.results[i]['categories']) > max_cat:\n",
    "        max_cat = len(response.results[i]['categories'])\n",
    "    c = []\n",
    "    for x in range(len(response.results[i]['categories'])):\n",
    "        c.append([cats_map.index(response.results[i]['categories'][x][l]) for l in response.results[i]['categories'][x]])\n",
    "    categories.append([response.results[i]['nodeID'],c])\n",
    "    \n",
    "categories = {i[0]:i[1] + [[0,0,0,0,0]]*(max_cat-len(i[1])) for i in categories}"
   ]
  },
  {
   "cell_type": "markdown",
   "metadata": {},
   "source": [
    "Attempt to generate review features from Asterixdb but too slow"
   ]
  },
  {
   "cell_type": "code",
   "execution_count": null,
   "metadata": {
    "collapsed": true
   },
   "outputs": [],
   "source": [
    "#asterix_conn = AsterixConnection()\n",
    "#response = asterix_conn.query('''  USE TinySocial;\n",
    "\n",
    "#    SELECT \n",
    "#          r.overall as rating, \n",
    "#          r.helpful as votesForReview,\n",
    "#          (SELECT count(rr)\n",
    "#            FROM reviews rr\n",
    "#           WHERE rr.reviewerID = r.reviewerID\n",
    "#           ) as reviewerCount,\n",
    "#          (SELECT count(br)\n",
    "#            FROM reviews br\n",
    "#           WHERE br.asin = r.asin\n",
    "#           ) as bookreviewCount,\n",
    "#          ltrim(substring_before(substring_after(r.helpful, \",\"),\"]\")) as outOf,\n",
    "#          r.reviewTime\n",
    "#    FROM reviews r\n",
    "#    WHERE r.asin = \"0000013714\"\n",
    "#limit 10;''')\n",
    "\n",
    "#print(response.results)"
   ]
  },
  {
   "cell_type": "markdown",
   "metadata": {},
   "source": [
    "# Postgres"
   ]
  },
  {
   "cell_type": "code",
   "execution_count": 19,
   "metadata": {
    "collapsed": true
   },
   "outputs": [],
   "source": [
    "conn = psycopg2.connect(\"dbname='SQLBook' user='postgres' host='localhost' password='1234'\")\n",
    "cur = conn.cursor()"
   ]
  },
  {
   "cell_type": "code",
   "execution_count": 5,
   "metadata": {
    "scrolled": true
   },
   "outputs": [],
   "source": [
    "cur.execute(\"\"\"SELECT \n",
    "      r.reviewID,\n",
    "      r.asin, \n",
    "      cast(r.overall as int) as rating, \n",
    "      cast(trim(leading '[' from substring(helpful from 0 for position(',' in helpful))) as int) as votesForReview,\n",
    "      cast(trim(trailing ']' from substring(helpful from position(',' in helpful)+2)) as int) as outOf,\n",
    "      reviewCount.cnt as reviewerCount,\n",
    "      bookCount.cnt as bookreviewCount,\n",
    "      EXTRACT(day from current_date - r.reviewTime) age,\n",
    "      pr.nodeID\n",
    "FROM reviews r\n",
    "LEFT OUTER JOIN (SELECT reviewID, count(*) cnt FROM reviews GROUP BY reviewID) reviewCount ON r.reviewID = reviewCount.reviewID\n",
    "LEFT OUTER JOIN (SELECT asin, count(*) cnt FROM reviews GROUP BY asin) bookCount ON r.asin = bookCount.asin\n",
    "LEFT OUTER JOIN Products pr ON r.asin = pr.asin\"\"\")\n",
    "rows = cur.fetchall()"
   ]
  },
  {
   "cell_type": "code",
   "execution_count": null,
   "metadata": {
    "collapsed": true
   },
   "outputs": [],
   "source": [
    "reviewFeatures = pd.DataFrame(rows,columns=['reviewID','asin','rating','helpfulness','outOf','reviewerCount','bokReviewCount','reviewAge','nodeID'])"
   ]
  },
  {
   "cell_type": "markdown",
   "metadata": {},
   "source": [
    "# Categories Matrix"
   ]
  },
  {
   "cell_type": "code",
   "execution_count": null,
   "metadata": {
    "collapsed": true
   },
   "outputs": [],
   "source": [
    "#Get nodeid to asin mapping\n",
    "cur.execute(\"\"\"select nodeid,asin from products\"\"\")\n",
    "rows = cur.fetchall()\n",
    "nodeid_asin = pd.DataFrame(rows,columns=['nodeid','asin'])\n",
    "nodeid_asin = nodeid_asin.set_index('asin')"
   ]
  },
  {
   "cell_type": "code",
   "execution_count": null,
   "metadata": {},
   "outputs": [],
   "source": [
    "#Reorder categories with the nodeid to asin mapping (from postgres) and index to asin mapping (from asin.npy)\n",
    "categories_indexed = []\n",
    "\n",
    "for i in range(max_cat):\n",
    "    c = []\n",
    "    for a in asin:\n",
    "        c.append(categories[int(nodeid_asin.ix[a.decode()]['nodeid'])][i])\n",
    "    categories_indexed.append(c)"
   ]
  },
  {
   "cell_type": "code",
   "execution_count": 24,
   "metadata": {},
   "outputs": [
    {
     "name": "stdout",
     "output_type": "stream",
     "text": [
      "(7, 3990, 5)\n"
     ]
    }
   ],
   "source": [
    "print(np.array(categories_indexed).shape)\n",
    "np.array(categories_indexed)"
   ]
  },
  {
   "cell_type": "markdown",
   "metadata": {},
   "source": [
    "# Get seasonal information"
   ]
  },
  {
   "cell_type": "code",
   "execution_count": 54,
   "metadata": {},
   "outputs": [],
   "source": [
    "#cur.execute(\"\"\"select \n",
    "#\tp.asin, \n",
    "#    ROUND(100*SUM(case when date_part('month', ol.billdate) between 7 and 9 then ol.numunits else 0 END)/CAST(SUM(ol.numunits) AS DECIMAL),2) summer,\n",
    "#    ROUND(100*SUM(case when date_part('month', ol.billdate) between 10 and 12 then ol.numunits else 0 END)/CAST(SUM(ol.numunits) AS DECIMAL),2) fall,\n",
    "#    ROUND(100*SUM(case when date_part('month', ol.billdate) between 1 and 3 then ol.numunits else 0 END)/CAST(SUM(ol.numunits) AS DECIMAL),2) winter,\n",
    "#    ROUND(100*SUM(case when date_part('month', ol.billdate) between 4 and 6 then ol.numunits else 0 END)/CAST(SUM(ol.numunits) AS DECIMAL),2) spring\n",
    "#from\n",
    "#\torderlines ol\n",
    "#    inner join products p on ol.productid = p.productid\n",
    "#where\n",
    "#    ol.numunits <> 0\n",
    "#group by \n",
    "#    p.asin\"\"\")\n",
    "#rows = cur.fetchall()"
   ]
  },
  {
   "cell_type": "code",
   "execution_count": 24,
   "metadata": {},
   "outputs": [],
   "source": [
    "cur.execute(\"\"\"select asin,\n",
    "          round(100*sum(case when month >= 3 and month < 6 then numunits else 0 end)/sum(numunits),2) as spring,\n",
    "          round(100*sum(case when month >= 6 and month < 9 then numunits else 0 end)/sum(numunits),2) as summer,\n",
    "          round(100*sum(case when month >= 9 and month < 12 then numunits else 0 end)/sum(numunits),2) as fall,\n",
    "          round(100*sum(case when (month = 12 or month < 3) then numunits else 0 end)/sum(numunits),2) as winter,\n",
    "          cast(max(fullprice) as decimal) fullprice,\n",
    "          case when max(isinstock) = 'Y' then 1 else 0 end isinstock\n",
    "          from \n",
    "          (select asin, EXTRACT(MONTH FROM orderdate) as month, case when l.numunits = 0 then 0.00001 else l.numunits end as numunits, fullprice, isinstock\n",
    "          from customers c, orders o, orderlines l, products p\n",
    "          where c.customerid = o.customerid\n",
    "          and o.orderid = l.orderid\n",
    "          and l.productid = p.productid\n",
    "          ) as temp\n",
    "          group by asin\"\"\")\n",
    "# \"\"\"\n",
    "rows = cur.fetchall()"
   ]
  },
  {
   "cell_type": "code",
   "execution_count": 25,
   "metadata": {},
   "outputs": [],
   "source": [
    "season = pd.DataFrame(rows,columns=['asin','spring','summer','fall','winter','fullprice','isinstock'])"
   ]
  },
  {
   "cell_type": "code",
   "execution_count": 26,
   "metadata": {
    "collapsed": true
   },
   "outputs": [],
   "source": [
    "asin_season = []\n",
    "\n",
    "for i in asin:\n",
    "    if i.decode() in season.asin.values:\n",
    "        asin_season.append([i for i in season[season.asin==i.decode()][['spring','summer','fall','winter','fullprice','isinstock']].values[0]])\n",
    "    else:\n",
    "        asin_season.append([0,0,0,0,0,''])"
   ]
  },
  {
   "cell_type": "code",
   "execution_count": 33,
   "metadata": {
    "scrolled": true
   },
   "outputs": [
    {
     "data": {
      "text/plain": [
       "[[Decimal('0.00'),\n",
       "  Decimal('33.33'),\n",
       "  Decimal('0.00'),\n",
       "  Decimal('66.67'),\n",
       "  Decimal('540.00'),\n",
       "  1],\n",
       " [Decimal('0.00'),\n",
       "  Decimal('33.33'),\n",
       "  Decimal('33.33'),\n",
       "  Decimal('33.33'),\n",
       "  Decimal('306.00'),\n",
       "  1],\n",
       " [Decimal('25.00'),\n",
       "  Decimal('0.00'),\n",
       "  Decimal('25.00'),\n",
       "  Decimal('50.00'),\n",
       "  Decimal('340.00'),\n",
       "  1],\n",
       " [Decimal('0.00'),\n",
       "  Decimal('100.00'),\n",
       "  Decimal('0.00'),\n",
       "  Decimal('0.00'),\n",
       "  Decimal('375.00'),\n",
       "  1],\n",
       " [Decimal('0.00'),\n",
       "  Decimal('100.00'),\n",
       "  Decimal('0.00'),\n",
       "  Decimal('0.00'),\n",
       "  Decimal('540.00'),\n",
       "  1]]"
      ]
     },
     "execution_count": 33,
     "metadata": {},
     "output_type": "execute_result"
    }
   ],
   "source": [
    "#spring, summer, fall, winter, fullprice, isinstock (1=yes, 0=no)\n",
    "asin_season[0:5]"
   ]
  },
  {
   "cell_type": "markdown",
   "metadata": {},
   "source": [
    "# Output Data"
   ]
  },
  {
   "cell_type": "code",
   "execution_count": null,
   "metadata": {
    "collapsed": true
   },
   "outputs": [],
   "source": [
    "#categories: dataframe that contains categories information from Asterixdb (nodeId and 5 levels of categories)\n",
    "categories_indexed.to_csv('categories.csv')\n",
    "\n",
    "#reviewFeatures: dataframe that contains review features from Postgres\n",
    "reviewFeatures.to_csv('reviewFeatures.csv')"
   ]
  },
  {
   "cell_type": "code",
   "execution_count": 23,
   "metadata": {},
   "outputs": [],
   "source": [
    "np.save('categories_indexed.npy',np.array(categories_indexed))"
   ]
  }
 ],
 "metadata": {
  "kernelspec": {
   "display_name": "Python [conda env:py36]",
   "language": "python",
   "name": "conda-env-py36-py"
  },
  "language_info": {
   "codemirror_mode": {
    "name": "ipython",
    "version": 3
   },
   "file_extension": ".py",
   "mimetype": "text/x-python",
   "name": "python",
   "nbconvert_exporter": "python",
   "pygments_lexer": "ipython3",
   "version": "3.6.1"
  }
 },
 "nbformat": 4,
 "nbformat_minor": 2
}
